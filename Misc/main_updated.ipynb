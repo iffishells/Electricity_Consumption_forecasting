{
 "cells": [
  {
   "attachments": {},
   "cell_type": "markdown",
   "metadata": {},
   "source": [
    "# Importing libraries"
   ]
  },
  {
   "cell_type": "code",
   "execution_count": 2,
   "metadata": {},
   "outputs": [],
   "source": [
    "# Import necessary libraries\n",
    "import pandas as pd\n",
    "import numpy as np\n",
    "from datetime import datetime\n",
    "import plotly.graph_objects as go\n",
    "from darts.models import Prophet\n",
    "from darts import TimeSeries\n",
    "from darts.utils.model_selection import train_test_split\n",
    "from darts.metrics import mse, mae, mape\n",
    "\n",
    "import glob \n",
    "import os\n",
    "from tqdm import tqdm\n",
    "import re\n",
    "import pandas as pd\n",
    "import numpy as np\n",
    "import os\n",
    "\n",
    "### Testing For Stationarity\n",
    "from statsmodels.tsa.stattools import adfuller\n",
    "\n",
    "# Create subplots with one trace per page using go object of plotly.graph_objs module \n",
    "import plotly.graph_objs as go\n",
    "\n",
    "# Import TimeSeries class from darts library\n",
    "try:\n",
    "    from darts import TimeSeries\n",
    "except ImportError:\n",
    "    !pip install darts\n",
    "    from darts import TimeSeries\n",
    "\n",
    "import matplotlib.pyplot as plt\n",
    "import glob\n",
    "import warnings\n",
    "warnings.filterwarnings(\"ignore\")\n",
    "from darts.models.forecasting.rnn_model import RNNModel \n",
    "import torch\n",
    "import torch.nn as nn\n",
    "import torch.optim as optim\n",
    "from pytorch_lightning.callbacks.early_stopping import EarlyStopping\n",
    "from darts.metrics import mape \n",
    "\n",
    "# Pandas is an open-source data manipulation and analysis library\n",
    "# NumPy is a library for the Python programming language, adding support for large, multi-dimensional arrays and matrices\n",
    "# The datetime module supplies classes for working with dates and times\n",
    "# Plotly is a Python library that provides an interface for creating interactive plots and charts\n",
    "# Darts is a library for easy manipulation of time series data and forecasting\n",
    "# Sklearn is a library that provides simple and efficient tools for predictive data analysis\n",
    "# Pandas_datareader is a library that provides access to online financial data sources\n",
    "# Prettytable is a library for generating ASCII tables from data\n",
    "\n",
    "# Import the necessary functions and modules for testing stationarity\n",
    "# The adfuller function from statsmodels.tsa.stattools module is used to perform the Augmented Dickey-Fuller test for stationarity\n",
    "\n",
    "# Create subplots with one trace per page using go object of plotly.graph_objs module \n",
    "\n",
    "# Import the TimeSeries class from the darts library\n",
    "# If the import fails, install the darts library and then import the TimeSeries class\n",
    "\n",
    "# Matplotlib is a plotting library for the Python programming language\n",
    "# Glob is a module that finds all the pathnames matching a specified pattern according to the rules used by the Unix shell\n",
    "# Warnings is a module that provides a mechanism to control warning messages in Python\n",
    "# The RNNModel class from darts.models.forecasting.rnn_model module is used for building recurrent neural network models\n",
    "# Torch is a machine learning library that provides support for building deep learning models\n",
    "# PyTorch Lightning is a lightweight PyTorch wrapper for high-performance AI research\n",
    "# The mape function from darts.metrics module is used for calculating the Mean Absolute Percentage Error\n",
    "\n"
   ]
  },
  {
   "attachments": {},
   "cell_type": "markdown",
   "metadata": {},
   "source": [
    "# Main points\n",
    "* Missing Values\n",
    "* Downsampling\n",
    "    * 1 Hour \n",
    "    * 15 mints\n",
    "    * 1 day"
   ]
  },
  {
   "attachments": {},
   "cell_type": "markdown",
   "metadata": {},
   "source": [
    "## Visualization Helping functions"
   ]
  },
  {
   "cell_type": "code",
   "execution_count": 2,
   "metadata": {},
   "outputs": [],
   "source": [
    "def plot(df,x_feature_name,y_feature_name,title):\n",
    "    \"\"\"\n",
    "    This function takes two dataframes as input and plots the number of calls per day and per week.\n",
    "\n",
    "    Args:\n",
    "    daily_df (pandas.DataFrame): A dataframe containing daily call data.\n",
    "    weekly_df (pandas.DataFrame): A dataframe containing weekly call data.\n",
    "\n",
    "    Returns:\n",
    "    None\n",
    "    \"\"\"\n",
    "    os.makedirs('data-pattern-on-different-sampling-freq',exist_ok=True)\n",
    "    # Create a subplot with two rows and one column\n",
    "    # fig = make_subplots(rows=2, cols=1)\n",
    "    fig = go.Figure()\n",
    "    # Add a trace for daily calls\n",
    "    fig.add_trace(\n",
    "        go.Scatter(\n",
    "            x=df[x_feature_name],\n",
    "            y=df[y_feature_name],\n",
    "            name=y_feature_name,\n",
    "            mode='lines+markers'\n",
    "        ))\n",
    "\n",
    " \n",
    "\n",
    "    # Update xaxis properties\n",
    "    fig.update_xaxes(title_text='Date')\n",
    "\n",
    "    # Update yaxis properties\n",
    "    fig.update_yaxes(title_text=y_feature_name)\n",
    "\n",
    "    # Update title and height\n",
    "    fig.update_layout(\n",
    "        title=f'{title}',\n",
    "        height=500,\n",
    "        width=1200\n",
    "    )\n",
    "\n",
    "    # Show the plot\n",
    "    # fig.show()\n",
    "\n",
    "    # Write the plot to an HTML file\n",
    "    fig.write_html(f'data-pattern-on-different-sampling-freq/{title}.html')\n",
    "    \n",
    "def train_test_predicted_plot(df_train,\n",
    "                              df_test,\n",
    "                              x_feature ,\n",
    "                              y_feature,\n",
    "                              predicted, \n",
    "                              model_name):\n",
    "    \"\"\"\n",
    "    Plots the training data, actual values, and forecasted values using Plotly.\n",
    "\n",
    "    Args:\n",
    "        train (pd.Series): The training data.\n",
    "        test (pd.Series): The actual values.\n",
    "        predicted (pd.Series): The forecasted values.\n",
    "        model_name (str): The name of the forecasting model.\n",
    "\n",
    "    Returns:\n",
    "        None\n",
    "    \"\"\"\n",
    "\n",
    "    # Create a subplot with two rows and one column\n",
    "    fig = go.Figure()\n",
    "\n",
    "    fig.add_trace(\n",
    "    go.Scatter(\n",
    "        x=df_train[x_feature],\n",
    "        y=df_train[y_feature],\n",
    "        name='Training Data',\n",
    "        mode='lines+markers'\n",
    "    ))\n",
    "\n",
    "    # Add a trace for actual values\n",
    "    fig.add_trace(\n",
    "        go.Scatter(\n",
    "            x=df_test[x_feature],\n",
    "            y=df_test[y_feature],\n",
    "            name='Actual Values',\n",
    "            mode='lines+markers'\n",
    "        )\n",
    "    )\n",
    "    # Add a trace for forecasted values\n",
    "    fig.add_trace(\n",
    "        go.Scatter(\n",
    "            x=predicted[x_feature],\n",
    "            y=predicted[y_feature],\n",
    "            name=f'{model_name}',\n",
    "            mode='lines+markers'\n",
    "        )\n",
    "    )\n",
    "\n",
    "    # Update xaxis properties\n",
    "    fig.update_xaxes(title_text='Time')\n",
    "\n",
    "    # Update yaxis properties\n",
    "    fig.update_yaxes(title_text=y_feature)\n",
    "\n",
    "    # Update title and height\n",
    "    fig.update_layout(\n",
    "        title=f'Forecasting using {model_name}',\n",
    "        height=500,\n",
    "        width=1500\n",
    "    )\n",
    "\n",
    "    # Save the plot as an HTML file\n",
    "    fig.show()\n",
    "    os.makedirs('Visualization_models_results',exist_ok=True)\n",
    "    fig.write_html(f'Visualization_models_results/forecasting_using_{model_name}'+'.html')\n",
    "  \n"
   ]
  },
  {
   "attachments": {},
   "cell_type": "markdown",
   "metadata": {},
   "source": [
    "# Code Sample for visualization"
   ]
  },
  {
   "cell_type": "code",
   "execution_count": null,
   "metadata": {},
   "outputs": [],
   "source": [
    "# path_lists = glob.glob('GreenD_reduced/'+'*.csv')\n",
    "# for path in tqdm(path_lists ,desc='processing'):\n",
    "    \n",
    "#     data = pd.read_csv(path)\n",
    "#     data['Timestamp'] = pd.to_datetime(data['Timestamp'],utc=True,unit='s')#format='%Y-%m-%d %H-%M-%S')\n",
    "#     data['Timestamp'] = data['Timestamp'].dt.strftime('%Y-%m-%d %H:%M:%S')\n",
    "\n",
    "#     df = data \n",
    "#     x_feature_name = 'Timestamp'\n",
    "#     y_feature_name = 'Summe'\n",
    "#     title = path.split('/')[-1].split('.')[0]\n",
    "#     plot(df,x_feature_name,y_feature_name,title)\n",
    "    "
   ]
  },
  {
   "cell_type": "code",
   "execution_count": 3,
   "metadata": {},
   "outputs": [
    {
     "name": "stdout",
     "output_type": "stream",
     "text": [
      "['GreenD_reduced_version_03/greend_dataset_466.csv', 'GreenD_reduced_version_03/greend_dataset_341.csv', 'GreenD_reduced_version_03/greend_dataset_137.csv', 'GreenD_reduced_version_03/greend_dataset_32.csv', 'GreenD_reduced_version_03/greend_dataset_370.csv', 'GreenD_reduced_version_03/greend_dataset_35.csv', 'GreenD_reduced_version_03/greend_dataset_180.csv', 'GreenD_reduced_version_03/greend_dataset_204.csv', 'GreenD_reduced_version_03/greend_dataset_114.csv', 'GreenD_reduced_version_03/greend_dataset_377.csv', 'GreenD_reduced_version_03/greend_dataset_338.csv', 'GreenD_reduced_version_03/greend_dataset_179.csv', 'GreenD_reduced_version_03/greend_dataset_363.csv', 'GreenD_reduced_version_03/greend_dataset_80.csv', 'GreenD_reduced_version_03/greend_dataset_78.csv', 'GreenD_reduced_version_03/greend_dataset_464.csv', 'GreenD_reduced_version_03/greend_dataset_74.csv', 'GreenD_reduced_version_03/greend_dataset_365.csv', 'GreenD_reduced_version_03/greend_dataset_387.csv', 'GreenD_reduced_version_03/greend_dataset_218.csv', 'GreenD_reduced_version_03/greend_dataset_306.csv', 'GreenD_reduced_version_03/greend_dataset_221.csv', 'GreenD_reduced_version_03/greend_dataset_84.csv', 'GreenD_reduced_version_03/greend_dataset_300.csv', 'GreenD_reduced_version_03/greend_dataset_389.csv', 'GreenD_reduced_version_03/greend_dataset_380.csv', 'GreenD_reduced_version_03/greend_dataset_54.csv', 'GreenD_reduced_version_03/greend_dataset_435.csv', 'GreenD_reduced_version_03/greend_dataset_143.csv', 'GreenD_reduced_version_03/greend_dataset_169.csv', 'GreenD_reduced_version_03/greend_dataset_421.csv', 'GreenD_reduced_version_03/greend_dataset_277.csv', 'GreenD_reduced_version_03/greend_dataset_294.csv', 'GreenD_reduced_version_03/greend_dataset_185.csv', 'GreenD_reduced_version_03/greend_dataset_392.csv', 'GreenD_reduced_version_03/greend_dataset_140.csv', 'GreenD_reduced_version_03/greend_dataset_122.csv', 'GreenD_reduced_version_03/greend_dataset_381.csv', 'GreenD_reduced_version_03/greend_dataset_177.csv', 'GreenD_reduced_version_03/greend_dataset_210.csv', 'GreenD_reduced_version_03/greend_dataset_448.csv', 'GreenD_reduced_version_03/greend_dataset_66.csv', 'GreenD_reduced_version_03/greend_dataset_354.csv', 'GreenD_reduced_version_03/greend_dataset_279.csv', 'GreenD_reduced_version_03/greend_dataset_175.csv', 'GreenD_reduced_version_03/greend_dataset_240.csv', 'GreenD_reduced_version_03/greend_dataset_250.csv', 'GreenD_reduced_version_03/greend_dataset_100.csv', 'GreenD_reduced_version_03/greend_dataset_318.csv', 'GreenD_reduced_version_03/greend_dataset_5.csv', 'GreenD_reduced_version_03/greend_dataset_290.csv', 'GreenD_reduced_version_03/greend_dataset_357.csv', 'GreenD_reduced_version_03/greend_dataset_29.csv', 'GreenD_reduced_version_03/greend_dataset_285.csv', 'GreenD_reduced_version_03/greend_dataset_174.csv', 'GreenD_reduced_version_03/greend_dataset_159.csv', 'GreenD_reduced_version_03/greend_dataset_198.csv', 'GreenD_reduced_version_03/greend_dataset_77.csv', 'GreenD_reduced_version_03/greend_dataset_291.csv', 'GreenD_reduced_version_03/greend_dataset_214.csv', 'GreenD_reduced_version_03/greend_dataset_192.csv', 'GreenD_reduced_version_03/greend_dataset_384.csv', 'GreenD_reduced_version_03/greend_dataset_437.csv', 'GreenD_reduced_version_03/greend_dataset_324.csv', 'GreenD_reduced_version_03/greend_dataset_99.csv', 'GreenD_reduced_version_03/greend_dataset_274.csv', 'GreenD_reduced_version_03/greend_dataset_311.csv', 'GreenD_reduced_version_03/greend_dataset_145.csv', 'GreenD_reduced_version_03/greend_dataset_101.csv', 'GreenD_reduced_version_03/greend_dataset_454.csv', 'GreenD_reduced_version_03/greend_dataset_158.csv', 'GreenD_reduced_version_03/greend_dataset_393.csv', 'GreenD_reduced_version_03/greend_dataset_266.csv', 'GreenD_reduced_version_03/greend_dataset_405.csv', 'GreenD_reduced_version_03/greend_dataset_148.csv', 'GreenD_reduced_version_03/greend_dataset_196.csv', 'GreenD_reduced_version_03/greend_dataset_27.csv', 'GreenD_reduced_version_03/greend_dataset_305.csv', 'GreenD_reduced_version_03/greend_dataset_282.csv', 'GreenD_reduced_version_03/greend_dataset_343.csv', 'GreenD_reduced_version_03/greend_dataset_256.csv', 'GreenD_reduced_version_03/greend_dataset_323.csv', 'GreenD_reduced_version_03/greend_dataset_183.csv', 'GreenD_reduced_version_03/greend_dataset_334.csv', 'GreenD_reduced_version_03/greend_dataset_422.csv', 'GreenD_reduced_version_03/greend_dataset_398.csv', 'GreenD_reduced_version_03/greend_dataset_278.csv', 'GreenD_reduced_version_03/greend_dataset_150.csv', 'GreenD_reduced_version_03/greend_dataset_359.csv', 'GreenD_reduced_version_03/greend_dataset_265.csv', 'GreenD_reduced_version_03/greend_dataset_235.csv', 'GreenD_reduced_version_03/greend_dataset_65.csv', 'GreenD_reduced_version_03/greend_dataset_128.csv', 'GreenD_reduced_version_03/greend_dataset_264.csv', 'GreenD_reduced_version_03/greend_dataset_72.csv', 'GreenD_reduced_version_03/greend_dataset_205.csv', 'GreenD_reduced_version_03/greend_dataset_319.csv', 'GreenD_reduced_version_03/greend_dataset_332.csv', 'GreenD_reduced_version_03/greend_dataset_385.csv', 'GreenD_reduced_version_03/greend_dataset_118.csv', 'GreenD_reduced_version_03/greend_dataset_452.csv', 'GreenD_reduced_version_03/greend_dataset_212.csv', 'GreenD_reduced_version_03/greend_dataset_49.csv', 'GreenD_reduced_version_03/greend_dataset_34.csv', 'GreenD_reduced_version_03/greend_dataset_406.csv', 'GreenD_reduced_version_03/greend_dataset_97.csv', 'GreenD_reduced_version_03/greend_dataset_390.csv', 'GreenD_reduced_version_03/greend_dataset_187.csv', 'GreenD_reduced_version_03/greend_dataset_13.csv', 'GreenD_reduced_version_03/greend_dataset_383.csv', 'GreenD_reduced_version_03/greend_dataset_69.csv', 'GreenD_reduced_version_03/greend_dataset_171.csv', 'GreenD_reduced_version_03/greend_dataset_297.csv', 'GreenD_reduced_version_03/greend_dataset_261.csv', 'GreenD_reduced_version_03/greend_dataset_90.csv', 'GreenD_reduced_version_03/greend_dataset_407.csv', 'GreenD_reduced_version_03/greend_dataset_468.csv', 'GreenD_reduced_version_03/greend_dataset_243.csv', 'GreenD_reduced_version_03/greend_dataset_272.csv', 'GreenD_reduced_version_03/greend_dataset_217.csv', 'GreenD_reduced_version_03/greend_dataset_461.csv', 'GreenD_reduced_version_03/greend_dataset_364.csv', 'GreenD_reduced_version_03/greend_dataset_445.csv', 'GreenD_reduced_version_03/greend_dataset_270.csv', 'GreenD_reduced_version_03/greend_dataset_19.csv', 'GreenD_reduced_version_03/greend_dataset_9.csv', 'GreenD_reduced_version_03/greend_dataset_130.csv', 'GreenD_reduced_version_03/greend_dataset_227.csv', 'GreenD_reduced_version_03/greend_dataset_449.csv', 'GreenD_reduced_version_03/greend_dataset_115.csv', 'GreenD_reduced_version_03/greend_dataset_23.csv', 'GreenD_reduced_version_03/greend_dataset_120.csv', 'GreenD_reduced_version_03/greend_dataset_442.csv', 'GreenD_reduced_version_03/greend_dataset_117.csv', 'GreenD_reduced_version_03/greend_dataset_263.csv', 'GreenD_reduced_version_03/greend_dataset_292.csv', 'GreenD_reduced_version_03/greend_dataset_299.csv', 'GreenD_reduced_version_03/greend_dataset_15.csv', 'GreenD_reduced_version_03/greend_dataset_134.csv', 'GreenD_reduced_version_03/greend_dataset_132.csv', 'GreenD_reduced_version_03/greend_dataset_135.csv', 'GreenD_reduced_version_03/greend_dataset_446.csv', 'GreenD_reduced_version_03/greend_dataset_347.csv', 'GreenD_reduced_version_03/greend_dataset_237.csv', 'GreenD_reduced_version_03/greend_dataset_14.csv', 'GreenD_reduced_version_03/greend_dataset_208.csv', 'GreenD_reduced_version_03/greend_dataset_7.csv', 'GreenD_reduced_version_03/greend_dataset_382.csv', 'GreenD_reduced_version_03/greend_dataset_108.csv', 'GreenD_reduced_version_03/greend_dataset_181.csv', 'GreenD_reduced_version_03/greend_dataset_313.csv', 'GreenD_reduced_version_03/greend_dataset_201.csv', 'GreenD_reduced_version_03/greend_dataset_249.csv', 'GreenD_reduced_version_03/greend_dataset_455.csv', 'GreenD_reduced_version_03/greend_dataset_424.csv', 'GreenD_reduced_version_03/greend_dataset_425.csv', 'GreenD_reduced_version_03/greend_dataset_368.csv', 'GreenD_reduced_version_03/greend_dataset_139.csv', 'GreenD_reduced_version_03/greend_dataset_459.csv', 'GreenD_reduced_version_03/greend_dataset_242.csv', 'GreenD_reduced_version_03/greend_dataset_429.csv', 'GreenD_reduced_version_03/greend_dataset_303.csv', 'GreenD_reduced_version_03/greend_dataset_82.csv', 'GreenD_reduced_version_03/greend_dataset_397.csv', 'GreenD_reduced_version_03/greend_dataset_36.csv', 'GreenD_reduced_version_03/greend_dataset_176.csv', 'GreenD_reduced_version_03/greend_dataset_103.csv', 'GreenD_reduced_version_03/greend_dataset_309.csv', 'GreenD_reduced_version_03/greend_dataset_374.csv', 'GreenD_reduced_version_03/greend_dataset_233.csv', 'GreenD_reduced_version_03/greend_dataset_320.csv', 'GreenD_reduced_version_03/greend_dataset_160.csv', 'GreenD_reduced_version_03/greend_dataset_325.csv', 'GreenD_reduced_version_03/greend_dataset_144.csv', 'GreenD_reduced_version_03/greend_dataset_228.csv', 'GreenD_reduced_version_03/greend_dataset_102.csv', 'GreenD_reduced_version_03/greend_dataset_254.csv', 'GreenD_reduced_version_03/greend_dataset_109.csv', 'GreenD_reduced_version_03/greend_dataset_142.csv', 'GreenD_reduced_version_03/greend_dataset_308.csv', 'GreenD_reduced_version_03/greend_dataset_443.csv', 'GreenD_reduced_version_03/greend_dataset_40.csv', 'GreenD_reduced_version_03/greend_dataset_161.csv', 'GreenD_reduced_version_03/greend_dataset_409.csv', 'GreenD_reduced_version_03/greend_dataset_46.csv', 'GreenD_reduced_version_03/greend_dataset_317.csv', 'GreenD_reduced_version_03/greend_dataset_371.csv', 'GreenD_reduced_version_03/greend_dataset_195.csv', 'GreenD_reduced_version_03/greend_dataset_92.csv', 'GreenD_reduced_version_03/greend_dataset_252.csv', 'GreenD_reduced_version_03/greend_dataset_366.csv', 'GreenD_reduced_version_03/greend_dataset_399.csv', 'GreenD_reduced_version_03/greend_dataset_20.csv', 'GreenD_reduced_version_03/greend_dataset_226.csv', 'GreenD_reduced_version_03/greend_dataset_225.csv', 'GreenD_reduced_version_03/greend_dataset_238.csv', 'GreenD_reduced_version_03/greend_dataset_444.csv', 'GreenD_reduced_version_03/greend_dataset_259.csv', 'GreenD_reduced_version_03/greend_dataset_369.csv', 'GreenD_reduced_version_03/greend_dataset_124.csv', 'GreenD_reduced_version_03/greend_dataset_267.csv', 'GreenD_reduced_version_03/greend_dataset_45.csv', 'GreenD_reduced_version_03/greend_dataset_394.csv', 'GreenD_reduced_version_03/greend_dataset_156.csv', 'GreenD_reduced_version_03/greend_dataset_234.csv', 'GreenD_reduced_version_03/greend_dataset_411.csv', 'GreenD_reduced_version_03/greend_dataset_6.csv', 'GreenD_reduced_version_03/greend_dataset_163.csv', 'GreenD_reduced_version_03/greend_dataset_453.csv', 'GreenD_reduced_version_03/greend_dataset_47.csv', 'GreenD_reduced_version_03/greend_dataset_106.csv', 'GreenD_reduced_version_03/greend_dataset_81.csv', 'GreenD_reduced_version_03/greend_dataset_30.csv', 'GreenD_reduced_version_03/greend_dataset_16.csv', 'GreenD_reduced_version_03/greend_dataset_360.csv', 'GreenD_reduced_version_03/greend_dataset_463.csv', 'GreenD_reduced_version_03/greend_dataset_327.csv', 'GreenD_reduced_version_03/greend_dataset_253.csv', 'GreenD_reduced_version_03/greend_dataset_107.csv', 'GreenD_reduced_version_03/greend_dataset_298.csv', 'GreenD_reduced_version_03/greend_dataset_262.csv', 'GreenD_reduced_version_03/greend_dataset_439.csv', 'GreenD_reduced_version_03/greend_dataset_104.csv', 'GreenD_reduced_version_03/greend_dataset_395.csv', 'GreenD_reduced_version_03/greend_dataset_271.csv', 'GreenD_reduced_version_03/greend_dataset_361.csv', 'GreenD_reduced_version_03/greend_dataset_146.csv', 'GreenD_reduced_version_03/greend_dataset_127.csv', 'GreenD_reduced_version_03/greend_dataset_244.csv', 'GreenD_reduced_version_03/greend_dataset_400.csv', 'GreenD_reduced_version_03/greend_dataset_215.csv', 'GreenD_reduced_version_03/greend_dataset_62.csv', 'GreenD_reduced_version_03/greend_dataset_164.csv', 'GreenD_reduced_version_03/greend_dataset_351.csv', 'GreenD_reduced_version_03/greend_dataset_119.csv', 'GreenD_reduced_version_03/greend_dataset_420.csv', 'GreenD_reduced_version_03/greend_dataset_316.csv', 'GreenD_reduced_version_03/greend_dataset_273.csv', 'GreenD_reduced_version_03/greend_dataset_60.csv', 'GreenD_reduced_version_03/greend_dataset_321.csv', 'GreenD_reduced_version_03/greend_dataset_430.csv', 'GreenD_reduced_version_03/greend_dataset_450.csv', 'GreenD_reduced_version_03/greend_dataset_230.csv', 'GreenD_reduced_version_03/greend_dataset_281.csv', 'GreenD_reduced_version_03/greend_dataset_207.csv', 'GreenD_reduced_version_03/greend_dataset_465.csv', 'GreenD_reduced_version_03/greend_dataset_182.csv', 'GreenD_reduced_version_03/greend_dataset_38.csv', 'GreenD_reduced_version_03/greend_dataset_173.csv', 'GreenD_reduced_version_03/greend_dataset_367.csv', 'GreenD_reduced_version_03/greend_dataset_331.csv', 'GreenD_reduced_version_03/greend_dataset_37.csv', 'GreenD_reduced_version_03/greend_dataset_342.csv', 'GreenD_reduced_version_03/greend_dataset_386.csv', 'GreenD_reduced_version_03/greend_dataset_61.csv', 'GreenD_reduced_version_03/greend_dataset_88.csv', 'GreenD_reduced_version_03/greend_dataset_189.csv', 'GreenD_reduced_version_03/greend_dataset_203.csv', 'GreenD_reduced_version_03/greend_dataset_458.csv', 'GreenD_reduced_version_03/greend_dataset_314.csv', 'GreenD_reduced_version_03/greend_dataset_423.csv', 'GreenD_reduced_version_03/greend_dataset_469.csv', 'GreenD_reduced_version_03/greend_dataset_138.csv', 'GreenD_reduced_version_03/greend_dataset_416.csv', 'GreenD_reduced_version_03/greend_dataset_376.csv', 'GreenD_reduced_version_03/greend_dataset_166.csv', 'GreenD_reduced_version_03/greend_dataset_168.csv', 'GreenD_reduced_version_03/greend_dataset_401.csv', 'GreenD_reduced_version_03/greend_dataset_95.csv', 'GreenD_reduced_version_03/greend_dataset_50.csv', 'GreenD_reduced_version_03/greend_dataset_170.csv', 'GreenD_reduced_version_03/greend_dataset_362.csv', 'GreenD_reduced_version_03/greend_dataset_339.csv', 'GreenD_reduced_version_03/greend_dataset_241.csv', 'GreenD_reduced_version_03/greend_dataset_295.csv', 'GreenD_reduced_version_03/greend_dataset_413.csv', 'GreenD_reduced_version_03/greend_dataset_190.csv', 'GreenD_reduced_version_03/greend_dataset_436.csv', 'GreenD_reduced_version_03/greend_dataset_147.csv', 'GreenD_reduced_version_03/greend_dataset_172.csv', 'GreenD_reduced_version_03/greend_dataset_86.csv', 'GreenD_reduced_version_03/greend_dataset_335.csv', 'GreenD_reduced_version_03/greend_dataset_184.csv', 'GreenD_reduced_version_03/greend_dataset_39.csv', 'GreenD_reduced_version_03/greend_dataset_302.csv', 'GreenD_reduced_version_03/greend_dataset_105.csv', 'GreenD_reduced_version_03/greend_dataset_236.csv', 'GreenD_reduced_version_03/greend_dataset_126.csv', 'GreenD_reduced_version_03/greend_dataset_419.csv', 'GreenD_reduced_version_03/greend_dataset_307.csv', 'GreenD_reduced_version_03/greend_dataset_375.csv', 'GreenD_reduced_version_03/greend_dataset_418.csv', 'GreenD_reduced_version_03/greend_dataset_372.csv', 'GreenD_reduced_version_03/greend_dataset_219.csv', 'GreenD_reduced_version_03/greend_dataset_151.csv', 'GreenD_reduced_version_03/greend_dataset_312.csv', 'GreenD_reduced_version_03/greend_dataset_73.csv', 'GreenD_reduced_version_03/greend_dataset_64.csv', 'GreenD_reduced_version_03/greend_dataset_68.csv', 'GreenD_reduced_version_03/greend_dataset_26.csv', 'GreenD_reduced_version_03/greend_dataset_373.csv', 'GreenD_reduced_version_03/greend_dataset_328.csv', 'GreenD_reduced_version_03/greend_dataset_12.csv', 'GreenD_reduced_version_03/greend_dataset_224.csv', 'GreenD_reduced_version_03/greend_dataset_111.csv', 'GreenD_reduced_version_03/greend_dataset_71.csv', 'GreenD_reduced_version_03/greend_dataset_223.csv', 'GreenD_reduced_version_03/greend_dataset_232.csv', 'GreenD_reduced_version_03/greend_dataset_63.csv', 'GreenD_reduced_version_03/greend_dataset_268.csv', 'GreenD_reduced_version_03/greend_dataset_245.csv', 'GreenD_reduced_version_03/greend_dataset_426.csv', 'GreenD_reduced_version_03/greend_dataset_275.csv', 'GreenD_reduced_version_03/greend_dataset_121.csv', 'GreenD_reduced_version_03/greend_dataset_48.csv', 'GreenD_reduced_version_03/greend_dataset_414.csv', 'GreenD_reduced_version_03/greend_dataset_44.csv', 'GreenD_reduced_version_03/greend_dataset_315.csv', 'GreenD_reduced_version_03/greend_dataset_251.csv', 'GreenD_reduced_version_03/greend_dataset_438.csv', 'GreenD_reduced_version_03/greend_dataset_220.csv', 'GreenD_reduced_version_03/greend_dataset_358.csv', 'GreenD_reduced_version_03/greend_dataset_471.csv', 'GreenD_reduced_version_03/greend_dataset_280.csv', 'GreenD_reduced_version_03/greend_dataset_76.csv', 'GreenD_reduced_version_03/greend_dataset_4.csv', 'GreenD_reduced_version_03/greend_dataset_94.csv', 'GreenD_reduced_version_03/greend_dataset_396.csv', 'GreenD_reduced_version_03/greend_dataset_155.csv', 'GreenD_reduced_version_03/greend_dataset_211.csv', 'GreenD_reduced_version_03/greend_dataset_93.csv', 'GreenD_reduced_version_03/greend_dataset_31.csv', 'GreenD_reduced_version_03/greend_dataset_276.csv', 'GreenD_reduced_version_03/greend_dataset_197.csv', 'GreenD_reduced_version_03/greend_dataset_286.csv', 'GreenD_reduced_version_03/greend_dataset_129.csv', 'GreenD_reduced_version_03/greend_dataset_434.csv', 'GreenD_reduced_version_03/greend_dataset_165.csv', 'GreenD_reduced_version_03/greend_dataset_345.csv', 'GreenD_reduced_version_03/greend_dataset_348.csv', 'GreenD_reduced_version_03/greend_dataset_472.csv', 'GreenD_reduced_version_03/greend_dataset_346.csv', 'GreenD_reduced_version_03/greend_dataset_304.csv', 'GreenD_reduced_version_03/greend_dataset_402.csv', 'GreenD_reduced_version_03/greend_dataset_96.csv', 'GreenD_reduced_version_03/greend_dataset_202.csv', 'GreenD_reduced_version_03/greend_dataset_353.csv', 'GreenD_reduced_version_03/greend_dataset_33.csv', 'GreenD_reduced_version_03/greend_dataset_87.csv', 'GreenD_reduced_version_03/greend_dataset_440.csv', 'GreenD_reduced_version_03/greend_dataset_408.csv', 'GreenD_reduced_version_03/greend_dataset_388.csv', 'GreenD_reduced_version_03/greend_dataset_162.csv', 'GreenD_reduced_version_03/greend_dataset_17.csv', 'GreenD_reduced_version_03/greend_dataset_41.csv', 'GreenD_reduced_version_03/greend_dataset_344.csv', 'GreenD_reduced_version_03/greend_dataset_110.csv', 'GreenD_reduced_version_03/greend_dataset_470.csv', 'GreenD_reduced_version_03/greend_dataset_186.csv', 'GreenD_reduced_version_03/greend_dataset_53.csv', 'GreenD_reduced_version_03/greend_dataset_431.csv', 'GreenD_reduced_version_03/greend_dataset_216.csv', 'GreenD_reduced_version_03/greend_dataset_91.csv', 'GreenD_reduced_version_03/greend_dataset_257.csv', 'GreenD_reduced_version_03/greend_dataset_55.csv', 'GreenD_reduced_version_03/greend_dataset_333.csv', 'GreenD_reduced_version_03/greend_dataset_412.csv', 'GreenD_reduced_version_03/greend_dataset_89.csv', 'GreenD_reduced_version_03/greend_dataset_326.csv', 'GreenD_reduced_version_03/greend_dataset_2.csv', 'GreenD_reduced_version_03/greend_dataset_229.csv', 'GreenD_reduced_version_03/greend_dataset_287.csv', 'GreenD_reduced_version_03/greend_dataset_79.csv', 'GreenD_reduced_version_03/greend_dataset_141.csv', 'GreenD_reduced_version_03/greend_dataset_153.csv', 'GreenD_reduced_version_03/greend_dataset_11.csv', 'GreenD_reduced_version_03/greend_dataset_116.csv', 'GreenD_reduced_version_03/greend_dataset_433.csv', 'GreenD_reduced_version_03/greend_dataset_427.csv', 'GreenD_reduced_version_03/greend_dataset_57.csv', 'GreenD_reduced_version_03/greend_dataset_206.csv', 'GreenD_reduced_version_03/greend_dataset_85.csv', 'GreenD_reduced_version_03/greend_dataset_24.csv', 'GreenD_reduced_version_03/greend_dataset_152.csv', 'GreenD_reduced_version_03/greend_dataset_193.csv', 'GreenD_reduced_version_03/greend_dataset_403.csv', 'GreenD_reduced_version_03/greend_dataset_75.csv', 'GreenD_reduced_version_03/greend_dataset_283.csv', 'GreenD_reduced_version_03/greend_dataset_67.csv', 'GreenD_reduced_version_03/greend_dataset_467.csv', 'GreenD_reduced_version_03/greend_dataset_22.csv', 'GreenD_reduced_version_03/greend_dataset_157.csv', 'GreenD_reduced_version_03/greend_dataset_269.csv', 'GreenD_reduced_version_03/greend_dataset_447.csv', 'GreenD_reduced_version_03/greend_dataset_113.csv', 'GreenD_reduced_version_03/greend_dataset_462.csv', 'GreenD_reduced_version_03/greend_dataset_231.csv', 'GreenD_reduced_version_03/greend_dataset_391.csv', 'GreenD_reduced_version_03/greend_dataset_255.csv', 'GreenD_reduced_version_03/greend_dataset_247.csv', 'GreenD_reduced_version_03/greend_dataset_329.csv', 'GreenD_reduced_version_03/greend_dataset_379.csv', 'GreenD_reduced_version_03/greend_dataset_337.csv', 'GreenD_reduced_version_03/greend_dataset_18.csv', 'GreenD_reduced_version_03/greend_dataset_258.csv', 'GreenD_reduced_version_03/greend_dataset_125.csv', 'GreenD_reduced_version_03/greend_dataset_248.csv', 'GreenD_reduced_version_03/greend_dataset_133.csv', 'GreenD_reduced_version_03/greend_dataset_310.csv', 'GreenD_reduced_version_03/greend_dataset_191.csv', 'GreenD_reduced_version_03/greend_dataset_355.csv', 'GreenD_reduced_version_03/greend_dataset_301.csv', 'GreenD_reduced_version_03/greend_dataset_98.csv', 'GreenD_reduced_version_03/greend_dataset_260.csv', 'GreenD_reduced_version_03/greend_dataset_378.csv', 'GreenD_reduced_version_03/greend_dataset_336.csv', 'GreenD_reduced_version_03/greend_dataset_131.csv', 'GreenD_reduced_version_03/greend_dataset_56.csv', 'GreenD_reduced_version_03/greend_dataset_415.csv', 'GreenD_reduced_version_03/greend_dataset_428.csv', 'GreenD_reduced_version_03/greend_dataset_51.csv', 'GreenD_reduced_version_03/greend_dataset_1.csv', 'GreenD_reduced_version_03/greend_dataset_451.csv', 'GreenD_reduced_version_03/greend_dataset_246.csv', 'GreenD_reduced_version_03/greend_dataset_178.csv', 'GreenD_reduced_version_03/greend_dataset_417.csv', 'GreenD_reduced_version_03/greend_dataset_21.csv', 'GreenD_reduced_version_03/greend_dataset_432.csv', 'GreenD_reduced_version_03/greend_dataset_404.csv', 'GreenD_reduced_version_03/greend_dataset_58.csv', 'GreenD_reduced_version_03/greend_dataset_289.csv', 'GreenD_reduced_version_03/greend_dataset_288.csv', 'GreenD_reduced_version_03/greend_dataset_199.csv', 'GreenD_reduced_version_03/greend_dataset_194.csv', 'GreenD_reduced_version_03/greend_dataset_441.csv', 'GreenD_reduced_version_03/greend_dataset_460.csv', 'GreenD_reduced_version_03/greend_dataset_239.csv', 'GreenD_reduced_version_03/greend_dataset_52.csv', 'GreenD_reduced_version_03/greend_dataset_213.csv', 'GreenD_reduced_version_03/greend_dataset_8.csv', 'GreenD_reduced_version_03/greend_dataset_123.csv', 'GreenD_reduced_version_03/greend_dataset_209.csv', 'GreenD_reduced_version_03/greend_dataset_293.csv', 'GreenD_reduced_version_03/greend_dataset_322.csv', 'GreenD_reduced_version_03/greend_dataset_136.csv', 'GreenD_reduced_version_03/greend_dataset_83.csv', 'GreenD_reduced_version_03/greend_dataset_296.csv', 'GreenD_reduced_version_03/greend_dataset_188.csv', 'GreenD_reduced_version_03/greend_dataset_43.csv', 'GreenD_reduced_version_03/greend_dataset_356.csv', 'GreenD_reduced_version_03/greend_dataset_70.csv', 'GreenD_reduced_version_03/greend_dataset_154.csv', 'GreenD_reduced_version_03/greend_dataset_222.csv', 'GreenD_reduced_version_03/greend_dataset_149.csv', 'GreenD_reduced_version_03/greend_dataset_167.csv', 'GreenD_reduced_version_03/greend_dataset_456.csv', 'GreenD_reduced_version_03/greend_dataset_457.csv', 'GreenD_reduced_version_03/greend_dataset_284.csv', 'GreenD_reduced_version_03/greend_dataset_59.csv', 'GreenD_reduced_version_03/greend_dataset_200.csv', 'GreenD_reduced_version_03/greend_dataset_352.csv', 'GreenD_reduced_version_03/greend_dataset_350.csv', 'GreenD_reduced_version_03/greend_dataset_3.csv', 'GreenD_reduced_version_03/greend_dataset_28.csv', 'GreenD_reduced_version_03/greend_dataset_340.csv', 'GreenD_reduced_version_03/greend_dataset_112.csv', 'GreenD_reduced_version_03/greend_dataset_330.csv', 'GreenD_reduced_version_03/greend_dataset_10.csv', 'GreenD_reduced_version_03/greend_dataset_410.csv', 'GreenD_reduced_version_03/greend_dataset_25.csv', 'GreenD_reduced_version_03/greend_dataset_42.csv', 'GreenD_reduced_version_03/greend_dataset_349.csv']\n"
     ]
    },
    {
     "name": "stderr",
     "output_type": "stream",
     "text": [
      "processing: 100%|██████████| 472/472 [00:31<00:00, 14.95it/s]"
     ]
    },
    {
     "name": "stdout",
     "output_type": "stream",
     "text": [
      "mkdir: cannot create directory ‘Combined-Dataset-version-03’: File exists\n"
     ]
    },
    {
     "name": "stderr",
     "output_type": "stream",
     "text": [
      "\n"
     ]
    }
   ],
   "source": [
    "path_lists = glob.glob('GreenD_reduced_version_03/'+'*.csv')\n",
    "sorted_file_paths = sorted(path_lists)\n",
    "def extract_digits(string):\n",
    "    # Extract digits from the string using regular expression\n",
    "    digits = re.findall(r'\\d+', string)\n",
    "    return int(digits[0]) if digits else 0\n",
    "\n",
    "sorted_file_paths = sorted(path_lists, key=extract_digits)\n",
    "print(sorted_file_paths)\n",
    "\n",
    "conct_list = []\n",
    "for path in tqdm(sorted_file_paths ,desc='processing'):\n",
    "    \n",
    "    data = pd.read_csv(path)\n",
    "    data['Timestamp'] = pd.to_datetime(data['Timestamp'],utc=True,unit='s')#format='%Y-%m-%d %H-%M-%S')\n",
    "    data['Timestamp'] = data['Timestamp'].dt.strftime('%Y-%m-%d %H:%M:%S')\n",
    "    conct_list.append(data)\n",
    "!mkdir 'Combined-Dataset-version-03'\n",
    "df = pd.concat(conct_list)\n",
    "# df.to_csv('Combined-Dataset-version-03/single_file.csv',index=False)"
   ]
  },
  {
   "cell_type": "code",
   "execution_count": 4,
   "metadata": {},
   "outputs": [],
   "source": [
    "df.sort_values(by='Timestamp',inplace=True)"
   ]
  },
  {
   "cell_type": "code",
   "execution_count": 4,
   "metadata": {},
   "outputs": [],
   "source": [
    "def downsample_dataframe(df, downsampling_frequency, fill_method='mean'):\n",
    "  \"\"\"\n",
    "  Downsamples a DataFrame and fills missing values.\n",
    "\n",
    "  Args:\n",
    "    df: The DataFrame to downsample.\n",
    "    downsampling_frequency: The frequency to downsample the DataFrame to.\n",
    "    fill_method: The method to use to fill missing values.\n",
    "\n",
    "  Returns:\n",
    "    The downsampled DataFrame.\n",
    "  \"\"\"\n",
    "\n",
    "  # Convert the Timestamp column to a datetime object.\n",
    "  df['Timestamp'] = pd.to_datetime(df['Timestamp'])\n",
    "\n",
    "  # Set the index of the DataFrame to the Timestamp column.\n",
    "  df = df.set_index('Timestamp')\n",
    "\n",
    "  # Fill the missing values.\n",
    "  if fill_method == 'mean':\n",
    "    df = df.fillna(df.mean())\n",
    "  elif fill_method == 'median':\n",
    "    df = df.fillna(df.median())\n",
    "  else:\n",
    "    raise ValueError('Invalid fill_method: {}'.format(fill_method))\n",
    "\n",
    "  # Downsample the DataFrame.\n",
    "  df = df.resample(downsampling_frequency).mean()\n",
    "  return df\n",
    "  # Check if any missing values were created after downsampling.\n",
    "  if df.isna().any():\n",
    "    df = df.fillna(df.mean())\n",
    "\n",
    "  return df\n"
   ]
  },
  {
   "attachments": {},
   "cell_type": "markdown",
   "metadata": {},
   "source": [
    "# Filling Missing Values"
   ]
  },
  {
   "cell_type": "code",
   "execution_count": null,
   "metadata": {},
   "outputs": [],
   "source": [
    "# !mkdir 'clean_datasets'\n",
    "\n",
    "# df = pd.read_csv('Combined-Dataset-version-03/single_file.csv')\n",
    "# df['Timestamp'] =  pd.to_datetime(df['Timestamp'])\n",
    "# df.fillna(df.mean(),inplace=True)\n",
    "# df.to_csv('clean_datasets/downsample_5_sec.csv',index=False)\n",
    "\n"
   ]
  },
  {
   "attachments": {},
   "cell_type": "markdown",
   "metadata": {},
   "source": [
    "# Data Sample"
   ]
  },
  {
   "cell_type": "code",
   "execution_count": null,
   "metadata": {},
   "outputs": [],
   "source": [
    "# df = pd.read_csv('clean_datasets/downsample_5_sec.csv')\n",
    "# df['Timestamp'] = pd.to_datetime(df['Timestamp'])\n",
    "# df = df.set_index('Timestamp')\n",
    "# df_1_hour = df.resample('1H').mean()\n",
    "# df_1_day = df.resample('1d').mean()\n"
   ]
  },
  {
   "cell_type": "code",
   "execution_count": null,
   "metadata": {},
   "outputs": [],
   "source": [
    "df.info()"
   ]
  },
  {
   "cell_type": "code",
   "execution_count": 5,
   "metadata": {},
   "outputs": [],
   "source": [
    "# df = pd.read_csv('clean_datasets/downsample_5_sec.csv')\n",
    "\n",
    "# # Downsample the DataFrame to 1-hour frequency and fill missing values using mean imputation.\n",
    "# df_1_hour = downsample_dataframe(df, '1H', fill_method='mean')\n",
    "# df_1_hour.reset_index('Timestamp',inplace=True)\n",
    "# df_1_hour.fillna(method='ffill',inplace=True)\n",
    "\n",
    "# # # Downsample the DataFrame to 15-minute frequency and fill missing values using median imputation.\n",
    "# # df_15_min = downsample_dataframe(df, '15T', fill_method='mean')\n",
    "# # df_15_min.reset_index('Timestamp',inplace=True)\n",
    "# # df_15_min.fillna(method='ffill',inplace=True)\n",
    "\n",
    "# # # Downsample the DataFrame to 30-minute frequency and fill missing values using median imputation.\n",
    "# # df_30_min = downsample_dataframe(df, '30T', fill_method='mean')\n",
    "# # df_30_min.reset_index('Timestamp',inplace=True)\n",
    "# # df_30_min.fillna(method='ffill',inplace=True)\n",
    "\n",
    "# # # Downsample the DataFrame to 1 Day frequency and fill missing values using median imputation.\n",
    "# # df_1_day = downsample_dataframe(df, '1d', fill_method='mean')\n",
    "# # df_1_day.reset_index('Timestamp',inplace=True)\n",
    "# # df_1_day.fillna(method='ffill',inplace=True)\n",
    "\n",
    "# # # Downsample the DataFrame to 7 Day frequency and fill missing values using median imputation.\n",
    "# # df_7_day = downsample_dataframe(df, '7d', fill_method='mean')\n",
    "# # df_7_day.reset_index('Timestamp',inplace=True)\n",
    "# # df_7_day.fillna(method='ffill',inplace=True)\n",
    "\n",
    "# Downsample the DataFrame to 1-hour frequency and fill missing values using mean imputation.\n",
    "df_1_hour = downsample_dataframe(df, '1H', fill_method='mean')\n",
    "df_1_hour.reset_index('Timestamp',inplace=True)\n",
    "df_1_hour.fillna(method='ffill',inplace=True)\n"
   ]
  },
  {
   "cell_type": "code",
   "execution_count": null,
   "metadata": {},
   "outputs": [],
   "source": [
    "df = df_1_hour\n",
    "x_feature_name = 'Timestamp'\n",
    "y_feature_name = 'Summe'\n",
    "title = '1-Hour'\n",
    "plot(df,x_feature_name,y_feature_name,title)\n"
   ]
  },
  {
   "cell_type": "code",
   "execution_count": null,
   "metadata": {},
   "outputs": [],
   "source": []
  },
  {
   "attachments": {},
   "cell_type": "markdown",
   "metadata": {},
   "source": [
    "# Forecasting using ARIMA Model\n",
    "* **Box-Jenkins Framework**\n",
    "The Box-Jenkins method is a statistical technique used for time series analysis and forecasting. The approach starts with the assumption that the process that generated the time series can be approximated using an ARMA model if it is stationary or an ARIMA model if it is non-stationary.\n",
    "\n",
    "* The Box-Jenkins method applies autoregressive moving average (ARMA) or autoregressive integrated moving average (ARIMA) models to find the best fit of a time-series model to past values of a time series2. The model can analyze several different types of time series data for forecasting purposes3.\n",
    "\n",
    "* **ARIMA Model Pipeline**\n",
    "    * Autoregressive Integrated Moving Average (ARIMA) Model\n",
    "    * autoregressive models: AR(p)\n",
    "    * moving average models: MA(q)\n",
    "    * mixed autoregressive moving average models: ARMA(p, q)\n",
    "    * integration models: ARIMA(p, d, q)\n",
    "\n",
    "* Stationary Test\n",
    "    * What is stationary Data ?\n",
    "        * Stationary data refers to time series data that mean and variance do not vary across time. The data is considered non-stationary if there is a strong trend or seasonality observed from the data.\n",
    "\n",
    "Why we need stationary Data for ARIMA Model\n",
    "ARIMA models rely on the assumption that the time series being modeled is stationary. Therefore that assumption needs to hold if you want to use these models. The ARIMA model uses differenced data to make the data stationary, which means there’s a consistency of the data over time. This function removes the effect of trends or seasonality, such as market or economic data. We make the data stationary only in case of ARIMA because the ARIMA model looks at the past data to predict future values.\n",
    "\n",
    "Stationary Test"
   ]
  },
  {
   "cell_type": "code",
   "execution_count": null,
   "metadata": {},
   "outputs": [],
   "source": [
    "def adfuller_test(values):\n",
    "    result=adfuller(values)\n",
    "    labels = ['ADF Test Statistic','p-value','#Lags Used','Number of Observations Used']\n",
    "    for value,label in zip(result,labels):\n",
    "        print(label+' : '+str(value) )\n",
    "    if result[1] <= 0.05:\n",
    "        print(\"P value is less than 0.05 that means we can reject the null hypothesis(Ho). Therefore we can conclude that data has no unit root and is stationary\")\n",
    "    else:\n",
    "        print(\"Weak evidence against null hypothesis that means time series has a unit root which indicates that it is non-stationary \")\n",
    "\n",
    "adfuller_test(df_1_hour['Summe'])\n"
   ]
  },
  {
   "attachments": {},
   "cell_type": "markdown",
   "metadata": {},
   "source": [
    "# Data PreProcessing"
   ]
  },
  {
   "cell_type": "code",
   "execution_count": 8,
   "metadata": {},
   "outputs": [
    {
     "name": "stdout",
     "output_type": "stream",
     "text": [
      "Shape of train set: (10252, 1)\n",
      "Shape of test set: (1139, 1)\n"
     ]
    }
   ],
   "source": [
    "# df_1_day_indexed = df_1_day.set_index('Timestamp')\n",
    "# # Set the 'Timestamp' column as the index of the DataFrame df_1_day\n",
    "# day_ts = TimeSeries.from_dataframe(df_1_day_indexed, freq='1d')\n",
    "# # Create a TimeSeries object 'day_ts' from the indexed DataFrame df_1_day_indexed with a frequency of 1 day\n",
    "\n",
    "df_1_hour_indexed = df_1_hour.set_index('Timestamp')\n",
    "# Set the 'Timestamp' column as the index of the DataFrame df_1_hour\n",
    "hour_ts = TimeSeries.from_dataframe(df_1_hour_indexed, freq='1h')\n",
    "# Create a TimeSeries object 'hour_ts' from the indexed DataFrame df_1_hour_indexed with a frequency of 1 hour\n",
    "\n",
    "# train_day_ts, test_day_ts = day_ts.split_after(0.90)\n",
    "# Split the 'day_ts' TimeSeries into a training set containing 90% of the data and a testing set containing the remaining 10%\n",
    "train_hour_ts, test_hour_ts = hour_ts.split_after(0.90)\n",
    "# Split the 'hour_ts' TimeSeries into a training set containing 98% of the data and a testing set containing the remaining 2%\n",
    "\n",
    "print('Shape of train set:', train_hour_ts.pd_dataframe().shape)\n",
    "print('Shape of test set:', test_hour_ts.pd_dataframe().shape)\n",
    "# Print the shape of the training set and testing set for the hourly data\n",
    "Horizon_hour = test_hour_ts.pd_dataframe().shape[0]\n",
    "# Get the number of rows (time steps) in the testing set for the hourly data\n",
    "\n",
    "# print('Shape of train set:', train_day_ts.pd_dataframe().shape)\n",
    "# print('Shape of test set:', test_day_ts.pd_dataframe().shape)\n",
    "# Print the shape of the training set and testing set for the daily data\n",
    "# Horizon = test_day_ts.pd_dataframe().shape[0]\n",
    "# Get the number of rows (time steps) in the testing set for the daily data\n"
   ]
  },
  {
   "attachments": {},
   "cell_type": "markdown",
   "metadata": {},
   "source": [
    "# Inspect Seasonality"
   ]
  },
  {
   "cell_type": "code",
   "execution_count": null,
   "metadata": {},
   "outputs": [],
   "source": [
    "from darts.utils.statistics import plot_acf, check_seasonality\n",
    "\n",
    "# Import the necessary functions from darts.utils.statistics module\n",
    "# The plot_acf function is used to plot the autocorrelation function (ACF) of a time series\n",
    "# The check_seasonality function is used to check for seasonality in a time series\n",
    "\n",
    "for m in range(2, 25):\n",
    "    # Iterate over the range from 2 to 24 (inclusive)\n",
    "    \n",
    "    is_seasonal, period = check_seasonality(hour_ts, m=m, alpha=0.05)\n",
    "    # Check for seasonality in the time series day_ts using a period of m and a significance level of 0.05\n",
    "    # The check_seasonality function returns a boolean indicating whether seasonality is present and the estimated period if seasonality is detected\n",
    "    \n",
    "    if is_seasonal:\n",
    "        # If seasonality is detected\n",
    "        print(\"There is seasonality of order {}.\".format(period))\n",
    "        # Print the detected seasonality order\n"
   ]
  },
  {
   "attachments": {},
   "cell_type": "markdown",
   "metadata": {},
   "source": [
    "# Auto Correlation plot\n",
    "The autocorrelation function (ACF) is used to identify the order of ARIMA models. The ACF plot shows the correlation between the time series and its lagged version. The lag at which the ACF plot crosses the upper confidence interval for the first time is considered as the order of the MA component of the ARIMA model. Similarly, if the ACF plot decays slowly, it indicates that there is a high degree of autocorrelation in the time series, which means that an AR component or p parameters should be included in the ARIMA model."
   ]
  },
  {
   "cell_type": "code",
   "execution_count": null,
   "metadata": {},
   "outputs": [],
   "source": [
    "from darts.utils.statistics import plot_acf, plot_pacf\n",
    "\n",
    "# Import the necessary functions from darts.utils.statistics module\n",
    "# The plot_acf function is used to plot the autocorrelation function (ACF) of a time series\n",
    "# The plot_pacf function is used to plot the partial autocorrelation function (PACF) of a time series\n",
    "\n",
    "plot_acf(hour_ts, m=35, max_lag=100, fig_size=(10, 5), axis=None, default_formatting=True)\n",
    "# Plot the ACF of the time series day_ts with a maximum lag of 100 and a lag multiple of 35\n",
    "# The fig_size parameter sets the size of the figure to (10, 5)\n",
    "# The axis parameter specifies the axis object to use for plotting, or None to create a new figure\n",
    "# The default_formatting parameter determines whether to apply default formatting to the plot\n",
    "\n",
    "plt.xlabel('lags')\n",
    "plt.ylabel('correlation')\n",
    "plt.title('Auto Correlation Plot')\n",
    "# Set the x-axis label to 'lags', y-axis label to 'correlation', and the title of the plot to 'Auto Correlation Plot'\n",
    "\n",
    "plt.show()\n",
    "# Display the plot\n"
   ]
  },
  {
   "attachments": {},
   "cell_type": "markdown",
   "metadata": {},
   "source": [
    "# Partial Auto Correlation plot\n",
    "The partial autocorrelation function (PACF) is also used to identify the order of ARIMA models. The PACF plot shows the correlation between the time series and its lagged version, but with the influence of the intermediate lags removed. The lag at which the PACF plot crosses the upper confidence interval for the first time is considered as the order of the AR component of the ARIMA model."
   ]
  },
  {
   "cell_type": "code",
   "execution_count": null,
   "metadata": {},
   "outputs": [],
   "source": [
    "from darts.utils.statistics import plot_acf, plot_pacf\n",
    "\n",
    "# Import the necessary functions from darts.utils.statistics module\n",
    "# The plot_acf function is used to plot the autocorrelation function (ACF) of a time series\n",
    "# The plot_pacf function is used to plot the partial autocorrelation function (PACF) of a time series\n",
    "\n",
    "plot_pacf(hour_ts, m=6, max_lag=50, fig_size=(10, 5), axis=None, default_formatting=True)\n",
    "# Plot the PACF of the time series day_ts with a maximum lag of 50 and a lag multiple of 6\n",
    "# The fig_size parameter sets the size of the figure to (10, 5)\n",
    "# The axis parameter specifies the axis object to use for plotting, or None to create a new figure\n",
    "# The default_formatting parameter determines whether to apply default formatting to the plot\n",
    "\n",
    "plt.xlabel('lags')\n",
    "plt.ylabel('correlation')\n",
    "plt.title('Partial Auto Correlation Plot of FM_SUM')\n",
    "# Set the x-axis label to 'lags', y-axis label to 'correlation', and the title of the plot to 'Partial Auto Correlation Plot of FM_SUM'\n",
    "\n",
    "plt.show()\n",
    "# Display the plot\n"
   ]
  },
  {
   "attachments": {},
   "cell_type": "markdown",
   "metadata": {},
   "source": [
    "# ARIMA Model"
   ]
  },
  {
   "cell_type": "code",
   "execution_count": null,
   "metadata": {},
   "outputs": [],
   "source": [
    "from darts.models.forecasting.arima import ARIMA\n",
    "from darts.metrics.metrics import  mape\n",
    "\n",
    "# these parameters has been found using correlation plot and partial correlation plots\n",
    "# i added the description there please read that paragraph # and we can also test \n",
    "# other order by try and test method\n",
    "# p: The order of the auto-regressive (AR) model (i.e., the number of lag observations). A time series is considered AR when previous values in the time series are very predictive of later values.\n",
    "\n",
    "# d: The degree of differencing.\n",
    "\n",
    "# q: The order of the moving average (MA) model. This is essentially the size of the “window” function over your time series data.\n",
    "arima_model =  ARIMA(p= 3, #, for Auto regressive parameter\n",
    "                     d=1  , # for difference to make the data is statioanry\n",
    "                     q = 3 ,  # for the moving Average,\n",
    "                     seasonal_order=(3, 1, 3, 5)\n",
    "\n",
    "                     )\n",
    "arima_model.fit(train_hour_ts)\n",
    "\n"
   ]
  },
  {
   "cell_type": "code",
   "execution_count": null,
   "metadata": {},
   "outputs": [],
   "source": [
    "\n",
    "predictions = arima_model.predict(Horizon_hour)\n",
    "\n",
    "# Convert train_series into a pandas dataframe and reset index\n",
    "df_train = train_hour_ts.pd_dataframe().reset_index()\n",
    "\n",
    "# Convert test_series into a pandas dataframe and reset index\n",
    "df_test = test_hour_ts.pd_dataframe().reset_index()\n",
    "\n",
    "# Convert prediction into a pandas dataframe and reset index\n",
    "forecast = predictions.pd_dataframe().reset_index()\n",
    "\n",
    "\n",
    "x_feature ='Timestamp' \n",
    "y_feature='Summe'\n",
    "model_name =f'ARIMA_Model'\n",
    "train_test_predicted_plot(df_train,df_test,x_feature,y_feature,forecast,model_name)\n"
   ]
  },
  {
   "attachments": {},
   "cell_type": "markdown",
   "metadata": {},
   "source": [
    "# Error Calculation Functions"
   ]
  },
  {
   "cell_type": "code",
   "execution_count": null,
   "metadata": {},
   "outputs": [],
   "source": [
    "import numpy as np\n",
    "\n",
    "def calculate_errors(predicted, actual):\n",
    "    # Convert lists to numpy arrays\n",
    "    predicted = np.array(predicted)\n",
    "    actual = np.array(actual)\n",
    "\n",
    "    # Mean Absolute Error (MAE)\n",
    "    mae = np.mean(np.abs(predicted - actual))\n",
    "\n",
    "    # Root Mean Squared Error (RMSE)\n",
    "    rmse = np.sqrt(np.mean((predicted - actual) ** 2))\n",
    "\n",
    "    # Mean Squared Error (MSE)\n",
    "    mse = np.mean((predicted - actual) ** 2)\n",
    "\n",
    "    # Mean Absolute Percentage Error (MAPE)\n",
    "    mape = np.mean(np.abs((actual - predicted) / actual)) * 100\n",
    "\n",
    "    return mae, rmse, mse, mape\n",
    "test_mae , test_rmse , test_mse,test_mape = calculate_errors(forecast['Summe'] ,df_test['Summe'])\n",
    "\n",
    "print(f\"MAE : {test_mae} RMSE {test_rmse} MSE {test_mse} MAPE {test_mape}\")"
   ]
  },
  {
   "attachments": {},
   "cell_type": "markdown",
   "metadata": {},
   "source": [
    "# FacebookProphet Model\n"
   ]
  },
  {
   "cell_type": "code",
   "execution_count": null,
   "metadata": {},
   "outputs": [],
   "source": [
    "# Importing necessary libraries\n",
    "from darts.utils.timeseries_generation import datetime_attribute_timeseries\n",
    "from darts.dataprocessing.transformers import Scaler\n",
    "from darts.models import Prophet\n",
    "from darts import TimeSeries\n",
    "from darts.metrics.metrics import  mape\n",
    "\n",
    "\n",
    "# Create a Prophet model object\n",
    "prophet_model = Prophet( seasonality_mode=   'additive',#    'additive' ,#  'multiplicative',\n",
    "                \n",
    "    changepoint_prior_scale=0.1,\n",
    "    holidays_prior_scale=0.2,\n",
    "    seasonality_prior_scale=12,\n",
    "    changepoint_range=0.8,\n",
    "    yearly_seasonality=True,\n",
    "    weekly_seasonality=False,\n",
    "    daily_seasonality=True,\n",
    "\n",
    ")\n",
    "\n",
    "# Fit the model to your training data\n",
    "prophet_model.fit(train_hour_ts)\n",
    "\n",
    "# forecast = model.predict(Horizan)\n",
    "predictions_prophet = prophet_model.predict(Horizon_hour)\n",
    "\n",
    "\n",
    "# Convert train_series into a pandas dataframe and reset index\n",
    "df_train = train_hour_ts.pd_dataframe().reset_index()\n",
    "\n",
    "# Convert test_series into a pandas dataframe and reset index\n",
    "df_test = test_hour_ts.pd_dataframe().reset_index()\n",
    "\n",
    "# Convert prediction into a pandas dataframe and reset index\n",
    "forecast_fbPro = predictions_prophet.pd_dataframe().reset_index()\n",
    "\n",
    "\n",
    "x_feature_tm ='Timestamp' \n",
    "y_feature_tm ='Summe'\n",
    "model_name =f'Using Prophet Model'\n",
    "# model_name =f'Using Prophet  Model : The Error Mape Value :  '\n",
    "\n",
    "train_test_predicted_plot(\n",
    "                        df_train,\n",
    "                        df_test,\n",
    "                        x_feature_tm,\n",
    "                        y_feature_tm,\n",
    "                        forecast_fbPro,\n",
    "                        model_name)\n",
    "\n",
    "\n",
    "\n"
   ]
  },
  {
   "cell_type": "code",
   "execution_count": null,
   "metadata": {},
   "outputs": [],
   "source": [
    "test_mae , test_rmse , test_mse,test_mape = calculate_errors(forecast_fbPro['Summe'] ,df_test['Summe'])\n",
    "\n",
    "print(f\"MAE : {test_mae} RMSE {test_rmse} MSE {test_mse} MAPE {test_mape}\")"
   ]
  },
  {
   "attachments": {},
   "cell_type": "markdown",
   "metadata": {},
   "source": [
    "# XGBModel"
   ]
  },
  {
   "cell_type": "code",
   "execution_count": 6,
   "metadata": {},
   "outputs": [
    {
     "name": "stdout",
     "output_type": "stream",
     "text": [
      "Shape of train set: (10252, 1)\n",
      "Shape of test set: (1139, 1)\n"
     ]
    }
   ],
   "source": [
    "# df_1_day_indexed = df_1_day.set_index('Timestamp')\n",
    "# # Set the 'Timestamp' column as the index of the DataFrame df_1_day\n",
    "# day_ts = TimeSeries.from_dataframe(df_1_day_indexed, freq='1d')\n",
    "# # Create a TimeSeries object 'day_ts' from the indexed DataFrame df_1_day_indexed with a frequency of 1 day\n",
    "\n",
    "df_1_hour_indexed = df_1_hour.set_index('Timestamp')\n",
    "# Set the 'Timestamp' column as the index of the DataFrame df_1_hour\n",
    "hour_ts = TimeSeries.from_dataframe(df_1_hour_indexed, freq='1h')\n",
    "# Create a TimeSeries object 'hour_ts' from the indexed DataFrame df_1_hour_indexed with a frequency of 1 hour\n",
    "\n",
    "# train_day_ts, test_day_ts = day_ts.split_after(0.90)\n",
    "# Split the 'day_ts' TimeSeries into a training set containing 90% of the data and a testing set containing the remaining 10%\n",
    "train_hour_ts, test_hour_ts = hour_ts.split_after(0.90)\n",
    "# Split the 'hour_ts' TimeSeries into a training set containing 98% of the data and a testing set containing the remaining 2%\n",
    "\n",
    "print('Shape of train set:', train_hour_ts.pd_dataframe().shape)\n",
    "print('Shape of test set:', test_hour_ts.pd_dataframe().shape)\n",
    "# Print the shape of the training set and testing set for the hourly data\n",
    "Horizon_hour = test_hour_ts.pd_dataframe().shape[0]\n",
    "# Get the number of rows (time steps) in the testing set for the hourly data\n",
    "\n",
    "# print('Shape of train set:', train_day_ts.pd_dataframe().shape)\n",
    "# print('Shape of test set:', test_day_ts.pd_dataframe().shape)\n",
    "# Print the shape of the training set and testing set for the daily data\n",
    "# Horizon = test_day_ts.pd_dataframe().shape[0]\n",
    "# Get the number of rows (time steps) in the testing set for the daily data\n"
   ]
  },
  {
   "cell_type": "code",
   "execution_count": 9,
   "metadata": {},
   "outputs": [],
   "source": [
    "from darts.models.forecasting.xgboost import XGBModel \n"
   ]
  },
  {
   "cell_type": "code",
   "execution_count": null,
   "metadata": {},
   "outputs": [],
   "source": [
    "\n",
    "xbg_model =  XGBModel(lags=50,  \n",
    "                      output_chunk_length=24,\n",
    "                      likelihood=None, \n",
    "                      quantiles=None, \n",
    "                      random_state=32,\n",
    "                      multi_models=True, \n",
    "                      use_static_covariates=True,\n",
    "                      tree_method='gpu_hist')\n",
    "\n",
    "\n",
    "# train_hours , vali_hours = train_hour_ts.split_after(0.9)\n",
    "\n",
    "#  Fit the model to your training data\n",
    "xbg_model.fit(series = train_hour_ts)\n"
   ]
  },
  {
   "cell_type": "code",
   "execution_count": 18,
   "metadata": {},
   "outputs": [
    {
     "ename": "NameError",
     "evalue": "name 'xbg_model' is not defined",
     "output_type": "error",
     "traceback": [
      "\u001b[0;31m---------------------------------------------------------------------------\u001b[0m",
      "\u001b[0;31mNameError\u001b[0m                                 Traceback (most recent call last)",
      "\u001b[0;32m/tmp/ipykernel_20715/2620748585.py\u001b[0m in \u001b[0;36m<module>\u001b[0;34m\u001b[0m\n\u001b[0;32m----> 1\u001b[0;31m \u001b[0mxbg_model\u001b[0m\u001b[0;34m.\u001b[0m\u001b[0msummar\u001b[0m\u001b[0;34m(\u001b[0m\u001b[0;34m)\u001b[0m\u001b[0;34m\u001b[0m\u001b[0;34m\u001b[0m\u001b[0m\n\u001b[0m",
      "\u001b[0;31mNameError\u001b[0m: name 'xbg_model' is not defined"
     ]
    }
   ],
   "source": [
    "xbg_model.summar()"
   ]
  },
  {
   "cell_type": "code",
   "execution_count": 27,
   "metadata": {},
   "outputs": [],
   "source": [
    "input,actual = test_hour_ts.split_after(0.70)"
   ]
  },
  {
   "cell_type": "code",
   "execution_count": 34,
   "metadata": {},
   "outputs": [
    {
     "data": {
      "text/plain": [
       "<AxesSubplot:xlabel='Timestamp'>"
      ]
     },
     "execution_count": 34,
     "metadata": {},
     "output_type": "execute_result"
    },
    {
     "data": {
      "image/png": "[encoded data removed]",
      "text/plain": [
       "<Figure size 640x480 with 1 Axes>"
      ]
     },
     "metadata": {},
     "output_type": "display_data"
    }
   ],
   "source": []
  },
  {
   "cell_type": "code",
   "execution_count": 43,
   "metadata": {},
   "outputs": [
    {
     "data": {
      "text/html": [
       "<div>\n",
       "<style scoped>\n",
       "    .dataframe tbody tr th:only-of-type {\n",
       "        vertical-align: middle;\n",
       "    }\n",
       "\n",
       "    .dataframe tbody tr th {\n",
       "        vertical-align: top;\n",
       "    }\n",
       "\n",
       "    .dataframe thead th {\n",
       "        text-align: right;\n",
       "    }\n",
       "</style>\n",
       "<table border=\"1\" class=\"dataframe\">\n",
       "  <thead>\n",
       "    <tr style=\"text-align: right;\">\n",
       "      <th>component</th>\n",
       "      <th>Timestamp</th>\n",
       "      <th>Summe</th>\n",
       "    </tr>\n",
       "  </thead>\n",
       "  <tbody>\n",
       "    <tr>\n",
       "      <th>0</th>\n",
       "      <td>2015-06-15 16:00:00</td>\n",
       "      <td>37.462067</td>\n",
       "    </tr>\n",
       "    <tr>\n",
       "      <th>1</th>\n",
       "      <td>2015-06-15 17:00:00</td>\n",
       "      <td>44.698383</td>\n",
       "    </tr>\n",
       "    <tr>\n",
       "      <th>2</th>\n",
       "      <td>2015-06-15 18:00:00</td>\n",
       "      <td>112.749596</td>\n",
       "    </tr>\n",
       "    <tr>\n",
       "      <th>3</th>\n",
       "      <td>2015-06-15 19:00:00</td>\n",
       "      <td>66.003380</td>\n",
       "    </tr>\n",
       "    <tr>\n",
       "      <th>4</th>\n",
       "      <td>2015-06-15 20:00:00</td>\n",
       "      <td>36.246323</td>\n",
       "    </tr>\n",
       "    <tr>\n",
       "      <th>...</th>\n",
       "      <td>...</td>\n",
       "      <td>...</td>\n",
       "    </tr>\n",
       "    <tr>\n",
       "      <th>337</th>\n",
       "      <td>2015-06-29 17:00:00</td>\n",
       "      <td>85.667282</td>\n",
       "    </tr>\n",
       "    <tr>\n",
       "      <th>338</th>\n",
       "      <td>2015-06-29 18:00:00</td>\n",
       "      <td>94.629944</td>\n",
       "    </tr>\n",
       "    <tr>\n",
       "      <th>339</th>\n",
       "      <td>2015-06-29 19:00:00</td>\n",
       "      <td>59.897812</td>\n",
       "    </tr>\n",
       "    <tr>\n",
       "      <th>340</th>\n",
       "      <td>2015-06-29 20:00:00</td>\n",
       "      <td>102.633804</td>\n",
       "    </tr>\n",
       "    <tr>\n",
       "      <th>341</th>\n",
       "      <td>2015-06-29 21:00:00</td>\n",
       "      <td>144.837189</td>\n",
       "    </tr>\n",
       "  </tbody>\n",
       "</table>\n",
       "<p>342 rows × 2 columns</p>\n",
       "</div>"
      ],
      "text/plain": [
       "component           Timestamp       Summe\n",
       "0         2015-06-15 16:00:00   37.462067\n",
       "1         2015-06-15 17:00:00   44.698383\n",
       "2         2015-06-15 18:00:00  112.749596\n",
       "3         2015-06-15 19:00:00   66.003380\n",
       "4         2015-06-15 20:00:00   36.246323\n",
       "..                        ...         ...\n",
       "337       2015-06-29 17:00:00   85.667282\n",
       "338       2015-06-29 18:00:00   94.629944\n",
       "339       2015-06-29 19:00:00   59.897812\n",
       "340       2015-06-29 20:00:00  102.633804\n",
       "341       2015-06-29 21:00:00  144.837189\n",
       "\n",
       "[342 rows x 2 columns]"
      ]
     },
     "execution_count": 43,
     "metadata": {},
     "output_type": "execute_result"
    }
   ],
   "source": []
  },
  {
   "cell_type": "code",
   "execution_count": 44,
   "metadata": {},
   "outputs": [
    {
     "data": {
      "text/html": [
       "<div>\n",
       "<style scoped>\n",
       "    .dataframe tbody tr th:only-of-type {\n",
       "        vertical-align: middle;\n",
       "    }\n",
       "\n",
       "    .dataframe tbody tr th {\n",
       "        vertical-align: top;\n",
       "    }\n",
       "\n",
       "    .dataframe thead th {\n",
       "        text-align: right;\n",
       "    }\n",
       "</style>\n",
       "<table border=\"1\" class=\"dataframe\">\n",
       "  <thead>\n",
       "    <tr style=\"text-align: right;\">\n",
       "      <th>component</th>\n",
       "      <th>Timestamp</th>\n",
       "      <th>Summe</th>\n",
       "    </tr>\n",
       "  </thead>\n",
       "  <tbody>\n",
       "    <tr>\n",
       "      <th>0</th>\n",
       "      <td>2015-06-15 16:00:00</td>\n",
       "      <td>31.879468</td>\n",
       "    </tr>\n",
       "    <tr>\n",
       "      <th>1</th>\n",
       "      <td>2015-06-15 17:00:00</td>\n",
       "      <td>636.687600</td>\n",
       "    </tr>\n",
       "    <tr>\n",
       "      <th>2</th>\n",
       "      <td>2015-06-15 18:00:00</td>\n",
       "      <td>116.746853</td>\n",
       "    </tr>\n",
       "    <tr>\n",
       "      <th>3</th>\n",
       "      <td>2015-06-15 19:00:00</td>\n",
       "      <td>41.369459</td>\n",
       "    </tr>\n",
       "    <tr>\n",
       "      <th>4</th>\n",
       "      <td>2015-06-15 20:00:00</td>\n",
       "      <td>34.288429</td>\n",
       "    </tr>\n",
       "    <tr>\n",
       "      <th>...</th>\n",
       "      <td>...</td>\n",
       "      <td>...</td>\n",
       "    </tr>\n",
       "    <tr>\n",
       "      <th>337</th>\n",
       "      <td>2015-06-29 17:00:00</td>\n",
       "      <td>80.591582</td>\n",
       "    </tr>\n",
       "    <tr>\n",
       "      <th>338</th>\n",
       "      <td>2015-06-29 18:00:00</td>\n",
       "      <td>52.420814</td>\n",
       "    </tr>\n",
       "    <tr>\n",
       "      <th>339</th>\n",
       "      <td>2015-06-29 19:00:00</td>\n",
       "      <td>46.189453</td>\n",
       "    </tr>\n",
       "    <tr>\n",
       "      <th>340</th>\n",
       "      <td>2015-06-29 20:00:00</td>\n",
       "      <td>58.697892</td>\n",
       "    </tr>\n",
       "    <tr>\n",
       "      <th>341</th>\n",
       "      <td>2015-06-29 21:00:00</td>\n",
       "      <td>68.694625</td>\n",
       "    </tr>\n",
       "  </tbody>\n",
       "</table>\n",
       "<p>342 rows × 2 columns</p>\n",
       "</div>"
      ],
      "text/plain": [
       "component           Timestamp       Summe\n",
       "0         2015-06-15 16:00:00   31.879468\n",
       "1         2015-06-15 17:00:00  636.687600\n",
       "2         2015-06-15 18:00:00  116.746853\n",
       "3         2015-06-15 19:00:00   41.369459\n",
       "4         2015-06-15 20:00:00   34.288429\n",
       "..                        ...         ...\n",
       "337       2015-06-29 17:00:00   80.591582\n",
       "338       2015-06-29 18:00:00   52.420814\n",
       "339       2015-06-29 19:00:00   46.189453\n",
       "340       2015-06-29 20:00:00   58.697892\n",
       "341       2015-06-29 21:00:00   68.694625\n",
       "\n",
       "[342 rows x 2 columns]"
      ]
     },
     "execution_count": 44,
     "metadata": {},
     "output_type": "execute_result"
    }
   ],
   "source": []
  },
  {
   "cell_type": "code",
   "execution_count": 47,
   "metadata": {},
   "outputs": [
    {
     "data": {
      "application/vnd.plotly.v1+json": {
       "config": {
        "plotlyServerURL": "https://plot.ly"
       },
       "data": [
        {
         "mode": "lines",
         "name": "Predicted",
         "type": "scatter",
         "x": [
          "2015-06-15T16:00:00",
          "2015-06-15T17:00:00",
          "2015-06-15T18:00:00",
          "2015-06-15T19:00:00",
          "2015-06-15T20:00:00",
          "2015-06-15T21:00:00",
          "2015-06-15T22:00:00",
          "2015-06-15T23:00:00",
          "2015-06-16T00:00:00",
          "2015-06-16T01:00:00",
          "2015-06-16T02:00:00",
          "2015-06-16T03:00:00",
          "2015-06-16T04:00:00",
          "2015-06-16T05:00:00",
          "2015-06-16T06:00:00",
          "2015-06-16T07:00:00",
          "2015-06-16T08:00:00",
          "2015-06-16T09:00:00",
          "2015-06-16T10:00:00",
          "2015-06-16T11:00:00",
          "2015-06-16T12:00:00",
          "2015-06-16T13:00:00",
          "2015-06-16T14:00:00",
          "2015-06-16T15:00:00",
          "2015-06-16T16:00:00",
          "2015-06-16T17:00:00",
          "2015-06-16T18:00:00",
          "2015-06-16T19:00:00",
          "2015-06-16T20:00:00",
          "2015-06-16T21:00:00",
          "2015-06-16T22:00:00",
          "2015-06-16T23:00:00",
          "2015-06-17T00:00:00",
          "2015-06-17T01:00:00",
          "2015-06-17T02:00:00",
          "2015-06-17T03:00:00",
          "2015-06-17T04:00:00",
          "2015-06-17T05:00:00",
          "2015-06-17T06:00:00",
          "2015-06-17T07:00:00",
          "2015-06-17T08:00:00",
          "2015-06-17T09:00:00",
          "2015-06-17T10:00:00",
          "2015-06-17T11:00:00",
          "2015-06-17T12:00:00",
          "2015-06-17T13:00:00",
          "2015-06-17T14:00:00",
          "2015-06-17T15:00:00",
          "2015-06-17T16:00:00",
          "2015-06-17T17:00:00",
          "2015-06-17T18:00:00",
          "2015-06-17T19:00:00",
          "2015-06-17T20:00:00",
          "2015-06-17T21:00:00",
          "2015-06-17T22:00:00",
          "2015-06-17T23:00:00",
          "2015-06-18T00:00:00",
          "2015-06-18T01:00:00",
          "2015-06-18T02:00:00",
          "2015-06-18T03:00:00",
          "2015-06-18T04:00:00",
          "2015-06-18T05:00:00",
          "2015-06-18T06:00:00",
          "2015-06-18T07:00:00",
          "2015-06-18T08:00:00",
          "2015-06-18T09:00:00",
          "2015-06-18T10:00:00",
          "2015-06-18T11:00:00",
          "2015-06-18T12:00:00",
          "2015-06-18T13:00:00",
          "2015-06-18T14:00:00",
          "2015-06-18T15:00:00",
          "2015-06-18T16:00:00",
          "2015-06-18T17:00:00",
          "2015-06-18T18:00:00",
          "2015-06-18T19:00:00",
          "2015-06-18T20:00:00",
          "2015-06-18T21:00:00",
          "2015-06-18T22:00:00",
          "2015-06-18T23:00:00",
          "2015-06-19T00:00:00",
          "2015-06-19T01:00:00",
          "2015-06-19T02:00:00",
          "2015-06-19T03:00:00",
          "2015-06-19T04:00:00",
          "2015-06-19T05:00:00",
          "2015-06-19T06:00:00",
          "2015-06-19T07:00:00",
          "2015-06-19T08:00:00",
          "2015-06-19T09:00:00",
          "2015-06-19T10:00:00",
          "2015-06-19T11:00:00",
          "2015-06-19T12:00:00",
          "2015-06-19T13:00:00",
          "2015-06-19T14:00:00",
          "2015-06-19T15:00:00",
          "2015-06-19T16:00:00",
          "2015-06-19T17:00:00",
          "2015-06-19T18:00:00",
          "2015-06-19T19:00:00",
          "2015-06-19T20:00:00",
          "2015-06-19T21:00:00",
          "2015-06-19T22:00:00",
          "2015-06-19T23:00:00",
          "2015-06-20T00:00:00",
          "2015-06-20T01:00:00",
          "2015-06-20T02:00:00",
          "2015-06-20T03:00:00",
          "2015-06-20T04:00:00",
          "2015-06-20T05:00:00",
          "2015-06-20T06:00:00",
          "2015-06-20T07:00:00",
          "2015-06-20T08:00:00",
          "2015-06-20T09:00:00",
          "2015-06-20T10:00:00",
          "2015-06-20T11:00:00",
          "2015-06-20T12:00:00",
          "2015-06-20T13:00:00",
          "2015-06-20T14:00:00",
          "2015-06-20T15:00:00",
          "2015-06-20T16:00:00",
          "2015-06-20T17:00:00",
          "2015-06-20T18:00:00",
          "2015-06-20T19:00:00",
          "2015-06-20T20:00:00",
          "2015-06-20T21:00:00",
          "2015-06-20T22:00:00",
          "2015-06-20T23:00:00",
          "2015-06-21T00:00:00",
          "2015-06-21T01:00:00",
          "2015-06-21T02:00:00",
          "2015-06-21T03:00:00",
          "2015-06-21T04:00:00",
          "2015-06-21T05:00:00",
          "2015-06-21T06:00:00",
          "2015-06-21T07:00:00",
          "2015-06-21T08:00:00",
          "2015-06-21T09:00:00",
          "2015-06-21T10:00:00",
          "2015-06-21T11:00:00",
          "2015-06-21T12:00:00",
          "2015-06-21T13:00:00",
          "2015-06-21T14:00:00",
          "2015-06-21T15:00:00",
          "2015-06-21T16:00:00",
          "2015-06-21T17:00:00",
          "2015-06-21T18:00:00",
          "2015-06-21T19:00:00",
          "2015-06-21T20:00:00",
          "2015-06-21T21:00:00",
          "2015-06-21T22:00:00",
          "2015-06-21T23:00:00",
          "2015-06-22T00:00:00",
          "2015-06-22T01:00:00",
          "2015-06-22T02:00:00",
          "2015-06-22T03:00:00",
          "2015-06-22T04:00:00",
          "2015-06-22T05:00:00",
          "2015-06-22T06:00:00",
          "2015-06-22T07:00:00",
          "2015-06-22T08:00:00",
          "2015-06-22T09:00:00",
          "2015-06-22T10:00:00",
          "2015-06-22T11:00:00",
          "2015-06-22T12:00:00",
          "2015-06-22T13:00:00",
          "2015-06-22T14:00:00",
          "2015-06-22T15:00:00",
          "2015-06-22T16:00:00",
          "2015-06-22T17:00:00",
          "2015-06-22T18:00:00",
          "2015-06-22T19:00:00",
          "2015-06-22T20:00:00",
          "2015-06-22T21:00:00",
          "2015-06-22T22:00:00",
          "2015-06-22T23:00:00",
          "2015-06-23T00:00:00",
          "2015-06-23T01:00:00",
          "2015-06-23T02:00:00",
          "2015-06-23T03:00:00",
          "2015-06-23T04:00:00",
          "2015-06-23T05:00:00",
          "2015-06-23T06:00:00",
          "2015-06-23T07:00:00",
          "2015-06-23T08:00:00",
          "2015-06-23T09:00:00",
          "2015-06-23T10:00:00",
          "2015-06-23T11:00:00",
          "2015-06-23T12:00:00",
          "2015-06-23T13:00:00",
          "2015-06-23T14:00:00",
          "2015-06-23T15:00:00",
          "2015-06-23T16:00:00",
          "2015-06-23T17:00:00",
          "2015-06-23T18:00:00",
          "2015-06-23T19:00:00",
          "2015-06-23T20:00:00",
          "2015-06-23T21:00:00",
          "2015-06-23T22:00:00",
          "2015-06-23T23:00:00",
          "2015-06-24T00:00:00",
          "2015-06-24T01:00:00",
          "2015-06-24T02:00:00",
          "2015-06-24T03:00:00",
          "2015-06-24T04:00:00",
          "2015-06-24T05:00:00",
          "2015-06-24T06:00:00",
          "2015-06-24T07:00:00",
          "2015-06-24T08:00:00",
          "2015-06-24T09:00:00",
          "2015-06-24T10:00:00",
          "2015-06-24T11:00:00",
          "2015-06-24T12:00:00",
          "2015-06-24T13:00:00",
          "2015-06-24T14:00:00",
          "2015-06-24T15:00:00",
          "2015-06-24T16:00:00",
          "2015-06-24T17:00:00",
          "2015-06-24T18:00:00",
          "2015-06-24T19:00:00",
          "2015-06-24T20:00:00",
          "2015-06-24T21:00:00",
          "2015-06-24T22:00:00",
          "2015-06-24T23:00:00",
          "2015-06-25T00:00:00",
          "2015-06-25T01:00:00",
          "2015-06-25T02:00:00",
          "2015-06-25T03:00:00",
          "2015-06-25T04:00:00",
          "2015-06-25T05:00:00",
          "2015-06-25T06:00:00",
          "2015-06-25T07:00:00",
          "2015-06-25T08:00:00",
          "2015-06-25T09:00:00",
          "2015-06-25T10:00:00",
          "2015-06-25T11:00:00",
          "2015-06-25T12:00:00",
          "2015-06-25T13:00:00",
          "2015-06-25T14:00:00",
          "2015-06-25T15:00:00",
          "2015-06-25T16:00:00",
          "2015-06-25T17:00:00",
          "2015-06-25T18:00:00",
          "2015-06-25T19:00:00",
          "2015-06-25T20:00:00",
          "2015-06-25T21:00:00",
          "2015-06-25T22:00:00",
          "2015-06-25T23:00:00",
          "2015-06-26T00:00:00",
          "2015-06-26T01:00:00",
          "2015-06-26T02:00:00",
          "2015-06-26T03:00:00",
          "2015-06-26T04:00:00",
          "2015-06-26T05:00:00",
          "2015-06-26T06:00:00",
          "2015-06-26T07:00:00",
          "2015-06-26T08:00:00",
          "2015-06-26T09:00:00",
          "2015-06-26T10:00:00",
          "2015-06-26T11:00:00",
          "2015-06-26T12:00:00",
          "2015-06-26T13:00:00",
          "2015-06-26T14:00:00",
          "2015-06-26T15:00:00",
          "2015-06-26T16:00:00",
          "2015-06-26T17:00:00",
          "2015-06-26T18:00:00",
          "2015-06-26T19:00:00",
          "2015-06-26T20:00:00",
          "2015-06-26T21:00:00",
          "2015-06-26T22:00:00",
          "2015-06-26T23:00:00",
          "2015-06-27T00:00:00",
          "2015-06-27T01:00:00",
          "2015-06-27T02:00:00",
          "2015-06-27T03:00:00",
          "2015-06-27T04:00:00",
          "2015-06-27T05:00:00",
          "2015-06-27T06:00:00",
          "2015-06-27T07:00:00",
          "2015-06-27T08:00:00",
          "2015-06-27T09:00:00",
          "2015-06-27T10:00:00",
          "2015-06-27T11:00:00",
          "2015-06-27T12:00:00",
          "2015-06-27T13:00:00",
          "2015-06-27T14:00:00",
          "2015-06-27T15:00:00",
          "2015-06-27T16:00:00",
          "2015-06-27T17:00:00",
          "2015-06-27T18:00:00",
          "2015-06-27T19:00:00",
          "2015-06-27T20:00:00",
          "2015-06-27T21:00:00",
          "2015-06-27T22:00:00",
          "2015-06-27T23:00:00",
          "2015-06-28T00:00:00",
          "2015-06-28T01:00:00",
          "2015-06-28T02:00:00",
          "2015-06-28T03:00:00",
          "2015-06-28T04:00:00",
          "2015-06-28T05:00:00",
          "2015-06-28T06:00:00",
          "2015-06-28T07:00:00",
          "2015-06-28T08:00:00",
          "2015-06-28T09:00:00",
          "2015-06-28T10:00:00",
          "2015-06-28T11:00:00",
          "2015-06-28T12:00:00",
          "2015-06-28T13:00:00",
          "2015-06-28T14:00:00",
          "2015-06-28T15:00:00",
          "2015-06-28T16:00:00",
          "2015-06-28T17:00:00",
          "2015-06-28T18:00:00",
          "2015-06-28T19:00:00",
          "2015-06-28T20:00:00",
          "2015-06-28T21:00:00",
          "2015-06-28T22:00:00",
          "2015-06-28T23:00:00",
          "2015-06-29T00:00:00",
          "2015-06-29T01:00:00",
          "2015-06-29T02:00:00",
          "2015-06-29T03:00:00",
          "2015-06-29T04:00:00",
          "2015-06-29T05:00:00",
          "2015-06-29T06:00:00",
          "2015-06-29T07:00:00",
          "2015-06-29T08:00:00",
          "2015-06-29T09:00:00",
          "2015-06-29T10:00:00",
          "2015-06-29T11:00:00",
          "2015-06-29T12:00:00",
          "2015-06-29T13:00:00",
          "2015-06-29T14:00:00",
          "2015-06-29T15:00:00",
          "2015-06-29T16:00:00",
          "2015-06-29T17:00:00",
          "2015-06-29T18:00:00",
          "2015-06-29T19:00:00",
          "2015-06-29T20:00:00",
          "2015-06-29T21:00:00"
         ],
         "y": [
          37.462067,
          44.698383,
          112.749596,
          66.00338,
          36.246323,
          20.216581,
          20.883995,
          38.170956,
          35.62214,
          38.041878,
          7.5838695,
          39.756615,
          48.231274,
          54.30591,
          9.387234,
          36.25603,
          30.052122,
          56.11332,
          76.75255,
          42.386654,
          41.6294,
          9.066321,
          28.54187,
          32.365265,
          77.513405,
          89.09679,
          22.002066,
          176.19273,
          70.673416,
          7.3285203,
          48.40202,
          42.899216,
          99.15568,
          44.28637,
          41.491203,
          37.48268,
          86.78233,
          52.96972,
          43.58857,
          42.84447,
          85.02465,
          44.969315,
          39.605545,
          37.274387,
          14.450142,
          143.22343,
          27.189177,
          19.496721,
          42.93412,
          109.00673,
          46.360516,
          79.73522,
          92.75388,
          46.044907,
          58.75538,
          89.20008,
          33.04906,
          77.872894,
          138.34618,
          112.94536,
          59.291836,
          51.427128,
          111.38041,
          28.651802,
          42.617905,
          77.94424,
          63.291553,
          54.12836,
          20.243286,
          112.84771,
          49.767338,
          25.62157,
          79.26055,
          63.34753,
          149.42732,
          252.228,
          41.81828,
          30.87987,
          92.844,
          95.75453,
          89.92644,
          68.91532,
          81.89815,
          147.80684,
          115.67377,
          111.41484,
          110.946236,
          42.417046,
          50.382374,
          48.44907,
          46.1727,
          102.191956,
          23.953903,
          33.911804,
          46.571617,
          37.21608,
          33.058666,
          82.68743,
          212.98257,
          243.63223,
          174.30281,
          37.39645,
          21.826242,
          34.23083,
          42.415787,
          35.643005,
          60.935406,
          44.184296,
          62.960136,
          60.301517,
          54.88356,
          64.08884,
          65.22158,
          51.812187,
          53.722755,
          43.587215,
          109.8409,
          56.46022,
          61.385666,
          56.61199,
          61.141037,
          33.101257,
          60.58978,
          120.621735,
          346.198,
          142.01967,
          49.901802,
          47.757736,
          34.03965,
          27.552904,
          33.303886,
          38.84792,
          67.04562,
          70.83363,
          97.61789,
          58.305717,
          126.47439,
          62.53418,
          69.18381,
          35.12242,
          176.02783,
          110.81327,
          42.520496,
          22.591705,
          75.882225,
          92.71057,
          115.705315,
          40.08456,
          226.42604,
          39.85967,
          247.76147,
          34.35834,
          103.77851,
          56.96108,
          44.704227,
          31.369986,
          78.991425,
          56.98463,
          66.223305,
          147.51228,
          147.70442,
          193.85098,
          33.78265,
          40.378204,
          32.239914,
          118.55392,
          63.560352,
          26.90134,
          106.36482,
          148.3204,
          64.31864,
          82.00162,
          77.6447,
          45.889137,
          33.147602,
          45.264812,
          269.23178,
          31.118433,
          59.897255,
          59.071503,
          69.776184,
          88.17834,
          77.64088,
          237.081,
          180.73819,
          30.885172,
          8.501869,
          57.23231,
          17.06216,
          54.427734,
          57.232677,
          31.952703,
          80.26354,
          53.12574,
          56.593086,
          165.01797,
          29.272467,
          67.87786,
          27.198862,
          65.52247,
          28.810558,
          29.45359,
          326.7268,
          54.799,
          105.94752,
          93.165565,
          184.1133,
          42.9281,
          110.23646,
          80.69789,
          101.85927,
          87.64546,
          35.129436,
          139.01367,
          31.17742,
          -25.94545,
          54.08879,
          129.60521,
          187.53484,
          36.458862,
          88.27249,
          30.364431,
          33.29211,
          138.52158,
          53.621265,
          92.63329,
          50.746277,
          78.95068,
          103.98517,
          121.69071,
          130.84274,
          73.20357,
          69.98808,
          63.453358,
          108.32766,
          49.21352,
          30.186655,
          107.32283,
          23.833683,
          25.295486,
          37.564575,
          20.42723,
          138.93465,
          101.30552,
          441.2506,
          64.07116,
          39.94058,
          88.50186,
          50.150356,
          50.472424,
          30.774742,
          42.362408,
          57.267025,
          77.59333,
          41.36901,
          70.26154,
          80.348335,
          58.181152,
          39.1553,
          88.21888,
          42.66614,
          87.24227,
          13.409561,
          112.857925,
          44.209656,
          208.14322,
          38.424553,
          20.974642,
          42.826275,
          9.76712,
          80.49623,
          28.72351,
          52.94313,
          60.56997,
          118.8526,
          55.839054,
          118.9963,
          43.315197,
          161.72556,
          114.497765,
          26.825384,
          42.864258,
          31.574015,
          148.8734,
          70.048515,
          76.646805,
          40.130505,
          48.133114,
          105.9546,
          85.58116,
          88.72152,
          112.42384,
          119.8363,
          72.85632,
          41.258842,
          106.0114,
          84.808334,
          38.77799,
          62.15169,
          96.597466,
          29.546883,
          254.16988,
          60.706047,
          44.47655,
          66.2418,
          43.23849,
          11.591766,
          54.242004,
          82.90509,
          100.90366,
          314.40918,
          47.35091,
          83.78478,
          53.281956,
          134.83267,
          129.85628,
          73.73864,
          62.50366,
          59.70668,
          133.8623,
          62.524963,
          23.85455,
          81.91895,
          33.28652,
          170.35641,
          37.742207,
          175.11737,
          206.53578,
          100.0997,
          44.69145,
          143.04701,
          74.81571,
          86.343544,
          200.19138,
          63.416733,
          69.970055,
          27.953825,
          85.66728,
          94.629944,
          59.89781,
          102.633804,
          144.83719
         ]
        },
        {
         "mode": "lines",
         "name": "Actual",
         "type": "scatter",
         "x": [
          "2015-06-15T16:00:00",
          "2015-06-15T17:00:00",
          "2015-06-15T18:00:00",
          "2015-06-15T19:00:00",
          "2015-06-15T20:00:00",
          "2015-06-15T21:00:00",
          "2015-06-15T22:00:00",
          "2015-06-15T23:00:00",
          "2015-06-16T00:00:00",
          "2015-06-16T01:00:00",
          "2015-06-16T02:00:00",
          "2015-06-16T03:00:00",
          "2015-06-16T04:00:00",
          "2015-06-16T05:00:00",
          "2015-06-16T06:00:00",
          "2015-06-16T07:00:00",
          "2015-06-16T08:00:00",
          "2015-06-16T09:00:00",
          "2015-06-16T10:00:00",
          "2015-06-16T11:00:00",
          "2015-06-16T12:00:00",
          "2015-06-16T13:00:00",
          "2015-06-16T14:00:00",
          "2015-06-16T15:00:00",
          "2015-06-16T16:00:00",
          "2015-06-16T17:00:00",
          "2015-06-16T18:00:00",
          "2015-06-16T19:00:00",
          "2015-06-16T20:00:00",
          "2015-06-16T21:00:00",
          "2015-06-16T22:00:00",
          "2015-06-16T23:00:00",
          "2015-06-17T00:00:00",
          "2015-06-17T01:00:00",
          "2015-06-17T02:00:00",
          "2015-06-17T03:00:00",
          "2015-06-17T04:00:00",
          "2015-06-17T05:00:00",
          "2015-06-17T06:00:00",
          "2015-06-17T07:00:00",
          "2015-06-17T08:00:00",
          "2015-06-17T09:00:00",
          "2015-06-17T10:00:00",
          "2015-06-17T11:00:00",
          "2015-06-17T12:00:00",
          "2015-06-17T13:00:00",
          "2015-06-17T14:00:00",
          "2015-06-17T15:00:00",
          "2015-06-17T16:00:00",
          "2015-06-17T17:00:00",
          "2015-06-17T18:00:00",
          "2015-06-17T19:00:00",
          "2015-06-17T20:00:00",
          "2015-06-17T21:00:00",
          "2015-06-17T22:00:00",
          "2015-06-17T23:00:00",
          "2015-06-18T00:00:00",
          "2015-06-18T01:00:00",
          "2015-06-18T02:00:00",
          "2015-06-18T03:00:00",
          "2015-06-18T04:00:00",
          "2015-06-18T05:00:00",
          "2015-06-18T06:00:00",
          "2015-06-18T07:00:00",
          "2015-06-18T08:00:00",
          "2015-06-18T09:00:00",
          "2015-06-18T10:00:00",
          "2015-06-18T11:00:00",
          "2015-06-18T12:00:00",
          "2015-06-18T13:00:00",
          "2015-06-18T14:00:00",
          "2015-06-18T15:00:00",
          "2015-06-18T16:00:00",
          "2015-06-18T17:00:00",
          "2015-06-18T18:00:00",
          "2015-06-18T19:00:00",
          "2015-06-18T20:00:00",
          "2015-06-18T21:00:00",
          "2015-06-18T22:00:00",
          "2015-06-18T23:00:00",
          "2015-06-19T00:00:00",
          "2015-06-19T01:00:00",
          "2015-06-19T02:00:00",
          "2015-06-19T03:00:00",
          "2015-06-19T04:00:00",
          "2015-06-19T05:00:00",
          "2015-06-19T06:00:00",
          "2015-06-19T07:00:00",
          "2015-06-19T08:00:00",
          "2015-06-19T09:00:00",
          "2015-06-19T10:00:00",
          "2015-06-19T11:00:00",
          "2015-06-19T12:00:00",
          "2015-06-19T13:00:00",
          "2015-06-19T14:00:00",
          "2015-06-19T15:00:00",
          "2015-06-19T16:00:00",
          "2015-06-19T17:00:00",
          "2015-06-19T18:00:00",
          "2015-06-19T19:00:00",
          "2015-06-19T20:00:00",
          "2015-06-19T21:00:00",
          "2015-06-19T22:00:00",
          "2015-06-19T23:00:00",
          "2015-06-20T00:00:00",
          "2015-06-20T01:00:00",
          "2015-06-20T02:00:00",
          "2015-06-20T03:00:00",
          "2015-06-20T04:00:00",
          "2015-06-20T05:00:00",
          "2015-06-20T06:00:00",
          "2015-06-20T07:00:00",
          "2015-06-20T08:00:00",
          "2015-06-20T09:00:00",
          "2015-06-20T10:00:00",
          "2015-06-20T11:00:00",
          "2015-06-20T12:00:00",
          "2015-06-20T13:00:00",
          "2015-06-20T14:00:00",
          "2015-06-20T15:00:00",
          "2015-06-20T16:00:00",
          "2015-06-20T17:00:00",
          "2015-06-20T18:00:00",
          "2015-06-20T19:00:00",
          "2015-06-20T20:00:00",
          "2015-06-20T21:00:00",
          "2015-06-20T22:00:00",
          "2015-06-20T23:00:00",
          "2015-06-21T00:00:00",
          "2015-06-21T01:00:00",
          "2015-06-21T02:00:00",
          "2015-06-21T03:00:00",
          "2015-06-21T04:00:00",
          "2015-06-21T05:00:00",
          "2015-06-21T06:00:00",
          "2015-06-21T07:00:00",
          "2015-06-21T08:00:00",
          "2015-06-21T09:00:00",
          "2015-06-21T10:00:00",
          "2015-06-21T11:00:00",
          "2015-06-21T12:00:00",
          "2015-06-21T13:00:00",
          "2015-06-21T14:00:00",
          "2015-06-21T15:00:00",
          "2015-06-21T16:00:00",
          "2015-06-21T17:00:00",
          "2015-06-21T18:00:00",
          "2015-06-21T19:00:00",
          "2015-06-21T20:00:00",
          "2015-06-21T21:00:00",
          "2015-06-21T22:00:00",
          "2015-06-21T23:00:00",
          "2015-06-22T00:00:00",
          "2015-06-22T01:00:00",
          "2015-06-22T02:00:00",
          "2015-06-22T03:00:00",
          "2015-06-22T04:00:00",
          "2015-06-22T05:00:00",
          "2015-06-22T06:00:00",
          "2015-06-22T07:00:00",
          "2015-06-22T08:00:00",
          "2015-06-22T09:00:00",
          "2015-06-22T10:00:00",
          "2015-06-22T11:00:00",
          "2015-06-22T12:00:00",
          "2015-06-22T13:00:00",
          "2015-06-22T14:00:00",
          "2015-06-22T15:00:00",
          "2015-06-22T16:00:00",
          "2015-06-22T17:00:00",
          "2015-06-22T18:00:00",
          "2015-06-22T19:00:00",
          "2015-06-22T20:00:00",
          "2015-06-22T21:00:00",
          "2015-06-22T22:00:00",
          "2015-06-22T23:00:00",
          "2015-06-23T00:00:00",
          "2015-06-23T01:00:00",
          "2015-06-23T02:00:00",
          "2015-06-23T03:00:00",
          "2015-06-23T04:00:00",
          "2015-06-23T05:00:00",
          "2015-06-23T06:00:00",
          "2015-06-23T07:00:00",
          "2015-06-23T08:00:00",
          "2015-06-23T09:00:00",
          "2015-06-23T10:00:00",
          "2015-06-23T11:00:00",
          "2015-06-23T12:00:00",
          "2015-06-23T13:00:00",
          "2015-06-23T14:00:00",
          "2015-06-23T15:00:00",
          "2015-06-23T16:00:00",
          "2015-06-23T17:00:00",
          "2015-06-23T18:00:00",
          "2015-06-23T19:00:00",
          "2015-06-23T20:00:00",
          "2015-06-23T21:00:00",
          "2015-06-23T22:00:00",
          "2015-06-23T23:00:00",
          "2015-06-24T00:00:00",
          "2015-06-24T01:00:00",
          "2015-06-24T02:00:00",
          "2015-06-24T03:00:00",
          "2015-06-24T04:00:00",
          "2015-06-24T05:00:00",
          "2015-06-24T06:00:00",
          "2015-06-24T07:00:00",
          "2015-06-24T08:00:00",
          "2015-06-24T09:00:00",
          "2015-06-24T10:00:00",
          "2015-06-24T11:00:00",
          "2015-06-24T12:00:00",
          "2015-06-24T13:00:00",
          "2015-06-24T14:00:00",
          "2015-06-24T15:00:00",
          "2015-06-24T16:00:00",
          "2015-06-24T17:00:00",
          "2015-06-24T18:00:00",
          "2015-06-24T19:00:00",
          "2015-06-24T20:00:00",
          "2015-06-24T21:00:00",
          "2015-06-24T22:00:00",
          "2015-06-24T23:00:00",
          "2015-06-25T00:00:00",
          "2015-06-25T01:00:00",
          "2015-06-25T02:00:00",
          "2015-06-25T03:00:00",
          "2015-06-25T04:00:00",
          "2015-06-25T05:00:00",
          "2015-06-25T06:00:00",
          "2015-06-25T07:00:00",
          "2015-06-25T08:00:00",
          "2015-06-25T09:00:00",
          "2015-06-25T10:00:00",
          "2015-06-25T11:00:00",
          "2015-06-25T12:00:00",
          "2015-06-25T13:00:00",
          "2015-06-25T14:00:00",
          "2015-06-25T15:00:00",
          "2015-06-25T16:00:00",
          "2015-06-25T17:00:00",
          "2015-06-25T18:00:00",
          "2015-06-25T19:00:00",
          "2015-06-25T20:00:00",
          "2015-06-25T21:00:00",
          "2015-06-25T22:00:00",
          "2015-06-25T23:00:00",
          "2015-06-26T00:00:00",
          "2015-06-26T01:00:00",
          "2015-06-26T02:00:00",
          "2015-06-26T03:00:00",
          "2015-06-26T04:00:00",
          "2015-06-26T05:00:00",
          "2015-06-26T06:00:00",
          "2015-06-26T07:00:00",
          "2015-06-26T08:00:00",
          "2015-06-26T09:00:00",
          "2015-06-26T10:00:00",
          "2015-06-26T11:00:00",
          "2015-06-26T12:00:00",
          "2015-06-26T13:00:00",
          "2015-06-26T14:00:00",
          "2015-06-26T15:00:00",
          "2015-06-26T16:00:00",
          "2015-06-26T17:00:00",
          "2015-06-26T18:00:00",
          "2015-06-26T19:00:00",
          "2015-06-26T20:00:00",
          "2015-06-26T21:00:00",
          "2015-06-26T22:00:00",
          "2015-06-26T23:00:00",
          "2015-06-27T00:00:00",
          "2015-06-27T01:00:00",
          "2015-06-27T02:00:00",
          "2015-06-27T03:00:00",
          "2015-06-27T04:00:00",
          "2015-06-27T05:00:00",
          "2015-06-27T06:00:00",
          "2015-06-27T07:00:00",
          "2015-06-27T08:00:00",
          "2015-06-27T09:00:00",
          "2015-06-27T10:00:00",
          "2015-06-27T11:00:00",
          "2015-06-27T12:00:00",
          "2015-06-27T13:00:00",
          "2015-06-27T14:00:00",
          "2015-06-27T15:00:00",
          "2015-06-27T16:00:00",
          "2015-06-27T17:00:00",
          "2015-06-27T18:00:00",
          "2015-06-27T19:00:00",
          "2015-06-27T20:00:00",
          "2015-06-27T21:00:00",
          "2015-06-27T22:00:00",
          "2015-06-27T23:00:00",
          "2015-06-28T00:00:00",
          "2015-06-28T01:00:00",
          "2015-06-28T02:00:00",
          "2015-06-28T03:00:00",
          "2015-06-28T04:00:00",
          "2015-06-28T05:00:00",
          "2015-06-28T06:00:00",
          "2015-06-28T07:00:00",
          "2015-06-28T08:00:00",
          "2015-06-28T09:00:00",
          "2015-06-28T10:00:00",
          "2015-06-28T11:00:00",
          "2015-06-28T12:00:00",
          "2015-06-28T13:00:00",
          "2015-06-28T14:00:00",
          "2015-06-28T15:00:00",
          "2015-06-28T16:00:00",
          "2015-06-28T17:00:00",
          "2015-06-28T18:00:00",
          "2015-06-28T19:00:00",
          "2015-06-28T20:00:00",
          "2015-06-28T21:00:00",
          "2015-06-28T22:00:00",
          "2015-06-28T23:00:00",
          "2015-06-29T00:00:00",
          "2015-06-29T01:00:00",
          "2015-06-29T02:00:00",
          "2015-06-29T03:00:00",
          "2015-06-29T04:00:00",
          "2015-06-29T05:00:00",
          "2015-06-29T06:00:00",
          "2015-06-29T07:00:00",
          "2015-06-29T08:00:00",
          "2015-06-29T09:00:00",
          "2015-06-29T10:00:00",
          "2015-06-29T11:00:00",
          "2015-06-29T12:00:00",
          "2015-06-29T13:00:00",
          "2015-06-29T14:00:00",
          "2015-06-29T15:00:00",
          "2015-06-29T16:00:00",
          "2015-06-29T17:00:00",
          "2015-06-29T18:00:00",
          "2015-06-29T19:00:00",
          "2015-06-29T20:00:00",
          "2015-06-29T21:00:00"
         ],
         "y": [
          31.879468448768893,
          636.6875997153269,
          116.74685316233355,
          41.36945898395856,
          34.288428840628384,
          31.49537720336242,
          31.079300940898236,
          32.4476210577321,
          30.070025075178318,
          29.57813612146484,
          37.42451866206787,
          38.928641569480085,
          60.131344425549315,
          33.75664436114357,
          32.83943346811064,
          31.04915260336609,
          32.39886467734201,
          32.15737853741621,
          32.85031915409796,
          37.617077584058094,
          40.576214560435865,
          38.82465232951248,
          31.192127515037235,
          32.084267960008134,
          30.365867163732787,
          182.37197783112052,
          41.30908702046757,
          40.94739894525472,
          39.293879452396084,
          48.60079394594436,
          31.7159932896133,
          31.418727277926493,
          31.633520600499477,
          30.875782538196773,
          31.44369869436919,
          31.010123249442046,
          34.32100395009717,
          222.51882847984476,
          37.7658208074239,
          36.71154237247913,
          30.734613124742875,
          31.833559335885475,
          31.884569583886716,
          31.892831456482703,
          30.990031154315695,
          32.35053785323845,
          32.028787845194245,
          37.04584354225341,
          39.34390003335313,
          982.0315747635012,
          217.42581047779635,
          95.08920342096297,
          33.81380417081272,
          32.85555563317705,
          290.7383851526635,
          206.330994931189,
          419.73352732300225,
          33.41912937266003,
          33.91623188793605,
          32.46858175660679,
          30.685900708937773,
          45.90956729476647,
          75.9384650154316,
          32.69913900174488,
          30.727090186939968,
          30.679569116568143,
          31.05654889246954,
          31.197496754357335,
          32.37660646656673,
          34.43076556720565,
          39.50695105318693,
          38.91426734610287,
          32.15963206143432,
          33.16032012498123,
          270.81199442625154,
          112.6817085021629,
          96.81507123230799,
          39.77292473747692,
          32.32253279117558,
          25.08679362534921,
          30.00446639313007,
          39.079720798142844,
          39.20661435745865,
          37.20333480063023,
          33.51810204227887,
          270.2971071541985,
          44.096374688479884,
          35.72418579049655,
          37.24680593489893,
          38.454444397026826,
          37.55298786229409,
          23.19556852538844,
          27.409230419452946,
          38.76629436812934,
          43.513131326400206,
          398.7986171171686,
          275.26900395830114,
          171.84849913886393,
          21.648095858903247,
          32.35393504215275,
          31.47852872419537,
          34.02642033583004,
          27.355591334099206,
          14.700921980547454,
          25.250063013691676,
          31.254156207173295,
          30.937080594891366,
          31.662449986195863,
          26.636068909943198,
          15.274941081632038,
          26.106135947458817,
          31.3187323475065,
          31.083638672663444,
          31.055011844713402,
          21.780934285204072,
          15.44215160959211,
          28.556639399576145,
          30.64142654604625,
          31.57142586339207,
          32.66870660393017,
          26.016425040337552,
          17.124330043210794,
          26.55151041659374,
          32.40551901392676,
          32.596951775873876,
          31.954680757596744,
          32.901367145957074,
          18.575040388145272,
          17.091769714709866,
          31.317994227812356,
          31.27692907756642,
          32.861121304051544,
          31.069080804489,
          20.981200449177596,
          14.071233224447557,
          29.775440239170138,
          30.253698035424424,
          30.97025125066332,
          26.813396514006328,
          25.911188082685673,
          17.00054404508595,
          24.639826387902023,
          32.73348749273533,
          32.09481151327995,
          28.197719174151878,
          31.992169053362527,
          18.687991469821263,
          16.88099474551034,
          82.55137108018445,
          65.24662063752808,
          29.591376312058237,
          27.18835596237671,
          25.861423008879896,
          11.437071538393862,
          19.04084165117811,
          28.90221303134071,
          26.014916531648257,
          225.05726155549345,
          26.52747751888103,
          55.63454311740344,
          17.76358858736341,
          28.698198335684694,
          28.754781680196107,
          27.592729654591686,
          30.66307130660538,
          15.146997017210658,
          15.001075853395461,
          27.725862620392707,
          30.43055270390754,
          28.710300003061107,
          55.81530766530851,
          29.497585600398335,
          87.64895944042654,
          30.280970957981587,
          28.815549332403837,
          28.52222170213946,
          20.608267133680638,
          17.36755737954776,
          23.746066649920785,
          29.394560511211054,
          29.252986978226613,
          88.18681668630624,
          79.67672004654935,
          19.667791655081036,
          30.217018244389575,
          34.5692271709288,
          36.35910317951617,
          35.77500134574764,
          26.230629008850542,
          20.745926003409174,
          37.73929844590886,
          37.42723476608364,
          39.770222356237596,
          31.349388241876934,
          18.36912020415646,
          33.2056263765238,
          39.460117105376,
          56.00897316401796,
          36.08808473114498,
          23.344256423342028,
          24.904578375737536,
          35.07499784257606,
          36.54647179022179,
          35.83493322026977,
          29.175680530271496,
          175.85546238349016,
          19.93701269497987,
          27.196609032028363,
          43.374031020237815,
          423.760888269878,
          418.12823287924937,
          11.426544187516473,
          26.278917488903627,
          31.360166358233062,
          31.590786899003703,
          32.37483838253229,
          21.872136343567295,
          980.8463336985654,
          179.15662629114536,
          42.94306472479965,
          39.711261626376675,
          36.73249963648817,
          31.03359477066387,
          35.563568593290846,
          22.266788298518378,
          22.713841620884207,
          34.193730533510774,
          36.535769170979606,
          34.77552935842864,
          88.64356437534587,
          34.972199377686266,
          57.476724449224356,
          28.020774531172776,
          42.97639841577585,
          410.83455060292454,
          413.3388940637737,
          37.43998176474533,
          38.164061945593794,
          36.53068986461154,
          38.32495826071665,
          33.88020101986402,
          26.63951190667186,
          584.6253821964252,
          81.25249742860552,
          69.7052115819594,
          48.30124881238708,
          31.52128989939981,
          36.34710138296794,
          34.27979885993632,
          32.00399545728381,
          35.251547301045264,
          29.84007305263604,
          18.761113523100253,
          151.729245451939,
          33.40103722528167,
          35.253310979712005,
          33.98465159298601,
          33.11375634583715,
          21.833988793971056,
          22.358409778970337,
          34.64561467479008,
          35.05467559803993,
          45.43679910508038,
          83.61112417556417,
          80.94163337911405,
          41.749169524177965,
          66.94480066106492,
          30.867200627861045,
          62.04141537933926,
          55.096874347091216,
          55.65218456800028,
          45.84500609084871,
          65.25588973089367,
          63.651958414281786,
          51.658674835419696,
          48.88095712172622,
          47.19723389649972,
          47.255241785211346,
          56.193107799603176,
          148.24177215943985,
          198.3686653446763,
          552.6206654587128,
          440.39750627496767,
          21.81504835737663,
          49.939139887523105,
          57.80683004271849,
          32.61050015885626,
          19.20382900611642,
          43.89649067686458,
          48.25827738580193,
          72.62053352177344,
          49.47873874338006,
          501.0401953549129,
          415.38742988376083,
          57.95357420253107,
          41.77612072183506,
          47.914688837736726,
          34.24078578174381,
          17.23015639244276,
          45.0210494154478,
          40.70533791964442,
          15.264568595292744,
          164.25033850139158,
          59.03562383845654,
          70.6152851343834,
          461.78562107917327,
          386.796514989085,
          58.63981577538554,
          62.79297043970228,
          35.775550208124585,
          47.98697162434958,
          60.146966689683914,
          49.438540666256216,
          31.78847781959267,
          60.24666381694566,
          56.90798012059869,
          76.87050888451692,
          25.797379406865364,
          40.51321826773623,
          31.693448302328157,
          7.62639682816209,
          37.348275394094735,
          36.03748490259265,
          2.202961924146257,
          36.26782334299226,
          210.8207987546509,
          99.65570278086848,
          24.201862531423156,
          39.05318804619671,
          379.96686689348877,
          431.1046764126614,
          72.24542419333874,
          26.860043945137736,
          18.72656284368584,
          41.25571216933681,
          27.044779357760532,
          24.435389683901445,
          80.59158159295409,
          52.4208144982939,
          46.18945317092992,
          58.69789198774297,
          68.69462469294002
         ]
        }
       ],
       "layout": {
        "template": {
         "data": {
          "bar": [
           {
            "error_x": {
             "color": "#2a3f5f"
            },
            "error_y": {
             "color": "#2a3f5f"
            },
            "marker": {
             "line": {
              "color": "#E5ECF6",
              "width": 0.5
             },
             "pattern": {
              "fillmode": "overlay",
              "size": 10,
              "solidity": 0.2
             }
            },
            "type": "bar"
           }
          ],
          "barpolar": [
           {
            "marker": {
             "line": {
              "color": "#E5ECF6",
              "width": 0.5
             },
             "pattern": {
              "fillmode": "overlay",
              "size": 10,
              "solidity": 0.2
             }
            },
            "type": "barpolar"
           }
          ],
          "carpet": [
           {
            "aaxis": {
             "endlinecolor": "#2a3f5f",
             "gridcolor": "white",
             "linecolor": "white",
             "minorgridcolor": "white",
             "startlinecolor": "#2a3f5f"
            },
            "baxis": {
             "endlinecolor": "#2a3f5f",
             "gridcolor": "white",
             "linecolor": "white",
             "minorgridcolor": "white",
             "startlinecolor": "#2a3f5f"
            },
            "type": "carpet"
           }
          ],
          "choropleth": [
           {
            "colorbar": {
             "outlinewidth": 0,
             "ticks": ""
            },
            "type": "choropleth"
           }
          ],
          "contour": [
           {
            "colorbar": {
             "outlinewidth": 0,
             "ticks": ""
            },
            "colorscale": [
             [
              0,
              "#0d0887"
             ],
             [
              0.1111111111111111,
              "#46039f"
             ],
             [
              0.2222222222222222,
              "#7201a8"
             ],
             [
              0.3333333333333333,
              "#9c179e"
             ],
             [
              0.4444444444444444,
              "#bd3786"
             ],
             [
              0.5555555555555556,
              "#d8576b"
             ],
             [
              0.6666666666666666,
              "#ed7953"
             ],
             [
              0.7777777777777778,
              "#fb9f3a"
             ],
             [
              0.8888888888888888,
              "#fdca26"
             ],
             [
              1,
              "#f0f921"
             ]
            ],
            "type": "contour"
           }
          ],
          "contourcarpet": [
           {
            "colorbar": {
             "outlinewidth": 0,
             "ticks": ""
            },
            "type": "contourcarpet"
           }
          ],
          "heatmap": [
           {
            "colorbar": {
             "outlinewidth": 0,
             "ticks": ""
            },
            "colorscale": [
             [
              0,
              "#0d0887"
             ],
             [
              0.1111111111111111,
              "#46039f"
             ],
             [
              0.2222222222222222,
              "#7201a8"
             ],
             [
              0.3333333333333333,
              "#9c179e"
             ],
             [
              0.4444444444444444,
              "#bd3786"
             ],
             [
              0.5555555555555556,
              "#d8576b"
             ],
             [
              0.6666666666666666,
              "#ed7953"
             ],
             [
              0.7777777777777778,
              "#fb9f3a"
             ],
             [
              0.8888888888888888,
              "#fdca26"
             ],
             [
              1,
              "#f0f921"
             ]
            ],
            "type": "heatmap"
           }
          ],
          "heatmapgl": [
           {
            "colorbar": {
             "outlinewidth": 0,
             "ticks": ""
            },
            "colorscale": [
             [
              0,
              "#0d0887"
             ],
             [
              0.1111111111111111,
              "#46039f"
             ],
             [
              0.2222222222222222,
              "#7201a8"
             ],
             [
              0.3333333333333333,
              "#9c179e"
             ],
             [
              0.4444444444444444,
              "#bd3786"
             ],
             [
              0.5555555555555556,
              "#d8576b"
             ],
             [
              0.6666666666666666,
              "#ed7953"
             ],
             [
              0.7777777777777778,
              "#fb9f3a"
             ],
             [
              0.8888888888888888,
              "#fdca26"
             ],
             [
              1,
              "#f0f921"
             ]
            ],
            "type": "heatmapgl"
           }
          ],
          "histogram": [
           {
            "marker": {
             "pattern": {
              "fillmode": "overlay",
              "size": 10,
              "solidity": 0.2
             }
            },
            "type": "histogram"
           }
          ],
          "histogram2d": [
           {
            "colorbar": {
             "outlinewidth": 0,
             "ticks": ""
            },
            "colorscale": [
             [
              0,
              "#0d0887"
             ],
             [
              0.1111111111111111,
              "#46039f"
             ],
             [
              0.2222222222222222,
              "#7201a8"
             ],
             [
              0.3333333333333333,
              "#9c179e"
             ],
             [
              0.4444444444444444,
              "#bd3786"
             ],
             [
              0.5555555555555556,
              "#d8576b"
             ],
             [
              0.6666666666666666,
              "#ed7953"
             ],
             [
              0.7777777777777778,
              "#fb9f3a"
             ],
             [
              0.8888888888888888,
              "#fdca26"
             ],
             [
              1,
              "#f0f921"
             ]
            ],
            "type": "histogram2d"
           }
          ],
          "histogram2dcontour": [
           {
            "colorbar": {
             "outlinewidth": 0,
             "ticks": ""
            },
            "colorscale": [
             [
              0,
              "#0d0887"
             ],
             [
              0.1111111111111111,
              "#46039f"
             ],
             [
              0.2222222222222222,
              "#7201a8"
             ],
             [
              0.3333333333333333,
              "#9c179e"
             ],
             [
              0.4444444444444444,
              "#bd3786"
             ],
             [
              0.5555555555555556,
              "#d8576b"
             ],
             [
              0.6666666666666666,
              "#ed7953"
             ],
             [
              0.7777777777777778,
              "#fb9f3a"
             ],
             [
              0.8888888888888888,
              "#fdca26"
             ],
             [
              1,
              "#f0f921"
             ]
            ],
            "type": "histogram2dcontour"
           }
          ],
          "mesh3d": [
           {
            "colorbar": {
             "outlinewidth": 0,
             "ticks": ""
            },
            "type": "mesh3d"
           }
          ],
          "parcoords": [
           {
            "line": {
             "colorbar": {
              "outlinewidth": 0,
              "ticks": ""
             }
            },
            "type": "parcoords"
           }
          ],
          "pie": [
           {
            "automargin": true,
            "type": "pie"
           }
          ],
          "scatter": [
           {
            "fillpattern": {
             "fillmode": "overlay",
             "size": 10,
             "solidity": 0.2
            },
            "type": "scatter"
           }
          ],
          "scatter3d": [
           {
            "line": {
             "colorbar": {
              "outlinewidth": 0,
              "ticks": ""
             }
            },
            "marker": {
             "colorbar": {
              "outlinewidth": 0,
              "ticks": ""
             }
            },
            "type": "scatter3d"
           }
          ],
          "scattercarpet": [
           {
            "marker": {
             "colorbar": {
              "outlinewidth": 0,
              "ticks": ""
             }
            },
            "type": "scattercarpet"
           }
          ],
          "scattergeo": [
           {
            "marker": {
             "colorbar": {
              "outlinewidth": 0,
              "ticks": ""
             }
            },
            "type": "scattergeo"
           }
          ],
          "scattergl": [
           {
            "marker": {
             "colorbar": {
              "outlinewidth": 0,
              "ticks": ""
             }
            },
            "type": "scattergl"
           }
          ],
          "scattermapbox": [
           {
            "marker": {
             "colorbar": {
              "outlinewidth": 0,
              "ticks": ""
             }
            },
            "type": "scattermapbox"
           }
          ],
          "scatterpolar": [
           {
            "marker": {
             "colorbar": {
              "outlinewidth": 0,
              "ticks": ""
             }
            },
            "type": "scatterpolar"
           }
          ],
          "scatterpolargl": [
           {
            "marker": {
             "colorbar": {
              "outlinewidth": 0,
              "ticks": ""
             }
            },
            "type": "scatterpolargl"
           }
          ],
          "scatterternary": [
           {
            "marker": {
             "colorbar": {
              "outlinewidth": 0,
              "ticks": ""
             }
            },
            "type": "scatterternary"
           }
          ],
          "surface": [
           {
            "colorbar": {
             "outlinewidth": 0,
             "ticks": ""
            },
            "colorscale": [
             [
              0,
              "#0d0887"
             ],
             [
              0.1111111111111111,
              "#46039f"
             ],
             [
              0.2222222222222222,
              "#7201a8"
             ],
             [
              0.3333333333333333,
              "#9c179e"
             ],
             [
              0.4444444444444444,
              "#bd3786"
             ],
             [
              0.5555555555555556,
              "#d8576b"
             ],
             [
              0.6666666666666666,
              "#ed7953"
             ],
             [
              0.7777777777777778,
              "#fb9f3a"
             ],
             [
              0.8888888888888888,
              "#fdca26"
             ],
             [
              1,
              "#f0f921"
             ]
            ],
            "type": "surface"
           }
          ],
          "table": [
           {
            "cells": {
             "fill": {
              "color": "#EBF0F8"
             },
             "line": {
              "color": "white"
             }
            },
            "header": {
             "fill": {
              "color": "#C8D4E3"
             },
             "line": {
              "color": "white"
             }
            },
            "type": "table"
           }
          ]
         },
         "layout": {
          "annotationdefaults": {
           "arrowcolor": "#2a3f5f",
           "arrowhead": 0,
           "arrowwidth": 1
          },
          "autotypenumbers": "strict",
          "coloraxis": {
           "colorbar": {
            "outlinewidth": 0,
            "ticks": ""
           }
          },
          "colorscale": {
           "diverging": [
            [
             0,
             "#8e0152"
            ],
            [
             0.1,
             "#c51b7d"
            ],
            [
             0.2,
             "#de77ae"
            ],
            [
             0.3,
             "#f1b6da"
            ],
            [
             0.4,
             "#fde0ef"
            ],
            [
             0.5,
             "#f7f7f7"
            ],
            [
             0.6,
             "#e6f5d0"
            ],
            [
             0.7,
             "#b8e186"
            ],
            [
             0.8,
             "#7fbc41"
            ],
            [
             0.9,
             "#4d9221"
            ],
            [
             1,
             "#276419"
            ]
           ],
           "sequential": [
            [
             0,
             "#0d0887"
            ],
            [
             0.1111111111111111,
             "#46039f"
            ],
            [
             0.2222222222222222,
             "#7201a8"
            ],
            [
             0.3333333333333333,
             "#9c179e"
            ],
            [
             0.4444444444444444,
             "#bd3786"
            ],
            [
             0.5555555555555556,
             "#d8576b"
            ],
            [
             0.6666666666666666,
             "#ed7953"
            ],
            [
             0.7777777777777778,
             "#fb9f3a"
            ],
            [
             0.8888888888888888,
             "#fdca26"
            ],
            [
             1,
             "#f0f921"
            ]
           ],
           "sequentialminus": [
            [
             0,
             "#0d0887"
            ],
            [
             0.1111111111111111,
             "#46039f"
            ],
            [
             0.2222222222222222,
             "#7201a8"
            ],
            [
             0.3333333333333333,
             "#9c179e"
            ],
            [
             0.4444444444444444,
             "#bd3786"
            ],
            [
             0.5555555555555556,
             "#d8576b"
            ],
            [
             0.6666666666666666,
             "#ed7953"
            ],
            [
             0.7777777777777778,
             "#fb9f3a"
            ],
            [
             0.8888888888888888,
             "#fdca26"
            ],
            [
             1,
             "#f0f921"
            ]
           ]
          },
          "colorway": [
           "#636efa",
           "#EF553B",
           "#00cc96",
           "#ab63fa",
           "#FFA15A",
           "#19d3f3",
           "#FF6692",
           "#B6E880",
           "#FF97FF",
           "#FECB52"
          ],
          "font": {
           "color": "#2a3f5f"
          },
          "geo": {
           "bgcolor": "white",
           "lakecolor": "white",
           "landcolor": "#E5ECF6",
           "showlakes": true,
           "showland": true,
           "subunitcolor": "white"
          },
          "hoverlabel": {
           "align": "left"
          },
          "hovermode": "closest",
          "mapbox": {
           "style": "light"
          },
          "paper_bgcolor": "white",
          "plot_bgcolor": "#E5ECF6",
          "polar": {
           "angularaxis": {
            "gridcolor": "white",
            "linecolor": "white",
            "ticks": ""
           },
           "bgcolor": "#E5ECF6",
           "radialaxis": {
            "gridcolor": "white",
            "linecolor": "white",
            "ticks": ""
           }
          },
          "scene": {
           "xaxis": {
            "backgroundcolor": "#E5ECF6",
            "gridcolor": "white",
            "gridwidth": 2,
            "linecolor": "white",
            "showbackground": true,
            "ticks": "",
            "zerolinecolor": "white"
           },
           "yaxis": {
            "backgroundcolor": "#E5ECF6",
            "gridcolor": "white",
            "gridwidth": 2,
            "linecolor": "white",
            "showbackground": true,
            "ticks": "",
            "zerolinecolor": "white"
           },
           "zaxis": {
            "backgroundcolor": "#E5ECF6",
            "gridcolor": "white",
            "gridwidth": 2,
            "linecolor": "white",
            "showbackground": true,
            "ticks": "",
            "zerolinecolor": "white"
           }
          },
          "shapedefaults": {
           "line": {
            "color": "#2a3f5f"
           }
          },
          "ternary": {
           "aaxis": {
            "gridcolor": "white",
            "linecolor": "white",
            "ticks": ""
           },
           "baxis": {
            "gridcolor": "white",
            "linecolor": "white",
            "ticks": ""
           },
           "bgcolor": "#E5ECF6",
           "caxis": {
            "gridcolor": "white",
            "linecolor": "white",
            "ticks": ""
           }
          },
          "title": {
           "x": 0.05
          },
          "xaxis": {
           "automargin": true,
           "gridcolor": "white",
           "linecolor": "white",
           "ticks": "",
           "title": {
            "standoff": 15
           },
           "zerolinecolor": "white",
           "zerolinewidth": 2
          },
          "yaxis": {
           "automargin": true,
           "gridcolor": "white",
           "linecolor": "white",
           "ticks": "",
           "title": {
            "standoff": 15
           },
           "zerolinecolor": "white",
           "zerolinewidth": 2
          }
         }
        },
        "title": {
         "text": "Actual vs Predicted"
        },
        "xaxis": {
         "title": {
          "text": "Date"
         }
        },
        "yaxis": {
         "title": {
          "text": "Value"
         }
        }
       }
      }
     },
     "metadata": {},
     "output_type": "display_data"
    }
   ],
   "source": [
    "import plotly.graph_objects as go\n",
    "\n",
    "# Assuming you have imported and prepared your input series appropriately\n",
    "\n",
    "# Load the XGBoost model from the saved file\n",
    "model_loaded = XGBModel.load(\"xgbModel.pkl\")\n",
    "\n",
    "# Make predictions using the loaded model\n",
    "predicted = model_loaded.predict(342, series=input)\n",
    "predicted = predicted.pd_dataframe().reset_index()\n",
    "# Create the trace for predicted values\n",
    "predicted_trace = go.Scatter(\n",
    "    x=predicted['Timestamp'],\n",
    "    y=predicted['Summe'],\n",
    "    mode='lines',\n",
    "    name='Predicted'\n",
    ")\n",
    "actual_to = actual.pd_dataframe().reset_index()\n",
    "# Create the trace for actual values\n",
    "actual_trace = go.Scatter(\n",
    "    x=actual_to['Timestamp'],\n",
    "    y=actual_to['Summe'],\n",
    "    mode='lines',\n",
    "    name='Actual'\n",
    ")\n",
    "\n",
    "# Create the layout for the plot\n",
    "layout = go.Layout(\n",
    "    title='Actual vs Predicted',\n",
    "    xaxis=dict(title='Date'),\n",
    "    yaxis=dict(title='Value')\n",
    ")\n",
    "\n",
    "# Create the figure object\n",
    "fig = go.Figure(data=[predicted_trace, actual_trace], layout=layout)\n",
    "\n",
    "fig.show()"
   ]
  },
  {
   "cell_type": "code",
   "execution_count": 14,
   "metadata": {},
   "outputs": [
    {
     "data": {
      "image/png": "[encoded data removed]",
      "text/plain": [
       "<Figure size 640x480 with 1 Axes>"
      ]
     },
     "metadata": {},
     "output_type": "display_data"
    }
   ],
   "source": [
    "\n",
    "# forecast = model.predict(Horizan)\n",
    "predictions_xgb = xbg_model.predict(10)\n",
    "predictions_xgb.plot()"
   ]
  },
  {
   "cell_type": "code",
   "execution_count": null,
   "metadata": {},
   "outputs": [],
   "source": [
    "\n",
    "\n",
    "# Convert train_series into a pandas dataframe and reset index\n",
    "df_train = train_hour_ts.pd_dataframe().reset_index()\n",
    "\n",
    "# Convert test_series into a pandas dataframe and reset index\n",
    "df_test = test_hour_ts.pd_dataframe().reset_index()\n",
    "\n",
    "# Convert prediction into a pandas dataframe and reset index\n",
    "forecast_xgb_tm = predictions_xgb.pd_dataframe().reset_index()\n",
    "\n",
    "\n",
    "x_feature_tm ='Timestamp' \n",
    "y_feature_tm ='Summe'\n",
    "model_name =f'Using XGBModel'\n",
    "\n",
    "train_test_predicted_plot(\n",
    "                        df_train,\n",
    "                        df_test,\n",
    "                        x_feature_tm,\n",
    "                        y_feature_tm,\n",
    "                        forecast_xgb_tm,\n",
    "                        model_name)\n",
    "     "
   ]
  },
  {
   "cell_type": "code",
   "execution_count": 61,
   "metadata": {},
   "outputs": [
    {
     "name": "stdout",
     "output_type": "stream",
     "text": [
      "MAE : 73.0079095028563 RMSE 120.8385081519661 MSE 14601.945052392777 MAPE 184.52644841719405\n"
     ]
    }
   ],
   "source": [
    "test_mae , test_rmse , test_mse,test_mape = calculate_errors(forecast_xgb_tm['Summe'] ,df_test['Summe'])\n",
    "\n",
    "print(f\"MAE : {test_mae} RMSE {test_rmse} MSE {test_mse} MAPE {test_mape}\")"
   ]
  },
  {
   "cell_type": "code",
   "execution_count": null,
   "metadata": {},
   "outputs": [],
   "source": [
    "def time_series_models(train_ts,test_ts,Horizan,model_name):\n",
    "    \n",
    "    if model_name=='XGBMODEL':\n",
    "        xbg_model =  XGBModel(lags=200, \n",
    "                #   lags_past_covariates=, \n",
    "                #   lags_future_covariates=None, \n",
    "                output_chunk_length=30,\n",
    "                likelihood=None, \n",
    "                quantiles=None, \n",
    "                random_state=32,\n",
    "                multi_models=True)\n",
    "\n",
    "\n",
    "        #  Fit the model to your training data\n",
    "        xbg_model.fit(train_ts)\n",
    "\n",
    "        # forecast = model.predict(Horizan)\n",
    "        predictions_xgb = xbg_model.predict(Horizan)\n",
    "\n",
    "        # Convert train_series into a pandas dataframe and reset index\n",
    "        df_train = train_ts.pd_dataframe().reset_index()\n",
    "\n",
    "        # Convert test_series into a pandas dataframe and reset index\n",
    "        df_test = test_ts.pd_dataframe().reset_index()\n",
    "\n",
    "        # Convert prediction into a pandas dataframe and reset index\n",
    "        forecast_xgb_tm = predictions_xgb.pd_dataframe().reset_index()\n",
    "\n",
    "\n",
    "        x_feature_tm ='Timestamp' \n",
    "        y_feature_tm ='Summe'\n",
    "        model_name =f'Using XGBModel  Model : The Error Mape Value :  {mape(test_day_ts,predictions_xgb)}'\n",
    "\n",
    "        train_test_predicted_plot(\n",
    "                                df_train,\n",
    "                                df_test,\n",
    "                                x_feature_tm,\n",
    "                                y_feature_tm,\n",
    "                                forecast_xgb_tm,\n",
    "                                model_name)\n",
    "    elif model_name=='ARIMA':\n",
    "                \n",
    "        # these parameters has been found using correlation plot and partial correlation plots\n",
    "        # i added the description there please read that paragraph # and we can also test \n",
    "        # other order by try and test method\n",
    "        # p: The order of the auto-regressive (AR) model (i.e., the number of lag observations). A time series is considered AR when previous values in the time series are very predictive of later values.\n",
    "\n",
    "        # d: The degree of differencing.\n",
    "\n",
    "        # q: The order of the moving average (MA) model. This is essentially the size of the “window” function over your time series data.\n",
    "        arima_model =  ARIMA(p= 1, #, for Auto regressive parameter\n",
    "                            d=1  , # for difference to make the data is statioanry\n",
    "                            q = 2 ,  # for the moving Average,\n",
    "                            seasonal_order=(1, 1, 2, 11),\n",
    "\n",
    "                            )\n",
    "        arima_model.fit(train_ts)\n",
    "\n",
    "\n",
    "        predictions = arima_model.predict(Horizan)\n",
    "\n",
    "        # Convert train_series into a pandas dataframe and reset index\n",
    "        df_train = train_ts.pd_dataframe().reset_index()\n",
    "\n",
    "        # Convert test_series into a pandas dataframe and reset index\n",
    "        df_test = test_ts.pd_dataframe().reset_index()\n",
    "\n",
    "        # Convert prediction into a pandas dataframe and reset index\n",
    "        forecast = predictions.pd_dataframe().reset_index()\n",
    "\n",
    "\n",
    "        x_feature ='Timestamp' \n",
    "        y_feature='Summe'\n",
    "        model_name =f'Using ARIMA Model : The Error Mape Value :  {mape(test_ts,predictions)}'\n",
    "        train_test_predicted_plot(df_train,df_test,x_feature,y_feature,forecast,model_name)\n",
    "    elif model_name=='FACEBOOKPROPHET':\n",
    "        \n",
    "        # Create a Prophet model object\n",
    "        prophet_model = Prophet( seasonality_mode=   'multiplicative',#    'additive' ,#  'multiplicative',\n",
    "                        \n",
    "            changepoint_prior_scale=0.1,\n",
    "            holidays_prior_scale=0.2,\n",
    "            seasonality_prior_scale=12,\n",
    "            changepoint_range=0.8,\n",
    "            yearly_seasonality=True,\n",
    "            weekly_seasonality=True,\n",
    "            daily_seasonality=True,\n",
    "\n",
    "        )\n",
    "\n",
    "        # Fit the model to your training data\n",
    "        prophet_model.fit(train_ts)\n",
    "\n",
    "        # forecast = model.predict(Horizan)\n",
    "        predictions_prophet = prophet_model.predict(Horizan)\n",
    "\n",
    "\n",
    "        # Convert train_series into a pandas dataframe and reset index\n",
    "        df_train = train_ts.pd_dataframe().reset_index()\n",
    "\n",
    "        # Convert test_series into a pandas dataframe and reset index\n",
    "        df_test = test_ts.pd_dataframe().reset_index()\n",
    "\n",
    "        # Convert prediction into a pandas dataframe and reset index\n",
    "        forecast_fbPro = predictions_prophet.pd_dataframe().reset_index()\n",
    "\n",
    "\n",
    "        x_feature_tm ='Timestamp' \n",
    "        y_feature_tm ='Summe'\n",
    "        model_name =f'Using Prophet  Model : The Error Mape Value :  {mape(test_ts,predictions_prophet)}'\n",
    "        # model_name =f'Using Prophet  Model : The Error Mape Value :  '\n",
    "\n",
    "        train_test_predicted_plot(\n",
    "                                df_train,\n",
    "                                df_test,\n",
    "                                x_feature_tm,\n",
    "                                y_feature_tm,\n",
    "                                forecast_fbPro,\n",
    "                                model_name)\n",
    "    elif model_name=='RNN_LSTM':\n",
    "        my_stopper = EarlyStopping(\n",
    "        monitor=\"val_loss\",\n",
    "        patience=5,\n",
    "        min_delta=0.05,\n",
    "        mode='min',\n",
    "    )\n",
    "        rnn_model = RNNModel(input_chunk_length=30, \n",
    "                            model='LSTM', \n",
    "                            hidden_dim=100, \n",
    "                            n_rnn_layers=100, \n",
    "                            dropout=0.0, \n",
    "                            training_length=24,\n",
    "                            loss_fn = torch.nn.MSELoss(),\n",
    "                            optimizer_cls = torch.optim.Adam,\n",
    "                            optimizer_kwargs = {'lr': 1e-3},\n",
    "                            batch_size=32,\n",
    "                            n_epochs = 100,\n",
    "                            pl_trainer_kwargs={\"callbacks\": [my_stopper]},\n",
    "                            log_tensorboard=True,\n",
    "                            save_checkpoints=True\n",
    "\n",
    "                            \n",
    "                            )\n",
    "\n",
    "\n",
    "\n",
    "        # Fit the model to your training data\n",
    "        rnn_model.fit(train_ts,val_series=test_ts)\n",
    "\n",
    "        # forecast = model.predict(Horizan)\n",
    "        predictions_rnn = rnn_model.predict(Horizan)\n",
    "\n",
    "\n",
    "        # Convert train_series into a pandas dataframe and reset index\n",
    "        df_train = train_ts.pd_dataframe().reset_index()\n",
    "\n",
    "        # Convert test_series into a pandas dataframe and reset index\n",
    "        df_test = test_ts.pd_dataframe().reset_index()\n",
    "\n",
    "        # Convert prediction into a pandas dataframe and reset index\n",
    "        forecast_fbPro = predictions_rnn.pd_dataframe().reset_index()\n",
    "\n",
    "\n",
    "        x_feature_tm ='Timestamp' \n",
    "        y_feature_tm ='Summe'\n",
    "        model_name =f'Using RNN-LSTM Model : The Error Mape Value :  {mape(test_ts,predictions_rnn)}'\n",
    "        # model_name =f'Using Prophet  Model : The Error Mape Value :  '\n",
    "\n",
    "        train_test_predicted_plot(\n",
    "                                df_train,\n",
    "                                df_test,\n",
    "                                x_feature_tm,\n",
    "                                y_feature_tm,\n",
    "                                forecast_fbPro,\n",
    "                                model_name)\n",
    "\n",
    "\n",
    "     \n",
    "train_ts = train_hour_ts\n",
    "test_ts = test_hour_ts\n",
    "model_name =  'RNN_LSTM'  \n",
    "time_series_models(train_ts,test_ts,Horizan,model_name)\n",
    "      "
   ]
  },
  {
   "cell_type": "code",
   "execution_count": null,
   "metadata": {},
   "outputs": [],
   "source": [
    "train_ts = train_hour_ts\n",
    "test_ts = test_hour_ts"
   ]
  },
  {
   "cell_type": "code",
   "execution_count": null,
   "metadata": {},
   "outputs": [],
   "source": [
    "from darts.models.forecasting.nbeats import NBEATSModel \n",
    "my_stopper = EarlyStopping(\n",
    "      monitor=\"val_loss\",\n",
    "      patience=1,\n",
    "      min_delta=0.05,\n",
    "      mode='min',\n",
    ")\n",
    "nbeat_models = NBEATSModel(input_chunk_length=12, \n",
    "                           output_chunk_length=1, \n",
    "                           generic_architecture=True, \n",
    "                           num_stacks=15, \n",
    "                           num_blocks=1, \n",
    "                           num_layers=10, \n",
    "                           layer_widths=256, \n",
    "                           expansion_coefficient_dim=5, \n",
    "                           trend_polynomial_degree=2, \n",
    "                           dropout=0.0, \n",
    "                           activation='ReLU',\n",
    "                           n_epochs=100,\n",
    "                           log_tensorboard=True,\n",
    "                           save_checkpoints=True,\n",
    "                        pl_trainer_kwargs={\"callbacks\": [my_stopper]},\n",
    ")\n",
    "\n",
    "\n",
    "\n",
    "\n",
    "# Fit the model to your training data\n",
    "nbeat_models.fit(series = train_ts,val_series = test_ts)\n",
    "\n",
    "# forecast = model.predict(Horizan)\n",
    "predictions_nbeats = nbeat_models.predict(Horizan_hour)\n",
    "\n",
    "\n",
    "# Convert train_series into a pandas dataframe and reset index\n",
    "df_train = train_ts.pd_dataframe().reset_index()\n",
    "\n",
    "# Convert test_series into a pandas dataframe and reset index\n",
    "df_test = test_ts.pd_dataframe().reset_index()\n",
    "\n",
    "# Convert prediction into a pandas dataframe and reset index\n",
    "forecast_nbeats = predictions_nbeats.pd_dataframe().reset_index()\n",
    "\n",
    "\n",
    "x_feature_tm ='Timestamp' \n",
    "y_feature_tm ='Summe'\n",
    "model_name =f'Using Nbeats Model : The Error Mape Value :  {mape(test_ts,predictions_nbeats)}'\n",
    "# model_name =f'Using Prophet  Model : The Error Mape Value :  '\n",
    "\n",
    "train_test_predicted_plot(\n",
    "                        df_train,\n",
    "                        df_test,\n",
    "                        x_feature_tm,\n",
    "                        y_feature_tm,\n",
    "                        forecast_nbeats,\n",
    "                        model_name)\n"
   ]
  },
  {
   "cell_type": "code",
   "execution_count": null,
   "metadata": {},
   "outputs": [],
   "source": [
    "train_ts.pd_dataframe().shape"
   ]
  }
 ],
 "metadata": {
  "kernelspec": {
   "display_name": "mini_darts",
   "language": "python",
   "name": "python3"
  },
  "language_info": {
   "codemirror_mode": {
    "name": "ipython",
    "version": 3
   },
   "file_extension": ".py",
   "mimetype": "text/x-python",
   "name": "python",
   "nbconvert_exporter": "python",
   "pygments_lexer": "ipython3",
   "version": "3.9.13"
  },
  "orig_nbformat": 4
 },
 "nbformat": 4,
 "nbformat_minor": 2
}
