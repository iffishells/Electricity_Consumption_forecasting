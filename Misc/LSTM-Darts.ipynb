{
 "cells": [
  {
   "attachments": {},
   "cell_type": "markdown",
   "metadata": {},
   "source": [
    "# Load Libraries"
   ]
  },
  {
   "cell_type": "code",
   "execution_count": 3,
   "metadata": {},
   "outputs": [],
   "source": [
    "# Import necessary libraries\n",
    "import pandas as pd  # Library for data manipulation and analysis\n",
    "import numpy as np  # Library for numerical computing\n",
    "import glob  # Library for file handling\n",
    "import re  # Library for regular expressions\n",
    "from tqdm import tqdm  # Library for creating progress bars\n",
    "\n",
    "import plotly.graph_objects as go  # Library for creating interactive plots\n",
    "\n",
    "# Preprocessing\n",
    "from sklearn import preprocessing  # Library for data preprocessing\n",
    "\n",
    "import matplotlib.pyplot as plt  # Library for basic data visualization\n",
    "import h5py  # Library for handling large datasets\n",
    "import datetime  # Library for date and time operations\n",
    "\n"
   ]
  },
  {
   "attachments": {},
   "cell_type": "markdown",
   "metadata": {},
   "source": [
    "**For preprocessing and modeling**\n",
    "* sklearn.preprocessing is used for data preprocessing tasks, such as scaling or encoding categorical variables.\n",
    "* keras is a deep learning library that provides tools for building and training neural networks.\n",
    "* Sequential is a type of model in Keras that allows stacking layers sequentially.\n",
    "* Dense represents a fully connected layer in a neural network.\n",
    "* Dropout is used for regularization by randomly setting input units to 0 during training to prevent overfitting.\n",
    "* Activation defines the activation function to introduce non-linearity in the neural network.\n",
    "* LSTM is a type of recurrent neural network layer used for sequence modeling.\n",
    "* load_model is used to load pre-trained models.\n",
    "* matplotlib.pyplot is imported as plt for basic data visualization.\n",
    "* h5py is used for handling large datasets stored in the Hierarchical Data Format (HDF5).\n",
    "* datetime is used for handling date and time information.\n",
    "* tensorflow is imported as tf, which is a deep learning library used for various operations."
   ]
  },
  {
   "cell_type": "code",
   "execution_count": 5,
   "metadata": {},
   "outputs": [],
   "source": [
    "# The code defines a function named plot that takes four parameters: df, x_feature_name,\n",
    "# y_feature_name, and title. The function is designed to plot data from a dataframe\n",
    "def plot(df,x_feature_name,y_feature_name,title):\n",
    "    \"\"\"\n",
    "    This function takes two dataframes as input and plots the number of calls per day and per week.\n",
    "\n",
    "    Args:\n",
    "    daily_df (pandas.DataFrame): A dataframe containing daily call data.\n",
    "    weekly_df (pandas.DataFrame): A dataframe containing weekly call data.\n",
    "\n",
    "    Returns:\n",
    "    None\n",
    "    \"\"\"\n",
    "\n",
    "    # A new instance of the go.Figure() class from the plotly.graph_objects library is created. This will be used to create the plot\n",
    "    fig = go.Figure()\n",
    "    # Add a trace for daily calls\n",
    "    # A trace is added to the figure using the go.Scatter() class from plotly.graph_objects. \n",
    "    # It specifies the x and y data for the plot, assigns a name to the trace, \n",
    "    # and sets the mode to display lines and markers.\n",
    "    fig.add_trace(\n",
    "        go.Scatter(\n",
    "            x=df[x_feature_name],\n",
    "            y=df[y_feature_name],\n",
    "            name=y_feature_name,\n",
    "            mode='lines+markers'\n",
    "        ))\n",
    "\n",
    " \n",
    "\n",
    "    # Update xaxis properties\n",
    "    # The x-axis and y-axis titles are updated using the update_xaxes() and update_yaxes() methods of the figure object.\n",
    "    fig.update_xaxes(title_text='Date')\n",
    "\n",
    "    # Update yaxis properties\n",
    "    fig.update_yaxes(title_text=y_feature_name)\n",
    "\n",
    "    # Update title and height\n",
    "    # The layout of the figure is updated using the update_layout() method. The title, height, and width of the plot are set.\n",
    "    fig.update_layout(\n",
    "        title=f'{title}',\n",
    "        height=500,\n",
    "        width=1200\n",
    "    )\n",
    "\n",
    "    # Show the plot\n",
    "    # The plot is displayed using the show() method of the figure object.\n",
    "    fig.show()\n",
    "\n",
    "    # Write the plot to an HTML file\n",
    "    # fig.write_html(f'Visualization/btc.html')\n",
    "# Summary:\n",
    "# The code defines a function plot() that takes in a dataframe (df), x-axis feature name (x_feature_name),\n",
    "# y-axis feature name (y_feature_name), and a title. Inside the function, a plot is created using plotly.graph_objects. \n",
    "# The provided x and y data from the dataframe are added as a trace to the plot. \n",
    "# The x-axis and y-axis titles are updated, along with the plot title, height, and width. \n",
    "# The plot is then displayed using fig.show(). There is an optional commented-out line that suggests writing the plot to an HTML file.\n"
   ]
  },
  {
   "cell_type": "code",
   "execution_count": 6,
   "metadata": {},
   "outputs": [],
   "source": [
    "# The code defines a function named downsample_dataframe that takes in three parameters: df (the DataFrame to be downsampled), \n",
    "# downsampling_frequency (the desired frequency to downsample the DataFrame to), \n",
    "# and fill_method (the method to use for filling missing values).\n",
    "# The function aims to downsample the DataFrame and fill any missing value\n",
    "def downsample_dataframe(df, downsampling_frequency, fill_method='mean'):\n",
    "  \"\"\"\n",
    "  Downsamples a DataFrame and fills missing values.\n",
    "\n",
    "  Args:\n",
    "    df: The DataFrame to downsample.\n",
    "    downsampling_frequency: The frequency to downsample the DataFrame to.\n",
    "    fill_method: The method to use to fill missing values.\n",
    "\n",
    "  Returns:\n",
    "    The downsampled DataFrame.\n",
    "  \"\"\"\n",
    "\n",
    "  # Convert the Timestamp column to a datetime object.\n",
    "  # This line converts the 'Timestamp' column in the DataFrame to a datetime object using the pd.to_datetime() function from the pandas library.\n",
    "  df['Timestamp'] = pd.to_datetime(df['Timestamp'])\n",
    "\n",
    "  # Set the index of the DataFrame to the Timestamp column.\n",
    "  # This line sets the 'Timestamp' column as the index of the DataFrame using the set_index() method\n",
    "  df = df.set_index('Timestamp')\n",
    "\n",
    "  # Fill the missing values.\n",
    "  # This block of code fills the missing values in the DataFrame based on the specified fill_method. \n",
    "  # If fill_method is set to 'mean', the missing values are filled with the mean value of each \n",
    "  # column using the fillna() method and df.mean(). If fill_method is set to 'median', \n",
    "  # he missing values are filled with the median value of each column using df.median(). \n",
    "  # If an invalid fill_method is provided, a ValueError is raised\n",
    "  if fill_method == 'mean':\n",
    "    df = df.fillna(df.mean())\n",
    "  elif fill_method == 'median':\n",
    "    df = df.fillna(df.median())\n",
    "  else:\n",
    "    raise ValueError('Invalid fill_method: {}'.format(fill_method))\n",
    "\n",
    "  # Downsample the DataFrame.\n",
    "  # This line downsamples the DataFrame to the specified downsampling_frequency using the resample() method with \n",
    "  # downsampling_frequency as the argument. The mean() method is then applied to calculate the mean \n",
    "  # value for each downsampled interval. The resulting downsampled DataFrame is returned as the output of the function.\n",
    "  df = df.resample(downsampling_frequency).mean()\n",
    "  return df\n",
    "\n",
    "# Summary:\n",
    "# The code defines a function downsample_dataframe() that takes in a DataFrame, downsampling frequency, \n",
    "# and fill method. The function converts the 'Timestamp' column to a datetime object, sets it as the index, \n",
    "# fills missing values based on the specified fill method (mean or median), and then downsamples the DataFrame \n",
    "# to the desired frequency using the mean value within each downsampled interval. \n",
    "# The resulting downsampled DataFrame is returned as the output of the function\n",
    "\n",
    "\n"
   ]
  },
  {
   "cell_type": "code",
   "execution_count": 7,
   "metadata": {},
   "outputs": [
    {
     "name": "stdout",
     "output_type": "stream",
     "text": [
      "['GreenD_reduced_version_03/greend_dataset_466.csv', 'GreenD_reduced_version_03/greend_dataset_341.csv', 'GreenD_reduced_version_03/greend_dataset_137.csv', 'GreenD_reduced_version_03/greend_dataset_32.csv', 'GreenD_reduced_version_03/greend_dataset_370.csv', 'GreenD_reduced_version_03/greend_dataset_35.csv', 'GreenD_reduced_version_03/greend_dataset_180.csv', 'GreenD_reduced_version_03/greend_dataset_204.csv', 'GreenD_reduced_version_03/greend_dataset_114.csv', 'GreenD_reduced_version_03/greend_dataset_377.csv', 'GreenD_reduced_version_03/greend_dataset_338.csv', 'GreenD_reduced_version_03/greend_dataset_179.csv', 'GreenD_reduced_version_03/greend_dataset_363.csv', 'GreenD_reduced_version_03/greend_dataset_80.csv', 'GreenD_reduced_version_03/greend_dataset_78.csv', 'GreenD_reduced_version_03/greend_dataset_464.csv', 'GreenD_reduced_version_03/greend_dataset_74.csv', 'GreenD_reduced_version_03/greend_dataset_365.csv', 'GreenD_reduced_version_03/greend_dataset_387.csv', 'GreenD_reduced_version_03/greend_dataset_218.csv', 'GreenD_reduced_version_03/greend_dataset_306.csv', 'GreenD_reduced_version_03/greend_dataset_221.csv', 'GreenD_reduced_version_03/greend_dataset_84.csv', 'GreenD_reduced_version_03/greend_dataset_300.csv', 'GreenD_reduced_version_03/greend_dataset_389.csv', 'GreenD_reduced_version_03/greend_dataset_380.csv', 'GreenD_reduced_version_03/greend_dataset_54.csv', 'GreenD_reduced_version_03/greend_dataset_435.csv', 'GreenD_reduced_version_03/greend_dataset_143.csv', 'GreenD_reduced_version_03/greend_dataset_169.csv', 'GreenD_reduced_version_03/greend_dataset_421.csv', 'GreenD_reduced_version_03/greend_dataset_277.csv', 'GreenD_reduced_version_03/greend_dataset_294.csv', 'GreenD_reduced_version_03/greend_dataset_185.csv', 'GreenD_reduced_version_03/greend_dataset_392.csv', 'GreenD_reduced_version_03/greend_dataset_140.csv', 'GreenD_reduced_version_03/greend_dataset_122.csv', 'GreenD_reduced_version_03/greend_dataset_381.csv', 'GreenD_reduced_version_03/greend_dataset_177.csv', 'GreenD_reduced_version_03/greend_dataset_210.csv', 'GreenD_reduced_version_03/greend_dataset_448.csv', 'GreenD_reduced_version_03/greend_dataset_66.csv', 'GreenD_reduced_version_03/greend_dataset_354.csv', 'GreenD_reduced_version_03/greend_dataset_279.csv', 'GreenD_reduced_version_03/greend_dataset_175.csv', 'GreenD_reduced_version_03/greend_dataset_240.csv', 'GreenD_reduced_version_03/greend_dataset_250.csv', 'GreenD_reduced_version_03/greend_dataset_100.csv', 'GreenD_reduced_version_03/greend_dataset_318.csv', 'GreenD_reduced_version_03/greend_dataset_5.csv', 'GreenD_reduced_version_03/greend_dataset_290.csv', 'GreenD_reduced_version_03/greend_dataset_357.csv', 'GreenD_reduced_version_03/greend_dataset_29.csv', 'GreenD_reduced_version_03/greend_dataset_285.csv', 'GreenD_reduced_version_03/greend_dataset_174.csv', 'GreenD_reduced_version_03/greend_dataset_159.csv', 'GreenD_reduced_version_03/greend_dataset_198.csv', 'GreenD_reduced_version_03/greend_dataset_77.csv', 'GreenD_reduced_version_03/greend_dataset_291.csv', 'GreenD_reduced_version_03/greend_dataset_214.csv', 'GreenD_reduced_version_03/greend_dataset_192.csv', 'GreenD_reduced_version_03/greend_dataset_384.csv', 'GreenD_reduced_version_03/greend_dataset_437.csv', 'GreenD_reduced_version_03/greend_dataset_324.csv', 'GreenD_reduced_version_03/greend_dataset_99.csv', 'GreenD_reduced_version_03/greend_dataset_274.csv', 'GreenD_reduced_version_03/greend_dataset_311.csv', 'GreenD_reduced_version_03/greend_dataset_145.csv', 'GreenD_reduced_version_03/greend_dataset_101.csv', 'GreenD_reduced_version_03/greend_dataset_454.csv', 'GreenD_reduced_version_03/greend_dataset_158.csv', 'GreenD_reduced_version_03/greend_dataset_393.csv', 'GreenD_reduced_version_03/greend_dataset_266.csv', 'GreenD_reduced_version_03/greend_dataset_405.csv', 'GreenD_reduced_version_03/greend_dataset_148.csv', 'GreenD_reduced_version_03/greend_dataset_196.csv', 'GreenD_reduced_version_03/greend_dataset_27.csv', 'GreenD_reduced_version_03/greend_dataset_305.csv', 'GreenD_reduced_version_03/greend_dataset_282.csv', 'GreenD_reduced_version_03/greend_dataset_343.csv', 'GreenD_reduced_version_03/greend_dataset_256.csv', 'GreenD_reduced_version_03/greend_dataset_323.csv', 'GreenD_reduced_version_03/greend_dataset_183.csv', 'GreenD_reduced_version_03/greend_dataset_334.csv', 'GreenD_reduced_version_03/greend_dataset_422.csv', 'GreenD_reduced_version_03/greend_dataset_398.csv', 'GreenD_reduced_version_03/greend_dataset_278.csv', 'GreenD_reduced_version_03/greend_dataset_150.csv', 'GreenD_reduced_version_03/greend_dataset_359.csv', 'GreenD_reduced_version_03/greend_dataset_265.csv', 'GreenD_reduced_version_03/greend_dataset_235.csv', 'GreenD_reduced_version_03/greend_dataset_65.csv', 'GreenD_reduced_version_03/greend_dataset_128.csv', 'GreenD_reduced_version_03/greend_dataset_264.csv', 'GreenD_reduced_version_03/greend_dataset_72.csv', 'GreenD_reduced_version_03/greend_dataset_205.csv', 'GreenD_reduced_version_03/greend_dataset_319.csv', 'GreenD_reduced_version_03/greend_dataset_332.csv', 'GreenD_reduced_version_03/greend_dataset_385.csv', 'GreenD_reduced_version_03/greend_dataset_118.csv', 'GreenD_reduced_version_03/greend_dataset_452.csv', 'GreenD_reduced_version_03/greend_dataset_212.csv', 'GreenD_reduced_version_03/greend_dataset_49.csv', 'GreenD_reduced_version_03/greend_dataset_34.csv', 'GreenD_reduced_version_03/greend_dataset_406.csv', 'GreenD_reduced_version_03/greend_dataset_97.csv', 'GreenD_reduced_version_03/greend_dataset_390.csv', 'GreenD_reduced_version_03/greend_dataset_187.csv', 'GreenD_reduced_version_03/greend_dataset_13.csv', 'GreenD_reduced_version_03/greend_dataset_383.csv', 'GreenD_reduced_version_03/greend_dataset_69.csv', 'GreenD_reduced_version_03/greend_dataset_171.csv', 'GreenD_reduced_version_03/greend_dataset_297.csv', 'GreenD_reduced_version_03/greend_dataset_261.csv', 'GreenD_reduced_version_03/greend_dataset_90.csv', 'GreenD_reduced_version_03/greend_dataset_407.csv', 'GreenD_reduced_version_03/greend_dataset_468.csv', 'GreenD_reduced_version_03/greend_dataset_243.csv', 'GreenD_reduced_version_03/greend_dataset_272.csv', 'GreenD_reduced_version_03/greend_dataset_217.csv', 'GreenD_reduced_version_03/greend_dataset_461.csv', 'GreenD_reduced_version_03/greend_dataset_364.csv', 'GreenD_reduced_version_03/greend_dataset_445.csv', 'GreenD_reduced_version_03/greend_dataset_270.csv', 'GreenD_reduced_version_03/greend_dataset_19.csv', 'GreenD_reduced_version_03/greend_dataset_9.csv', 'GreenD_reduced_version_03/greend_dataset_130.csv', 'GreenD_reduced_version_03/greend_dataset_227.csv', 'GreenD_reduced_version_03/greend_dataset_449.csv', 'GreenD_reduced_version_03/greend_dataset_115.csv', 'GreenD_reduced_version_03/greend_dataset_23.csv', 'GreenD_reduced_version_03/greend_dataset_120.csv', 'GreenD_reduced_version_03/greend_dataset_442.csv', 'GreenD_reduced_version_03/greend_dataset_117.csv', 'GreenD_reduced_version_03/greend_dataset_263.csv', 'GreenD_reduced_version_03/greend_dataset_292.csv', 'GreenD_reduced_version_03/greend_dataset_299.csv', 'GreenD_reduced_version_03/greend_dataset_15.csv', 'GreenD_reduced_version_03/greend_dataset_134.csv', 'GreenD_reduced_version_03/greend_dataset_132.csv', 'GreenD_reduced_version_03/greend_dataset_135.csv', 'GreenD_reduced_version_03/greend_dataset_446.csv', 'GreenD_reduced_version_03/greend_dataset_347.csv', 'GreenD_reduced_version_03/greend_dataset_237.csv', 'GreenD_reduced_version_03/greend_dataset_14.csv', 'GreenD_reduced_version_03/greend_dataset_208.csv', 'GreenD_reduced_version_03/greend_dataset_7.csv', 'GreenD_reduced_version_03/greend_dataset_382.csv', 'GreenD_reduced_version_03/greend_dataset_108.csv', 'GreenD_reduced_version_03/greend_dataset_181.csv', 'GreenD_reduced_version_03/greend_dataset_313.csv', 'GreenD_reduced_version_03/greend_dataset_201.csv', 'GreenD_reduced_version_03/greend_dataset_249.csv', 'GreenD_reduced_version_03/greend_dataset_455.csv', 'GreenD_reduced_version_03/greend_dataset_424.csv', 'GreenD_reduced_version_03/greend_dataset_425.csv', 'GreenD_reduced_version_03/greend_dataset_368.csv', 'GreenD_reduced_version_03/greend_dataset_139.csv', 'GreenD_reduced_version_03/greend_dataset_459.csv', 'GreenD_reduced_version_03/greend_dataset_242.csv', 'GreenD_reduced_version_03/greend_dataset_429.csv', 'GreenD_reduced_version_03/greend_dataset_303.csv', 'GreenD_reduced_version_03/greend_dataset_82.csv', 'GreenD_reduced_version_03/greend_dataset_397.csv', 'GreenD_reduced_version_03/greend_dataset_36.csv', 'GreenD_reduced_version_03/greend_dataset_176.csv', 'GreenD_reduced_version_03/greend_dataset_103.csv', 'GreenD_reduced_version_03/greend_dataset_309.csv', 'GreenD_reduced_version_03/greend_dataset_374.csv', 'GreenD_reduced_version_03/greend_dataset_233.csv', 'GreenD_reduced_version_03/greend_dataset_320.csv', 'GreenD_reduced_version_03/greend_dataset_160.csv', 'GreenD_reduced_version_03/greend_dataset_325.csv', 'GreenD_reduced_version_03/greend_dataset_144.csv', 'GreenD_reduced_version_03/greend_dataset_228.csv', 'GreenD_reduced_version_03/greend_dataset_102.csv', 'GreenD_reduced_version_03/greend_dataset_254.csv', 'GreenD_reduced_version_03/greend_dataset_109.csv', 'GreenD_reduced_version_03/greend_dataset_142.csv', 'GreenD_reduced_version_03/greend_dataset_308.csv', 'GreenD_reduced_version_03/greend_dataset_443.csv', 'GreenD_reduced_version_03/greend_dataset_40.csv', 'GreenD_reduced_version_03/greend_dataset_161.csv', 'GreenD_reduced_version_03/greend_dataset_409.csv', 'GreenD_reduced_version_03/greend_dataset_46.csv', 'GreenD_reduced_version_03/greend_dataset_317.csv', 'GreenD_reduced_version_03/greend_dataset_371.csv', 'GreenD_reduced_version_03/greend_dataset_195.csv', 'GreenD_reduced_version_03/greend_dataset_92.csv', 'GreenD_reduced_version_03/greend_dataset_252.csv', 'GreenD_reduced_version_03/greend_dataset_366.csv', 'GreenD_reduced_version_03/greend_dataset_399.csv', 'GreenD_reduced_version_03/greend_dataset_20.csv', 'GreenD_reduced_version_03/greend_dataset_226.csv', 'GreenD_reduced_version_03/greend_dataset_225.csv', 'GreenD_reduced_version_03/greend_dataset_238.csv', 'GreenD_reduced_version_03/greend_dataset_444.csv', 'GreenD_reduced_version_03/greend_dataset_259.csv', 'GreenD_reduced_version_03/greend_dataset_369.csv', 'GreenD_reduced_version_03/greend_dataset_124.csv', 'GreenD_reduced_version_03/greend_dataset_267.csv', 'GreenD_reduced_version_03/greend_dataset_45.csv', 'GreenD_reduced_version_03/greend_dataset_394.csv', 'GreenD_reduced_version_03/greend_dataset_156.csv', 'GreenD_reduced_version_03/greend_dataset_234.csv', 'GreenD_reduced_version_03/greend_dataset_411.csv', 'GreenD_reduced_version_03/greend_dataset_6.csv', 'GreenD_reduced_version_03/greend_dataset_163.csv', 'GreenD_reduced_version_03/greend_dataset_453.csv', 'GreenD_reduced_version_03/greend_dataset_47.csv', 'GreenD_reduced_version_03/greend_dataset_106.csv', 'GreenD_reduced_version_03/greend_dataset_81.csv', 'GreenD_reduced_version_03/greend_dataset_30.csv', 'GreenD_reduced_version_03/greend_dataset_16.csv', 'GreenD_reduced_version_03/greend_dataset_360.csv', 'GreenD_reduced_version_03/greend_dataset_463.csv', 'GreenD_reduced_version_03/greend_dataset_327.csv', 'GreenD_reduced_version_03/greend_dataset_253.csv', 'GreenD_reduced_version_03/greend_dataset_107.csv', 'GreenD_reduced_version_03/greend_dataset_298.csv', 'GreenD_reduced_version_03/greend_dataset_262.csv', 'GreenD_reduced_version_03/greend_dataset_439.csv', 'GreenD_reduced_version_03/greend_dataset_104.csv', 'GreenD_reduced_version_03/greend_dataset_395.csv', 'GreenD_reduced_version_03/greend_dataset_271.csv', 'GreenD_reduced_version_03/greend_dataset_361.csv', 'GreenD_reduced_version_03/greend_dataset_146.csv', 'GreenD_reduced_version_03/greend_dataset_127.csv', 'GreenD_reduced_version_03/greend_dataset_244.csv', 'GreenD_reduced_version_03/greend_dataset_400.csv', 'GreenD_reduced_version_03/greend_dataset_215.csv', 'GreenD_reduced_version_03/greend_dataset_62.csv', 'GreenD_reduced_version_03/greend_dataset_164.csv', 'GreenD_reduced_version_03/greend_dataset_351.csv', 'GreenD_reduced_version_03/greend_dataset_119.csv', 'GreenD_reduced_version_03/greend_dataset_420.csv', 'GreenD_reduced_version_03/greend_dataset_316.csv', 'GreenD_reduced_version_03/greend_dataset_273.csv', 'GreenD_reduced_version_03/greend_dataset_60.csv', 'GreenD_reduced_version_03/greend_dataset_321.csv', 'GreenD_reduced_version_03/greend_dataset_430.csv', 'GreenD_reduced_version_03/greend_dataset_450.csv', 'GreenD_reduced_version_03/greend_dataset_230.csv', 'GreenD_reduced_version_03/greend_dataset_281.csv', 'GreenD_reduced_version_03/greend_dataset_207.csv', 'GreenD_reduced_version_03/greend_dataset_465.csv', 'GreenD_reduced_version_03/greend_dataset_182.csv', 'GreenD_reduced_version_03/greend_dataset_38.csv', 'GreenD_reduced_version_03/greend_dataset_173.csv', 'GreenD_reduced_version_03/greend_dataset_367.csv', 'GreenD_reduced_version_03/greend_dataset_331.csv', 'GreenD_reduced_version_03/greend_dataset_37.csv', 'GreenD_reduced_version_03/greend_dataset_342.csv', 'GreenD_reduced_version_03/greend_dataset_386.csv', 'GreenD_reduced_version_03/greend_dataset_61.csv', 'GreenD_reduced_version_03/greend_dataset_88.csv', 'GreenD_reduced_version_03/greend_dataset_189.csv', 'GreenD_reduced_version_03/greend_dataset_203.csv', 'GreenD_reduced_version_03/greend_dataset_458.csv', 'GreenD_reduced_version_03/greend_dataset_314.csv', 'GreenD_reduced_version_03/greend_dataset_423.csv', 'GreenD_reduced_version_03/greend_dataset_469.csv', 'GreenD_reduced_version_03/greend_dataset_138.csv', 'GreenD_reduced_version_03/greend_dataset_416.csv', 'GreenD_reduced_version_03/greend_dataset_376.csv', 'GreenD_reduced_version_03/greend_dataset_166.csv', 'GreenD_reduced_version_03/greend_dataset_168.csv', 'GreenD_reduced_version_03/greend_dataset_401.csv', 'GreenD_reduced_version_03/greend_dataset_95.csv', 'GreenD_reduced_version_03/greend_dataset_50.csv', 'GreenD_reduced_version_03/greend_dataset_170.csv', 'GreenD_reduced_version_03/greend_dataset_362.csv', 'GreenD_reduced_version_03/greend_dataset_339.csv', 'GreenD_reduced_version_03/greend_dataset_241.csv', 'GreenD_reduced_version_03/greend_dataset_295.csv', 'GreenD_reduced_version_03/greend_dataset_413.csv', 'GreenD_reduced_version_03/greend_dataset_190.csv', 'GreenD_reduced_version_03/greend_dataset_436.csv', 'GreenD_reduced_version_03/greend_dataset_147.csv', 'GreenD_reduced_version_03/greend_dataset_172.csv', 'GreenD_reduced_version_03/greend_dataset_86.csv', 'GreenD_reduced_version_03/greend_dataset_335.csv', 'GreenD_reduced_version_03/greend_dataset_184.csv', 'GreenD_reduced_version_03/greend_dataset_39.csv', 'GreenD_reduced_version_03/greend_dataset_302.csv', 'GreenD_reduced_version_03/greend_dataset_105.csv', 'GreenD_reduced_version_03/greend_dataset_236.csv', 'GreenD_reduced_version_03/greend_dataset_126.csv', 'GreenD_reduced_version_03/greend_dataset_419.csv', 'GreenD_reduced_version_03/greend_dataset_307.csv', 'GreenD_reduced_version_03/greend_dataset_375.csv', 'GreenD_reduced_version_03/greend_dataset_418.csv', 'GreenD_reduced_version_03/greend_dataset_372.csv', 'GreenD_reduced_version_03/greend_dataset_219.csv', 'GreenD_reduced_version_03/greend_dataset_151.csv', 'GreenD_reduced_version_03/greend_dataset_312.csv', 'GreenD_reduced_version_03/greend_dataset_73.csv', 'GreenD_reduced_version_03/greend_dataset_64.csv', 'GreenD_reduced_version_03/greend_dataset_68.csv', 'GreenD_reduced_version_03/greend_dataset_26.csv', 'GreenD_reduced_version_03/greend_dataset_373.csv', 'GreenD_reduced_version_03/greend_dataset_328.csv', 'GreenD_reduced_version_03/greend_dataset_12.csv', 'GreenD_reduced_version_03/greend_dataset_224.csv', 'GreenD_reduced_version_03/greend_dataset_111.csv', 'GreenD_reduced_version_03/greend_dataset_71.csv', 'GreenD_reduced_version_03/greend_dataset_223.csv', 'GreenD_reduced_version_03/greend_dataset_232.csv', 'GreenD_reduced_version_03/greend_dataset_63.csv', 'GreenD_reduced_version_03/greend_dataset_268.csv', 'GreenD_reduced_version_03/greend_dataset_245.csv', 'GreenD_reduced_version_03/greend_dataset_426.csv', 'GreenD_reduced_version_03/greend_dataset_275.csv', 'GreenD_reduced_version_03/greend_dataset_121.csv', 'GreenD_reduced_version_03/greend_dataset_48.csv', 'GreenD_reduced_version_03/greend_dataset_414.csv', 'GreenD_reduced_version_03/greend_dataset_44.csv', 'GreenD_reduced_version_03/greend_dataset_315.csv', 'GreenD_reduced_version_03/greend_dataset_251.csv', 'GreenD_reduced_version_03/greend_dataset_438.csv', 'GreenD_reduced_version_03/greend_dataset_220.csv', 'GreenD_reduced_version_03/greend_dataset_358.csv', 'GreenD_reduced_version_03/greend_dataset_471.csv', 'GreenD_reduced_version_03/greend_dataset_280.csv', 'GreenD_reduced_version_03/greend_dataset_76.csv', 'GreenD_reduced_version_03/greend_dataset_4.csv', 'GreenD_reduced_version_03/greend_dataset_94.csv', 'GreenD_reduced_version_03/greend_dataset_396.csv', 'GreenD_reduced_version_03/greend_dataset_155.csv', 'GreenD_reduced_version_03/greend_dataset_211.csv', 'GreenD_reduced_version_03/greend_dataset_93.csv', 'GreenD_reduced_version_03/greend_dataset_31.csv', 'GreenD_reduced_version_03/greend_dataset_276.csv', 'GreenD_reduced_version_03/greend_dataset_197.csv', 'GreenD_reduced_version_03/greend_dataset_286.csv', 'GreenD_reduced_version_03/greend_dataset_129.csv', 'GreenD_reduced_version_03/greend_dataset_434.csv', 'GreenD_reduced_version_03/greend_dataset_165.csv', 'GreenD_reduced_version_03/greend_dataset_345.csv', 'GreenD_reduced_version_03/greend_dataset_348.csv', 'GreenD_reduced_version_03/greend_dataset_472.csv', 'GreenD_reduced_version_03/greend_dataset_346.csv', 'GreenD_reduced_version_03/greend_dataset_304.csv', 'GreenD_reduced_version_03/greend_dataset_402.csv', 'GreenD_reduced_version_03/greend_dataset_96.csv', 'GreenD_reduced_version_03/greend_dataset_202.csv', 'GreenD_reduced_version_03/greend_dataset_353.csv', 'GreenD_reduced_version_03/greend_dataset_33.csv', 'GreenD_reduced_version_03/greend_dataset_87.csv', 'GreenD_reduced_version_03/greend_dataset_440.csv', 'GreenD_reduced_version_03/greend_dataset_408.csv', 'GreenD_reduced_version_03/greend_dataset_388.csv', 'GreenD_reduced_version_03/greend_dataset_162.csv', 'GreenD_reduced_version_03/greend_dataset_17.csv', 'GreenD_reduced_version_03/greend_dataset_41.csv', 'GreenD_reduced_version_03/greend_dataset_344.csv', 'GreenD_reduced_version_03/greend_dataset_110.csv', 'GreenD_reduced_version_03/greend_dataset_470.csv', 'GreenD_reduced_version_03/greend_dataset_186.csv', 'GreenD_reduced_version_03/greend_dataset_53.csv', 'GreenD_reduced_version_03/greend_dataset_431.csv', 'GreenD_reduced_version_03/greend_dataset_216.csv', 'GreenD_reduced_version_03/greend_dataset_91.csv', 'GreenD_reduced_version_03/greend_dataset_257.csv', 'GreenD_reduced_version_03/greend_dataset_55.csv', 'GreenD_reduced_version_03/greend_dataset_333.csv', 'GreenD_reduced_version_03/greend_dataset_412.csv', 'GreenD_reduced_version_03/greend_dataset_89.csv', 'GreenD_reduced_version_03/greend_dataset_326.csv', 'GreenD_reduced_version_03/greend_dataset_2.csv', 'GreenD_reduced_version_03/greend_dataset_229.csv', 'GreenD_reduced_version_03/greend_dataset_287.csv', 'GreenD_reduced_version_03/greend_dataset_79.csv', 'GreenD_reduced_version_03/greend_dataset_141.csv', 'GreenD_reduced_version_03/greend_dataset_153.csv', 'GreenD_reduced_version_03/greend_dataset_11.csv', 'GreenD_reduced_version_03/greend_dataset_116.csv', 'GreenD_reduced_version_03/greend_dataset_433.csv', 'GreenD_reduced_version_03/greend_dataset_427.csv', 'GreenD_reduced_version_03/greend_dataset_57.csv', 'GreenD_reduced_version_03/greend_dataset_206.csv', 'GreenD_reduced_version_03/greend_dataset_85.csv', 'GreenD_reduced_version_03/greend_dataset_24.csv', 'GreenD_reduced_version_03/greend_dataset_152.csv', 'GreenD_reduced_version_03/greend_dataset_193.csv', 'GreenD_reduced_version_03/greend_dataset_403.csv', 'GreenD_reduced_version_03/greend_dataset_75.csv', 'GreenD_reduced_version_03/greend_dataset_283.csv', 'GreenD_reduced_version_03/greend_dataset_67.csv', 'GreenD_reduced_version_03/greend_dataset_467.csv', 'GreenD_reduced_version_03/greend_dataset_22.csv', 'GreenD_reduced_version_03/greend_dataset_157.csv', 'GreenD_reduced_version_03/greend_dataset_269.csv', 'GreenD_reduced_version_03/greend_dataset_447.csv', 'GreenD_reduced_version_03/greend_dataset_113.csv', 'GreenD_reduced_version_03/greend_dataset_462.csv', 'GreenD_reduced_version_03/greend_dataset_231.csv', 'GreenD_reduced_version_03/greend_dataset_391.csv', 'GreenD_reduced_version_03/greend_dataset_255.csv', 'GreenD_reduced_version_03/greend_dataset_247.csv', 'GreenD_reduced_version_03/greend_dataset_329.csv', 'GreenD_reduced_version_03/greend_dataset_379.csv', 'GreenD_reduced_version_03/greend_dataset_337.csv', 'GreenD_reduced_version_03/greend_dataset_18.csv', 'GreenD_reduced_version_03/greend_dataset_258.csv', 'GreenD_reduced_version_03/greend_dataset_125.csv', 'GreenD_reduced_version_03/greend_dataset_248.csv', 'GreenD_reduced_version_03/greend_dataset_133.csv', 'GreenD_reduced_version_03/greend_dataset_310.csv', 'GreenD_reduced_version_03/greend_dataset_191.csv', 'GreenD_reduced_version_03/greend_dataset_355.csv', 'GreenD_reduced_version_03/greend_dataset_301.csv', 'GreenD_reduced_version_03/greend_dataset_98.csv', 'GreenD_reduced_version_03/greend_dataset_260.csv', 'GreenD_reduced_version_03/greend_dataset_378.csv', 'GreenD_reduced_version_03/greend_dataset_336.csv', 'GreenD_reduced_version_03/greend_dataset_131.csv', 'GreenD_reduced_version_03/greend_dataset_56.csv', 'GreenD_reduced_version_03/greend_dataset_415.csv', 'GreenD_reduced_version_03/greend_dataset_428.csv', 'GreenD_reduced_version_03/greend_dataset_51.csv', 'GreenD_reduced_version_03/greend_dataset_1.csv', 'GreenD_reduced_version_03/greend_dataset_451.csv', 'GreenD_reduced_version_03/greend_dataset_246.csv', 'GreenD_reduced_version_03/greend_dataset_178.csv', 'GreenD_reduced_version_03/greend_dataset_417.csv', 'GreenD_reduced_version_03/greend_dataset_21.csv', 'GreenD_reduced_version_03/greend_dataset_432.csv', 'GreenD_reduced_version_03/greend_dataset_404.csv', 'GreenD_reduced_version_03/greend_dataset_58.csv', 'GreenD_reduced_version_03/greend_dataset_289.csv', 'GreenD_reduced_version_03/greend_dataset_288.csv', 'GreenD_reduced_version_03/greend_dataset_199.csv', 'GreenD_reduced_version_03/greend_dataset_194.csv', 'GreenD_reduced_version_03/greend_dataset_441.csv', 'GreenD_reduced_version_03/greend_dataset_460.csv', 'GreenD_reduced_version_03/greend_dataset_239.csv', 'GreenD_reduced_version_03/greend_dataset_52.csv', 'GreenD_reduced_version_03/greend_dataset_213.csv', 'GreenD_reduced_version_03/greend_dataset_8.csv', 'GreenD_reduced_version_03/greend_dataset_123.csv', 'GreenD_reduced_version_03/greend_dataset_209.csv', 'GreenD_reduced_version_03/greend_dataset_293.csv', 'GreenD_reduced_version_03/greend_dataset_322.csv', 'GreenD_reduced_version_03/greend_dataset_136.csv', 'GreenD_reduced_version_03/greend_dataset_83.csv', 'GreenD_reduced_version_03/greend_dataset_296.csv', 'GreenD_reduced_version_03/greend_dataset_188.csv', 'GreenD_reduced_version_03/greend_dataset_43.csv', 'GreenD_reduced_version_03/greend_dataset_356.csv', 'GreenD_reduced_version_03/greend_dataset_70.csv', 'GreenD_reduced_version_03/greend_dataset_154.csv', 'GreenD_reduced_version_03/greend_dataset_222.csv', 'GreenD_reduced_version_03/greend_dataset_149.csv', 'GreenD_reduced_version_03/greend_dataset_167.csv', 'GreenD_reduced_version_03/greend_dataset_456.csv', 'GreenD_reduced_version_03/greend_dataset_457.csv', 'GreenD_reduced_version_03/greend_dataset_284.csv', 'GreenD_reduced_version_03/greend_dataset_59.csv', 'GreenD_reduced_version_03/greend_dataset_200.csv', 'GreenD_reduced_version_03/greend_dataset_352.csv', 'GreenD_reduced_version_03/greend_dataset_350.csv', 'GreenD_reduced_version_03/greend_dataset_3.csv', 'GreenD_reduced_version_03/greend_dataset_28.csv', 'GreenD_reduced_version_03/greend_dataset_340.csv', 'GreenD_reduced_version_03/greend_dataset_112.csv', 'GreenD_reduced_version_03/greend_dataset_330.csv', 'GreenD_reduced_version_03/greend_dataset_10.csv', 'GreenD_reduced_version_03/greend_dataset_410.csv', 'GreenD_reduced_version_03/greend_dataset_25.csv', 'GreenD_reduced_version_03/greend_dataset_42.csv', 'GreenD_reduced_version_03/greend_dataset_349.csv']\n"
     ]
    },
    {
     "name": "stderr",
     "output_type": "stream",
     "text": [
      "processing: 100%|██████████| 472/472 [00:32<00:00, 14.36it/s]\n"
     ]
    },
    {
     "name": "stdout",
     "output_type": "stream",
     "text": [
      "mkdir: cannot create directory ‘Combined-Dataset-version-03’: File exists\n"
     ]
    }
   ],
   "source": [
    "# These lines use the glob module to find all file paths that match the pattern 'GreenD_reduced_version_03/*.csv'. \n",
    "# The resulting file paths are stored in path_lists.\n",
    "# Then, the file paths are sorted alphabetically and assigned to sorted_file_paths\n",
    "path_lists = glob.glob('GreenD_reduced_version_03/'+'*.csv')\n",
    "sorted_file_paths = sorted(path_lists)\n",
    "\n",
    "\n",
    "# This code defines a function extract_digits that takes a string as input and \n",
    "# uses regular expressions (re.findall()) to extract digits from the string. \n",
    "# It returns the extracted digits as an integer if they exist, otherwise it returns 0.\n",
    "# Then, the sorted() function is used with key=extract_digits to sort the file\n",
    "# paths based on the digits extracted from each path. Finally, the sorted file paths are printed\n",
    "def extract_digits(string):\n",
    "    # Extract digits from the string using regular expression\n",
    "    digits = re.findall(r'\\d+', string)\n",
    "    return int(digits[0]) if digits else 0\n",
    "\n",
    "sorted_file_paths = sorted(path_lists, key=extract_digits)\n",
    "print(sorted_file_paths)\n",
    "\n",
    "\n",
    "# In this block of code, an empty list conct_list is created. Then, a loop is executed over each sorted\n",
    "# file path using sorted_file_paths. Inside the loop, each CSV file is read using pd.read_csv(),\n",
    "# and the 'Timestamp' column is converted to a datetime object using pd.to_datetime() w\n",
    "# ith the utc=True parameter and unit='s' to indicate that the values are in Unix timestamp format. \n",
    "# The 'Timestamp' column is then formatted to a specific string format '%Y-%m-%d %H:%M:%S' \n",
    "# using the dt.strftime() function. The resulting dataframe is appended to the conct_list\n",
    "\n",
    "conct_list = []\n",
    "for path in tqdm(sorted_file_paths ,desc='processing'):\n",
    "    \n",
    "    data = pd.read_csv(path)\n",
    "    data['Timestamp'] = pd.to_datetime(data['Timestamp'],utc=True,unit='s')#format='%Y-%m-%d %H-%M-%S')\n",
    "    data['Timestamp'] = data['Timestamp'].dt.strftime('%Y-%m-%d %H:%M:%S')\n",
    "    conct_list.append(data)\n",
    "    \n",
    "# The !mkdir command creates a directory named 'Combined-Dataset-version-03' \n",
    "# if it doesn't already exist. Then, pd.concat() is used to concatenate all \n",
    "# the dataframes in conct_list along the rows, creating a single combined dataframe named df\n",
    "!mkdir 'Combined-Dataset-version-03'\n",
    "df = pd.concat(conct_list)\n",
    "\n",
    "\n",
    "# Summary:\n",
    "# The code reads multiple CSV files located in the 'GreenD_reduced_version_03/' directory. \n",
    "# The file paths are sorted in ascending order based on the digits extracted from each path using a custom function.\n",
    "# Each file is then loaded into a dataframe, and the 'Timestamp' column is converted to a datetime object and formatted.\n",
    "# The dataframes are appended to a list. A new directory named 'Combined-Dataset-version-03' is created,\n",
    "# and all the dataframes in the list are concatenated into a single dataframe named df."
   ]
  },
  {
   "cell_type": "code",
   "execution_count": 8,
   "metadata": {},
   "outputs": [],
   "source": [
    "df.sort_values(by='Timestamp',inplace=True)\n",
    "# This line of code sorts the DataFrame df based on the values in the 'Timestamp' column in ascending order. \n",
    "# The sort_values() function is used to perform the sorting operation. The by parameter specifies \n",
    "# the column to sort by, which in this case is 'Timestamp'. The inplace=True parameter is\n",
    "# used to modify the DataFrame df in place, meaning the changes are applied directly to the DataFrame instead of creating a new sorted DataFrame"
   ]
  },
  {
   "cell_type": "code",
   "execution_count": 9,
   "metadata": {},
   "outputs": [
    {
     "data": {
      "text/plain": [
       "<Figure size 800x600 with 0 Axes>"
      ]
     },
     "metadata": {},
     "output_type": "display_data"
    },
    {
     "data": {
      "image/png": "[encoded data removed]",
      "text/plain": [
       "<Figure size 640x480 with 1 Axes>"
      ]
     },
     "metadata": {},
     "output_type": "display_data"
    }
   ],
   "source": [
    "import matplotlib.pyplot as plt\n",
    "\n",
    "# Customize the histogram plot\n",
    "# This line creates a new figure object with a specific size of 8 inches by 6 inches. The figsize parameter is used to set the width and height of the figure in inches.\n",
    "plt.figure(figsize=(8, 6))  # Set the figure size\n",
    "\n",
    "# Plot the histogram\n",
    "# This line plots a histogram using the plot.hist() method of the DataFrame df. It specifies the following parameters:\n",
    "\n",
    "# bins=10: Sets the number of bins (bars) in the histogram to 10.\n",
    "# edgecolor='black': Sets the color of the edges of the bars to black.\n",
    "# alpha=0.7: Sets the transparency of the bars to 0.7 (partially transparent).\n",
    "# color='steelblue': Sets the color of the bars to steel blue.\n",
    "# linewidth=2: Sets the width of the bar edge lines to 2 pixels.\n",
    "df.plot.hist(\n",
    "    bins=10,                   # Number of bins\n",
    "    edgecolor='black',         # Color of the edges of the bars\n",
    "    alpha=0.7,                 # Transparency of the bars\n",
    "    color='steelblue',         # Color of the bars\n",
    "    linewidth=2,               # Width of the bar edge lines\n",
    ")\n",
    "\n",
    "# Customize the plot labels and title\n",
    "plt.title('Histogram of Five Second Sampling Frequency Data')    # Set the title\n",
    "plt.xlabel('Values')              # Set the x-axis label\n",
    "plt.ylabel('Frequency')           # Set the y-axis label\n",
    "\n",
    "# Show the plot\n",
    "plt.savefig('5sec.png')\n",
    "\n",
    "plt.show()\n",
    "\n",
    "# Summary:\n",
    "# The code creates a histogram plot using the plot.hist() method of the DataFrame df. \n",
    "# It customizes the plot by specifying the number of bins, edge color, transparency, \n",
    "# bar color, and line width. The plot is given a title, x-axis label, and y-axis label. \n",
    "# The resulting plot is saved as an image file named '5sec.png', and then it is displayed on the screen"
   ]
  },
  {
   "cell_type": "code",
   "execution_count": 10,
   "metadata": {},
   "outputs": [],
   "source": [
    "\n",
    "# Downsample the DataFrame to 1-hour frequency and fill missing values using mean imputation.\n",
    "# df_1_hour = downsample_dataframe(df, '1H', fill_method='mean'): The downsample_dataframe() function is called to downsample the DataFrame df to a 1-hour frequency and fill missing values using mean imputation. The resulting downsampled DataFrame is assigned to the variable df_1_hour.\n",
    "# df_1_hour.reset_index('Timestamp', inplace=True): The index of the DataFrame df_1_hour is reset, converting the 'Timestamp' column from the index back to a regular column. The reset_index() method is used, and the inplace=True parameter is set to modify the DataFrame in place.\n",
    "# df_1_hour.fillna(method='ffill', inplace=True): Missing values in the DataFrame df_1_hour are filled using forward fill (ffill) method, which propagates the last observed value forward. The fillna() method is used, and the inplace=True parameter is set to modify the DataFrame in place\n",
    "\n",
    "df_1_hour = downsample_dataframe(df, '1H', fill_method='mean')\n",
    "df_1_hour.reset_index('Timestamp',inplace=True)\n",
    "df_1_hour.fillna(method='ffill',inplace=True)\n",
    "\n",
    "\n",
    "# df_daily = downsample_dataframe(df, '24H', fill_method='mean'): The downsample_dataframe() function is called to downsample the DataFrame df to a daily frequency (24 hours) and fill missing values using mean imputation. The resulting downsampled DataFrame is assigned to the variable df_daily.\n",
    "# df_daily.reset_index('Timestamp', inplace=True): The index of the DataFrame df_daily is reset, converting the 'Timestamp' column from the index back to a regular column. The reset_index() method is used, and the inplace=True parameter is set to modify the DataFrame in place.\n",
    "# df_daily.fillna(method='ffill', inplace=True): Missing values in the DataFrame df_daily are filled using forward fill (ffill) method, which propagates the last observed value forward. The fillna() method is used, and the inplace=True parameter is set to modify the DataFrame in place.\n",
    "# Downsample the DataFrame to 1-hour frequency and fill missing values using mean imputation.\n",
    "df_daily = downsample_dataframe(df, '24H', fill_method='mean')\n",
    "df_daily.reset_index('Timestamp',inplace=True)\n",
    "df_daily.fillna(method='ffill',inplace=True)\n",
    "\n",
    "# Summary:\n",
    "# The code performs downsampling of the original DataFrame df to different \n",
    "# frequencies (1-hour and daily) using the downsample_dataframe() function.\n",
    "# Missing values are filled using mean imputation, and the resulting downsampled\n",
    "# DataFrames (df_1_hour and df_daily) are modified in place to reset the index and fill missing values using forward fill."
   ]
  },
  {
   "cell_type": "code",
   "execution_count": 11,
   "metadata": {},
   "outputs": [
    {
     "data": {
      "text/plain": [
       "<Figure size 800x600 with 0 Axes>"
      ]
     },
     "metadata": {},
     "output_type": "display_data"
    },
    {
     "data": {
      "image/png": "[encoded data removed]",
      "text/plain": [
       "<Figure size 640x480 with 1 Axes>"
      ]
     },
     "metadata": {},
     "output_type": "display_data"
    }
   ],
   "source": [
    "import matplotlib.pyplot as plt\n",
    "\n",
    "# Customize the histogram plot\n",
    "plt.figure(figsize=(8, 6))  # Set the figure size\n",
    "\n",
    "# Plot the histogram\n",
    "df_1_hour.plot.hist(\n",
    "    bins=10,                   # Number of bins\n",
    "    edgecolor='black',         # Color of the edges of the bars\n",
    "    alpha=0.7,                 # Transparency of the bars\n",
    "    color='steelblue',         # Color of the bars\n",
    "    linewidth=2,               # Width of the bar edge lines\n",
    ")\n",
    "\n",
    "# Customize the plot labels and title\n",
    "plt.title('Histogram of One Hour Sampling Frequency Data')    # Set the title\n",
    "plt.xlabel('Values')              # Set the x-axis label\n",
    "plt.ylabel('Frequency')           # Set the y-axis label\n",
    "\n",
    "# Show the plot\n",
    "plt.savefig('1-Hours.png')\n",
    "\n",
    "plt.show()\n",
    "# Summary:\n",
    "# The code creates a histogram plot using the plot.hist() method of the DataFrame df_1_hour. \n",
    "# It customizes the plot by specifying the number of bins, edge color, transparency, \n",
    "# bar color, and line width. The plot is given a title, x-axis label, and y-axis label. \n",
    "# The resulting plot is saved as an image file named '1-Hours.png', and then it is displayed on the screen."
   ]
  },
  {
   "cell_type": "code",
   "execution_count": 14,
   "metadata": {},
   "outputs": [
    {
     "data": {
      "text/html": [
       "<div>\n",
       "<style scoped>\n",
       "    .dataframe tbody tr th:only-of-type {\n",
       "        vertical-align: middle;\n",
       "    }\n",
       "\n",
       "    .dataframe tbody tr th {\n",
       "        vertical-align: top;\n",
       "    }\n",
       "\n",
       "    .dataframe thead th {\n",
       "        text-align: right;\n",
       "    }\n",
       "</style>\n",
       "<table border=\"1\" class=\"dataframe\">\n",
       "  <thead>\n",
       "    <tr style=\"text-align: right;\">\n",
       "      <th></th>\n",
       "      <th>Timestamp</th>\n",
       "      <th>Summe</th>\n",
       "    </tr>\n",
       "  </thead>\n",
       "  <tbody>\n",
       "    <tr>\n",
       "      <th>0</th>\n",
       "      <td>2014-03-12 07:00:00</td>\n",
       "      <td>66.321410</td>\n",
       "    </tr>\n",
       "    <tr>\n",
       "      <th>1</th>\n",
       "      <td>2014-03-12 08:00:00</td>\n",
       "      <td>14.977094</td>\n",
       "    </tr>\n",
       "    <tr>\n",
       "      <th>2</th>\n",
       "      <td>2014-03-12 09:00:00</td>\n",
       "      <td>27.099825</td>\n",
       "    </tr>\n",
       "    <tr>\n",
       "      <th>3</th>\n",
       "      <td>2014-03-12 10:00:00</td>\n",
       "      <td>14.787116</td>\n",
       "    </tr>\n",
       "    <tr>\n",
       "      <th>4</th>\n",
       "      <td>2014-03-12 11:00:00</td>\n",
       "      <td>27.785160</td>\n",
       "    </tr>\n",
       "    <tr>\n",
       "      <th>...</th>\n",
       "      <td>...</td>\n",
       "      <td>...</td>\n",
       "    </tr>\n",
       "    <tr>\n",
       "      <th>11386</th>\n",
       "      <td>2015-06-29 17:00:00</td>\n",
       "      <td>80.591582</td>\n",
       "    </tr>\n",
       "    <tr>\n",
       "      <th>11387</th>\n",
       "      <td>2015-06-29 18:00:00</td>\n",
       "      <td>52.420814</td>\n",
       "    </tr>\n",
       "    <tr>\n",
       "      <th>11388</th>\n",
       "      <td>2015-06-29 19:00:00</td>\n",
       "      <td>46.189453</td>\n",
       "    </tr>\n",
       "    <tr>\n",
       "      <th>11389</th>\n",
       "      <td>2015-06-29 20:00:00</td>\n",
       "      <td>58.697892</td>\n",
       "    </tr>\n",
       "    <tr>\n",
       "      <th>11390</th>\n",
       "      <td>2015-06-29 21:00:00</td>\n",
       "      <td>68.694625</td>\n",
       "    </tr>\n",
       "  </tbody>\n",
       "</table>\n",
       "<p>11391 rows × 2 columns</p>\n",
       "</div>"
      ],
      "text/plain": [
       "                Timestamp      Summe\n",
       "0     2014-03-12 07:00:00  66.321410\n",
       "1     2014-03-12 08:00:00  14.977094\n",
       "2     2014-03-12 09:00:00  27.099825\n",
       "3     2014-03-12 10:00:00  14.787116\n",
       "4     2014-03-12 11:00:00  27.785160\n",
       "...                   ...        ...\n",
       "11386 2015-06-29 17:00:00  80.591582\n",
       "11387 2015-06-29 18:00:00  52.420814\n",
       "11388 2015-06-29 19:00:00  46.189453\n",
       "11389 2015-06-29 20:00:00  58.697892\n",
       "11390 2015-06-29 21:00:00  68.694625\n",
       "\n",
       "[11391 rows x 2 columns]"
      ]
     },
     "execution_count": 14,
     "metadata": {},
     "output_type": "execute_result"
    }
   ],
   "source": [
    "df_1_hour"
   ]
  },
  {
   "cell_type": "code",
   "execution_count": 36,
   "metadata": {},
   "outputs": [
    {
     "name": "stdout",
     "output_type": "stream",
     "text": [
      "Shape of training data :  (7290, 1)\n",
      "Shape of validation data :  (1823, 1)\n",
      "Shape of testing data :  (2278, 1)\n"
     ]
    }
   ],
   "source": []
  },
  {
   "cell_type": "code",
   "execution_count": 115,
   "metadata": {},
   "outputs": [
    {
     "name": "stderr",
     "output_type": "stream",
     "text": [
      "GPU available: True (cuda), used: True\n",
      "TPU available: False, using: 0 TPU cores\n",
      "IPU available: False, using: 0 IPUs\n",
      "HPU available: False, using: 0 HPUs\n",
      "LOCAL_RANK: 0 - CUDA_VISIBLE_DEVICES: [0]\n",
      "\n",
      "  | Name          | Type             | Params\n",
      "---------------------------------------------------\n",
      "0 | criterion     | MSELoss          | 0     \n",
      "1 | train_metrics | MetricCollection | 0     \n",
      "2 | val_metrics   | MetricCollection | 0     \n",
      "3 | rnn           | LSTM             | 1.8 K \n",
      "4 | V             | Linear           | 21    \n",
      "---------------------------------------------------\n",
      "1.9 K     Trainable params\n",
      "0         Non-trainable params\n",
      "1.9 K     Total params\n",
      "0.007     Total estimated model params size (MB)\n"
     ]
    },
    {
     "name": "stdout",
     "output_type": "stream",
     "text": [
      "Shape of training data :  (7290, 1)\n",
      "Shape of validation data :  (1823, 1)\n",
      "Shape of testing data :  (2278, 1)\n"
     ]
    },
    {
     "data": {
      "application/vnd.jupyter.widget-view+json": {
       "model_id": "be9be0f28ab04dcc989bb5b06ac9cc6b",
       "version_major": 2,
       "version_minor": 0
      },
      "text/plain": [
       "Sanity Checking: 0it [00:00, ?it/s]"
      ]
     },
     "metadata": {},
     "output_type": "display_data"
    },
    {
     "data": {
      "application/vnd.jupyter.widget-view+json": {
       "model_id": "4984dfec4338410582c74d3e494ccede",
       "version_major": 2,
       "version_minor": 0
      },
      "text/plain": [
       "Training: 0it [00:00, ?it/s]"
      ]
     },
     "metadata": {},
     "output_type": "display_data"
    },
    {
     "data": {
      "application/vnd.jupyter.widget-view+json": {
       "model_id": "99eef9f5f9204443808f85a5008b6194",
       "version_major": 2,
       "version_minor": 0
      },
      "text/plain": [
       "Validation: 0it [00:00, ?it/s]"
      ]
     },
     "metadata": {},
     "output_type": "display_data"
    },
    {
     "data": {
      "application/vnd.jupyter.widget-view+json": {
       "model_id": "7097bb40c9c548b6895a52dd11c9f710",
       "version_major": 2,
       "version_minor": 0
      },
      "text/plain": [
       "Validation: 0it [00:00, ?it/s]"
      ]
     },
     "metadata": {},
     "output_type": "display_data"
    },
    {
     "data": {
      "application/vnd.jupyter.widget-view+json": {
       "model_id": "0e5909235eeb48348918de13a6030bb3",
       "version_major": 2,
       "version_minor": 0
      },
      "text/plain": [
       "Validation: 0it [00:00, ?it/s]"
      ]
     },
     "metadata": {},
     "output_type": "display_data"
    },
    {
     "data": {
      "application/vnd.jupyter.widget-view+json": {
       "model_id": "7eb2abcf731d48b088abcb262868cca8",
       "version_major": 2,
       "version_minor": 0
      },
      "text/plain": [
       "Validation: 0it [00:00, ?it/s]"
      ]
     },
     "metadata": {},
     "output_type": "display_data"
    },
    {
     "data": {
      "application/vnd.jupyter.widget-view+json": {
       "model_id": "5d6c6b44309d4d47954b2c7940b54b2e",
       "version_major": 2,
       "version_minor": 0
      },
      "text/plain": [
       "Validation: 0it [00:00, ?it/s]"
      ]
     },
     "metadata": {},
     "output_type": "display_data"
    },
    {
     "data": {
      "application/vnd.jupyter.widget-view+json": {
       "model_id": "4b501b75a8e64a618ebd4484648bba8a",
       "version_major": 2,
       "version_minor": 0
      },
      "text/plain": [
       "Validation: 0it [00:00, ?it/s]"
      ]
     },
     "metadata": {},
     "output_type": "display_data"
    },
    {
     "name": "stderr",
     "output_type": "stream",
     "text": [
      "GPU available: True (cuda), used: True\n",
      "TPU available: False, using: 0 TPU cores\n",
      "IPU available: False, using: 0 IPUs\n",
      "HPU available: False, using: 0 HPUs\n",
      "LOCAL_RANK: 0 - CUDA_VISIBLE_DEVICES: [0]\n"
     ]
    },
    {
     "data": {
      "application/vnd.jupyter.widget-view+json": {
       "model_id": "dd46906a99694b5a898349336b65d66f",
       "version_major": 2,
       "version_minor": 0
      },
      "text/plain": [
       "Predicting: 0it [00:00, ?it/s]"
      ]
     },
     "metadata": {},
     "output_type": "display_data"
    },
    {
     "data": {
      "image/png": "[encoded data removed]",
      "text/plain": [
       "<Figure size 800x500 with 1 Axes>"
      ]
     },
     "metadata": {},
     "output_type": "display_data"
    }
   ],
   "source": [
    "import torch\n",
    "\n",
    "from darts import TimeSeries\n",
    "from sklearn.preprocessing import MinMaxScaler\n",
    "from tqdm import tqdm_notebook as tqdm\n",
    "from darts.models import RNNModel\n",
    "import logging\n",
    "from darts.dataprocessing.transformers import Scaler\n",
    "from pytorch_lightning.callbacks.early_stopping import EarlyStopping\n",
    "\n",
    "\n",
    "# Create a TimeSeries, specifying the time and value columns\n",
    "series = TimeSeries.from_dataframe(df_1_hour, \"Timestamp\", \"Summe\",freq='1H',fill_missing_dates=True)\n",
    "\n",
    "# Set aside the last 36 months as a validation series\n",
    "train, testing = series.split_after(0.80)\n",
    "training ,validation =  train.split_after(0.80)\n",
    "\n",
    "print('Shape of training data : ',training.pd_dataframe().shape)\n",
    "print('Shape of validation data : ',validation.pd_dataframe().shape)\n",
    "print('Shape of testing data : ',testing.pd_dataframe().shape)\n",
    "\n",
    "# Normalize the time series (note: we avoid fitting the transformer on the validation set)\n",
    "transformer = Scaler()\n",
    "train_transformed = transformer.fit_transform(training)\n",
    "val_transformed = transformer.transform(validation)\n",
    "series_transformed = transformer.transform(series)\n",
    "\n",
    "\n",
    "#stop training when validation loss does not decrease more than 0.05 (`min_delta`) over\n",
    "# a period of 5 epochs (`patience`)\n",
    "my_stopper = EarlyStopping(\n",
    "    monitor=\"val_loss\",\n",
    "    patience=5,\n",
    "    min_delta=0.05,\n",
    "    mode='min',\n",
    ")\n",
    "\n",
    "my_model = RNNModel(\n",
    "    model=\"LSTM\",\n",
    "    hidden_dim=20,\n",
    "    dropout=0,\n",
    "    loss_fn =  torch.nn.MSELoss(),\n",
    "    batch_size=16,\n",
    "    n_epochs=300,\n",
    "    optimizer_kwargs={\"lr\": 1e-3},\n",
    "    model_name=\"electricity_Forecasting\",\n",
    "    log_tensorboard=True,\n",
    "    random_state=42,\n",
    "    training_length=20,\n",
    "    input_chunk_length=100,\n",
    "    force_reset=True,\n",
    "    save_checkpoints=True,\n",
    "    pl_trainer_kwargs={\"callbacks\": [my_stopper]}\n",
    "\n",
    ")\n",
    "\n",
    "my_model.fit(\n",
    "    train_transformed,\n",
    "    # future_covariates=covariates,\n",
    "    val_series=val_transformed,\n",
    "    # val_future_covariates=covariates,\n",
    "    verbose=True,\n",
    ")\n",
    "\n",
    "from darts.metrics import mape\n",
    "\n",
    "def eval_model(model):\n",
    "    pred_series = model.predict(n=3000)\n",
    "    plt.figure(figsize=(8, 5))\n",
    "    series_transformed.plot(label=\"actual\")\n",
    "    pred_series.plot(label=\"forecast\")\n",
    "    plt.title(\"MAPE: {:.2f}%\".format(mape(pred_series, val_transformed)))\n",
    "    plt.legend()\n",
    "\n",
    "\n",
    "eval_model(my_model)"
   ]
  },
  {
   "cell_type": "code",
   "execution_count": 46,
   "metadata": {},
   "outputs": [
    {
     "data": {
      "text/plain": [
       "<AxesSubplot:xlabel='Timestamp'>"
      ]
     },
     "execution_count": 46,
     "metadata": {},
     "output_type": "execute_result"
    },
    {
     "data": {
      "image/png": "[encoded data removed]",
      "text/plain": [
       "<Figure size 640x480 with 1 Axes>"
      ]
     },
     "metadata": {},
     "output_type": "display_data"
    }
   ],
   "source": [
    "testing.pd_dataframe().plot()"
   ]
  },
  {
   "cell_type": "code",
   "execution_count": 116,
   "metadata": {},
   "outputs": [],
   "source": [
    "import numpy as np\n",
    "import plotly.graph_objects as go\n",
    "\n",
    "def plot_actual_vs_predicted(input_data, actual, predicted):\n",
    "    # Create the plot\n",
    "    fig = go.Figure()\n",
    "\n",
    "    # Add input data trace\n",
    "    fig.add_trace(go.Scatter(x=np.arange(len(input_data)), y=input_data, name='Input Data'))\n",
    "\n",
    "    # Add actual values trace\n",
    "    fig.add_trace(go.Scatter(x=np.arange(len(actual)), y=actual, name='Actual'))\n",
    "\n",
    "    # Add predicted values trace\n",
    "    fig.add_trace(go.Scatter(x=np.arange(len(predicted)), y=predicted, name='Predicted'))\n",
    "\n",
    "    # Configure the layout\n",
    "    fig.update_layout(title='Actual vs. Predicted',\n",
    "                      xaxis_title='Time',\n",
    "                      yaxis_title='Value')\n",
    "\n",
    "    # Show the plot\n",
    "    fig.show()\n"
   ]
  },
  {
   "cell_type": "code",
   "execution_count": 117,
   "metadata": {},
   "outputs": [
    {
     "name": "stderr",
     "output_type": "stream",
     "text": [
      "GPU available: True (cuda), used: True\n",
      "TPU available: False, using: 0 TPU cores\n",
      "IPU available: False, using: 0 IPUs\n",
      "HPU available: False, using: 0 HPUs\n"
     ]
    },
    {
     "name": "stderr",
     "output_type": "stream",
     "text": [
      "LOCAL_RANK: 0 - CUDA_VISIBLE_DEVICES: [0]\n"
     ]
    },
    {
     "data": {
      "application/vnd.jupyter.widget-view+json": {
       "model_id": "010e0d0ab206440fa9b4f68214791538",
       "version_major": 2,
       "version_minor": 0
      },
      "text/plain": [
       "Predicting: 0it [00:00, ?it/s]"
      ]
     },
     "metadata": {},
     "output_type": "display_data"
    }
   ],
   "source": [
    "# ... previous code ...\n",
    "\n",
    "# Predict on the testing data\n",
    "test_transformed = transformer.transform(testing)\n",
    "input_data =  test_transformed[0:100]\n",
    "test_pred = my_model.predict(n=24,series =input_data)\n",
    "\n",
    "\n",
    "# Inverse transform the predictions and actual values\n",
    "test_pred = transformer.inverse_transform(test_pred)\n",
    "actual_values = testing.univariate_values()\n",
    "\n",
    "\n",
    "actual  = testing[100:124].univariate_values()\n",
    "predicted = test_pred.univariate_values()\n",
    "input_data_fitted = transformer.inverse_transform(input_data).univariate_values()\n"
   ]
  },
  {
   "cell_type": "code",
   "execution_count": 118,
   "metadata": {},
   "outputs": [
    {
     "data": {
      "application/vnd.plotly.v1+json": {
       "config": {
        "plotlyServerURL": "https://plot.ly"
       },
       "data": [
        {
         "name": "Input Data",
         "type": "scatter",
         "x": [
          0,
          1,
          2,
          3,
          4,
          5,
          6,
          7,
          8,
          9,
          10,
          11,
          12,
          13,
          14,
          15,
          16,
          17,
          18,
          19,
          20,
          21,
          22,
          23,
          24,
          25,
          26,
          27,
          28,
          29,
          30,
          31,
          32,
          33,
          34,
          35,
          36,
          37,
          38,
          39,
          40,
          41,
          42,
          43,
          44,
          45,
          46,
          47,
          48,
          49,
          50,
          51,
          52,
          53,
          54,
          55,
          56,
          57,
          58,
          59,
          60,
          61,
          62,
          63,
          64,
          65,
          66,
          67,
          68,
          69,
          70,
          71,
          72,
          73,
          74,
          75,
          76,
          77,
          78,
          79,
          80,
          81,
          82,
          83,
          84,
          85,
          86,
          87,
          88,
          89,
          90,
          91,
          92,
          93,
          94,
          95,
          96,
          97,
          98,
          99
         ],
         "y": [
          20.083337096948398,
          20.634873971156278,
          22.57776870098371,
          19.337736413051335,
          18.887808022980412,
          17.85921356648251,
          180.73258789562402,
          19.398062394202917,
          18.864273391360957,
          17.819844055816645,
          21.571031539558064,
          20.00383820972132,
          21.327787110429526,
          19.807186385654028,
          22.19228087768111,
          34.67698233212536,
          1150.1890965920752,
          128.24015630375263,
          29.81466843889857,
          33.39773536607785,
          37.23359389152773,
          31.159122094996377,
          27.21552291982338,
          27.836695829434948,
          27.29092168021345,
          26.905933144443175,
          27.659884697278052,
          26.249375430505925,
          27.30519750706587,
          33.00387880341507,
          33.98005764135066,
          135.9539337622797,
          36.12399465564126,
          449.77431376931816,
          528.632057060966,
          456.15357225791547,
          68.7657467720866,
          38.00832625379108,
          39.92661201210056,
          43.81506878885,
          45.388144068667025,
          35.8672313476939,
          35.78390834300387,
          358.1631685661871,
          88.75033370937408,
          38.557842132839404,
          30.464878528574946,
          21.51198448529153,
          417.0276381559471,
          449.05991195127797,
          22.32268247681258,
          20.99414087967269,
          21.04310974670265,
          21.929421700778327,
          27.233183739988526,
          23.422644334238253,
          152.65937867056212,
          31.343603355990204,
          42.911063211338245,
          28.36051879385173,
          27.699268652958406,
          398.23615794427974,
          149.49271196711217,
          36.52607429699286,
          517.2648085046046,
          96.39202855369999,
          61.29466347999838,
          38.82327493686906,
          30.1036621923223,
          27.37868691575403,
          25.15671898247684,
          26.92491956236332,
          27.161694392250908,
          31.56892155277164,
          33.934870874976944,
          32.14682281531403,
          26.678104566734383,
          29.500520176930713,
          33.861481225640375,
          27.922761519241675,
          33.9015866976092,
          414.905067877273,
          469.35200298151847,
          30.796778392778194,
          29.503520792959485,
          30.672338368448724,
          30.616769310297883,
          29.587625246088916,
          29.973575603929376,
          271.8226460619835,
          159.46146300260747,
          27.598214629511805,
          34.937479681786954,
          87.11947013757369,
          27.894881010584626,
          28.06114009519585,
          33.04249010077995,
          36.00669764730814,
          30.100378665500216,
          27.43717344014264
         ]
        },
        {
         "name": "Actual",
         "type": "scatter",
         "x": [
          0,
          1,
          2,
          3,
          4,
          5,
          6,
          7,
          8,
          9,
          10,
          11,
          12,
          13,
          14,
          15,
          16,
          17,
          18,
          19,
          20,
          21,
          22,
          23
         ],
         "y": [
          28.33522570887018,
          236.82856588362105,
          28.109704594798536,
          40.50310545624388,
          23.61260071772218,
          22.871610456325584,
          25.69444268348261,
          35.5521431130135,
          32.24811861397501,
          30.645264113403062,
          30.646829146277398,
          28.755979775143746,
          88.1211999117478,
          21.4140440204222,
          20.45427813518473,
          19.06948531596719,
          24.147524570797376,
          21.455261090114675,
          24.399444895095392,
          25.39028193612652,
          26.81472109248707,
          24.510153085059557,
          19.436734873783013,
          22.58259398831401
         ]
        },
        {
         "name": "Predicted",
         "type": "scatter",
         "x": [
          0,
          1,
          2,
          3,
          4,
          5,
          6,
          7,
          8,
          9,
          10,
          11,
          12,
          13,
          14,
          15,
          16,
          17,
          18,
          19,
          20,
          21,
          22,
          23
         ],
         "y": [
          53.467541785604865,
          69.72098478496854,
          78.30150432242776,
          81.5642899915684,
          82.35755716362767,
          82.51882508186911,
          82.73638452654254,
          83.08541892326458,
          83.46802305016493,
          83.80213555023727,
          84.0579337263899,
          84.24042375446909,
          84.36716929872026,
          84.4554224465362,
          84.51786442681923,
          84.56274384667019,
          84.5952748943724,
          84.61887966589936,
          84.63595116014702,
          84.64824411488875,
          84.65706654851095,
          84.66338779974882,
          84.66791605303462,
          84.67116188213113
         ]
        }
       ],
       "layout": {
        "template": {
         "data": {
          "bar": [
           {
            "error_x": {
             "color": "#2a3f5f"
            },
            "error_y": {
             "color": "#2a3f5f"
            },
            "marker": {
             "line": {
              "color": "#E5ECF6",
              "width": 0.5
             },
             "pattern": {
              "fillmode": "overlay",
              "size": 10,
              "solidity": 0.2
             }
            },
            "type": "bar"
           }
          ],
          "barpolar": [
           {
            "marker": {
             "line": {
              "color": "#E5ECF6",
              "width": 0.5
             },
             "pattern": {
              "fillmode": "overlay",
              "size": 10,
              "solidity": 0.2
             }
            },
            "type": "barpolar"
           }
          ],
          "carpet": [
           {
            "aaxis": {
             "endlinecolor": "#2a3f5f",
             "gridcolor": "white",
             "linecolor": "white",
             "minorgridcolor": "white",
             "startlinecolor": "#2a3f5f"
            },
            "baxis": {
             "endlinecolor": "#2a3f5f",
             "gridcolor": "white",
             "linecolor": "white",
             "minorgridcolor": "white",
             "startlinecolor": "#2a3f5f"
            },
            "type": "carpet"
           }
          ],
          "choropleth": [
           {
            "colorbar": {
             "outlinewidth": 0,
             "ticks": ""
            },
            "type": "choropleth"
           }
          ],
          "contour": [
           {
            "colorbar": {
             "outlinewidth": 0,
             "ticks": ""
            },
            "colorscale": [
             [
              0,
              "#0d0887"
             ],
             [
              0.1111111111111111,
              "#46039f"
             ],
             [
              0.2222222222222222,
              "#7201a8"
             ],
             [
              0.3333333333333333,
              "#9c179e"
             ],
             [
              0.4444444444444444,
              "#bd3786"
             ],
             [
              0.5555555555555556,
              "#d8576b"
             ],
             [
              0.6666666666666666,
              "#ed7953"
             ],
             [
              0.7777777777777778,
              "#fb9f3a"
             ],
             [
              0.8888888888888888,
              "#fdca26"
             ],
             [
              1,
              "#f0f921"
             ]
            ],
            "type": "contour"
           }
          ],
          "contourcarpet": [
           {
            "colorbar": {
             "outlinewidth": 0,
             "ticks": ""
            },
            "type": "contourcarpet"
           }
          ],
          "heatmap": [
           {
            "colorbar": {
             "outlinewidth": 0,
             "ticks": ""
            },
            "colorscale": [
             [
              0,
              "#0d0887"
             ],
             [
              0.1111111111111111,
              "#46039f"
             ],
             [
              0.2222222222222222,
              "#7201a8"
             ],
             [
              0.3333333333333333,
              "#9c179e"
             ],
             [
              0.4444444444444444,
              "#bd3786"
             ],
             [
              0.5555555555555556,
              "#d8576b"
             ],
             [
              0.6666666666666666,
              "#ed7953"
             ],
             [
              0.7777777777777778,
              "#fb9f3a"
             ],
             [
              0.8888888888888888,
              "#fdca26"
             ],
             [
              1,
              "#f0f921"
             ]
            ],
            "type": "heatmap"
           }
          ],
          "heatmapgl": [
           {
            "colorbar": {
             "outlinewidth": 0,
             "ticks": ""
            },
            "colorscale": [
             [
              0,
              "#0d0887"
             ],
             [
              0.1111111111111111,
              "#46039f"
             ],
             [
              0.2222222222222222,
              "#7201a8"
             ],
             [
              0.3333333333333333,
              "#9c179e"
             ],
             [
              0.4444444444444444,
              "#bd3786"
             ],
             [
              0.5555555555555556,
              "#d8576b"
             ],
             [
              0.6666666666666666,
              "#ed7953"
             ],
             [
              0.7777777777777778,
              "#fb9f3a"
             ],
             [
              0.8888888888888888,
              "#fdca26"
             ],
             [
              1,
              "#f0f921"
             ]
            ],
            "type": "heatmapgl"
           }
          ],
          "histogram": [
           {
            "marker": {
             "pattern": {
              "fillmode": "overlay",
              "size": 10,
              "solidity": 0.2
             }
            },
            "type": "histogram"
           }
          ],
          "histogram2d": [
           {
            "colorbar": {
             "outlinewidth": 0,
             "ticks": ""
            },
            "colorscale": [
             [
              0,
              "#0d0887"
             ],
             [
              0.1111111111111111,
              "#46039f"
             ],
             [
              0.2222222222222222,
              "#7201a8"
             ],
             [
              0.3333333333333333,
              "#9c179e"
             ],
             [
              0.4444444444444444,
              "#bd3786"
             ],
             [
              0.5555555555555556,
              "#d8576b"
             ],
             [
              0.6666666666666666,
              "#ed7953"
             ],
             [
              0.7777777777777778,
              "#fb9f3a"
             ],
             [
              0.8888888888888888,
              "#fdca26"
             ],
             [
              1,
              "#f0f921"
             ]
            ],
            "type": "histogram2d"
           }
          ],
          "histogram2dcontour": [
           {
            "colorbar": {
             "outlinewidth": 0,
             "ticks": ""
            },
            "colorscale": [
             [
              0,
              "#0d0887"
             ],
             [
              0.1111111111111111,
              "#46039f"
             ],
             [
              0.2222222222222222,
              "#7201a8"
             ],
             [
              0.3333333333333333,
              "#9c179e"
             ],
             [
              0.4444444444444444,
              "#bd3786"
             ],
             [
              0.5555555555555556,
              "#d8576b"
             ],
             [
              0.6666666666666666,
              "#ed7953"
             ],
             [
              0.7777777777777778,
              "#fb9f3a"
             ],
             [
              0.8888888888888888,
              "#fdca26"
             ],
             [
              1,
              "#f0f921"
             ]
            ],
            "type": "histogram2dcontour"
           }
          ],
          "mesh3d": [
           {
            "colorbar": {
             "outlinewidth": 0,
             "ticks": ""
            },
            "type": "mesh3d"
           }
          ],
          "parcoords": [
           {
            "line": {
             "colorbar": {
              "outlinewidth": 0,
              "ticks": ""
             }
            },
            "type": "parcoords"
           }
          ],
          "pie": [
           {
            "automargin": true,
            "type": "pie"
           }
          ],
          "scatter": [
           {
            "fillpattern": {
             "fillmode": "overlay",
             "size": 10,
             "solidity": 0.2
            },
            "type": "scatter"
           }
          ],
          "scatter3d": [
           {
            "line": {
             "colorbar": {
              "outlinewidth": 0,
              "ticks": ""
             }
            },
            "marker": {
             "colorbar": {
              "outlinewidth": 0,
              "ticks": ""
             }
            },
            "type": "scatter3d"
           }
          ],
          "scattercarpet": [
           {
            "marker": {
             "colorbar": {
              "outlinewidth": 0,
              "ticks": ""
             }
            },
            "type": "scattercarpet"
           }
          ],
          "scattergeo": [
           {
            "marker": {
             "colorbar": {
              "outlinewidth": 0,
              "ticks": ""
             }
            },
            "type": "scattergeo"
           }
          ],
          "scattergl": [
           {
            "marker": {
             "colorbar": {
              "outlinewidth": 0,
              "ticks": ""
             }
            },
            "type": "scattergl"
           }
          ],
          "scattermapbox": [
           {
            "marker": {
             "colorbar": {
              "outlinewidth": 0,
              "ticks": ""
             }
            },
            "type": "scattermapbox"
           }
          ],
          "scatterpolar": [
           {
            "marker": {
             "colorbar": {
              "outlinewidth": 0,
              "ticks": ""
             }
            },
            "type": "scatterpolar"
           }
          ],
          "scatterpolargl": [
           {
            "marker": {
             "colorbar": {
              "outlinewidth": 0,
              "ticks": ""
             }
            },
            "type": "scatterpolargl"
           }
          ],
          "scatterternary": [
           {
            "marker": {
             "colorbar": {
              "outlinewidth": 0,
              "ticks": ""
             }
            },
            "type": "scatterternary"
           }
          ],
          "surface": [
           {
            "colorbar": {
             "outlinewidth": 0,
             "ticks": ""
            },
            "colorscale": [
             [
              0,
              "#0d0887"
             ],
             [
              0.1111111111111111,
              "#46039f"
             ],
             [
              0.2222222222222222,
              "#7201a8"
             ],
             [
              0.3333333333333333,
              "#9c179e"
             ],
             [
              0.4444444444444444,
              "#bd3786"
             ],
             [
              0.5555555555555556,
              "#d8576b"
             ],
             [
              0.6666666666666666,
              "#ed7953"
             ],
             [
              0.7777777777777778,
              "#fb9f3a"
             ],
             [
              0.8888888888888888,
              "#fdca26"
             ],
             [
              1,
              "#f0f921"
             ]
            ],
            "type": "surface"
           }
          ],
          "table": [
           {
            "cells": {
             "fill": {
              "color": "#EBF0F8"
             },
             "line": {
              "color": "white"
             }
            },
            "header": {
             "fill": {
              "color": "#C8D4E3"
             },
             "line": {
              "color": "white"
             }
            },
            "type": "table"
           }
          ]
         },
         "layout": {
          "annotationdefaults": {
           "arrowcolor": "#2a3f5f",
           "arrowhead": 0,
           "arrowwidth": 1
          },
          "autotypenumbers": "strict",
          "coloraxis": {
           "colorbar": {
            "outlinewidth": 0,
            "ticks": ""
           }
          },
          "colorscale": {
           "diverging": [
            [
             0,
             "#8e0152"
            ],
            [
             0.1,
             "#c51b7d"
            ],
            [
             0.2,
             "#de77ae"
            ],
            [
             0.3,
             "#f1b6da"
            ],
            [
             0.4,
             "#fde0ef"
            ],
            [
             0.5,
             "#f7f7f7"
            ],
            [
             0.6,
             "#e6f5d0"
            ],
            [
             0.7,
             "#b8e186"
            ],
            [
             0.8,
             "#7fbc41"
            ],
            [
             0.9,
             "#4d9221"
            ],
            [
             1,
             "#276419"
            ]
           ],
           "sequential": [
            [
             0,
             "#0d0887"
            ],
            [
             0.1111111111111111,
             "#46039f"
            ],
            [
             0.2222222222222222,
             "#7201a8"
            ],
            [
             0.3333333333333333,
             "#9c179e"
            ],
            [
             0.4444444444444444,
             "#bd3786"
            ],
            [
             0.5555555555555556,
             "#d8576b"
            ],
            [
             0.6666666666666666,
             "#ed7953"
            ],
            [
             0.7777777777777778,
             "#fb9f3a"
            ],
            [
             0.8888888888888888,
             "#fdca26"
            ],
            [
             1,
             "#f0f921"
            ]
           ],
           "sequentialminus": [
            [
             0,
             "#0d0887"
            ],
            [
             0.1111111111111111,
             "#46039f"
            ],
            [
             0.2222222222222222,
             "#7201a8"
            ],
            [
             0.3333333333333333,
             "#9c179e"
            ],
            [
             0.4444444444444444,
             "#bd3786"
            ],
            [
             0.5555555555555556,
             "#d8576b"
            ],
            [
             0.6666666666666666,
             "#ed7953"
            ],
            [
             0.7777777777777778,
             "#fb9f3a"
            ],
            [
             0.8888888888888888,
             "#fdca26"
            ],
            [
             1,
             "#f0f921"
            ]
           ]
          },
          "colorway": [
           "#636efa",
           "#EF553B",
           "#00cc96",
           "#ab63fa",
           "#FFA15A",
           "#19d3f3",
           "#FF6692",
           "#B6E880",
           "#FF97FF",
           "#FECB52"
          ],
          "font": {
           "color": "#2a3f5f"
          },
          "geo": {
           "bgcolor": "white",
           "lakecolor": "white",
           "landcolor": "#E5ECF6",
           "showlakes": true,
           "showland": true,
           "subunitcolor": "white"
          },
          "hoverlabel": {
           "align": "left"
          },
          "hovermode": "closest",
          "mapbox": {
           "style": "light"
          },
          "paper_bgcolor": "white",
          "plot_bgcolor": "#E5ECF6",
          "polar": {
           "angularaxis": {
            "gridcolor": "white",
            "linecolor": "white",
            "ticks": ""
           },
           "bgcolor": "#E5ECF6",
           "radialaxis": {
            "gridcolor": "white",
            "linecolor": "white",
            "ticks": ""
           }
          },
          "scene": {
           "xaxis": {
            "backgroundcolor": "#E5ECF6",
            "gridcolor": "white",
            "gridwidth": 2,
            "linecolor": "white",
            "showbackground": true,
            "ticks": "",
            "zerolinecolor": "white"
           },
           "yaxis": {
            "backgroundcolor": "#E5ECF6",
            "gridcolor": "white",
            "gridwidth": 2,
            "linecolor": "white",
            "showbackground": true,
            "ticks": "",
            "zerolinecolor": "white"
           },
           "zaxis": {
            "backgroundcolor": "#E5ECF6",
            "gridcolor": "white",
            "gridwidth": 2,
            "linecolor": "white",
            "showbackground": true,
            "ticks": "",
            "zerolinecolor": "white"
           }
          },
          "shapedefaults": {
           "line": {
            "color": "#2a3f5f"
           }
          },
          "ternary": {
           "aaxis": {
            "gridcolor": "white",
            "linecolor": "white",
            "ticks": ""
           },
           "baxis": {
            "gridcolor": "white",
            "linecolor": "white",
            "ticks": ""
           },
           "bgcolor": "#E5ECF6",
           "caxis": {
            "gridcolor": "white",
            "linecolor": "white",
            "ticks": ""
           }
          },
          "title": {
           "x": 0.05
          },
          "xaxis": {
           "automargin": true,
           "gridcolor": "white",
           "linecolor": "white",
           "ticks": "",
           "title": {
            "standoff": 15
           },
           "zerolinecolor": "white",
           "zerolinewidth": 2
          },
          "yaxis": {
           "automargin": true,
           "gridcolor": "white",
           "linecolor": "white",
           "ticks": "",
           "title": {
            "standoff": 15
           },
           "zerolinecolor": "white",
           "zerolinewidth": 2
          }
         }
        },
        "title": {
         "text": "Actual vs. Predicted"
        },
        "xaxis": {
         "title": {
          "text": "Time"
         }
        },
        "yaxis": {
         "title": {
          "text": "Value"
         }
        }
       }
      }
     },
     "metadata": {},
     "output_type": "display_data"
    }
   ],
   "source": [
    "plot_actual_vs_predicted(input_data_fitted,actual,predicted)"
   ]
  },
  {
   "cell_type": "code",
   "execution_count": 59,
   "metadata": {},
   "outputs": [
    {
     "name": "stderr",
     "output_type": "stream",
     "text": [
      "/home/iffi/anaconda3/lib/python3.9/site-packages/numpy/core/shape_base.py:65: VisibleDeprecationWarning: Creating an ndarray from nested sequences exceeding the maximum number of dimensions of 32 is deprecated. If you mean to do this, you must specify 'dtype=object' when creating the ndarray.\n",
      "  ary = asanyarray(ary)\n"
     ]
    },
    {
     "ename": "ValueError",
     "evalue": "x and y can be no greater than 2D, but have shapes (24,) and (24, 1, 1, 1, 1, 1, 1, 1, 1, 1, 1, 1, 1, 1, 1, 1, 1, 1, 1, 1, 1, 1, 1, 1, 1, 1, 1, 1, 1, 1, 1, 1)",
     "output_type": "error",
     "traceback": [
      "\u001b[0;31m---------------------------------------------------------------------------\u001b[0m",
      "\u001b[0;31mValueError\u001b[0m                                Traceback (most recent call last)",
      "\u001b[0;32m/tmp/ipykernel_34719/337738470.py\u001b[0m in \u001b[0;36m<module>\u001b[0;34m\u001b[0m\n\u001b[1;32m      2\u001b[0m \u001b[0mplt\u001b[0m\u001b[0;34m.\u001b[0m\u001b[0mfigure\u001b[0m\u001b[0;34m(\u001b[0m\u001b[0mfigsize\u001b[0m\u001b[0;34m=\u001b[0m\u001b[0;34m(\u001b[0m\u001b[0;36m8\u001b[0m\u001b[0;34m,\u001b[0m \u001b[0;36m5\u001b[0m\u001b[0;34m)\u001b[0m\u001b[0;34m)\u001b[0m\u001b[0;34m\u001b[0m\u001b[0;34m\u001b[0m\u001b[0m\n\u001b[1;32m      3\u001b[0m \u001b[0mplt\u001b[0m\u001b[0;34m.\u001b[0m\u001b[0mplot\u001b[0m\u001b[0;34m(\u001b[0m\u001b[0mtesting\u001b[0m\u001b[0;34m[\u001b[0m\u001b[0;36m100\u001b[0m\u001b[0;34m:\u001b[0m\u001b[0;36m24\u001b[0m\u001b[0;34m]\u001b[0m\u001b[0;34m,\u001b[0m \u001b[0mlabel\u001b[0m\u001b[0;34m=\u001b[0m\u001b[0;34m\"Actual\"\u001b[0m\u001b[0;34m)\u001b[0m\u001b[0;34m\u001b[0m\u001b[0;34m\u001b[0m\u001b[0m\n\u001b[0;32m----> 4\u001b[0;31m \u001b[0mplt\u001b[0m\u001b[0;34m.\u001b[0m\u001b[0mplot\u001b[0m\u001b[0;34m(\u001b[0m\u001b[0mtest_pred\u001b[0m\u001b[0;34m,\u001b[0m \u001b[0mlabel\u001b[0m\u001b[0;34m=\u001b[0m\u001b[0;34m\"Forecast\"\u001b[0m\u001b[0;34m)\u001b[0m\u001b[0;34m\u001b[0m\u001b[0;34m\u001b[0m\u001b[0m\n\u001b[0m\u001b[1;32m      5\u001b[0m \u001b[0mplt\u001b[0m\u001b[0;34m.\u001b[0m\u001b[0mtitle\u001b[0m\u001b[0;34m(\u001b[0m\u001b[0;34m\"Testing Data - Actual vs Forecast\"\u001b[0m\u001b[0;34m)\u001b[0m\u001b[0;34m\u001b[0m\u001b[0;34m\u001b[0m\u001b[0m\n\u001b[1;32m      6\u001b[0m \u001b[0mplt\u001b[0m\u001b[0;34m.\u001b[0m\u001b[0mxlabel\u001b[0m\u001b[0;34m(\u001b[0m\u001b[0;34m\"Time\"\u001b[0m\u001b[0;34m)\u001b[0m\u001b[0;34m\u001b[0m\u001b[0;34m\u001b[0m\u001b[0m\n",
      "\u001b[0;32m~/anaconda3/lib/python3.9/site-packages/matplotlib/pyplot.py\u001b[0m in \u001b[0;36mplot\u001b[0;34m(scalex, scaley, data, *args, **kwargs)\u001b[0m\n\u001b[1;32m   2767\u001b[0m \u001b[0;34m@\u001b[0m\u001b[0m_copy_docstring_and_deprecators\u001b[0m\u001b[0;34m(\u001b[0m\u001b[0mAxes\u001b[0m\u001b[0;34m.\u001b[0m\u001b[0mplot\u001b[0m\u001b[0;34m)\u001b[0m\u001b[0;34m\u001b[0m\u001b[0;34m\u001b[0m\u001b[0m\n\u001b[1;32m   2768\u001b[0m \u001b[0;32mdef\u001b[0m \u001b[0mplot\u001b[0m\u001b[0;34m(\u001b[0m\u001b[0;34m*\u001b[0m\u001b[0margs\u001b[0m\u001b[0;34m,\u001b[0m \u001b[0mscalex\u001b[0m\u001b[0;34m=\u001b[0m\u001b[0;32mTrue\u001b[0m\u001b[0;34m,\u001b[0m \u001b[0mscaley\u001b[0m\u001b[0;34m=\u001b[0m\u001b[0;32mTrue\u001b[0m\u001b[0;34m,\u001b[0m \u001b[0mdata\u001b[0m\u001b[0;34m=\u001b[0m\u001b[0;32mNone\u001b[0m\u001b[0;34m,\u001b[0m \u001b[0;34m**\u001b[0m\u001b[0mkwargs\u001b[0m\u001b[0;34m)\u001b[0m\u001b[0;34m:\u001b[0m\u001b[0;34m\u001b[0m\u001b[0;34m\u001b[0m\u001b[0m\n\u001b[0;32m-> 2769\u001b[0;31m     return gca().plot(\n\u001b[0m\u001b[1;32m   2770\u001b[0m         \u001b[0;34m*\u001b[0m\u001b[0margs\u001b[0m\u001b[0;34m,\u001b[0m \u001b[0mscalex\u001b[0m\u001b[0;34m=\u001b[0m\u001b[0mscalex\u001b[0m\u001b[0;34m,\u001b[0m \u001b[0mscaley\u001b[0m\u001b[0;34m=\u001b[0m\u001b[0mscaley\u001b[0m\u001b[0;34m,\u001b[0m\u001b[0;34m\u001b[0m\u001b[0;34m\u001b[0m\u001b[0m\n\u001b[1;32m   2771\u001b[0m         **({\"data\": data} if data is not None else {}), **kwargs)\n",
      "\u001b[0;32m~/anaconda3/lib/python3.9/site-packages/matplotlib/axes/_axes.py\u001b[0m in \u001b[0;36mplot\u001b[0;34m(self, scalex, scaley, data, *args, **kwargs)\u001b[0m\n\u001b[1;32m   1630\u001b[0m         \"\"\"\n\u001b[1;32m   1631\u001b[0m         \u001b[0mkwargs\u001b[0m \u001b[0;34m=\u001b[0m \u001b[0mcbook\u001b[0m\u001b[0;34m.\u001b[0m\u001b[0mnormalize_kwargs\u001b[0m\u001b[0;34m(\u001b[0m\u001b[0mkwargs\u001b[0m\u001b[0;34m,\u001b[0m \u001b[0mmlines\u001b[0m\u001b[0;34m.\u001b[0m\u001b[0mLine2D\u001b[0m\u001b[0;34m)\u001b[0m\u001b[0;34m\u001b[0m\u001b[0;34m\u001b[0m\u001b[0m\n\u001b[0;32m-> 1632\u001b[0;31m         \u001b[0mlines\u001b[0m \u001b[0;34m=\u001b[0m \u001b[0;34m[\u001b[0m\u001b[0;34m*\u001b[0m\u001b[0mself\u001b[0m\u001b[0;34m.\u001b[0m\u001b[0m_get_lines\u001b[0m\u001b[0;34m(\u001b[0m\u001b[0;34m*\u001b[0m\u001b[0margs\u001b[0m\u001b[0;34m,\u001b[0m \u001b[0mdata\u001b[0m\u001b[0;34m=\u001b[0m\u001b[0mdata\u001b[0m\u001b[0;34m,\u001b[0m \u001b[0;34m**\u001b[0m\u001b[0mkwargs\u001b[0m\u001b[0;34m)\u001b[0m\u001b[0;34m]\u001b[0m\u001b[0;34m\u001b[0m\u001b[0;34m\u001b[0m\u001b[0m\n\u001b[0m\u001b[1;32m   1633\u001b[0m         \u001b[0;32mfor\u001b[0m \u001b[0mline\u001b[0m \u001b[0;32min\u001b[0m \u001b[0mlines\u001b[0m\u001b[0;34m:\u001b[0m\u001b[0;34m\u001b[0m\u001b[0;34m\u001b[0m\u001b[0m\n\u001b[1;32m   1634\u001b[0m             \u001b[0mself\u001b[0m\u001b[0;34m.\u001b[0m\u001b[0madd_line\u001b[0m\u001b[0;34m(\u001b[0m\u001b[0mline\u001b[0m\u001b[0;34m)\u001b[0m\u001b[0;34m\u001b[0m\u001b[0;34m\u001b[0m\u001b[0m\n",
      "\u001b[0;32m~/anaconda3/lib/python3.9/site-packages/matplotlib/axes/_base.py\u001b[0m in \u001b[0;36m__call__\u001b[0;34m(self, data, *args, **kwargs)\u001b[0m\n\u001b[1;32m    310\u001b[0m                 \u001b[0mthis\u001b[0m \u001b[0;34m+=\u001b[0m \u001b[0margs\u001b[0m\u001b[0;34m[\u001b[0m\u001b[0;36m0\u001b[0m\u001b[0;34m]\u001b[0m\u001b[0;34m,\u001b[0m\u001b[0;34m\u001b[0m\u001b[0;34m\u001b[0m\u001b[0m\n\u001b[1;32m    311\u001b[0m                 \u001b[0margs\u001b[0m \u001b[0;34m=\u001b[0m \u001b[0margs\u001b[0m\u001b[0;34m[\u001b[0m\u001b[0;36m1\u001b[0m\u001b[0;34m:\u001b[0m\u001b[0;34m]\u001b[0m\u001b[0;34m\u001b[0m\u001b[0;34m\u001b[0m\u001b[0m\n\u001b[0;32m--> 312\u001b[0;31m             \u001b[0;32myield\u001b[0m \u001b[0;32mfrom\u001b[0m \u001b[0mself\u001b[0m\u001b[0;34m.\u001b[0m\u001b[0m_plot_args\u001b[0m\u001b[0;34m(\u001b[0m\u001b[0mthis\u001b[0m\u001b[0;34m,\u001b[0m \u001b[0mkwargs\u001b[0m\u001b[0;34m)\u001b[0m\u001b[0;34m\u001b[0m\u001b[0;34m\u001b[0m\u001b[0m\n\u001b[0m\u001b[1;32m    313\u001b[0m \u001b[0;34m\u001b[0m\u001b[0m\n\u001b[1;32m    314\u001b[0m     \u001b[0;32mdef\u001b[0m \u001b[0mget_next_color\u001b[0m\u001b[0;34m(\u001b[0m\u001b[0mself\u001b[0m\u001b[0;34m)\u001b[0m\u001b[0;34m:\u001b[0m\u001b[0;34m\u001b[0m\u001b[0;34m\u001b[0m\u001b[0m\n",
      "\u001b[0;32m~/anaconda3/lib/python3.9/site-packages/matplotlib/axes/_base.py\u001b[0m in \u001b[0;36m_plot_args\u001b[0;34m(self, tup, kwargs, return_kwargs)\u001b[0m\n\u001b[1;32m    499\u001b[0m                              f\"have shapes {x.shape} and {y.shape}\")\n\u001b[1;32m    500\u001b[0m         \u001b[0;32mif\u001b[0m \u001b[0mx\u001b[0m\u001b[0;34m.\u001b[0m\u001b[0mndim\u001b[0m \u001b[0;34m>\u001b[0m \u001b[0;36m2\u001b[0m \u001b[0;32mor\u001b[0m \u001b[0my\u001b[0m\u001b[0;34m.\u001b[0m\u001b[0mndim\u001b[0m \u001b[0;34m>\u001b[0m \u001b[0;36m2\u001b[0m\u001b[0;34m:\u001b[0m\u001b[0;34m\u001b[0m\u001b[0;34m\u001b[0m\u001b[0m\n\u001b[0;32m--> 501\u001b[0;31m             raise ValueError(f\"x and y can be no greater than 2D, but have \"\n\u001b[0m\u001b[1;32m    502\u001b[0m                              f\"shapes {x.shape} and {y.shape}\")\n\u001b[1;32m    503\u001b[0m         \u001b[0;32mif\u001b[0m \u001b[0mx\u001b[0m\u001b[0;34m.\u001b[0m\u001b[0mndim\u001b[0m \u001b[0;34m==\u001b[0m \u001b[0;36m1\u001b[0m\u001b[0;34m:\u001b[0m\u001b[0;34m\u001b[0m\u001b[0;34m\u001b[0m\u001b[0m\n",
      "\u001b[0;31mValueError\u001b[0m: x and y can be no greater than 2D, but have shapes (24,) and (24, 1, 1, 1, 1, 1, 1, 1, 1, 1, 1, 1, 1, 1, 1, 1, 1, 1, 1, 1, 1, 1, 1, 1, 1, 1, 1, 1, 1, 1, 1, 1)"
     ]
    },
    {
     "data": {
      "image/png": "[encoded data removed]",
      "text/plain": [
       "<Figure size 800x500 with 1 Axes>"
      ]
     },
     "metadata": {},
     "output_type": "display_data"
    }
   ],
   "source": [
    "\n",
    "# Plot the predictions and actual values\n",
    "plt.figure(figsize=(8, 5))\n",
    "plt.plot(testing[100:24], label=\"Actual\")\n",
    "plt.plot(test_pred, label=\"Forecast\")\n",
    "plt.title(\"Testing Data - Actual vs Forecast\")\n",
    "plt.xlabel(\"Time\")\n",
    "plt.ylabel(\"Value\")\n",
    "plt.legend()\n",
    "plt.show()\n"
   ]
  }
 ],
 "metadata": {
  "kernelspec": {
   "display_name": "tensorflow",
   "language": "python",
   "name": "python3"
  },
  "language_info": {
   "codemirror_mode": {
    "name": "ipython",
    "version": 3
   },
   "file_extension": ".py",
   "mimetype": "text/x-python",
   "name": "python",
   "nbconvert_exporter": "python",
   "pygments_lexer": "ipython3",
   "version": "3.9.13"
  },
  "orig_nbformat": 4
 },
 "nbformat": 4,
 "nbformat_minor": 2
}
