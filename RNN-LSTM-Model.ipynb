{
 "cells": [
  {
   "cell_type": "code",
   "execution_count": 44,
   "metadata": {},
   "outputs": [],
   "source": [
    "# Import necessary libraries\n",
    "import pandas as pd\n",
    "import numpy as np\n",
    "import glob\n",
    "import re\n",
    "from tqdm import tqdm\n",
    "\n",
    "import plotly.graph_objects as go\n",
    "\n",
    "# proprocessing\n",
    "from sklearn import preprocessing\n",
    "import keras\n",
    "from keras.models import Sequential\n",
    "from keras.layers.core import Dense, Dropout,Activation \n",
    "from keras.layers import LSTM\n",
    "from keras.models import load_model\n",
    "import matplotlib.pyplot as plt\n",
    "import h5py\n",
    "import datetime\n",
    "import tensorflow as tf"
   ]
  },
  {
   "cell_type": "code",
   "execution_count": 45,
   "metadata": {},
   "outputs": [
    {
     "name": "stdout",
     "output_type": "stream",
     "text": [
      "Num GPUs Available:  1\n"
     ]
    }
   ],
   "source": [
    "import tensorflow as tf\n",
    "print(\"Num GPUs Available: \", len(tf.config.list_physical_devices('GPU')))"
   ]
  },
  {
   "cell_type": "code",
   "execution_count": 46,
   "metadata": {},
   "outputs": [],
   "source": [
    "def downsample_dataframe(df, downsampling_frequency, fill_method='mean'):\n",
    "  \"\"\"\n",
    "  Downsamples a DataFrame and fills missing values.\n",
    "\n",
    "  Args:\n",
    "    df: The DataFrame to downsample.\n",
    "    downsampling_frequency: The frequency to downsample the DataFrame to.\n",
    "    fill_method: The method to use to fill missing values.\n",
    "\n",
    "  Returns:\n",
    "    The downsampled DataFrame.\n",
    "  \"\"\"\n",
    "\n",
    "  # Convert the Timestamp column to a datetime object.\n",
    "  df['Timestamp'] = pd.to_datetime(df['Timestamp'])\n",
    "\n",
    "  # Set the index of the DataFrame to the Timestamp column.\n",
    "  df = df.set_index('Timestamp')\n",
    "\n",
    "  # Fill the missing values.\n",
    "  if fill_method == 'mean':\n",
    "    df = df.fillna(df.mean())\n",
    "  elif fill_method == 'median':\n",
    "    df = df.fillna(df.median())\n",
    "  else:\n",
    "    raise ValueError('Invalid fill_method: {}'.format(fill_method))\n",
    "\n",
    "  # Downsample the DataFrame.\n",
    "  df = df.resample(downsampling_frequency).mean()\n",
    "  return df\n",
    "  # Check if any missing values were created after downsampling.\n",
    "  if df.isna().any():\n",
    "    df = df.fillna(df.mean())\n",
    "\n",
    "  return df\n",
    "\n",
    "\n",
    "\n"
   ]
  },
  {
   "cell_type": "code",
   "execution_count": 47,
   "metadata": {},
   "outputs": [
    {
     "name": "stdout",
     "output_type": "stream",
     "text": [
      "['GreenD_reduced_version_03/greend_dataset_466.csv', 'GreenD_reduced_version_03/greend_dataset_341.csv', 'GreenD_reduced_version_03/greend_dataset_137.csv', 'GreenD_reduced_version_03/greend_dataset_32.csv', 'GreenD_reduced_version_03/greend_dataset_370.csv', 'GreenD_reduced_version_03/greend_dataset_35.csv', 'GreenD_reduced_version_03/greend_dataset_180.csv', 'GreenD_reduced_version_03/greend_dataset_204.csv', 'GreenD_reduced_version_03/greend_dataset_114.csv', 'GreenD_reduced_version_03/greend_dataset_377.csv', 'GreenD_reduced_version_03/greend_dataset_338.csv', 'GreenD_reduced_version_03/greend_dataset_179.csv', 'GreenD_reduced_version_03/greend_dataset_363.csv', 'GreenD_reduced_version_03/greend_dataset_80.csv', 'GreenD_reduced_version_03/greend_dataset_78.csv', 'GreenD_reduced_version_03/greend_dataset_464.csv', 'GreenD_reduced_version_03/greend_dataset_74.csv', 'GreenD_reduced_version_03/greend_dataset_365.csv', 'GreenD_reduced_version_03/greend_dataset_387.csv', 'GreenD_reduced_version_03/greend_dataset_218.csv', 'GreenD_reduced_version_03/greend_dataset_306.csv', 'GreenD_reduced_version_03/greend_dataset_221.csv', 'GreenD_reduced_version_03/greend_dataset_84.csv', 'GreenD_reduced_version_03/greend_dataset_300.csv', 'GreenD_reduced_version_03/greend_dataset_389.csv', 'GreenD_reduced_version_03/greend_dataset_380.csv', 'GreenD_reduced_version_03/greend_dataset_54.csv', 'GreenD_reduced_version_03/greend_dataset_435.csv', 'GreenD_reduced_version_03/greend_dataset_143.csv', 'GreenD_reduced_version_03/greend_dataset_169.csv', 'GreenD_reduced_version_03/greend_dataset_421.csv', 'GreenD_reduced_version_03/greend_dataset_277.csv', 'GreenD_reduced_version_03/greend_dataset_294.csv', 'GreenD_reduced_version_03/greend_dataset_185.csv', 'GreenD_reduced_version_03/greend_dataset_392.csv', 'GreenD_reduced_version_03/greend_dataset_140.csv', 'GreenD_reduced_version_03/greend_dataset_122.csv', 'GreenD_reduced_version_03/greend_dataset_381.csv', 'GreenD_reduced_version_03/greend_dataset_177.csv', 'GreenD_reduced_version_03/greend_dataset_210.csv', 'GreenD_reduced_version_03/greend_dataset_448.csv', 'GreenD_reduced_version_03/greend_dataset_66.csv', 'GreenD_reduced_version_03/greend_dataset_354.csv', 'GreenD_reduced_version_03/greend_dataset_279.csv', 'GreenD_reduced_version_03/greend_dataset_175.csv', 'GreenD_reduced_version_03/greend_dataset_240.csv', 'GreenD_reduced_version_03/greend_dataset_250.csv', 'GreenD_reduced_version_03/greend_dataset_100.csv', 'GreenD_reduced_version_03/greend_dataset_318.csv', 'GreenD_reduced_version_03/greend_dataset_5.csv', 'GreenD_reduced_version_03/greend_dataset_290.csv', 'GreenD_reduced_version_03/greend_dataset_357.csv', 'GreenD_reduced_version_03/greend_dataset_29.csv', 'GreenD_reduced_version_03/greend_dataset_285.csv', 'GreenD_reduced_version_03/greend_dataset_174.csv', 'GreenD_reduced_version_03/greend_dataset_159.csv', 'GreenD_reduced_version_03/greend_dataset_198.csv', 'GreenD_reduced_version_03/greend_dataset_77.csv', 'GreenD_reduced_version_03/greend_dataset_291.csv', 'GreenD_reduced_version_03/greend_dataset_214.csv', 'GreenD_reduced_version_03/greend_dataset_192.csv', 'GreenD_reduced_version_03/greend_dataset_384.csv', 'GreenD_reduced_version_03/greend_dataset_437.csv', 'GreenD_reduced_version_03/greend_dataset_324.csv', 'GreenD_reduced_version_03/greend_dataset_99.csv', 'GreenD_reduced_version_03/greend_dataset_274.csv', 'GreenD_reduced_version_03/greend_dataset_311.csv', 'GreenD_reduced_version_03/greend_dataset_145.csv', 'GreenD_reduced_version_03/greend_dataset_101.csv', 'GreenD_reduced_version_03/greend_dataset_454.csv', 'GreenD_reduced_version_03/greend_dataset_158.csv', 'GreenD_reduced_version_03/greend_dataset_393.csv', 'GreenD_reduced_version_03/greend_dataset_266.csv', 'GreenD_reduced_version_03/greend_dataset_405.csv', 'GreenD_reduced_version_03/greend_dataset_148.csv', 'GreenD_reduced_version_03/greend_dataset_196.csv', 'GreenD_reduced_version_03/greend_dataset_27.csv', 'GreenD_reduced_version_03/greend_dataset_305.csv', 'GreenD_reduced_version_03/greend_dataset_282.csv', 'GreenD_reduced_version_03/greend_dataset_343.csv', 'GreenD_reduced_version_03/greend_dataset_256.csv', 'GreenD_reduced_version_03/greend_dataset_323.csv', 'GreenD_reduced_version_03/greend_dataset_183.csv', 'GreenD_reduced_version_03/greend_dataset_334.csv', 'GreenD_reduced_version_03/greend_dataset_422.csv', 'GreenD_reduced_version_03/greend_dataset_398.csv', 'GreenD_reduced_version_03/greend_dataset_278.csv', 'GreenD_reduced_version_03/greend_dataset_150.csv', 'GreenD_reduced_version_03/greend_dataset_359.csv', 'GreenD_reduced_version_03/greend_dataset_265.csv', 'GreenD_reduced_version_03/greend_dataset_235.csv', 'GreenD_reduced_version_03/greend_dataset_65.csv', 'GreenD_reduced_version_03/greend_dataset_128.csv', 'GreenD_reduced_version_03/greend_dataset_264.csv', 'GreenD_reduced_version_03/greend_dataset_72.csv', 'GreenD_reduced_version_03/greend_dataset_205.csv', 'GreenD_reduced_version_03/greend_dataset_319.csv', 'GreenD_reduced_version_03/greend_dataset_332.csv', 'GreenD_reduced_version_03/greend_dataset_385.csv', 'GreenD_reduced_version_03/greend_dataset_118.csv', 'GreenD_reduced_version_03/greend_dataset_452.csv', 'GreenD_reduced_version_03/greend_dataset_212.csv', 'GreenD_reduced_version_03/greend_dataset_49.csv', 'GreenD_reduced_version_03/greend_dataset_34.csv', 'GreenD_reduced_version_03/greend_dataset_406.csv', 'GreenD_reduced_version_03/greend_dataset_97.csv', 'GreenD_reduced_version_03/greend_dataset_390.csv', 'GreenD_reduced_version_03/greend_dataset_187.csv', 'GreenD_reduced_version_03/greend_dataset_13.csv', 'GreenD_reduced_version_03/greend_dataset_383.csv', 'GreenD_reduced_version_03/greend_dataset_69.csv', 'GreenD_reduced_version_03/greend_dataset_171.csv', 'GreenD_reduced_version_03/greend_dataset_297.csv', 'GreenD_reduced_version_03/greend_dataset_261.csv', 'GreenD_reduced_version_03/greend_dataset_90.csv', 'GreenD_reduced_version_03/greend_dataset_407.csv', 'GreenD_reduced_version_03/greend_dataset_468.csv', 'GreenD_reduced_version_03/greend_dataset_243.csv', 'GreenD_reduced_version_03/greend_dataset_272.csv', 'GreenD_reduced_version_03/greend_dataset_217.csv', 'GreenD_reduced_version_03/greend_dataset_461.csv', 'GreenD_reduced_version_03/greend_dataset_364.csv', 'GreenD_reduced_version_03/greend_dataset_445.csv', 'GreenD_reduced_version_03/greend_dataset_270.csv', 'GreenD_reduced_version_03/greend_dataset_19.csv', 'GreenD_reduced_version_03/greend_dataset_9.csv', 'GreenD_reduced_version_03/greend_dataset_130.csv', 'GreenD_reduced_version_03/greend_dataset_227.csv', 'GreenD_reduced_version_03/greend_dataset_449.csv', 'GreenD_reduced_version_03/greend_dataset_115.csv', 'GreenD_reduced_version_03/greend_dataset_23.csv', 'GreenD_reduced_version_03/greend_dataset_120.csv', 'GreenD_reduced_version_03/greend_dataset_442.csv', 'GreenD_reduced_version_03/greend_dataset_117.csv', 'GreenD_reduced_version_03/greend_dataset_263.csv', 'GreenD_reduced_version_03/greend_dataset_292.csv', 'GreenD_reduced_version_03/greend_dataset_299.csv', 'GreenD_reduced_version_03/greend_dataset_15.csv', 'GreenD_reduced_version_03/greend_dataset_134.csv', 'GreenD_reduced_version_03/greend_dataset_132.csv', 'GreenD_reduced_version_03/greend_dataset_135.csv', 'GreenD_reduced_version_03/greend_dataset_446.csv', 'GreenD_reduced_version_03/greend_dataset_347.csv', 'GreenD_reduced_version_03/greend_dataset_237.csv', 'GreenD_reduced_version_03/greend_dataset_14.csv', 'GreenD_reduced_version_03/greend_dataset_208.csv', 'GreenD_reduced_version_03/greend_dataset_7.csv', 'GreenD_reduced_version_03/greend_dataset_382.csv', 'GreenD_reduced_version_03/greend_dataset_108.csv', 'GreenD_reduced_version_03/greend_dataset_181.csv', 'GreenD_reduced_version_03/greend_dataset_313.csv', 'GreenD_reduced_version_03/greend_dataset_201.csv', 'GreenD_reduced_version_03/greend_dataset_249.csv', 'GreenD_reduced_version_03/greend_dataset_455.csv', 'GreenD_reduced_version_03/greend_dataset_424.csv', 'GreenD_reduced_version_03/greend_dataset_425.csv', 'GreenD_reduced_version_03/greend_dataset_368.csv', 'GreenD_reduced_version_03/greend_dataset_139.csv', 'GreenD_reduced_version_03/greend_dataset_459.csv', 'GreenD_reduced_version_03/greend_dataset_242.csv', 'GreenD_reduced_version_03/greend_dataset_429.csv', 'GreenD_reduced_version_03/greend_dataset_303.csv', 'GreenD_reduced_version_03/greend_dataset_82.csv', 'GreenD_reduced_version_03/greend_dataset_397.csv', 'GreenD_reduced_version_03/greend_dataset_36.csv', 'GreenD_reduced_version_03/greend_dataset_176.csv', 'GreenD_reduced_version_03/greend_dataset_103.csv', 'GreenD_reduced_version_03/greend_dataset_309.csv', 'GreenD_reduced_version_03/greend_dataset_374.csv', 'GreenD_reduced_version_03/greend_dataset_233.csv', 'GreenD_reduced_version_03/greend_dataset_320.csv', 'GreenD_reduced_version_03/greend_dataset_160.csv', 'GreenD_reduced_version_03/greend_dataset_325.csv', 'GreenD_reduced_version_03/greend_dataset_144.csv', 'GreenD_reduced_version_03/greend_dataset_228.csv', 'GreenD_reduced_version_03/greend_dataset_102.csv', 'GreenD_reduced_version_03/greend_dataset_254.csv', 'GreenD_reduced_version_03/greend_dataset_109.csv', 'GreenD_reduced_version_03/greend_dataset_142.csv', 'GreenD_reduced_version_03/greend_dataset_308.csv', 'GreenD_reduced_version_03/greend_dataset_443.csv', 'GreenD_reduced_version_03/greend_dataset_40.csv', 'GreenD_reduced_version_03/greend_dataset_161.csv', 'GreenD_reduced_version_03/greend_dataset_409.csv', 'GreenD_reduced_version_03/greend_dataset_46.csv', 'GreenD_reduced_version_03/greend_dataset_317.csv', 'GreenD_reduced_version_03/greend_dataset_371.csv', 'GreenD_reduced_version_03/greend_dataset_195.csv', 'GreenD_reduced_version_03/greend_dataset_92.csv', 'GreenD_reduced_version_03/greend_dataset_252.csv', 'GreenD_reduced_version_03/greend_dataset_366.csv', 'GreenD_reduced_version_03/greend_dataset_399.csv', 'GreenD_reduced_version_03/greend_dataset_20.csv', 'GreenD_reduced_version_03/greend_dataset_226.csv', 'GreenD_reduced_version_03/greend_dataset_225.csv', 'GreenD_reduced_version_03/greend_dataset_238.csv', 'GreenD_reduced_version_03/greend_dataset_444.csv', 'GreenD_reduced_version_03/greend_dataset_259.csv', 'GreenD_reduced_version_03/greend_dataset_369.csv', 'GreenD_reduced_version_03/greend_dataset_124.csv', 'GreenD_reduced_version_03/greend_dataset_267.csv', 'GreenD_reduced_version_03/greend_dataset_45.csv', 'GreenD_reduced_version_03/greend_dataset_394.csv', 'GreenD_reduced_version_03/greend_dataset_156.csv', 'GreenD_reduced_version_03/greend_dataset_234.csv', 'GreenD_reduced_version_03/greend_dataset_411.csv', 'GreenD_reduced_version_03/greend_dataset_6.csv', 'GreenD_reduced_version_03/greend_dataset_163.csv', 'GreenD_reduced_version_03/greend_dataset_453.csv', 'GreenD_reduced_version_03/greend_dataset_47.csv', 'GreenD_reduced_version_03/greend_dataset_106.csv', 'GreenD_reduced_version_03/greend_dataset_81.csv', 'GreenD_reduced_version_03/greend_dataset_30.csv', 'GreenD_reduced_version_03/greend_dataset_16.csv', 'GreenD_reduced_version_03/greend_dataset_360.csv', 'GreenD_reduced_version_03/greend_dataset_463.csv', 'GreenD_reduced_version_03/greend_dataset_327.csv', 'GreenD_reduced_version_03/greend_dataset_253.csv', 'GreenD_reduced_version_03/greend_dataset_107.csv', 'GreenD_reduced_version_03/greend_dataset_298.csv', 'GreenD_reduced_version_03/greend_dataset_262.csv', 'GreenD_reduced_version_03/greend_dataset_439.csv', 'GreenD_reduced_version_03/greend_dataset_104.csv', 'GreenD_reduced_version_03/greend_dataset_395.csv', 'GreenD_reduced_version_03/greend_dataset_271.csv', 'GreenD_reduced_version_03/greend_dataset_361.csv', 'GreenD_reduced_version_03/greend_dataset_146.csv', 'GreenD_reduced_version_03/greend_dataset_127.csv', 'GreenD_reduced_version_03/greend_dataset_244.csv', 'GreenD_reduced_version_03/greend_dataset_400.csv', 'GreenD_reduced_version_03/greend_dataset_215.csv', 'GreenD_reduced_version_03/greend_dataset_62.csv', 'GreenD_reduced_version_03/greend_dataset_164.csv', 'GreenD_reduced_version_03/greend_dataset_351.csv', 'GreenD_reduced_version_03/greend_dataset_119.csv', 'GreenD_reduced_version_03/greend_dataset_420.csv', 'GreenD_reduced_version_03/greend_dataset_316.csv', 'GreenD_reduced_version_03/greend_dataset_273.csv', 'GreenD_reduced_version_03/greend_dataset_60.csv', 'GreenD_reduced_version_03/greend_dataset_321.csv', 'GreenD_reduced_version_03/greend_dataset_430.csv', 'GreenD_reduced_version_03/greend_dataset_450.csv', 'GreenD_reduced_version_03/greend_dataset_230.csv', 'GreenD_reduced_version_03/greend_dataset_281.csv', 'GreenD_reduced_version_03/greend_dataset_207.csv', 'GreenD_reduced_version_03/greend_dataset_465.csv', 'GreenD_reduced_version_03/greend_dataset_182.csv', 'GreenD_reduced_version_03/greend_dataset_38.csv', 'GreenD_reduced_version_03/greend_dataset_173.csv', 'GreenD_reduced_version_03/greend_dataset_367.csv', 'GreenD_reduced_version_03/greend_dataset_331.csv', 'GreenD_reduced_version_03/greend_dataset_37.csv', 'GreenD_reduced_version_03/greend_dataset_342.csv', 'GreenD_reduced_version_03/greend_dataset_386.csv', 'GreenD_reduced_version_03/greend_dataset_61.csv', 'GreenD_reduced_version_03/greend_dataset_88.csv', 'GreenD_reduced_version_03/greend_dataset_189.csv', 'GreenD_reduced_version_03/greend_dataset_203.csv', 'GreenD_reduced_version_03/greend_dataset_458.csv', 'GreenD_reduced_version_03/greend_dataset_314.csv', 'GreenD_reduced_version_03/greend_dataset_423.csv', 'GreenD_reduced_version_03/greend_dataset_469.csv', 'GreenD_reduced_version_03/greend_dataset_138.csv', 'GreenD_reduced_version_03/greend_dataset_416.csv', 'GreenD_reduced_version_03/greend_dataset_376.csv', 'GreenD_reduced_version_03/greend_dataset_166.csv', 'GreenD_reduced_version_03/greend_dataset_168.csv', 'GreenD_reduced_version_03/greend_dataset_401.csv', 'GreenD_reduced_version_03/greend_dataset_95.csv', 'GreenD_reduced_version_03/greend_dataset_50.csv', 'GreenD_reduced_version_03/greend_dataset_170.csv', 'GreenD_reduced_version_03/greend_dataset_362.csv', 'GreenD_reduced_version_03/greend_dataset_339.csv', 'GreenD_reduced_version_03/greend_dataset_241.csv', 'GreenD_reduced_version_03/greend_dataset_295.csv', 'GreenD_reduced_version_03/greend_dataset_413.csv', 'GreenD_reduced_version_03/greend_dataset_190.csv', 'GreenD_reduced_version_03/greend_dataset_436.csv', 'GreenD_reduced_version_03/greend_dataset_147.csv', 'GreenD_reduced_version_03/greend_dataset_172.csv', 'GreenD_reduced_version_03/greend_dataset_86.csv', 'GreenD_reduced_version_03/greend_dataset_335.csv', 'GreenD_reduced_version_03/greend_dataset_184.csv', 'GreenD_reduced_version_03/greend_dataset_39.csv', 'GreenD_reduced_version_03/greend_dataset_302.csv', 'GreenD_reduced_version_03/greend_dataset_105.csv', 'GreenD_reduced_version_03/greend_dataset_236.csv', 'GreenD_reduced_version_03/greend_dataset_126.csv', 'GreenD_reduced_version_03/greend_dataset_419.csv', 'GreenD_reduced_version_03/greend_dataset_307.csv', 'GreenD_reduced_version_03/greend_dataset_375.csv', 'GreenD_reduced_version_03/greend_dataset_418.csv', 'GreenD_reduced_version_03/greend_dataset_372.csv', 'GreenD_reduced_version_03/greend_dataset_219.csv', 'GreenD_reduced_version_03/greend_dataset_151.csv', 'GreenD_reduced_version_03/greend_dataset_312.csv', 'GreenD_reduced_version_03/greend_dataset_73.csv', 'GreenD_reduced_version_03/greend_dataset_64.csv', 'GreenD_reduced_version_03/greend_dataset_68.csv', 'GreenD_reduced_version_03/greend_dataset_26.csv', 'GreenD_reduced_version_03/greend_dataset_373.csv', 'GreenD_reduced_version_03/greend_dataset_328.csv', 'GreenD_reduced_version_03/greend_dataset_12.csv', 'GreenD_reduced_version_03/greend_dataset_224.csv', 'GreenD_reduced_version_03/greend_dataset_111.csv', 'GreenD_reduced_version_03/greend_dataset_71.csv', 'GreenD_reduced_version_03/greend_dataset_223.csv', 'GreenD_reduced_version_03/greend_dataset_232.csv', 'GreenD_reduced_version_03/greend_dataset_63.csv', 'GreenD_reduced_version_03/greend_dataset_268.csv', 'GreenD_reduced_version_03/greend_dataset_245.csv', 'GreenD_reduced_version_03/greend_dataset_426.csv', 'GreenD_reduced_version_03/greend_dataset_275.csv', 'GreenD_reduced_version_03/greend_dataset_121.csv', 'GreenD_reduced_version_03/greend_dataset_48.csv', 'GreenD_reduced_version_03/greend_dataset_414.csv', 'GreenD_reduced_version_03/greend_dataset_44.csv', 'GreenD_reduced_version_03/greend_dataset_315.csv', 'GreenD_reduced_version_03/greend_dataset_251.csv', 'GreenD_reduced_version_03/greend_dataset_438.csv', 'GreenD_reduced_version_03/greend_dataset_220.csv', 'GreenD_reduced_version_03/greend_dataset_358.csv', 'GreenD_reduced_version_03/greend_dataset_471.csv', 'GreenD_reduced_version_03/greend_dataset_280.csv', 'GreenD_reduced_version_03/greend_dataset_76.csv', 'GreenD_reduced_version_03/greend_dataset_4.csv', 'GreenD_reduced_version_03/greend_dataset_94.csv', 'GreenD_reduced_version_03/greend_dataset_396.csv', 'GreenD_reduced_version_03/greend_dataset_155.csv', 'GreenD_reduced_version_03/greend_dataset_211.csv', 'GreenD_reduced_version_03/greend_dataset_93.csv', 'GreenD_reduced_version_03/greend_dataset_31.csv', 'GreenD_reduced_version_03/greend_dataset_276.csv', 'GreenD_reduced_version_03/greend_dataset_197.csv', 'GreenD_reduced_version_03/greend_dataset_286.csv', 'GreenD_reduced_version_03/greend_dataset_129.csv', 'GreenD_reduced_version_03/greend_dataset_434.csv', 'GreenD_reduced_version_03/greend_dataset_165.csv', 'GreenD_reduced_version_03/greend_dataset_345.csv', 'GreenD_reduced_version_03/greend_dataset_348.csv', 'GreenD_reduced_version_03/greend_dataset_472.csv', 'GreenD_reduced_version_03/greend_dataset_346.csv', 'GreenD_reduced_version_03/greend_dataset_304.csv', 'GreenD_reduced_version_03/greend_dataset_402.csv', 'GreenD_reduced_version_03/greend_dataset_96.csv', 'GreenD_reduced_version_03/greend_dataset_202.csv', 'GreenD_reduced_version_03/greend_dataset_353.csv', 'GreenD_reduced_version_03/greend_dataset_33.csv', 'GreenD_reduced_version_03/greend_dataset_87.csv', 'GreenD_reduced_version_03/greend_dataset_440.csv', 'GreenD_reduced_version_03/greend_dataset_408.csv', 'GreenD_reduced_version_03/greend_dataset_388.csv', 'GreenD_reduced_version_03/greend_dataset_162.csv', 'GreenD_reduced_version_03/greend_dataset_17.csv', 'GreenD_reduced_version_03/greend_dataset_41.csv', 'GreenD_reduced_version_03/greend_dataset_344.csv', 'GreenD_reduced_version_03/greend_dataset_110.csv', 'GreenD_reduced_version_03/greend_dataset_470.csv', 'GreenD_reduced_version_03/greend_dataset_186.csv', 'GreenD_reduced_version_03/greend_dataset_53.csv', 'GreenD_reduced_version_03/greend_dataset_431.csv', 'GreenD_reduced_version_03/greend_dataset_216.csv', 'GreenD_reduced_version_03/greend_dataset_91.csv', 'GreenD_reduced_version_03/greend_dataset_257.csv', 'GreenD_reduced_version_03/greend_dataset_55.csv', 'GreenD_reduced_version_03/greend_dataset_333.csv', 'GreenD_reduced_version_03/greend_dataset_412.csv', 'GreenD_reduced_version_03/greend_dataset_89.csv', 'GreenD_reduced_version_03/greend_dataset_326.csv', 'GreenD_reduced_version_03/greend_dataset_2.csv', 'GreenD_reduced_version_03/greend_dataset_229.csv', 'GreenD_reduced_version_03/greend_dataset_287.csv', 'GreenD_reduced_version_03/greend_dataset_79.csv', 'GreenD_reduced_version_03/greend_dataset_141.csv', 'GreenD_reduced_version_03/greend_dataset_153.csv', 'GreenD_reduced_version_03/greend_dataset_11.csv', 'GreenD_reduced_version_03/greend_dataset_116.csv', 'GreenD_reduced_version_03/greend_dataset_433.csv', 'GreenD_reduced_version_03/greend_dataset_427.csv', 'GreenD_reduced_version_03/greend_dataset_57.csv', 'GreenD_reduced_version_03/greend_dataset_206.csv', 'GreenD_reduced_version_03/greend_dataset_85.csv', 'GreenD_reduced_version_03/greend_dataset_24.csv', 'GreenD_reduced_version_03/greend_dataset_152.csv', 'GreenD_reduced_version_03/greend_dataset_193.csv', 'GreenD_reduced_version_03/greend_dataset_403.csv', 'GreenD_reduced_version_03/greend_dataset_75.csv', 'GreenD_reduced_version_03/greend_dataset_283.csv', 'GreenD_reduced_version_03/greend_dataset_67.csv', 'GreenD_reduced_version_03/greend_dataset_467.csv', 'GreenD_reduced_version_03/greend_dataset_22.csv', 'GreenD_reduced_version_03/greend_dataset_157.csv', 'GreenD_reduced_version_03/greend_dataset_269.csv', 'GreenD_reduced_version_03/greend_dataset_447.csv', 'GreenD_reduced_version_03/greend_dataset_113.csv', 'GreenD_reduced_version_03/greend_dataset_462.csv', 'GreenD_reduced_version_03/greend_dataset_231.csv', 'GreenD_reduced_version_03/greend_dataset_391.csv', 'GreenD_reduced_version_03/greend_dataset_255.csv', 'GreenD_reduced_version_03/greend_dataset_247.csv', 'GreenD_reduced_version_03/greend_dataset_329.csv', 'GreenD_reduced_version_03/greend_dataset_379.csv', 'GreenD_reduced_version_03/greend_dataset_337.csv', 'GreenD_reduced_version_03/greend_dataset_18.csv', 'GreenD_reduced_version_03/greend_dataset_258.csv', 'GreenD_reduced_version_03/greend_dataset_125.csv', 'GreenD_reduced_version_03/greend_dataset_248.csv', 'GreenD_reduced_version_03/greend_dataset_133.csv', 'GreenD_reduced_version_03/greend_dataset_310.csv', 'GreenD_reduced_version_03/greend_dataset_191.csv', 'GreenD_reduced_version_03/greend_dataset_355.csv', 'GreenD_reduced_version_03/greend_dataset_301.csv', 'GreenD_reduced_version_03/greend_dataset_98.csv', 'GreenD_reduced_version_03/greend_dataset_260.csv', 'GreenD_reduced_version_03/greend_dataset_378.csv', 'GreenD_reduced_version_03/greend_dataset_336.csv', 'GreenD_reduced_version_03/greend_dataset_131.csv', 'GreenD_reduced_version_03/greend_dataset_56.csv', 'GreenD_reduced_version_03/greend_dataset_415.csv', 'GreenD_reduced_version_03/greend_dataset_428.csv', 'GreenD_reduced_version_03/greend_dataset_51.csv', 'GreenD_reduced_version_03/greend_dataset_1.csv', 'GreenD_reduced_version_03/greend_dataset_451.csv', 'GreenD_reduced_version_03/greend_dataset_246.csv', 'GreenD_reduced_version_03/greend_dataset_178.csv', 'GreenD_reduced_version_03/greend_dataset_417.csv', 'GreenD_reduced_version_03/greend_dataset_21.csv', 'GreenD_reduced_version_03/greend_dataset_432.csv', 'GreenD_reduced_version_03/greend_dataset_404.csv', 'GreenD_reduced_version_03/greend_dataset_58.csv', 'GreenD_reduced_version_03/greend_dataset_289.csv', 'GreenD_reduced_version_03/greend_dataset_288.csv', 'GreenD_reduced_version_03/greend_dataset_199.csv', 'GreenD_reduced_version_03/greend_dataset_194.csv', 'GreenD_reduced_version_03/greend_dataset_441.csv', 'GreenD_reduced_version_03/greend_dataset_460.csv', 'GreenD_reduced_version_03/greend_dataset_239.csv', 'GreenD_reduced_version_03/greend_dataset_52.csv', 'GreenD_reduced_version_03/greend_dataset_213.csv', 'GreenD_reduced_version_03/greend_dataset_8.csv', 'GreenD_reduced_version_03/greend_dataset_123.csv', 'GreenD_reduced_version_03/greend_dataset_209.csv', 'GreenD_reduced_version_03/greend_dataset_293.csv', 'GreenD_reduced_version_03/greend_dataset_322.csv', 'GreenD_reduced_version_03/greend_dataset_136.csv', 'GreenD_reduced_version_03/greend_dataset_83.csv', 'GreenD_reduced_version_03/greend_dataset_296.csv', 'GreenD_reduced_version_03/greend_dataset_188.csv', 'GreenD_reduced_version_03/greend_dataset_43.csv', 'GreenD_reduced_version_03/greend_dataset_356.csv', 'GreenD_reduced_version_03/greend_dataset_70.csv', 'GreenD_reduced_version_03/greend_dataset_154.csv', 'GreenD_reduced_version_03/greend_dataset_222.csv', 'GreenD_reduced_version_03/greend_dataset_149.csv', 'GreenD_reduced_version_03/greend_dataset_167.csv', 'GreenD_reduced_version_03/greend_dataset_456.csv', 'GreenD_reduced_version_03/greend_dataset_457.csv', 'GreenD_reduced_version_03/greend_dataset_284.csv', 'GreenD_reduced_version_03/greend_dataset_59.csv', 'GreenD_reduced_version_03/greend_dataset_200.csv', 'GreenD_reduced_version_03/greend_dataset_352.csv', 'GreenD_reduced_version_03/greend_dataset_350.csv', 'GreenD_reduced_version_03/greend_dataset_3.csv', 'GreenD_reduced_version_03/greend_dataset_28.csv', 'GreenD_reduced_version_03/greend_dataset_340.csv', 'GreenD_reduced_version_03/greend_dataset_112.csv', 'GreenD_reduced_version_03/greend_dataset_330.csv', 'GreenD_reduced_version_03/greend_dataset_10.csv', 'GreenD_reduced_version_03/greend_dataset_410.csv', 'GreenD_reduced_version_03/greend_dataset_25.csv', 'GreenD_reduced_version_03/greend_dataset_42.csv', 'GreenD_reduced_version_03/greend_dataset_349.csv']\n"
     ]
    },
    {
     "name": "stderr",
     "output_type": "stream",
     "text": [
      "processing: 100%|██████████| 472/472 [00:31<00:00, 14.87it/s]\n"
     ]
    },
    {
     "name": "stdout",
     "output_type": "stream",
     "text": [
      "mkdir: cannot create directory ‘Combined-Dataset-version-03’: File exists\n"
     ]
    }
   ],
   "source": [
    "path_lists = glob.glob('GreenD_reduced_version_03/'+'*.csv')\n",
    "sorted_file_paths = sorted(path_lists)\n",
    "def extract_digits(string):\n",
    "    # Extract digits from the string using regular expression\n",
    "    digits = re.findall(r'\\d+', string)\n",
    "    return int(digits[0]) if digits else 0\n",
    "\n",
    "sorted_file_paths = sorted(path_lists, key=extract_digits)\n",
    "print(sorted_file_paths)\n",
    "\n",
    "conct_list = []\n",
    "for path in tqdm(sorted_file_paths ,desc='processing'):\n",
    "    \n",
    "    data = pd.read_csv(path)\n",
    "    data['Timestamp'] = pd.to_datetime(data['Timestamp'],utc=True,unit='s')#format='%Y-%m-%d %H-%M-%S')\n",
    "    data['Timestamp'] = data['Timestamp'].dt.strftime('%Y-%m-%d %H:%M:%S')\n",
    "    conct_list.append(data)\n",
    "!mkdir 'Combined-Dataset-version-03'\n",
    "df = pd.concat(conct_list)\n"
   ]
  },
  {
   "cell_type": "code",
   "execution_count": 48,
   "metadata": {},
   "outputs": [],
   "source": [
    "\n",
    "\n",
    "# Downsample the DataFrame to 1-hour frequency and fill missing values using mean imputation.\n",
    "df_1_hour = downsample_dataframe(df, '1H', fill_method='mean')\n",
    "df_1_hour.reset_index('Timestamp',inplace=True)\n",
    "df_1_hour.fillna(method='ffill',inplace=True)\n",
    "\n",
    "# Downsample the DataFrame to 15-minute frequency and fill missing values using median imputation.\n",
    "# df_15_min = downsample_dataframe(df, '15T', fill_method='mean')\n",
    "# df_15_min.reset_index('Timestamp',inplace=True)\n",
    "# df_15_min.fillna(method='ffill',inplace=True)\n",
    "\n",
    "# Downsample the DataFrame to 30-minute frequency and fill missing values using median imputation.\n",
    "# df_30_min = downsample_dataframe(df, '30T', fill_method='mean')\n",
    "# df_30_min.reset_index('Timestamp',inplace=True)\n",
    "# df_30_min.fillna(method='ffill',inplace=True)\n",
    "\n",
    "# Downsample the DataFrame to 1 Day frequency and fill missing values using median imputation.\n",
    "# df_1_day = downsample_dataframe(df, '1d', fill_method='mean')\n",
    "# df_1_day.reset_index('Timestamp',inplace=True)\n",
    "# df_1_day.fillna(method='ffill',inplace=True)\n",
    "\n",
    "# Downsample the DataFrame to 7 Day frequency and fill missing values using median imputation.\n",
    "# df_7_day = downsample_dataframe(df, '7d', fill_method='mean')\n",
    "# df_7_day.reset_index('Timestamp',inplace=True)\n",
    "# df_7_day.fillna(method='ffill',inplace=True)"
   ]
  },
  {
   "cell_type": "code",
   "execution_count": 49,
   "metadata": {},
   "outputs": [
    {
     "data": {
      "text/html": [
       "<div>\n",
       "<style scoped>\n",
       "    .dataframe tbody tr th:only-of-type {\n",
       "        vertical-align: middle;\n",
       "    }\n",
       "\n",
       "    .dataframe tbody tr th {\n",
       "        vertical-align: top;\n",
       "    }\n",
       "\n",
       "    .dataframe thead th {\n",
       "        text-align: right;\n",
       "    }\n",
       "</style>\n",
       "<table border=\"1\" class=\"dataframe\">\n",
       "  <thead>\n",
       "    <tr style=\"text-align: right;\">\n",
       "      <th></th>\n",
       "      <th>Timestamp</th>\n",
       "      <th>Summe</th>\n",
       "    </tr>\n",
       "  </thead>\n",
       "  <tbody>\n",
       "    <tr>\n",
       "      <th>0</th>\n",
       "      <td>2014-03-12 07:00:00</td>\n",
       "      <td>66.321410</td>\n",
       "    </tr>\n",
       "    <tr>\n",
       "      <th>1</th>\n",
       "      <td>2014-03-12 08:00:00</td>\n",
       "      <td>14.977094</td>\n",
       "    </tr>\n",
       "    <tr>\n",
       "      <th>2</th>\n",
       "      <td>2014-03-12 09:00:00</td>\n",
       "      <td>27.099825</td>\n",
       "    </tr>\n",
       "    <tr>\n",
       "      <th>3</th>\n",
       "      <td>2014-03-12 10:00:00</td>\n",
       "      <td>14.787116</td>\n",
       "    </tr>\n",
       "    <tr>\n",
       "      <th>4</th>\n",
       "      <td>2014-03-12 11:00:00</td>\n",
       "      <td>27.785160</td>\n",
       "    </tr>\n",
       "    <tr>\n",
       "      <th>...</th>\n",
       "      <td>...</td>\n",
       "      <td>...</td>\n",
       "    </tr>\n",
       "    <tr>\n",
       "      <th>11386</th>\n",
       "      <td>2015-06-29 17:00:00</td>\n",
       "      <td>80.591582</td>\n",
       "    </tr>\n",
       "    <tr>\n",
       "      <th>11387</th>\n",
       "      <td>2015-06-29 18:00:00</td>\n",
       "      <td>52.420814</td>\n",
       "    </tr>\n",
       "    <tr>\n",
       "      <th>11388</th>\n",
       "      <td>2015-06-29 19:00:00</td>\n",
       "      <td>46.189453</td>\n",
       "    </tr>\n",
       "    <tr>\n",
       "      <th>11389</th>\n",
       "      <td>2015-06-29 20:00:00</td>\n",
       "      <td>58.697892</td>\n",
       "    </tr>\n",
       "    <tr>\n",
       "      <th>11390</th>\n",
       "      <td>2015-06-29 21:00:00</td>\n",
       "      <td>68.694625</td>\n",
       "    </tr>\n",
       "  </tbody>\n",
       "</table>\n",
       "<p>11391 rows × 2 columns</p>\n",
       "</div>"
      ],
      "text/plain": [
       "                Timestamp      Summe\n",
       "0     2014-03-12 07:00:00  66.321410\n",
       "1     2014-03-12 08:00:00  14.977094\n",
       "2     2014-03-12 09:00:00  27.099825\n",
       "3     2014-03-12 10:00:00  14.787116\n",
       "4     2014-03-12 11:00:00  27.785160\n",
       "...                   ...        ...\n",
       "11386 2015-06-29 17:00:00  80.591582\n",
       "11387 2015-06-29 18:00:00  52.420814\n",
       "11388 2015-06-29 19:00:00  46.189453\n",
       "11389 2015-06-29 20:00:00  58.697892\n",
       "11390 2015-06-29 21:00:00  68.694625\n",
       "\n",
       "[11391 rows x 2 columns]"
      ]
     },
     "execution_count": 49,
     "metadata": {},
     "output_type": "execute_result"
    }
   ],
   "source": [
    "df_1_hour"
   ]
  },
  {
   "cell_type": "code",
   "execution_count": 50,
   "metadata": {},
   "outputs": [],
   "source": [
    "# convert an array of values into a dataset matrix\n",
    "def create_dataset(dataset, look_back=15):\n",
    "    \"\"\"_summary_\n",
    "\n",
    "    Args:\n",
    "        dataset (_type_): _description_\n",
    "        look_back (int, optional): _description_. Defaults to 15.\n",
    "\n",
    "    Returns:\n",
    "        _type_: _description_\n",
    "    \"\"\"\n",
    "    dataX, dataY = [], []\n",
    "    for i in range(len(dataset)-look_back-1):\n",
    "        a = dataset[i:(i+look_back), 0]\n",
    "        dataX.append(a)\n",
    "        dataY.append(dataset[i + look_back, 0])\n",
    "        # print('Value of a : {}'.format(a))\n",
    "        # print('Value of y : {}'.format(dataset[i + look_back, 0]))\n",
    "    return np.array(dataX), np.array(dataY)"
   ]
  },
  {
   "cell_type": "code",
   "execution_count": 51,
   "metadata": {},
   "outputs": [],
   "source": [
    "data_df = df_1_hour"
   ]
  },
  {
   "cell_type": "code",
   "execution_count": 52,
   "metadata": {},
   "outputs": [
    {
     "data": {
      "image/png": "[encoded data removed]",
      "text/plain": [
       "<Figure size 640x480 with 1 Axes>"
      ]
     },
     "metadata": {},
     "output_type": "display_data"
    }
   ],
   "source": [
    "plt.plot(data_df['Summe'])\n",
    "plt.show()"
   ]
  },
  {
   "cell_type": "code",
   "execution_count": 53,
   "metadata": {},
   "outputs": [
    {
     "data": {
      "text/html": [
       "<div>\n",
       "<style scoped>\n",
       "    .dataframe tbody tr th:only-of-type {\n",
       "        vertical-align: middle;\n",
       "    }\n",
       "\n",
       "    .dataframe tbody tr th {\n",
       "        vertical-align: top;\n",
       "    }\n",
       "\n",
       "    .dataframe thead th {\n",
       "        text-align: right;\n",
       "    }\n",
       "</style>\n",
       "<table border=\"1\" class=\"dataframe\">\n",
       "  <thead>\n",
       "    <tr style=\"text-align: right;\">\n",
       "      <th></th>\n",
       "      <th>Timestamp</th>\n",
       "      <th>Summe</th>\n",
       "      <th>date</th>\n",
       "    </tr>\n",
       "  </thead>\n",
       "  <tbody>\n",
       "    <tr>\n",
       "      <th>0</th>\n",
       "      <td>2014-03-12 07:00:00</td>\n",
       "      <td>66.321410</td>\n",
       "      <td>0</td>\n",
       "    </tr>\n",
       "    <tr>\n",
       "      <th>1</th>\n",
       "      <td>2014-03-12 08:00:00</td>\n",
       "      <td>14.977094</td>\n",
       "      <td>1</td>\n",
       "    </tr>\n",
       "    <tr>\n",
       "      <th>2</th>\n",
       "      <td>2014-03-12 09:00:00</td>\n",
       "      <td>27.099825</td>\n",
       "      <td>2</td>\n",
       "    </tr>\n",
       "    <tr>\n",
       "      <th>3</th>\n",
       "      <td>2014-03-12 10:00:00</td>\n",
       "      <td>14.787116</td>\n",
       "      <td>3</td>\n",
       "    </tr>\n",
       "    <tr>\n",
       "      <th>4</th>\n",
       "      <td>2014-03-12 11:00:00</td>\n",
       "      <td>27.785160</td>\n",
       "      <td>4</td>\n",
       "    </tr>\n",
       "  </tbody>\n",
       "</table>\n",
       "</div>"
      ],
      "text/plain": [
       "            Timestamp      Summe  date\n",
       "0 2014-03-12 07:00:00  66.321410     0\n",
       "1 2014-03-12 08:00:00  14.977094     1\n",
       "2 2014-03-12 09:00:00  27.099825     2\n",
       "3 2014-03-12 10:00:00  14.787116     3\n",
       "4 2014-03-12 11:00:00  27.785160     4"
      ]
     },
     "execution_count": 53,
     "metadata": {},
     "output_type": "execute_result"
    }
   ],
   "source": [
    "data_df['date'] = data_df.index\n",
    "data_df.head()"
   ]
  },
  {
   "cell_type": "code",
   "execution_count": 54,
   "metadata": {},
   "outputs": [
    {
     "data": {
      "text/html": [
       "<div>\n",
       "<style scoped>\n",
       "    .dataframe tbody tr th:only-of-type {\n",
       "        vertical-align: middle;\n",
       "    }\n",
       "\n",
       "    .dataframe tbody tr th {\n",
       "        vertical-align: top;\n",
       "    }\n",
       "\n",
       "    .dataframe thead th {\n",
       "        text-align: right;\n",
       "    }\n",
       "</style>\n",
       "<table border=\"1\" class=\"dataframe\">\n",
       "  <thead>\n",
       "    <tr style=\"text-align: right;\">\n",
       "      <th></th>\n",
       "      <th>Timestamp</th>\n",
       "      <th>Summe</th>\n",
       "      <th>date</th>\n",
       "    </tr>\n",
       "  </thead>\n",
       "  <tbody>\n",
       "    <tr>\n",
       "      <th>0</th>\n",
       "      <td>2014-03-12 07:00:00</td>\n",
       "      <td>66.321410</td>\n",
       "      <td>1970-01-01 00:00:00.000000000</td>\n",
       "    </tr>\n",
       "    <tr>\n",
       "      <th>1</th>\n",
       "      <td>2014-03-12 08:00:00</td>\n",
       "      <td>14.977094</td>\n",
       "      <td>1970-01-01 00:00:00.000000001</td>\n",
       "    </tr>\n",
       "    <tr>\n",
       "      <th>2</th>\n",
       "      <td>2014-03-12 09:00:00</td>\n",
       "      <td>27.099825</td>\n",
       "      <td>1970-01-01 00:00:00.000000002</td>\n",
       "    </tr>\n",
       "    <tr>\n",
       "      <th>3</th>\n",
       "      <td>2014-03-12 10:00:00</td>\n",
       "      <td>14.787116</td>\n",
       "      <td>1970-01-01 00:00:00.000000003</td>\n",
       "    </tr>\n",
       "    <tr>\n",
       "      <th>4</th>\n",
       "      <td>2014-03-12 11:00:00</td>\n",
       "      <td>27.785160</td>\n",
       "      <td>1970-01-01 00:00:00.000000004</td>\n",
       "    </tr>\n",
       "    <tr>\n",
       "      <th>...</th>\n",
       "      <td>...</td>\n",
       "      <td>...</td>\n",
       "      <td>...</td>\n",
       "    </tr>\n",
       "    <tr>\n",
       "      <th>11386</th>\n",
       "      <td>2015-06-29 17:00:00</td>\n",
       "      <td>80.591582</td>\n",
       "      <td>1970-01-01 00:00:00.000011386</td>\n",
       "    </tr>\n",
       "    <tr>\n",
       "      <th>11387</th>\n",
       "      <td>2015-06-29 18:00:00</td>\n",
       "      <td>52.420814</td>\n",
       "      <td>1970-01-01 00:00:00.000011387</td>\n",
       "    </tr>\n",
       "    <tr>\n",
       "      <th>11388</th>\n",
       "      <td>2015-06-29 19:00:00</td>\n",
       "      <td>46.189453</td>\n",
       "      <td>1970-01-01 00:00:00.000011388</td>\n",
       "    </tr>\n",
       "    <tr>\n",
       "      <th>11389</th>\n",
       "      <td>2015-06-29 20:00:00</td>\n",
       "      <td>58.697892</td>\n",
       "      <td>1970-01-01 00:00:00.000011389</td>\n",
       "    </tr>\n",
       "    <tr>\n",
       "      <th>11390</th>\n",
       "      <td>2015-06-29 21:00:00</td>\n",
       "      <td>68.694625</td>\n",
       "      <td>1970-01-01 00:00:00.000011390</td>\n",
       "    </tr>\n",
       "  </tbody>\n",
       "</table>\n",
       "<p>11391 rows × 3 columns</p>\n",
       "</div>"
      ],
      "text/plain": [
       "                Timestamp      Summe                          date\n",
       "0     2014-03-12 07:00:00  66.321410 1970-01-01 00:00:00.000000000\n",
       "1     2014-03-12 08:00:00  14.977094 1970-01-01 00:00:00.000000001\n",
       "2     2014-03-12 09:00:00  27.099825 1970-01-01 00:00:00.000000002\n",
       "3     2014-03-12 10:00:00  14.787116 1970-01-01 00:00:00.000000003\n",
       "4     2014-03-12 11:00:00  27.785160 1970-01-01 00:00:00.000000004\n",
       "...                   ...        ...                           ...\n",
       "11386 2015-06-29 17:00:00  80.591582 1970-01-01 00:00:00.000011386\n",
       "11387 2015-06-29 18:00:00  52.420814 1970-01-01 00:00:00.000011387\n",
       "11388 2015-06-29 19:00:00  46.189453 1970-01-01 00:00:00.000011388\n",
       "11389 2015-06-29 20:00:00  58.697892 1970-01-01 00:00:00.000011389\n",
       "11390 2015-06-29 21:00:00  68.694625 1970-01-01 00:00:00.000011390\n",
       "\n",
       "[11391 rows x 3 columns]"
      ]
     },
     "execution_count": 54,
     "metadata": {},
     "output_type": "execute_result"
    }
   ],
   "source": [
    "data_df['date'] = pd.to_datetime(data_df['date'])\n",
    "data_df"
   ]
  },
  {
   "cell_type": "code",
   "execution_count": 66,
   "metadata": {},
   "outputs": [
    {
     "name": "stdout",
     "output_type": "stream",
     "text": [
      "Training Data Size: (7973, 1)\n",
      "Validation Data Size: (2278, 1)\n",
      "Testing Data Size: (1140, 1)\n"
     ]
    }
   ],
   "source": [
    "import numpy as np\n",
    "import math\n",
    "from sklearn.metrics import mean_squared_error\n",
    "from sklearn import preprocessing\n",
    "\n",
    "def create_dataset(data, look_back=20):\n",
    "    X, Y = [], []\n",
    "    for i in range(len(data) - look_back):\n",
    "        X.append(data[i:(i + look_back)])\n",
    "        Y.append(data[i + look_back])\n",
    "    return np.array(X), np.array(Y)\n",
    "\n",
    "data_df = df_1_hour # Your data dataframe\n",
    "\n",
    "min_max_scaler = preprocessing.MinMaxScaler(feature_range=(0, 1))\n",
    "dataset = min_max_scaler.fit_transform(data_df['Summe'].values.reshape(-1, 1))\n",
    "\n",
    "# split into train, validation, and test sets\n",
    "train_size = int(len(dataset) * 0.7)\n",
    "val_size = int(len(dataset) * 0.2)\n",
    "test_size = len(dataset) - train_size - val_size\n",
    "\n",
    "train_data = dataset[:train_size]\n",
    "val_data = dataset[train_size:train_size+val_size]\n",
    "test_data = dataset[train_size+val_size:]\n",
    "\n",
    "# create train, validation, and test datasets\n",
    "look_back = 20\n",
    "x_train, y_train = create_dataset(train_data, look_back)\n",
    "x_val, y_val = create_dataset(val_data, look_back)\n",
    "x_test, y_test = create_dataset(test_data, look_back)\n",
    "\n",
    "# reshape the input data\n",
    "x_train = np.reshape(x_train, (x_train.shape[0], 1, x_train.shape[1]))\n",
    "x_val = np.reshape(x_val, (x_val.shape[0], 1, x_val.shape[1]))\n",
    "x_test = np.reshape(x_test, (x_test.shape[0], 1, x_test.shape[1]))\n",
    "\n",
    "# print the sizes of the datasets\n",
    "print('Training Data Size:', train_data.shape)\n",
    "print('Validation Data Size:', val_data.shape)\n",
    "print('Testing Data Size:', test_data.shape)\n"
   ]
  },
  {
   "cell_type": "code",
   "execution_count": 67,
   "metadata": {},
   "outputs": [
    {
     "name": "stdout",
     "output_type": "stream",
     "text": [
      "Num GPUs Available:  1\n"
     ]
    }
   ],
   "source": [
    "print(\"Num GPUs Available: \", len(tf.config.list_physical_devices('GPU')))"
   ]
  },
  {
   "cell_type": "code",
   "execution_count": 68,
   "metadata": {},
   "outputs": [
    {
     "name": "stdout",
     "output_type": "stream",
     "text": [
      "GPU is available.\n",
      "List of physical GPUs:\n",
      "PhysicalDevice(name='/physical_device:GPU:0', device_type='GPU')\n"
     ]
    },
    {
     "name": "stderr",
     "output_type": "stream",
     "text": [
      "2023-05-29 17:33:40.435031: I tensorflow/core/common_runtime/executor.cc:1197] [/device:CPU:0] (DEBUG INFO) Executor start aborting (this does not indicate an error and you can ignore this message): INVALID_ARGUMENT: You must feed a value for placeholder tensor 'gradients/split_2_grad/concat/split_2/split_dim' with dtype int32\n",
      "\t [[{{node gradients/split_2_grad/concat/split_2/split_dim}}]]\n",
      "2023-05-29 17:33:40.436185: I tensorflow/core/common_runtime/executor.cc:1197] [/device:CPU:0] (DEBUG INFO) Executor start aborting (this does not indicate an error and you can ignore this message): INVALID_ARGUMENT: You must feed a value for placeholder tensor 'gradients/split_grad/concat/split/split_dim' with dtype int32\n",
      "\t [[{{node gradients/split_grad/concat/split/split_dim}}]]\n",
      "2023-05-29 17:33:40.437108: I tensorflow/core/common_runtime/executor.cc:1197] [/device:CPU:0] (DEBUG INFO) Executor start aborting (this does not indicate an error and you can ignore this message): INVALID_ARGUMENT: You must feed a value for placeholder tensor 'gradients/split_1_grad/concat/split_1/split_dim' with dtype int32\n",
      "\t [[{{node gradients/split_1_grad/concat/split_1/split_dim}}]]\n",
      "2023-05-29 17:33:40.597791: I tensorflow/core/common_runtime/executor.cc:1197] [/device:CPU:0] (DEBUG INFO) Executor start aborting (this does not indicate an error and you can ignore this message): INVALID_ARGUMENT: You must feed a value for placeholder tensor 'gradients/split_2_grad/concat/split_2/split_dim' with dtype int32\n",
      "\t [[{{node gradients/split_2_grad/concat/split_2/split_dim}}]]\n",
      "2023-05-29 17:33:40.598775: I tensorflow/core/common_runtime/executor.cc:1197] [/device:CPU:0] (DEBUG INFO) Executor start aborting (this does not indicate an error and you can ignore this message): INVALID_ARGUMENT: You must feed a value for placeholder tensor 'gradients/split_grad/concat/split/split_dim' with dtype int32\n",
      "\t [[{{node gradients/split_grad/concat/split/split_dim}}]]\n",
      "2023-05-29 17:33:40.599599: I tensorflow/core/common_runtime/executor.cc:1197] [/device:CPU:0] (DEBUG INFO) Executor start aborting (this does not indicate an error and you can ignore this message): INVALID_ARGUMENT: You must feed a value for placeholder tensor 'gradients/split_1_grad/concat/split_1/split_dim' with dtype int32\n",
      "\t [[{{node gradients/split_1_grad/concat/split_1/split_dim}}]]\n"
     ]
    },
    {
     "name": "stdout",
     "output_type": "stream",
     "text": [
      "Epoch 1/100\n"
     ]
    },
    {
     "name": "stderr",
     "output_type": "stream",
     "text": [
      "2023-05-29 17:33:40.882669: I tensorflow/core/common_runtime/executor.cc:1197] [/device:CPU:0] (DEBUG INFO) Executor start aborting (this does not indicate an error and you can ignore this message): INVALID_ARGUMENT: You must feed a value for placeholder tensor 'gradients/split_2_grad/concat/split_2/split_dim' with dtype int32\n",
      "\t [[{{node gradients/split_2_grad/concat/split_2/split_dim}}]]\n",
      "2023-05-29 17:33:40.884084: I tensorflow/core/common_runtime/executor.cc:1197] [/device:CPU:0] (DEBUG INFO) Executor start aborting (this does not indicate an error and you can ignore this message): INVALID_ARGUMENT: You must feed a value for placeholder tensor 'gradients/split_grad/concat/split/split_dim' with dtype int32\n",
      "\t [[{{node gradients/split_grad/concat/split/split_dim}}]]\n",
      "2023-05-29 17:33:40.885149: I tensorflow/core/common_runtime/executor.cc:1197] [/device:CPU:0] (DEBUG INFO) Executor start aborting (this does not indicate an error and you can ignore this message): INVALID_ARGUMENT: You must feed a value for placeholder tensor 'gradients/split_1_grad/concat/split_1/split_dim' with dtype int32\n",
      "\t [[{{node gradients/split_1_grad/concat/split_1/split_dim}}]]\n",
      "2023-05-29 17:33:41.065448: I tensorflow/core/common_runtime/executor.cc:1197] [/device:CPU:0] (DEBUG INFO) Executor start aborting (this does not indicate an error and you can ignore this message): INVALID_ARGUMENT: You must feed a value for placeholder tensor 'gradients/split_2_grad/concat/split_2/split_dim' with dtype int32\n",
      "\t [[{{node gradients/split_2_grad/concat/split_2/split_dim}}]]\n",
      "2023-05-29 17:33:41.066563: I tensorflow/core/common_runtime/executor.cc:1197] [/device:CPU:0] (DEBUG INFO) Executor start aborting (this does not indicate an error and you can ignore this message): INVALID_ARGUMENT: You must feed a value for placeholder tensor 'gradients/split_grad/concat/split/split_dim' with dtype int32\n",
      "\t [[{{node gradients/split_grad/concat/split/split_dim}}]]\n",
      "2023-05-29 17:33:41.067573: I tensorflow/core/common_runtime/executor.cc:1197] [/device:CPU:0] (DEBUG INFO) Executor start aborting (this does not indicate an error and you can ignore this message): INVALID_ARGUMENT: You must feed a value for placeholder tensor 'gradients/split_1_grad/concat/split_1/split_dim' with dtype int32\n",
      "\t [[{{node gradients/split_1_grad/concat/split_1/split_dim}}]]\n",
      "2023-05-29 17:33:41.965562: I tensorflow/core/common_runtime/executor.cc:1197] [/device:CPU:0] (DEBUG INFO) Executor start aborting (this does not indicate an error and you can ignore this message): INVALID_ARGUMENT: You must feed a value for placeholder tensor 'gradients/split_2_grad/concat/split_2/split_dim' with dtype int32\n",
      "\t [[{{node gradients/split_2_grad/concat/split_2/split_dim}}]]\n",
      "2023-05-29 17:33:41.967093: I tensorflow/core/common_runtime/executor.cc:1197] [/device:CPU:0] (DEBUG INFO) Executor start aborting (this does not indicate an error and you can ignore this message): INVALID_ARGUMENT: You must feed a value for placeholder tensor 'gradients/split_grad/concat/split/split_dim' with dtype int32\n",
      "\t [[{{node gradients/split_grad/concat/split/split_dim}}]]\n",
      "2023-05-29 17:33:41.968127: I tensorflow/core/common_runtime/executor.cc:1197] [/device:CPU:0] (DEBUG INFO) Executor start aborting (this does not indicate an error and you can ignore this message): INVALID_ARGUMENT: You must feed a value for placeholder tensor 'gradients/split_1_grad/concat/split_1/split_dim' with dtype int32\n",
      "\t [[{{node gradients/split_1_grad/concat/split_1/split_dim}}]]\n",
      "2023-05-29 17:33:42.175989: I tensorflow/core/common_runtime/executor.cc:1197] [/device:CPU:0] (DEBUG INFO) Executor start aborting (this does not indicate an error and you can ignore this message): INVALID_ARGUMENT: You must feed a value for placeholder tensor 'gradients/split_2_grad/concat/split_2/split_dim' with dtype int32\n",
      "\t [[{{node gradients/split_2_grad/concat/split_2/split_dim}}]]\n",
      "2023-05-29 17:33:42.178383: I tensorflow/core/common_runtime/executor.cc:1197] [/device:CPU:0] (DEBUG INFO) Executor start aborting (this does not indicate an error and you can ignore this message): INVALID_ARGUMENT: You must feed a value for placeholder tensor 'gradients/split_grad/concat/split/split_dim' with dtype int32\n",
      "\t [[{{node gradients/split_grad/concat/split/split_dim}}]]\n",
      "2023-05-29 17:33:42.180187: I tensorflow/core/common_runtime/executor.cc:1197] [/device:CPU:0] (DEBUG INFO) Executor start aborting (this does not indicate an error and you can ignore this message): INVALID_ARGUMENT: You must feed a value for placeholder tensor 'gradients/split_1_grad/concat/split_1/split_dim' with dtype int32\n",
      "\t [[{{node gradients/split_1_grad/concat/split_1/split_dim}}]]\n",
      "2023-05-29 17:33:44.615109: I tensorflow/core/common_runtime/executor.cc:1197] [/device:CPU:0] (DEBUG INFO) Executor start aborting (this does not indicate an error and you can ignore this message): INVALID_ARGUMENT: You must feed a value for placeholder tensor 'gradients/split_2_grad/concat/split_2/split_dim' with dtype int32\n",
      "\t [[{{node gradients/split_2_grad/concat/split_2/split_dim}}]]\n",
      "2023-05-29 17:33:44.616274: I tensorflow/core/common_runtime/executor.cc:1197] [/device:CPU:0] (DEBUG INFO) Executor start aborting (this does not indicate an error and you can ignore this message): INVALID_ARGUMENT: You must feed a value for placeholder tensor 'gradients/split_grad/concat/split/split_dim' with dtype int32\n",
      "\t [[{{node gradients/split_grad/concat/split/split_dim}}]]\n",
      "2023-05-29 17:33:44.617302: I tensorflow/core/common_runtime/executor.cc:1197] [/device:CPU:0] (DEBUG INFO) Executor start aborting (this does not indicate an error and you can ignore this message): INVALID_ARGUMENT: You must feed a value for placeholder tensor 'gradients/split_1_grad/concat/split_1/split_dim' with dtype int32\n",
      "\t [[{{node gradients/split_1_grad/concat/split_1/split_dim}}]]\n",
      "2023-05-29 17:33:44.812257: I tensorflow/core/common_runtime/executor.cc:1197] [/device:CPU:0] (DEBUG INFO) Executor start aborting (this does not indicate an error and you can ignore this message): INVALID_ARGUMENT: You must feed a value for placeholder tensor 'gradients/split_2_grad/concat/split_2/split_dim' with dtype int32\n",
      "\t [[{{node gradients/split_2_grad/concat/split_2/split_dim}}]]\n",
      "2023-05-29 17:33:44.813367: I tensorflow/core/common_runtime/executor.cc:1197] [/device:CPU:0] (DEBUG INFO) Executor start aborting (this does not indicate an error and you can ignore this message): INVALID_ARGUMENT: You must feed a value for placeholder tensor 'gradients/split_grad/concat/split/split_dim' with dtype int32\n",
      "\t [[{{node gradients/split_grad/concat/split/split_dim}}]]\n",
      "2023-05-29 17:33:44.814334: I tensorflow/core/common_runtime/executor.cc:1197] [/device:CPU:0] (DEBUG INFO) Executor start aborting (this does not indicate an error and you can ignore this message): INVALID_ARGUMENT: You must feed a value for placeholder tensor 'gradients/split_1_grad/concat/split_1/split_dim' with dtype int32\n",
      "\t [[{{node gradients/split_1_grad/concat/split_1/split_dim}}]]\n"
     ]
    },
    {
     "name": "stdout",
     "output_type": "stream",
     "text": [
      "249/249 - 4s - loss: 0.0335 - val_loss: 0.0319 - 4s/epoch - 18ms/step\n",
      "Epoch 2/100\n",
      "249/249 - 1s - loss: 0.0324 - val_loss: 0.0313 - 1s/epoch - 5ms/step\n",
      "Epoch 3/100\n",
      "249/249 - 1s - loss: 0.0322 - val_loss: 0.0311 - 1s/epoch - 5ms/step\n",
      "Epoch 4/100\n",
      "249/249 - 1s - loss: 0.0322 - val_loss: 0.0317 - 1s/epoch - 5ms/step\n",
      "Epoch 5/100\n",
      "249/249 - 1s - loss: 0.0321 - val_loss: 0.0315 - 1s/epoch - 6ms/step\n",
      "Epoch 6/100\n",
      "249/249 - 1s - loss: 0.0321 - val_loss: 0.0318 - 1s/epoch - 5ms/step\n",
      "Epoch 7/100\n",
      "249/249 - 1s - loss: 0.0321 - val_loss: 0.0310 - 1s/epoch - 5ms/step\n",
      "Epoch 8/100\n",
      "249/249 - 1s - loss: 0.0320 - val_loss: 0.0310 - 1s/epoch - 5ms/step\n",
      "Epoch 9/100\n",
      "249/249 - 1s - loss: 0.0320 - val_loss: 0.0309 - 1s/epoch - 5ms/step\n",
      "Epoch 10/100\n",
      "249/249 - 1s - loss: 0.0320 - val_loss: 0.0306 - 1s/epoch - 5ms/step\n",
      "Epoch 11/100\n",
      "249/249 - 1s - loss: 0.0319 - val_loss: 0.0315 - 1s/epoch - 5ms/step\n",
      "Epoch 12/100\n",
      "249/249 - 1s - loss: 0.0319 - val_loss: 0.0307 - 1s/epoch - 5ms/step\n",
      "Epoch 13/100\n",
      "249/249 - 1s - loss: 0.0319 - val_loss: 0.0306 - 1s/epoch - 5ms/step\n",
      "Epoch 14/100\n",
      "249/249 - 1s - loss: 0.0319 - val_loss: 0.0307 - 1s/epoch - 5ms/step\n",
      "Epoch 15/100\n",
      "249/249 - 1s - loss: 0.0319 - val_loss: 0.0305 - 1s/epoch - 5ms/step\n",
      "Epoch 16/100\n",
      "249/249 - 1s - loss: 0.0318 - val_loss: 0.0305 - 1s/epoch - 5ms/step\n",
      "Epoch 17/100\n",
      "249/249 - 1s - loss: 0.0317 - val_loss: 0.0307 - 1s/epoch - 4ms/step\n",
      "Epoch 18/100\n",
      "249/249 - 1s - loss: 0.0317 - val_loss: 0.0308 - 1s/epoch - 5ms/step\n",
      "Epoch 19/100\n",
      "249/249 - 1s - loss: 0.0317 - val_loss: 0.0309 - 1s/epoch - 5ms/step\n",
      "Epoch 20/100\n",
      "249/249 - 1s - loss: 0.0316 - val_loss: 0.0302 - 1s/epoch - 5ms/step\n",
      "Epoch 21/100\n",
      "249/249 - 1s - loss: 0.0315 - val_loss: 0.0305 - 1s/epoch - 5ms/step\n",
      "Epoch 22/100\n",
      "249/249 - 1s - loss: 0.0314 - val_loss: 0.0302 - 1s/epoch - 5ms/step\n",
      "Epoch 23/100\n",
      "249/249 - 1s - loss: 0.0314 - val_loss: 0.0300 - 1s/epoch - 5ms/step\n",
      "Epoch 24/100\n",
      "249/249 - 1s - loss: 0.0313 - val_loss: 0.0302 - 1s/epoch - 5ms/step\n",
      "Epoch 25/100\n",
      "249/249 - 1s - loss: 0.0313 - val_loss: 0.0305 - 1s/epoch - 5ms/step\n",
      "Epoch 26/100\n",
      "249/249 - 1s - loss: 0.0313 - val_loss: 0.0300 - 1s/epoch - 5ms/step\n",
      "Epoch 27/100\n",
      "249/249 - 1s - loss: 0.0312 - val_loss: 0.0302 - 1s/epoch - 5ms/step\n",
      "Epoch 28/100\n",
      "249/249 - 1s - loss: 0.0312 - val_loss: 0.0299 - 1s/epoch - 5ms/step\n",
      "Epoch 29/100\n",
      "249/249 - 1s - loss: 0.0311 - val_loss: 0.0300 - 1s/epoch - 5ms/step\n",
      "Epoch 30/100\n",
      "249/249 - 1s - loss: 0.0310 - val_loss: 0.0297 - 1s/epoch - 4ms/step\n",
      "Epoch 31/100\n",
      "249/249 - 1s - loss: 0.0311 - val_loss: 0.0306 - 1s/epoch - 4ms/step\n",
      "Epoch 32/100\n",
      "249/249 - 1s - loss: 0.0310 - val_loss: 0.0304 - 1s/epoch - 5ms/step\n",
      "Epoch 33/100\n",
      "249/249 - 1s - loss: 0.0310 - val_loss: 0.0302 - 1s/epoch - 4ms/step\n",
      "Epoch 34/100\n",
      "249/249 - 1s - loss: 0.0309 - val_loss: 0.0302 - 1s/epoch - 5ms/step\n",
      "Epoch 35/100\n",
      "249/249 - 1s - loss: 0.0309 - val_loss: 0.0297 - 1s/epoch - 5ms/step\n",
      "Epoch 36/100\n",
      "249/249 - 1s - loss: 0.0309 - val_loss: 0.0296 - 1s/epoch - 5ms/step\n",
      "Epoch 37/100\n",
      "249/249 - 1s - loss: 0.0309 - val_loss: 0.0297 - 1s/epoch - 5ms/step\n",
      "Epoch 38/100\n",
      "249/249 - 1s - loss: 0.0309 - val_loss: 0.0295 - 1s/epoch - 5ms/step\n",
      "Epoch 39/100\n",
      "249/249 - 1s - loss: 0.0308 - val_loss: 0.0300 - 1s/epoch - 5ms/step\n",
      "Epoch 40/100\n",
      "249/249 - 1s - loss: 0.0308 - val_loss: 0.0295 - 1s/epoch - 4ms/step\n",
      "Epoch 41/100\n",
      "249/249 - 1s - loss: 0.0307 - val_loss: 0.0297 - 1s/epoch - 5ms/step\n",
      "Epoch 42/100\n",
      "249/249 - 1s - loss: 0.0307 - val_loss: 0.0295 - 1s/epoch - 5ms/step\n",
      "Epoch 43/100\n",
      "249/249 - 1s - loss: 0.0307 - val_loss: 0.0295 - 1s/epoch - 4ms/step\n",
      "Epoch 44/100\n",
      "249/249 - 1s - loss: 0.0306 - val_loss: 0.0294 - 1s/epoch - 4ms/step\n",
      "Epoch 45/100\n",
      "249/249 - 1s - loss: 0.0306 - val_loss: 0.0297 - 1s/epoch - 4ms/step\n",
      "Epoch 46/100\n",
      "249/249 - 1s - loss: 0.0306 - val_loss: 0.0293 - 1s/epoch - 5ms/step\n",
      "Epoch 47/100\n",
      "249/249 - 1s - loss: 0.0305 - val_loss: 0.0298 - 1s/epoch - 5ms/step\n",
      "Epoch 48/100\n",
      "249/249 - 1s - loss: 0.0304 - val_loss: 0.0295 - 1s/epoch - 5ms/step\n",
      "Epoch 49/100\n",
      "249/249 - 1s - loss: 0.0305 - val_loss: 0.0295 - 1s/epoch - 5ms/step\n",
      "Epoch 50/100\n",
      "249/249 - 1s - loss: 0.0304 - val_loss: 0.0297 - 1s/epoch - 5ms/step\n",
      "Epoch 51/100\n",
      "249/249 - 1s - loss: 0.0304 - val_loss: 0.0294 - 1s/epoch - 5ms/step\n",
      "Epoch 52/100\n",
      "249/249 - 1s - loss: 0.0303 - val_loss: 0.0292 - 1s/epoch - 5ms/step\n",
      "Epoch 53/100\n",
      "249/249 - 1s - loss: 0.0302 - val_loss: 0.0291 - 1s/epoch - 5ms/step\n",
      "Epoch 54/100\n",
      "249/249 - 1s - loss: 0.0301 - val_loss: 0.0291 - 1s/epoch - 4ms/step\n",
      "Epoch 55/100\n",
      "249/249 - 1s - loss: 0.0301 - val_loss: 0.0290 - 1s/epoch - 5ms/step\n",
      "Epoch 56/100\n",
      "249/249 - 1s - loss: 0.0301 - val_loss: 0.0303 - 1s/epoch - 5ms/step\n",
      "Epoch 57/100\n",
      "249/249 - 1s - loss: 0.0300 - val_loss: 0.0291 - 1s/epoch - 5ms/step\n",
      "Epoch 58/100\n",
      "249/249 - 1s - loss: 0.0299 - val_loss: 0.0295 - 1s/epoch - 4ms/step\n",
      "Epoch 59/100\n",
      "249/249 - 1s - loss: 0.0299 - val_loss: 0.0295 - 1s/epoch - 5ms/step\n",
      "Epoch 60/100\n",
      "249/249 - 1s - loss: 0.0298 - val_loss: 0.0293 - 1s/epoch - 5ms/step\n",
      "Epoch 61/100\n",
      "249/249 - 1s - loss: 0.0298 - val_loss: 0.0288 - 1s/epoch - 5ms/step\n",
      "Epoch 62/100\n",
      "249/249 - 1s - loss: 0.0298 - val_loss: 0.0290 - 1s/epoch - 4ms/step\n",
      "Epoch 63/100\n",
      "249/249 - 1s - loss: 0.0296 - val_loss: 0.0290 - 1s/epoch - 5ms/step\n",
      "Epoch 64/100\n",
      "249/249 - 1s - loss: 0.0297 - val_loss: 0.0288 - 1s/epoch - 6ms/step\n",
      "Epoch 65/100\n",
      "249/249 - 1s - loss: 0.0296 - val_loss: 0.0294 - 1s/epoch - 5ms/step\n",
      "Epoch 66/100\n",
      "249/249 - 1s - loss: 0.0296 - val_loss: 0.0292 - 1s/epoch - 4ms/step\n",
      "Epoch 67/100\n",
      "249/249 - 1s - loss: 0.0295 - val_loss: 0.0290 - 1s/epoch - 4ms/step\n",
      "Epoch 68/100\n",
      "249/249 - 1s - loss: 0.0295 - val_loss: 0.0287 - 1s/epoch - 4ms/step\n",
      "Epoch 69/100\n",
      "249/249 - 2s - loss: 0.0295 - val_loss: 0.0288 - 2s/epoch - 6ms/step\n",
      "Epoch 70/100\n",
      "249/249 - 1s - loss: 0.0295 - val_loss: 0.0287 - 1s/epoch - 5ms/step\n",
      "Epoch 71/100\n",
      "249/249 - 1s - loss: 0.0294 - val_loss: 0.0288 - 1s/epoch - 5ms/step\n",
      "Epoch 72/100\n",
      "249/249 - 1s - loss: 0.0294 - val_loss: 0.0291 - 1s/epoch - 5ms/step\n",
      "Epoch 73/100\n",
      "249/249 - 1s - loss: 0.0293 - val_loss: 0.0289 - 1s/epoch - 4ms/step\n",
      "Epoch 74/100\n",
      "249/249 - 1s - loss: 0.0293 - val_loss: 0.0288 - 1s/epoch - 5ms/step\n",
      "Epoch 75/100\n",
      "249/249 - 1s - loss: 0.0293 - val_loss: 0.0291 - 1s/epoch - 5ms/step\n",
      "Epoch 76/100\n",
      "249/249 - 1s - loss: 0.0293 - val_loss: 0.0290 - 1s/epoch - 6ms/step\n",
      "Epoch 77/100\n",
      "249/249 - 1s - loss: 0.0293 - val_loss: 0.0287 - 1s/epoch - 5ms/step\n",
      "Epoch 78/100\n",
      "249/249 - 1s - loss: 0.0293 - val_loss: 0.0292 - 1s/epoch - 4ms/step\n",
      "Epoch 79/100\n",
      "249/249 - 1s - loss: 0.0294 - val_loss: 0.0288 - 1s/epoch - 4ms/step\n",
      "Epoch 80/100\n",
      "249/249 - 1s - loss: 0.0292 - val_loss: 0.0289 - 1s/epoch - 5ms/step\n",
      "Epoch 81/100\n",
      "249/249 - 1s - loss: 0.0292 - val_loss: 0.0288 - 1s/epoch - 5ms/step\n",
      "Epoch 82/100\n",
      "249/249 - 1s - loss: 0.0292 - val_loss: 0.0288 - 1s/epoch - 5ms/step\n",
      "Epoch 83/100\n",
      "249/249 - 1s - loss: 0.0292 - val_loss: 0.0294 - 1s/epoch - 5ms/step\n",
      "Epoch 84/100\n",
      "249/249 - 1s - loss: 0.0292 - val_loss: 0.0288 - 1s/epoch - 5ms/step\n",
      "Epoch 85/100\n",
      "249/249 - 1s - loss: 0.0291 - val_loss: 0.0292 - 1s/epoch - 5ms/step\n",
      "Epoch 86/100\n",
      "249/249 - 1s - loss: 0.0291 - val_loss: 0.0291 - 1s/epoch - 5ms/step\n",
      "Epoch 87/100\n",
      "249/249 - 1s - loss: 0.0291 - val_loss: 0.0287 - 1s/epoch - 5ms/step\n",
      "Model: \"sequential_5\"\n",
      "_________________________________________________________________\n",
      " Layer (type)                Output Shape              Param #   \n",
      "=================================================================\n",
      " lstm_10 (LSTM)              (None, 1, 20)             3280      \n",
      "                                                                 \n",
      " lstm_11 (LSTM)              (None, 1, 10)             1240      \n",
      "                                                                 \n",
      " dense_5 (Dense)             (None, 1, 1)              11        \n",
      "                                                                 \n",
      "=================================================================\n",
      "Total params: 4,531\n",
      "Trainable params: 4,531\n",
      "Non-trainable params: 0\n",
      "_________________________________________________________________\n",
      "None\n"
     ]
    }
   ],
   "source": [
    "import tensorflow as tf\n",
    "from tensorflow.keras.models import Sequential\n",
    "from tensorflow.keras.layers import LSTM, Dense\n",
    "from tensorflow.keras.callbacks import EarlyStopping\n",
    "look_back = 20\n",
    "\n",
    "# Check if GPU is available\n",
    "physical_devices = tf.config.list_physical_devices('GPU')\n",
    "if physical_devices:\n",
    "    tf.config.experimental.set_memory_growth(physical_devices[0], True)\n",
    "    print(\"GPU is available.\")\n",
    "    print(\"List of physical GPUs:\")\n",
    "    for device in physical_devices:\n",
    "        print(device)\n",
    "else:\n",
    "    print(\"GPU is not available. Using CPU instead.\")\n",
    "# Create the LSTM model\n",
    "model = Sequential()\n",
    "\n",
    "model.add(LSTM(20, input_shape=(1, look_back), return_sequences=True))\n",
    "model.add(LSTM(10 ,return_sequences=True))\n",
    "# model.add(LSTM(30,return_sequences=True))\n",
    "# model.add(LSTM(20,return_sequences=True))\n",
    "\n",
    "model.add(Dense(1))\n",
    "\n",
    "# Compile the model\n",
    "model.compile(loss='mean_absolute_error', optimizer='adam')\n",
    "\n",
    "# Define early stopping callback\n",
    "early_stopping = EarlyStopping(patience=5, restore_best_weights=True)\n",
    "\n",
    "# Train the model with early stopping\n",
    "history = model.fit(x_train, y_train,validation_data=(x_val, y_val), epochs=100, batch_size=32, verbose=2, callbacks=[early_stopping])\n",
    "\n",
    "# Print model summary\n",
    "print(model.summary())\n"
   ]
  },
  {
   "cell_type": "code",
   "execution_count": 69,
   "metadata": {},
   "outputs": [
    {
     "data": {
      "image/png": "[encoded data removed]",
      "text/plain": [
       "<Figure size 640x480 with 1 Axes>"
      ]
     },
     "metadata": {},
     "output_type": "display_data"
    }
   ],
   "source": [
    "import matplotlib.pyplot as plt\n",
    "\n",
    "# Get the training and validation loss values from the history object\n",
    "train_loss = history.history['loss']\n",
    "val_loss = history.history['val_loss']\n",
    "\n",
    "# Plot the training loss and validation loss\n",
    "plt.plot(train_loss, label='Training Loss')\n",
    "plt.plot(val_loss, label='Validation Loss')\n",
    "plt.xlabel('Epoch')\n",
    "plt.ylabel('Loss')\n",
    "plt.title('Training and Validation Loss')\n",
    "plt.legend()\n",
    "plt.show()\n"
   ]
  },
  {
   "cell_type": "code",
   "execution_count": 70,
   "metadata": {},
   "outputs": [
    {
     "name": "stderr",
     "output_type": "stream",
     "text": [
      "2023-05-29 17:35:50.941132: I tensorflow/core/common_runtime/executor.cc:1197] [/device:CPU:0] (DEBUG INFO) Executor start aborting (this does not indicate an error and you can ignore this message): INVALID_ARGUMENT: You must feed a value for placeholder tensor 'gradients/split_2_grad/concat/split_2/split_dim' with dtype int32\n",
      "\t [[{{node gradients/split_2_grad/concat/split_2/split_dim}}]]\n",
      "2023-05-29 17:35:50.943141: I tensorflow/core/common_runtime/executor.cc:1197] [/device:CPU:0] (DEBUG INFO) Executor start aborting (this does not indicate an error and you can ignore this message): INVALID_ARGUMENT: You must feed a value for placeholder tensor 'gradients/split_grad/concat/split/split_dim' with dtype int32\n",
      "\t [[{{node gradients/split_grad/concat/split/split_dim}}]]\n",
      "2023-05-29 17:35:50.944555: I tensorflow/core/common_runtime/executor.cc:1197] [/device:CPU:0] (DEBUG INFO) Executor start aborting (this does not indicate an error and you can ignore this message): INVALID_ARGUMENT: You must feed a value for placeholder tensor 'gradients/split_1_grad/concat/split_1/split_dim' with dtype int32\n",
      "\t [[{{node gradients/split_1_grad/concat/split_1/split_dim}}]]\n",
      "2023-05-29 17:35:51.117188: I tensorflow/core/common_runtime/executor.cc:1197] [/device:CPU:0] (DEBUG INFO) Executor start aborting (this does not indicate an error and you can ignore this message): INVALID_ARGUMENT: You must feed a value for placeholder tensor 'gradients/split_2_grad/concat/split_2/split_dim' with dtype int32\n",
      "\t [[{{node gradients/split_2_grad/concat/split_2/split_dim}}]]\n",
      "2023-05-29 17:35:51.118258: I tensorflow/core/common_runtime/executor.cc:1197] [/device:CPU:0] (DEBUG INFO) Executor start aborting (this does not indicate an error and you can ignore this message): INVALID_ARGUMENT: You must feed a value for placeholder tensor 'gradients/split_grad/concat/split/split_dim' with dtype int32\n",
      "\t [[{{node gradients/split_grad/concat/split/split_dim}}]]\n",
      "2023-05-29 17:35:51.119261: I tensorflow/core/common_runtime/executor.cc:1197] [/device:CPU:0] (DEBUG INFO) Executor start aborting (this does not indicate an error and you can ignore this message): INVALID_ARGUMENT: You must feed a value for placeholder tensor 'gradients/split_1_grad/concat/split_1/split_dim' with dtype int32\n",
      "\t [[{{node gradients/split_1_grad/concat/split_1/split_dim}}]]\n"
     ]
    },
    {
     "name": "stdout",
     "output_type": "stream",
     "text": [
      "249/249 [==============================] - 1s 2ms/step\n"
     ]
    },
    {
     "ename": "ValueError",
     "evalue": "Found array with dim 3. None expected <= 2.",
     "output_type": "error",
     "traceback": [
      "\u001b[0;31m---------------------------------------------------------------------------\u001b[0m",
      "\u001b[0;31mValueError\u001b[0m                                Traceback (most recent call last)",
      "Cell \u001b[0;32mIn[70], line 3\u001b[0m\n\u001b[1;32m      1\u001b[0m trainPredict \u001b[39m=\u001b[39m model\u001b[39m.\u001b[39mpredict(x_train)\n\u001b[1;32m      2\u001b[0m \u001b[39m# invert predictions\u001b[39;00m\n\u001b[0;32m----> 3\u001b[0m trainPredict_inversed \u001b[39m=\u001b[39m min_max_scaler\u001b[39m.\u001b[39;49minverse_transform(trainPredict)\n",
      "File \u001b[0;32m~/anaconda3/envs/tensorflow_updated/lib/python3.11/site-packages/sklearn/preprocessing/_data.py:537\u001b[0m, in \u001b[0;36mMinMaxScaler.inverse_transform\u001b[0;34m(self, X)\u001b[0m\n\u001b[1;32m    523\u001b[0m \u001b[39m\u001b[39m\u001b[39m\"\"\"Undo the scaling of X according to feature_range.\u001b[39;00m\n\u001b[1;32m    524\u001b[0m \n\u001b[1;32m    525\u001b[0m \u001b[39mParameters\u001b[39;00m\n\u001b[0;32m   (...)\u001b[0m\n\u001b[1;32m    533\u001b[0m \u001b[39m    Transformed data.\u001b[39;00m\n\u001b[1;32m    534\u001b[0m \u001b[39m\"\"\"\u001b[39;00m\n\u001b[1;32m    535\u001b[0m check_is_fitted(\u001b[39mself\u001b[39m)\n\u001b[0;32m--> 537\u001b[0m X \u001b[39m=\u001b[39m check_array(\n\u001b[1;32m    538\u001b[0m     X, copy\u001b[39m=\u001b[39;49m\u001b[39mself\u001b[39;49m\u001b[39m.\u001b[39;49mcopy, dtype\u001b[39m=\u001b[39;49mFLOAT_DTYPES, force_all_finite\u001b[39m=\u001b[39;49m\u001b[39m\"\u001b[39;49m\u001b[39mallow-nan\u001b[39;49m\u001b[39m\"\u001b[39;49m\n\u001b[1;32m    539\u001b[0m )\n\u001b[1;32m    541\u001b[0m X \u001b[39m-\u001b[39m\u001b[39m=\u001b[39m \u001b[39mself\u001b[39m\u001b[39m.\u001b[39mmin_\n\u001b[1;32m    542\u001b[0m X \u001b[39m/\u001b[39m\u001b[39m=\u001b[39m \u001b[39mself\u001b[39m\u001b[39m.\u001b[39mscale_\n",
      "File \u001b[0;32m~/anaconda3/envs/tensorflow_updated/lib/python3.11/site-packages/sklearn/utils/validation.py:915\u001b[0m, in \u001b[0;36mcheck_array\u001b[0;34m(array, accept_sparse, accept_large_sparse, dtype, order, copy, force_all_finite, ensure_2d, allow_nd, ensure_min_samples, ensure_min_features, estimator, input_name)\u001b[0m\n\u001b[1;32m    910\u001b[0m     \u001b[39mraise\u001b[39;00m \u001b[39mValueError\u001b[39;00m(\n\u001b[1;32m    911\u001b[0m         \u001b[39m\"\u001b[39m\u001b[39mdtype=\u001b[39m\u001b[39m'\u001b[39m\u001b[39mnumeric\u001b[39m\u001b[39m'\u001b[39m\u001b[39m is not compatible with arrays of bytes/strings.\u001b[39m\u001b[39m\"\u001b[39m\n\u001b[1;32m    912\u001b[0m         \u001b[39m\"\u001b[39m\u001b[39mConvert your data to numeric values explicitly instead.\u001b[39m\u001b[39m\"\u001b[39m\n\u001b[1;32m    913\u001b[0m     )\n\u001b[1;32m    914\u001b[0m \u001b[39mif\u001b[39;00m \u001b[39mnot\u001b[39;00m allow_nd \u001b[39mand\u001b[39;00m array\u001b[39m.\u001b[39mndim \u001b[39m>\u001b[39m\u001b[39m=\u001b[39m \u001b[39m3\u001b[39m:\n\u001b[0;32m--> 915\u001b[0m     \u001b[39mraise\u001b[39;00m \u001b[39mValueError\u001b[39;00m(\n\u001b[1;32m    916\u001b[0m         \u001b[39m\"\u001b[39m\u001b[39mFound array with dim \u001b[39m\u001b[39m%d\u001b[39;00m\u001b[39m. \u001b[39m\u001b[39m%s\u001b[39;00m\u001b[39m expected <= 2.\u001b[39m\u001b[39m\"\u001b[39m\n\u001b[1;32m    917\u001b[0m         \u001b[39m%\u001b[39m (array\u001b[39m.\u001b[39mndim, estimator_name)\n\u001b[1;32m    918\u001b[0m     )\n\u001b[1;32m    920\u001b[0m \u001b[39mif\u001b[39;00m force_all_finite:\n\u001b[1;32m    921\u001b[0m     _assert_all_finite(\n\u001b[1;32m    922\u001b[0m         array,\n\u001b[1;32m    923\u001b[0m         input_name\u001b[39m=\u001b[39minput_name,\n\u001b[1;32m    924\u001b[0m         estimator_name\u001b[39m=\u001b[39mestimator_name,\n\u001b[1;32m    925\u001b[0m         allow_nan\u001b[39m=\u001b[39mforce_all_finite \u001b[39m==\u001b[39m \u001b[39m\"\u001b[39m\u001b[39mallow-nan\u001b[39m\u001b[39m\"\u001b[39m,\n\u001b[1;32m    926\u001b[0m     )\n",
      "\u001b[0;31mValueError\u001b[0m: Found array with dim 3. None expected <= 2."
     ]
    }
   ],
   "source": [
    "trainPredict = model.predict(x_train)\n",
    "# invert predictions\n",
    "trainPredict_inversed = min_max_scaler.inverse_transform(trainPredict)\n",
    "\n",
    "\n",
    "\n"
   ]
  },
  {
   "cell_type": "code",
   "execution_count": 61,
   "metadata": {},
   "outputs": [
    {
     "data": {
      "text/plain": [
       "array([[[0.02132425]],\n",
       "\n",
       "       [[0.02133293]],\n",
       "\n",
       "       [[0.02136342]],\n",
       "\n",
       "       ...,\n",
       "\n",
       "       [[0.02153639]],\n",
       "\n",
       "       [[0.02152913]],\n",
       "\n",
       "       [[0.02138434]]], dtype=float32)"
      ]
     },
     "execution_count": 61,
     "metadata": {},
     "output_type": "execute_result"
    }
   ],
   "source": [
    "trainPredict"
   ]
  },
  {
   "cell_type": "code",
   "execution_count": null,
   "metadata": {},
   "outputs": [],
   "source": [
    "\n",
    "\n",
    "trainY = min_max_scaler.inverse_transform([y_train])\n"
   ]
  },
  {
   "cell_type": "code",
   "execution_count": null,
   "metadata": {},
   "outputs": [],
   "source": [
    "\n",
    "\n",
    "testPredict = min_max_scaler.inverse_transform(testPredict)\n",
    "testY = min_max_scaler.inverse_transform([y_test])\n"
   ]
  },
  {
   "cell_type": "code",
   "execution_count": null,
   "metadata": {},
   "outputs": [],
   "source": [
    "\n",
    "\n",
    "trainPredict = model.predict(x_train)\n",
    "testPredict = model.predict(x_test)\n",
    "\n",
    "\n",
    "# calculate root mean squared error\n",
    "trainScore = math.sqrt(mean_squared_error(trainY[0], trainPredict[:,0]))\n",
    "print('Train Score: %.2f RMSE' % (trainScore))\n",
    "testScore = math.sqrt(mean_squared_error(testY[0], testPredict[:,0]))\n",
    "print('Test Score: %.2f RMSE' % (testScore))\n",
    "\n",
    "\n",
    "\n",
    "# shift train predictions for plotting\n",
    "trainPredictPlot = np.empty_like(dataset)\n",
    "trainPredictPlot[:, :] = np.nan\n",
    "trainPredictPlot[look_back:len(trainPredict)+look_back, :] = trainPredict\n",
    "# shift test predictions for plotting\n",
    "testPredictPlot = np.empty_like(dataset)\n",
    "testPredictPlot[:, :] = np.nan\n",
    "testPredictPlot[len(trainPredict)+(look_back*2)+1:len(dataset)-1, :] = testPredict\n",
    "# plot baseline and predictions\n",
    "plt.plot(min_max_scaler.inverse_transform(dataset))\n",
    "plt.plot(trainPredictPlot)\n",
    "plt.plot(testPredictPlot)\n",
    "plt.show()"
   ]
  },
  {
   "cell_type": "code",
   "execution_count": null,
   "metadata": {},
   "outputs": [],
   "source": []
  },
  {
   "cell_type": "code",
   "execution_count": 92,
   "metadata": {},
   "outputs": [
    {
     "name": "stderr",
     "output_type": "stream",
     "text": [
      "  0%|          | 0/1120 [00:00<?, ?it/s]"
     ]
    },
    {
     "name": "stdout",
     "output_type": "stream",
     "text": [
      "1/1 [==============================] - 0s 19ms/step\n",
      "1/1 [==============================] - 0s 20ms/step\n"
     ]
    },
    {
     "name": "stderr",
     "output_type": "stream",
     "text": [
      "  0%|          | 2/1120 [00:00<01:02, 17.94it/s]"
     ]
    },
    {
     "name": "stdout",
     "output_type": "stream",
     "text": [
      "1/1 [==============================] - 0s 20ms/step\n",
      "1/1 [==============================] - 0s 20ms/step\n"
     ]
    },
    {
     "name": "stderr",
     "output_type": "stream",
     "text": [
      "  0%|          | 4/1120 [00:00<01:03, 17.68it/s]"
     ]
    },
    {
     "name": "stdout",
     "output_type": "stream",
     "text": [
      "1/1 [==============================] - 0s 20ms/step\n",
      "1/1 [==============================] - 0s 18ms/step\n"
     ]
    },
    {
     "name": "stderr",
     "output_type": "stream",
     "text": [
      "  1%|          | 6/1120 [00:00<01:02, 17.90it/s]"
     ]
    },
    {
     "name": "stdout",
     "output_type": "stream",
     "text": [
      "1/1 [==============================] - 0s 18ms/step\n",
      "1/1 [==============================] - 0s 16ms/step\n",
      "1/1 [==============================] - 0s 17ms/step\n"
     ]
    },
    {
     "name": "stderr",
     "output_type": "stream",
     "text": [
      "  1%|          | 9/1120 [00:00<00:56, 19.79it/s]"
     ]
    },
    {
     "name": "stdout",
     "output_type": "stream",
     "text": [
      "1/1 [==============================] - 0s 16ms/step\n",
      "1/1 [==============================] - 0s 30ms/step\n"
     ]
    },
    {
     "name": "stderr",
     "output_type": "stream",
     "text": [
      "  1%|          | 11/1120 [00:00<00:57, 19.19it/s]"
     ]
    },
    {
     "name": "stdout",
     "output_type": "stream",
     "text": [
      "1/1 [==============================] - 0s 16ms/step\n",
      "1/1 [==============================] - 0s 17ms/step\n",
      "1/1 [==============================] - 0s 17ms/step\n"
     ]
    },
    {
     "name": "stderr",
     "output_type": "stream",
     "text": [
      "  1%|▏         | 14/1120 [00:00<00:55, 20.11it/s]"
     ]
    },
    {
     "name": "stdout",
     "output_type": "stream",
     "text": [
      "1/1 [==============================] - 0s 17ms/step\n",
      "1/1 [==============================] - 0s 16ms/step\n",
      "1/1 [==============================] - 0s 16ms/step\n"
     ]
    },
    {
     "name": "stderr",
     "output_type": "stream",
     "text": [
      "  2%|▏         | 17/1120 [00:00<00:52, 20.88it/s]"
     ]
    },
    {
     "name": "stdout",
     "output_type": "stream",
     "text": [
      "1/1 [==============================] - 0s 17ms/step\n",
      "1/1 [==============================] - 0s 17ms/step\n",
      "1/1 [==============================] - 0s 18ms/step\n"
     ]
    },
    {
     "name": "stderr",
     "output_type": "stream",
     "text": [
      "  2%|▏         | 20/1120 [00:00<00:50, 21.66it/s]"
     ]
    },
    {
     "name": "stdout",
     "output_type": "stream",
     "text": [
      "1/1 [==============================] - 0s 15ms/step\n",
      "1/1 [==============================] - 0s 17ms/step\n",
      "1/1 [==============================] - 0s 16ms/step\n"
     ]
    },
    {
     "name": "stderr",
     "output_type": "stream",
     "text": [
      "  2%|▏         | 23/1120 [00:01<00:49, 22.12it/s]"
     ]
    },
    {
     "name": "stdout",
     "output_type": "stream",
     "text": [
      "1/1 [==============================] - 0s 18ms/step\n",
      "1/1 [==============================] - 0s 17ms/step\n",
      "1/1 [==============================] - 0s 17ms/step\n"
     ]
    },
    {
     "name": "stderr",
     "output_type": "stream",
     "text": [
      "  2%|▏         | 26/1120 [00:01<00:49, 21.97it/s]"
     ]
    },
    {
     "name": "stdout",
     "output_type": "stream",
     "text": [
      "1/1 [==============================] - 0s 17ms/step\n",
      "1/1 [==============================] - 0s 16ms/step\n",
      "1/1 [==============================] - 0s 16ms/step\n"
     ]
    },
    {
     "name": "stderr",
     "output_type": "stream",
     "text": [
      "  3%|▎         | 29/1120 [00:01<00:49, 22.21it/s]"
     ]
    },
    {
     "name": "stdout",
     "output_type": "stream",
     "text": [
      "1/1 [==============================] - 0s 16ms/step\n",
      "1/1 [==============================] - 0s 17ms/step\n",
      "1/1 [==============================] - 0s 17ms/step\n"
     ]
    },
    {
     "name": "stderr",
     "output_type": "stream",
     "text": [
      "  3%|▎         | 32/1120 [00:01<00:48, 22.44it/s]"
     ]
    },
    {
     "name": "stdout",
     "output_type": "stream",
     "text": [
      "1/1 [==============================] - 0s 18ms/step\n",
      "1/1 [==============================] - 0s 18ms/step\n",
      "1/1 [==============================] - 0s 17ms/step\n"
     ]
    },
    {
     "name": "stderr",
     "output_type": "stream",
     "text": [
      "  3%|▎         | 35/1120 [00:01<00:48, 22.14it/s]"
     ]
    },
    {
     "name": "stdout",
     "output_type": "stream",
     "text": [
      "1/1 [==============================] - 0s 17ms/step\n",
      "1/1 [==============================] - 0s 17ms/step\n",
      "1/1 [==============================] - 0s 17ms/step\n"
     ]
    },
    {
     "name": "stderr",
     "output_type": "stream",
     "text": [
      "  3%|▎         | 38/1120 [00:01<00:48, 22.39it/s]"
     ]
    },
    {
     "name": "stdout",
     "output_type": "stream",
     "text": [
      "1/1 [==============================] - 0s 19ms/step\n",
      "1/1 [==============================] - 0s 16ms/step\n",
      "1/1 [==============================] - 0s 17ms/step\n"
     ]
    },
    {
     "name": "stderr",
     "output_type": "stream",
     "text": [
      "  4%|▎         | 41/1120 [00:01<00:48, 22.40it/s]"
     ]
    },
    {
     "name": "stdout",
     "output_type": "stream",
     "text": [
      "1/1 [==============================] - 0s 15ms/step\n",
      "1/1 [==============================] - 0s 21ms/step\n",
      "1/1 [==============================] - 0s 19ms/step\n"
     ]
    },
    {
     "name": "stderr",
     "output_type": "stream",
     "text": [
      "  4%|▍         | 44/1120 [00:02<00:50, 21.39it/s]"
     ]
    },
    {
     "name": "stdout",
     "output_type": "stream",
     "text": [
      "1/1 [==============================] - 0s 18ms/step\n",
      "1/1 [==============================] - 0s 21ms/step\n",
      "1/1 [==============================] - 0s 18ms/step\n"
     ]
    },
    {
     "name": "stderr",
     "output_type": "stream",
     "text": [
      "  4%|▍         | 47/1120 [00:02<00:51, 20.99it/s]"
     ]
    },
    {
     "name": "stdout",
     "output_type": "stream",
     "text": [
      "1/1 [==============================] - 0s 17ms/step\n",
      "1/1 [==============================] - 0s 17ms/step\n",
      "1/1 [==============================] - 0s 16ms/step\n"
     ]
    },
    {
     "name": "stderr",
     "output_type": "stream",
     "text": [
      "  4%|▍         | 50/1120 [00:02<00:49, 21.68it/s]"
     ]
    },
    {
     "name": "stdout",
     "output_type": "stream",
     "text": [
      "1/1 [==============================] - 0s 16ms/step\n",
      "1/1 [==============================] - 0s 20ms/step\n",
      "1/1 [==============================] - 0s 17ms/step\n"
     ]
    },
    {
     "name": "stderr",
     "output_type": "stream",
     "text": [
      "  5%|▍         | 53/1120 [00:02<00:48, 21.90it/s]"
     ]
    },
    {
     "name": "stdout",
     "output_type": "stream",
     "text": [
      "1/1 [==============================] - 0s 16ms/step\n",
      "1/1 [==============================] - 0s 16ms/step\n",
      "1/1 [==============================] - 0s 19ms/step\n"
     ]
    },
    {
     "name": "stderr",
     "output_type": "stream",
     "text": [
      "  5%|▌         | 56/1120 [00:02<00:47, 22.24it/s]"
     ]
    },
    {
     "name": "stdout",
     "output_type": "stream",
     "text": [
      "1/1 [==============================] - 0s 18ms/step\n",
      "1/1 [==============================] - 0s 17ms/step\n",
      "1/1 [==============================] - 0s 17ms/step\n"
     ]
    },
    {
     "name": "stderr",
     "output_type": "stream",
     "text": [
      "  5%|▌         | 59/1120 [00:02<00:48, 21.74it/s]"
     ]
    },
    {
     "name": "stdout",
     "output_type": "stream",
     "text": [
      "1/1 [==============================] - 0s 16ms/step\n",
      "1/1 [==============================] - 0s 17ms/step\n",
      "1/1 [==============================] - 0s 17ms/step\n"
     ]
    },
    {
     "name": "stderr",
     "output_type": "stream",
     "text": [
      "  6%|▌         | 62/1120 [00:02<00:47, 22.28it/s]"
     ]
    },
    {
     "name": "stdout",
     "output_type": "stream",
     "text": [
      "1/1 [==============================] - 0s 17ms/step\n",
      "1/1 [==============================] - 0s 16ms/step\n",
      "1/1 [==============================] - 0s 15ms/step\n"
     ]
    },
    {
     "name": "stderr",
     "output_type": "stream",
     "text": [
      "  6%|▌         | 65/1120 [00:03<00:46, 22.69it/s]"
     ]
    },
    {
     "name": "stdout",
     "output_type": "stream",
     "text": [
      "1/1 [==============================] - 0s 16ms/step\n",
      "1/1 [==============================] - 0s 18ms/step\n",
      "1/1 [==============================] - 0s 18ms/step\n"
     ]
    },
    {
     "name": "stderr",
     "output_type": "stream",
     "text": [
      "  6%|▌         | 68/1120 [00:03<00:46, 22.79it/s]"
     ]
    },
    {
     "name": "stdout",
     "output_type": "stream",
     "text": [
      "1/1 [==============================] - 0s 31ms/step\n",
      "1/1 [==============================] - 0s 23ms/step\n",
      "1/1 [==============================] - 0s 17ms/step\n"
     ]
    },
    {
     "name": "stderr",
     "output_type": "stream",
     "text": [
      "  6%|▋         | 71/1120 [00:03<00:49, 21.13it/s]"
     ]
    },
    {
     "name": "stdout",
     "output_type": "stream",
     "text": [
      "1/1 [==============================] - 0s 16ms/step\n",
      "1/1 [==============================] - 0s 15ms/step\n",
      "1/1 [==============================] - 0s 16ms/step\n"
     ]
    },
    {
     "name": "stderr",
     "output_type": "stream",
     "text": [
      "  7%|▋         | 74/1120 [00:03<00:46, 22.33it/s]"
     ]
    },
    {
     "name": "stdout",
     "output_type": "stream",
     "text": [
      "1/1 [==============================] - 0s 16ms/step\n",
      "1/1 [==============================] - 0s 15ms/step\n",
      "1/1 [==============================] - 0s 15ms/step\n"
     ]
    },
    {
     "name": "stderr",
     "output_type": "stream",
     "text": [
      "  7%|▋         | 77/1120 [00:03<00:44, 23.21it/s]"
     ]
    },
    {
     "name": "stdout",
     "output_type": "stream",
     "text": [
      "1/1 [==============================] - 0s 15ms/step\n",
      "1/1 [==============================] - 0s 17ms/step\n",
      "1/1 [==============================] - 0s 19ms/step\n"
     ]
    },
    {
     "name": "stderr",
     "output_type": "stream",
     "text": [
      "  7%|▋         | 80/1120 [00:03<00:44, 23.21it/s]"
     ]
    },
    {
     "name": "stdout",
     "output_type": "stream",
     "text": [
      "1/1 [==============================] - 0s 17ms/step\n",
      "1/1 [==============================] - 0s 16ms/step\n",
      "1/1 [==============================] - 0s 17ms/step\n"
     ]
    },
    {
     "name": "stderr",
     "output_type": "stream",
     "text": [
      "  7%|▋         | 83/1120 [00:03<00:44, 23.23it/s]"
     ]
    },
    {
     "name": "stdout",
     "output_type": "stream",
     "text": [
      "1/1 [==============================] - 0s 15ms/step\n",
      "1/1 [==============================] - 0s 16ms/step\n",
      "1/1 [==============================] - 0s 16ms/step\n"
     ]
    },
    {
     "name": "stderr",
     "output_type": "stream",
     "text": [
      "  8%|▊         | 86/1120 [00:03<00:43, 23.77it/s]"
     ]
    },
    {
     "name": "stdout",
     "output_type": "stream",
     "text": [
      "1/1 [==============================] - 0s 15ms/step\n",
      "1/1 [==============================] - 0s 15ms/step\n",
      "1/1 [==============================] - 0s 18ms/step\n"
     ]
    },
    {
     "name": "stderr",
     "output_type": "stream",
     "text": [
      "  8%|▊         | 89/1120 [00:04<00:42, 24.27it/s]"
     ]
    },
    {
     "name": "stdout",
     "output_type": "stream",
     "text": [
      "1/1 [==============================] - 0s 19ms/step\n",
      "1/1 [==============================] - 0s 16ms/step\n",
      "1/1 [==============================] - 0s 16ms/step\n"
     ]
    },
    {
     "name": "stderr",
     "output_type": "stream",
     "text": [
      "  8%|▊         | 92/1120 [00:04<00:43, 23.49it/s]"
     ]
    },
    {
     "name": "stdout",
     "output_type": "stream",
     "text": [
      "1/1 [==============================] - 0s 15ms/step\n",
      "1/1 [==============================] - 0s 15ms/step\n",
      "1/1 [==============================] - 0s 15ms/step\n"
     ]
    },
    {
     "name": "stderr",
     "output_type": "stream",
     "text": [
      "  8%|▊         | 95/1120 [00:04<00:42, 24.15it/s]"
     ]
    },
    {
     "name": "stdout",
     "output_type": "stream",
     "text": [
      "1/1 [==============================] - 0s 16ms/step\n",
      "1/1 [==============================] - 0s 16ms/step\n",
      "1/1 [==============================] - 0s 15ms/step\n"
     ]
    },
    {
     "name": "stderr",
     "output_type": "stream",
     "text": [
      "  9%|▉         | 98/1120 [00:04<00:41, 24.71it/s]"
     ]
    },
    {
     "name": "stdout",
     "output_type": "stream",
     "text": [
      "1/1 [==============================] - 0s 18ms/step\n",
      "1/1 [==============================] - 0s 17ms/step\n",
      "1/1 [==============================] - 0s 17ms/step\n"
     ]
    },
    {
     "name": "stderr",
     "output_type": "stream",
     "text": [
      "  9%|▉         | 101/1120 [00:04<00:42, 23.80it/s]"
     ]
    },
    {
     "name": "stdout",
     "output_type": "stream",
     "text": [
      "1/1 [==============================] - 0s 16ms/step\n",
      "1/1 [==============================] - 0s 15ms/step\n",
      "1/1 [==============================] - 0s 15ms/step\n"
     ]
    },
    {
     "name": "stderr",
     "output_type": "stream",
     "text": [
      "  9%|▉         | 104/1120 [00:04<00:41, 24.35it/s]"
     ]
    },
    {
     "name": "stdout",
     "output_type": "stream",
     "text": [
      "1/1 [==============================] - 0s 15ms/step\n",
      "1/1 [==============================] - 0s 19ms/step\n",
      "1/1 [==============================] - 0s 15ms/step\n"
     ]
    },
    {
     "name": "stderr",
     "output_type": "stream",
     "text": [
      " 10%|▉         | 107/1120 [00:04<00:40, 24.76it/s]"
     ]
    },
    {
     "name": "stdout",
     "output_type": "stream",
     "text": [
      "1/1 [==============================] - 0s 16ms/step\n",
      "1/1 [==============================] - 0s 15ms/step\n",
      "1/1 [==============================] - 0s 15ms/step\n"
     ]
    },
    {
     "name": "stderr",
     "output_type": "stream",
     "text": [
      " 10%|▉         | 110/1120 [00:04<00:40, 25.05it/s]"
     ]
    },
    {
     "name": "stdout",
     "output_type": "stream",
     "text": [
      "1/1 [==============================] - 0s 17ms/step\n",
      "1/1 [==============================] - 0s 17ms/step\n",
      "1/1 [==============================] - 0s 16ms/step\n"
     ]
    },
    {
     "name": "stderr",
     "output_type": "stream",
     "text": [
      " 10%|█         | 113/1120 [00:05<00:40, 24.69it/s]"
     ]
    },
    {
     "name": "stdout",
     "output_type": "stream",
     "text": [
      "1/1 [==============================] - 0s 28ms/step\n",
      "1/1 [==============================] - 0s 15ms/step\n",
      "1/1 [==============================] - 0s 15ms/step\n"
     ]
    },
    {
     "name": "stderr",
     "output_type": "stream",
     "text": [
      " 10%|█         | 116/1120 [00:05<00:42, 23.36it/s]"
     ]
    },
    {
     "name": "stdout",
     "output_type": "stream",
     "text": [
      "1/1 [==============================] - 0s 15ms/step\n",
      "1/1 [==============================] - 0s 14ms/step\n",
      "1/1 [==============================] - 0s 15ms/step\n"
     ]
    },
    {
     "name": "stderr",
     "output_type": "stream",
     "text": [
      " 11%|█         | 119/1120 [00:05<00:41, 24.23it/s]"
     ]
    },
    {
     "name": "stdout",
     "output_type": "stream",
     "text": [
      "1/1 [==============================] - 0s 15ms/step\n",
      "1/1 [==============================] - 0s 15ms/step\n",
      "1/1 [==============================] - 0s 15ms/step\n"
     ]
    },
    {
     "name": "stderr",
     "output_type": "stream",
     "text": [
      " 11%|█         | 122/1120 [00:05<00:40, 24.91it/s]"
     ]
    },
    {
     "name": "stdout",
     "output_type": "stream",
     "text": [
      "1/1 [==============================] - 0s 17ms/step\n",
      "1/1 [==============================] - 0s 15ms/step\n",
      "1/1 [==============================] - 0s 16ms/step\n"
     ]
    },
    {
     "name": "stderr",
     "output_type": "stream",
     "text": [
      " 11%|█         | 125/1120 [00:05<00:40, 24.73it/s]"
     ]
    },
    {
     "name": "stdout",
     "output_type": "stream",
     "text": [
      "1/1 [==============================] - 0s 15ms/step\n",
      "1/1 [==============================] - 0s 15ms/step\n",
      "1/1 [==============================] - 0s 15ms/step\n"
     ]
    },
    {
     "name": "stderr",
     "output_type": "stream",
     "text": [
      " 11%|█▏        | 128/1120 [00:05<00:39, 25.03it/s]"
     ]
    },
    {
     "name": "stdout",
     "output_type": "stream",
     "text": [
      "1/1 [==============================] - 0s 15ms/step\n",
      "1/1 [==============================] - 0s 15ms/step\n",
      "1/1 [==============================] - 0s 15ms/step\n"
     ]
    },
    {
     "name": "stderr",
     "output_type": "stream",
     "text": [
      " 12%|█▏        | 131/1120 [00:05<00:38, 25.43it/s]"
     ]
    },
    {
     "name": "stdout",
     "output_type": "stream",
     "text": [
      "1/1 [==============================] - 0s 15ms/step\n",
      "1/1 [==============================] - 0s 15ms/step\n",
      "1/1 [==============================] - 0s 16ms/step\n"
     ]
    },
    {
     "name": "stderr",
     "output_type": "stream",
     "text": [
      " 12%|█▏        | 134/1120 [00:05<00:38, 25.35it/s]"
     ]
    },
    {
     "name": "stdout",
     "output_type": "stream",
     "text": [
      "1/1 [==============================] - 0s 16ms/step\n",
      "1/1 [==============================] - 0s 15ms/step\n",
      "1/1 [==============================] - 0s 17ms/step\n"
     ]
    },
    {
     "name": "stderr",
     "output_type": "stream",
     "text": [
      " 12%|█▏        | 137/1120 [00:05<00:38, 25.32it/s]"
     ]
    },
    {
     "name": "stdout",
     "output_type": "stream",
     "text": [
      "1/1 [==============================] - 0s 15ms/step\n",
      "1/1 [==============================] - 0s 16ms/step\n",
      "1/1 [==============================] - 0s 17ms/step\n"
     ]
    },
    {
     "name": "stderr",
     "output_type": "stream",
     "text": [
      " 12%|█▎        | 140/1120 [00:06<00:39, 25.02it/s]"
     ]
    },
    {
     "name": "stdout",
     "output_type": "stream",
     "text": [
      "1/1 [==============================] - 0s 16ms/step\n",
      "1/1 [==============================] - 0s 15ms/step\n",
      "1/1 [==============================] - 0s 15ms/step\n"
     ]
    },
    {
     "name": "stderr",
     "output_type": "stream",
     "text": [
      " 13%|█▎        | 143/1120 [00:06<00:38, 25.15it/s]"
     ]
    },
    {
     "name": "stdout",
     "output_type": "stream",
     "text": [
      "1/1 [==============================] - 0s 16ms/step\n",
      "1/1 [==============================] - 0s 15ms/step\n",
      "1/1 [==============================] - 0s 17ms/step\n"
     ]
    },
    {
     "name": "stderr",
     "output_type": "stream",
     "text": [
      " 13%|█▎        | 146/1120 [00:06<00:39, 24.87it/s]"
     ]
    },
    {
     "name": "stdout",
     "output_type": "stream",
     "text": [
      "1/1 [==============================] - 0s 17ms/step\n",
      "1/1 [==============================] - 0s 16ms/step\n",
      "1/1 [==============================] - 0s 17ms/step\n"
     ]
    },
    {
     "name": "stderr",
     "output_type": "stream",
     "text": [
      " 13%|█▎        | 149/1120 [00:06<00:39, 24.76it/s]"
     ]
    },
    {
     "name": "stdout",
     "output_type": "stream",
     "text": [
      "1/1 [==============================] - 0s 17ms/step\n",
      "1/1 [==============================] - 0s 15ms/step\n",
      "1/1 [==============================] - 0s 15ms/step\n"
     ]
    },
    {
     "name": "stderr",
     "output_type": "stream",
     "text": [
      " 14%|█▎        | 152/1120 [00:06<00:39, 24.54it/s]"
     ]
    },
    {
     "name": "stdout",
     "output_type": "stream",
     "text": [
      "1/1 [==============================] - 0s 16ms/step\n",
      "1/1 [==============================] - 0s 15ms/step\n",
      "1/1 [==============================] - 0s 15ms/step\n"
     ]
    },
    {
     "name": "stderr",
     "output_type": "stream",
     "text": [
      " 14%|█▍        | 155/1120 [00:06<00:38, 24.93it/s]"
     ]
    },
    {
     "name": "stdout",
     "output_type": "stream",
     "text": [
      "1/1 [==============================] - 0s 16ms/step\n",
      "1/1 [==============================] - 0s 15ms/step\n",
      "1/1 [==============================] - 0s 16ms/step\n"
     ]
    },
    {
     "name": "stderr",
     "output_type": "stream",
     "text": [
      " 14%|█▍        | 158/1120 [00:06<00:38, 24.69it/s]"
     ]
    },
    {
     "name": "stdout",
     "output_type": "stream",
     "text": [
      "1/1 [==============================] - 0s 15ms/step\n",
      "1/1 [==============================] - 0s 16ms/step\n",
      "1/1 [==============================] - 0s 16ms/step\n"
     ]
    },
    {
     "name": "stderr",
     "output_type": "stream",
     "text": [
      " 14%|█▍        | 161/1120 [00:06<00:38, 24.78it/s]"
     ]
    },
    {
     "name": "stdout",
     "output_type": "stream",
     "text": [
      "1/1 [==============================] - 0s 17ms/step\n",
      "1/1 [==============================] - 0s 15ms/step\n",
      "1/1 [==============================] - 0s 18ms/step\n"
     ]
    },
    {
     "name": "stderr",
     "output_type": "stream",
     "text": [
      " 15%|█▍        | 164/1120 [00:07<00:38, 24.86it/s]"
     ]
    },
    {
     "name": "stdout",
     "output_type": "stream",
     "text": [
      "1/1 [==============================] - 0s 16ms/step\n",
      "1/1 [==============================] - 0s 15ms/step\n",
      "1/1 [==============================] - 0s 16ms/step\n"
     ]
    },
    {
     "name": "stderr",
     "output_type": "stream",
     "text": [
      " 15%|█▍        | 167/1120 [00:07<00:38, 24.97it/s]"
     ]
    },
    {
     "name": "stdout",
     "output_type": "stream",
     "text": [
      "1/1 [==============================] - 0s 16ms/step\n",
      "1/1 [==============================] - 0s 15ms/step\n",
      "1/1 [==============================] - 0s 15ms/step\n"
     ]
    },
    {
     "name": "stderr",
     "output_type": "stream",
     "text": [
      " 15%|█▌        | 170/1120 [00:07<00:37, 25.33it/s]"
     ]
    },
    {
     "name": "stdout",
     "output_type": "stream",
     "text": [
      "1/1 [==============================] - 0s 15ms/step\n",
      "1/1 [==============================] - 0s 16ms/step\n",
      "1/1 [==============================] - 0s 14ms/step\n"
     ]
    },
    {
     "name": "stderr",
     "output_type": "stream",
     "text": [
      " 15%|█▌        | 173/1120 [00:07<00:37, 25.58it/s]"
     ]
    },
    {
     "name": "stdout",
     "output_type": "stream",
     "text": [
      "1/1 [==============================] - 0s 15ms/step\n",
      "1/1 [==============================] - 0s 15ms/step\n",
      "1/1 [==============================] - 0s 16ms/step\n"
     ]
    },
    {
     "name": "stderr",
     "output_type": "stream",
     "text": [
      " 16%|█▌        | 176/1120 [00:07<00:36, 25.79it/s]"
     ]
    },
    {
     "name": "stdout",
     "output_type": "stream",
     "text": [
      "1/1 [==============================] - 0s 15ms/step\n",
      "1/1 [==============================] - 0s 16ms/step\n",
      "1/1 [==============================] - 0s 15ms/step\n"
     ]
    },
    {
     "name": "stderr",
     "output_type": "stream",
     "text": [
      " 16%|█▌        | 179/1120 [00:07<00:37, 25.35it/s]"
     ]
    },
    {
     "name": "stdout",
     "output_type": "stream",
     "text": [
      "1/1 [==============================] - 0s 18ms/step\n",
      "1/1 [==============================] - 0s 16ms/step\n",
      "1/1 [==============================] - 0s 15ms/step\n"
     ]
    },
    {
     "name": "stderr",
     "output_type": "stream",
     "text": [
      " 16%|█▋        | 182/1120 [00:07<00:36, 25.47it/s]"
     ]
    },
    {
     "name": "stdout",
     "output_type": "stream",
     "text": [
      "1/1 [==============================] - 0s 15ms/step\n",
      "1/1 [==============================] - 0s 15ms/step\n",
      "1/1 [==============================] - 0s 16ms/step\n"
     ]
    },
    {
     "name": "stderr",
     "output_type": "stream",
     "text": [
      " 17%|█▋        | 185/1120 [00:07<00:37, 25.23it/s]"
     ]
    },
    {
     "name": "stdout",
     "output_type": "stream",
     "text": [
      "1/1 [==============================] - 0s 17ms/step\n",
      "1/1 [==============================] - 0s 15ms/step\n",
      "1/1 [==============================] - 0s 15ms/step\n"
     ]
    },
    {
     "name": "stderr",
     "output_type": "stream",
     "text": [
      " 17%|█▋        | 188/1120 [00:08<00:36, 25.39it/s]"
     ]
    },
    {
     "name": "stdout",
     "output_type": "stream",
     "text": [
      "1/1 [==============================] - 0s 16ms/step\n",
      "1/1 [==============================] - 0s 15ms/step\n",
      "1/1 [==============================] - 0s 17ms/step\n"
     ]
    },
    {
     "name": "stderr",
     "output_type": "stream",
     "text": [
      " 17%|█▋        | 191/1120 [00:08<00:37, 24.90it/s]"
     ]
    },
    {
     "name": "stdout",
     "output_type": "stream",
     "text": [
      "1/1 [==============================] - 0s 16ms/step\n",
      "1/1 [==============================] - 0s 15ms/step\n",
      "1/1 [==============================] - 0s 14ms/step\n"
     ]
    },
    {
     "name": "stderr",
     "output_type": "stream",
     "text": [
      " 17%|█▋        | 194/1120 [00:08<00:36, 25.33it/s]"
     ]
    },
    {
     "name": "stdout",
     "output_type": "stream",
     "text": [
      "1/1 [==============================] - 0s 15ms/step\n",
      "1/1 [==============================] - 0s 15ms/step\n",
      "1/1 [==============================] - 0s 15ms/step\n"
     ]
    },
    {
     "name": "stderr",
     "output_type": "stream",
     "text": [
      " 18%|█▊        | 197/1120 [00:08<00:35, 25.67it/s]"
     ]
    },
    {
     "name": "stdout",
     "output_type": "stream",
     "text": [
      "1/1 [==============================] - 0s 15ms/step\n",
      "1/1 [==============================] - 0s 15ms/step\n",
      "1/1 [==============================] - 0s 29ms/step\n"
     ]
    },
    {
     "name": "stderr",
     "output_type": "stream",
     "text": [
      " 18%|█▊        | 200/1120 [00:08<00:37, 24.57it/s]"
     ]
    },
    {
     "name": "stdout",
     "output_type": "stream",
     "text": [
      "1/1 [==============================] - 0s 15ms/step\n",
      "1/1 [==============================] - 0s 15ms/step\n",
      "1/1 [==============================] - 0s 15ms/step\n"
     ]
    },
    {
     "name": "stderr",
     "output_type": "stream",
     "text": [
      " 18%|█▊        | 203/1120 [00:08<00:37, 24.20it/s]"
     ]
    },
    {
     "name": "stdout",
     "output_type": "stream",
     "text": [
      "1/1 [==============================] - 0s 15ms/step\n",
      "1/1 [==============================] - 0s 14ms/step\n",
      "1/1 [==============================] - 0s 15ms/step\n"
     ]
    },
    {
     "name": "stderr",
     "output_type": "stream",
     "text": [
      " 18%|█▊        | 206/1120 [00:08<00:36, 24.88it/s]"
     ]
    },
    {
     "name": "stdout",
     "output_type": "stream",
     "text": [
      "1/1 [==============================] - 0s 16ms/step\n",
      "1/1 [==============================] - 0s 15ms/step\n",
      "1/1 [==============================] - 0s 16ms/step\n"
     ]
    },
    {
     "name": "stderr",
     "output_type": "stream",
     "text": [
      " 19%|█▊        | 209/1120 [00:08<00:36, 24.91it/s]"
     ]
    },
    {
     "name": "stdout",
     "output_type": "stream",
     "text": [
      "1/1 [==============================] - 0s 16ms/step\n",
      "1/1 [==============================] - 0s 17ms/step\n",
      "1/1 [==============================] - 0s 16ms/step\n"
     ]
    },
    {
     "name": "stderr",
     "output_type": "stream",
     "text": [
      " 19%|█▉        | 212/1120 [00:08<00:37, 24.22it/s]"
     ]
    },
    {
     "name": "stdout",
     "output_type": "stream",
     "text": [
      "1/1 [==============================] - 0s 15ms/step\n",
      "1/1 [==============================] - 0s 16ms/step\n",
      "1/1 [==============================] - 0s 16ms/step\n"
     ]
    },
    {
     "name": "stderr",
     "output_type": "stream",
     "text": [
      " 19%|█▉        | 215/1120 [00:09<00:37, 24.37it/s]"
     ]
    },
    {
     "name": "stdout",
     "output_type": "stream",
     "text": [
      "1/1 [==============================] - 0s 16ms/step\n",
      "1/1 [==============================] - 0s 17ms/step\n",
      "1/1 [==============================] - 0s 19ms/step\n"
     ]
    },
    {
     "name": "stderr",
     "output_type": "stream",
     "text": [
      " 19%|█▉        | 218/1120 [00:09<00:37, 24.14it/s]"
     ]
    },
    {
     "name": "stdout",
     "output_type": "stream",
     "text": [
      "1/1 [==============================] - 0s 16ms/step\n",
      "1/1 [==============================] - 0s 18ms/step\n",
      "1/1 [==============================] - 0s 15ms/step\n"
     ]
    },
    {
     "name": "stderr",
     "output_type": "stream",
     "text": [
      " 20%|█▉        | 221/1120 [00:09<00:37, 24.26it/s]"
     ]
    },
    {
     "name": "stdout",
     "output_type": "stream",
     "text": [
      "1/1 [==============================] - 0s 17ms/step\n",
      "1/1 [==============================] - 0s 16ms/step\n",
      "1/1 [==============================] - 0s 19ms/step\n"
     ]
    },
    {
     "name": "stderr",
     "output_type": "stream",
     "text": [
      " 20%|██        | 224/1120 [00:09<00:37, 23.89it/s]"
     ]
    },
    {
     "name": "stdout",
     "output_type": "stream",
     "text": [
      "1/1 [==============================] - 0s 18ms/step\n",
      "1/1 [==============================] - 0s 16ms/step\n",
      "1/1 [==============================] - 0s 15ms/step\n"
     ]
    },
    {
     "name": "stderr",
     "output_type": "stream",
     "text": [
      " 20%|██        | 227/1120 [00:09<00:37, 23.84it/s]"
     ]
    },
    {
     "name": "stdout",
     "output_type": "stream",
     "text": [
      "1/1 [==============================] - 0s 18ms/step\n",
      "1/1 [==============================] - 0s 16ms/step\n",
      "1/1 [==============================] - 0s 16ms/step\n"
     ]
    },
    {
     "name": "stderr",
     "output_type": "stream",
     "text": [
      " 21%|██        | 230/1120 [00:09<00:37, 23.86it/s]"
     ]
    },
    {
     "name": "stdout",
     "output_type": "stream",
     "text": [
      "1/1 [==============================] - 0s 15ms/step\n",
      "1/1 [==============================] - 0s 15ms/step\n",
      "1/1 [==============================] - 0s 20ms/step\n"
     ]
    },
    {
     "name": "stderr",
     "output_type": "stream",
     "text": [
      " 21%|██        | 233/1120 [00:09<00:37, 23.88it/s]"
     ]
    },
    {
     "name": "stdout",
     "output_type": "stream",
     "text": [
      "1/1 [==============================] - 0s 16ms/step\n",
      "1/1 [==============================] - 0s 18ms/step\n",
      "1/1 [==============================] - 0s 19ms/step\n"
     ]
    },
    {
     "name": "stderr",
     "output_type": "stream",
     "text": [
      " 21%|██        | 236/1120 [00:09<00:37, 23.75it/s]"
     ]
    },
    {
     "name": "stdout",
     "output_type": "stream",
     "text": [
      "1/1 [==============================] - 0s 19ms/step\n",
      "1/1 [==============================] - 0s 16ms/step\n",
      "1/1 [==============================] - 0s 16ms/step\n"
     ]
    },
    {
     "name": "stderr",
     "output_type": "stream",
     "text": [
      " 21%|██▏       | 239/1120 [00:10<00:37, 23.61it/s]"
     ]
    },
    {
     "name": "stdout",
     "output_type": "stream",
     "text": [
      "1/1 [==============================] - 0s 18ms/step\n",
      "1/1 [==============================] - 0s 17ms/step\n",
      "1/1 [==============================] - 0s 19ms/step\n"
     ]
    },
    {
     "name": "stderr",
     "output_type": "stream",
     "text": [
      " 22%|██▏       | 242/1120 [00:10<00:37, 23.56it/s]"
     ]
    },
    {
     "name": "stdout",
     "output_type": "stream",
     "text": [
      "1/1 [==============================] - 0s 15ms/step\n",
      "1/1 [==============================] - 0s 22ms/step\n",
      "1/1 [==============================] - 0s 20ms/step\n"
     ]
    },
    {
     "name": "stderr",
     "output_type": "stream",
     "text": [
      " 22%|██▏       | 245/1120 [00:10<00:38, 22.50it/s]"
     ]
    },
    {
     "name": "stdout",
     "output_type": "stream",
     "text": [
      "1/1 [==============================] - 0s 27ms/step\n",
      "1/1 [==============================] - 0s 15ms/step\n",
      "1/1 [==============================] - 0s 16ms/step\n"
     ]
    },
    {
     "name": "stderr",
     "output_type": "stream",
     "text": [
      " 22%|██▏       | 248/1120 [00:10<00:39, 22.11it/s]"
     ]
    },
    {
     "name": "stdout",
     "output_type": "stream",
     "text": [
      "1/1 [==============================] - 0s 15ms/step\n",
      "1/1 [==============================] - 0s 14ms/step\n",
      "1/1 [==============================] - 0s 18ms/step\n"
     ]
    },
    {
     "name": "stderr",
     "output_type": "stream",
     "text": [
      " 22%|██▏       | 251/1120 [00:10<00:37, 22.93it/s]"
     ]
    },
    {
     "name": "stdout",
     "output_type": "stream",
     "text": [
      "1/1 [==============================] - 0s 22ms/step\n",
      "1/1 [==============================] - 0s 21ms/step\n",
      "1/1 [==============================] - 0s 22ms/step\n"
     ]
    },
    {
     "name": "stderr",
     "output_type": "stream",
     "text": [
      " 23%|██▎       | 254/1120 [00:10<00:40, 21.13it/s]"
     ]
    },
    {
     "name": "stdout",
     "output_type": "stream",
     "text": [
      "1/1 [==============================] - 0s 20ms/step\n",
      "1/1 [==============================] - 0s 29ms/step\n",
      "1/1 [==============================] - 0s 19ms/step\n"
     ]
    },
    {
     "name": "stderr",
     "output_type": "stream",
     "text": [
      " 23%|██▎       | 257/1120 [00:10<00:43, 20.00it/s]"
     ]
    },
    {
     "name": "stdout",
     "output_type": "stream",
     "text": [
      "1/1 [==============================] - 0s 25ms/step\n",
      "1/1 [==============================] - 0s 21ms/step\n",
      "1/1 [==============================] - 0s 20ms/step\n"
     ]
    },
    {
     "name": "stderr",
     "output_type": "stream",
     "text": [
      " 23%|██▎       | 260/1120 [00:11<00:43, 19.68it/s]"
     ]
    },
    {
     "name": "stdout",
     "output_type": "stream",
     "text": [
      "1/1 [==============================] - 0s 17ms/step\n",
      "1/1 [==============================] - 0s 17ms/step\n",
      "1/1 [==============================] - 0s 16ms/step\n"
     ]
    },
    {
     "name": "stderr",
     "output_type": "stream",
     "text": [
      " 23%|██▎       | 263/1120 [00:11<00:42, 20.40it/s]"
     ]
    },
    {
     "name": "stdout",
     "output_type": "stream",
     "text": [
      "1/1 [==============================] - 0s 16ms/step\n",
      "1/1 [==============================] - 0s 16ms/step\n",
      "1/1 [==============================] - 0s 16ms/step\n"
     ]
    },
    {
     "name": "stderr",
     "output_type": "stream",
     "text": [
      " 24%|██▍       | 266/1120 [00:11<00:40, 20.92it/s]"
     ]
    },
    {
     "name": "stdout",
     "output_type": "stream",
     "text": [
      "1/1 [==============================] - 0s 17ms/step\n",
      "1/1 [==============================] - 0s 24ms/step\n",
      "1/1 [==============================] - 0s 20ms/step\n"
     ]
    },
    {
     "name": "stderr",
     "output_type": "stream",
     "text": [
      " 24%|██▍       | 269/1120 [00:11<00:40, 20.89it/s]"
     ]
    },
    {
     "name": "stdout",
     "output_type": "stream",
     "text": [
      "1/1 [==============================] - 0s 17ms/step\n",
      "1/1 [==============================] - 0s 16ms/step\n",
      "1/1 [==============================] - 0s 16ms/step\n"
     ]
    },
    {
     "name": "stderr",
     "output_type": "stream",
     "text": [
      " 24%|██▍       | 272/1120 [00:11<00:39, 21.29it/s]"
     ]
    },
    {
     "name": "stdout",
     "output_type": "stream",
     "text": [
      "1/1 [==============================] - 0s 16ms/step\n",
      "1/1 [==============================] - 0s 16ms/step\n",
      "1/1 [==============================] - 0s 17ms/step\n"
     ]
    },
    {
     "name": "stderr",
     "output_type": "stream",
     "text": [
      " 25%|██▍       | 275/1120 [00:11<00:38, 21.80it/s]"
     ]
    },
    {
     "name": "stdout",
     "output_type": "stream",
     "text": [
      "1/1 [==============================] - 0s 16ms/step\n",
      "1/1 [==============================] - 0s 17ms/step\n",
      "1/1 [==============================] - 0s 16ms/step\n"
     ]
    },
    {
     "name": "stderr",
     "output_type": "stream",
     "text": [
      " 25%|██▍       | 278/1120 [00:11<00:38, 21.72it/s]"
     ]
    },
    {
     "name": "stdout",
     "output_type": "stream",
     "text": [
      "1/1 [==============================] - 0s 16ms/step\n",
      "1/1 [==============================] - 0s 28ms/step\n",
      "1/1 [==============================] - 0s 15ms/step\n"
     ]
    },
    {
     "name": "stderr",
     "output_type": "stream",
     "text": [
      " 25%|██▌       | 281/1120 [00:12<00:39, 21.29it/s]"
     ]
    },
    {
     "name": "stdout",
     "output_type": "stream",
     "text": [
      "1/1 [==============================] - 0s 15ms/step\n",
      "1/1 [==============================] - 0s 16ms/step\n",
      "1/1 [==============================] - 0s 16ms/step\n"
     ]
    },
    {
     "name": "stderr",
     "output_type": "stream",
     "text": [
      " 25%|██▌       | 284/1120 [00:12<00:37, 22.20it/s]"
     ]
    },
    {
     "name": "stdout",
     "output_type": "stream",
     "text": [
      "1/1 [==============================] - 0s 16ms/step\n",
      "1/1 [==============================] - 0s 16ms/step\n",
      "1/1 [==============================] - 0s 16ms/step\n"
     ]
    },
    {
     "name": "stderr",
     "output_type": "stream",
     "text": [
      " 26%|██▌       | 287/1120 [00:12<00:36, 22.58it/s]"
     ]
    },
    {
     "name": "stdout",
     "output_type": "stream",
     "text": [
      "1/1 [==============================] - 0s 17ms/step\n",
      "1/1 [==============================] - 0s 17ms/step\n",
      "1/1 [==============================] - 0s 16ms/step\n"
     ]
    },
    {
     "name": "stderr",
     "output_type": "stream",
     "text": [
      " 26%|██▌       | 290/1120 [00:12<00:37, 22.27it/s]"
     ]
    },
    {
     "name": "stdout",
     "output_type": "stream",
     "text": [
      "1/1 [==============================] - 0s 17ms/step\n",
      "1/1 [==============================] - 0s 17ms/step\n",
      "1/1 [==============================] - 0s 18ms/step\n"
     ]
    },
    {
     "name": "stderr",
     "output_type": "stream",
     "text": [
      " 26%|██▌       | 293/1120 [00:12<00:37, 22.32it/s]"
     ]
    },
    {
     "name": "stdout",
     "output_type": "stream",
     "text": [
      "1/1 [==============================] - 0s 18ms/step\n",
      "1/1 [==============================] - 0s 17ms/step\n",
      "1/1 [==============================] - 0s 23ms/step\n"
     ]
    },
    {
     "name": "stderr",
     "output_type": "stream",
     "text": [
      " 26%|██▋       | 296/1120 [00:12<00:37, 21.95it/s]"
     ]
    },
    {
     "name": "stdout",
     "output_type": "stream",
     "text": [
      "1/1 [==============================] - 0s 16ms/step\n",
      "1/1 [==============================] - 0s 19ms/step\n",
      "1/1 [==============================] - 0s 20ms/step\n"
     ]
    },
    {
     "name": "stderr",
     "output_type": "stream",
     "text": [
      " 27%|██▋       | 299/1120 [00:12<00:37, 21.69it/s]"
     ]
    },
    {
     "name": "stdout",
     "output_type": "stream",
     "text": [
      "1/1 [==============================] - 0s 17ms/step\n",
      "1/1 [==============================] - 0s 17ms/step\n",
      "1/1 [==============================] - 0s 17ms/step\n"
     ]
    },
    {
     "name": "stderr",
     "output_type": "stream",
     "text": [
      " 27%|██▋       | 302/1120 [00:13<00:37, 21.98it/s]"
     ]
    },
    {
     "name": "stdout",
     "output_type": "stream",
     "text": [
      "1/1 [==============================] - 0s 16ms/step\n",
      "1/1 [==============================] - 0s 19ms/step\n",
      "1/1 [==============================] - 0s 18ms/step\n"
     ]
    },
    {
     "name": "stderr",
     "output_type": "stream",
     "text": [
      " 27%|██▋       | 305/1120 [00:13<00:36, 22.32it/s]"
     ]
    },
    {
     "name": "stdout",
     "output_type": "stream",
     "text": [
      "1/1 [==============================] - 0s 20ms/step\n",
      "1/1 [==============================] - 0s 27ms/step\n",
      "1/1 [==============================] - 0s 16ms/step\n"
     ]
    },
    {
     "name": "stderr",
     "output_type": "stream",
     "text": [
      " 28%|██▊       | 308/1120 [00:13<00:37, 21.51it/s]"
     ]
    },
    {
     "name": "stdout",
     "output_type": "stream",
     "text": [
      "1/1 [==============================] - 0s 16ms/step\n",
      "1/1 [==============================] - 0s 18ms/step\n",
      "1/1 [==============================] - 0s 17ms/step\n"
     ]
    },
    {
     "name": "stderr",
     "output_type": "stream",
     "text": [
      " 28%|██▊       | 311/1120 [00:13<00:37, 21.62it/s]"
     ]
    },
    {
     "name": "stdout",
     "output_type": "stream",
     "text": [
      "1/1 [==============================] - 0s 17ms/step\n",
      "1/1 [==============================] - 0s 19ms/step\n",
      "1/1 [==============================] - 0s 20ms/step\n"
     ]
    },
    {
     "name": "stderr",
     "output_type": "stream",
     "text": [
      " 28%|██▊       | 314/1120 [00:13<00:37, 21.52it/s]"
     ]
    },
    {
     "name": "stdout",
     "output_type": "stream",
     "text": [
      "1/1 [==============================] - 0s 16ms/step\n",
      "1/1 [==============================] - 0s 19ms/step\n",
      "1/1 [==============================] - 0s 18ms/step\n"
     ]
    },
    {
     "name": "stderr",
     "output_type": "stream",
     "text": [
      " 28%|██▊       | 317/1120 [00:13<00:36, 21.86it/s]"
     ]
    },
    {
     "name": "stdout",
     "output_type": "stream",
     "text": [
      "1/1 [==============================] - 0s 18ms/step\n",
      "1/1 [==============================] - 0s 16ms/step\n",
      "1/1 [==============================] - 0s 17ms/step\n"
     ]
    },
    {
     "name": "stderr",
     "output_type": "stream",
     "text": [
      " 29%|██▊       | 320/1120 [00:13<00:35, 22.24it/s]"
     ]
    },
    {
     "name": "stdout",
     "output_type": "stream",
     "text": [
      "1/1 [==============================] - 0s 18ms/step\n",
      "1/1 [==============================] - 0s 18ms/step\n",
      "1/1 [==============================] - 0s 19ms/step\n"
     ]
    },
    {
     "name": "stderr",
     "output_type": "stream",
     "text": [
      " 29%|██▉       | 323/1120 [00:14<00:36, 21.75it/s]"
     ]
    },
    {
     "name": "stdout",
     "output_type": "stream",
     "text": [
      "1/1 [==============================] - 0s 21ms/step\n",
      "1/1 [==============================] - 0s 16ms/step\n",
      "1/1 [==============================] - 0s 17ms/step\n"
     ]
    },
    {
     "name": "stderr",
     "output_type": "stream",
     "text": [
      " 29%|██▉       | 326/1120 [00:14<00:37, 21.35it/s]"
     ]
    },
    {
     "name": "stdout",
     "output_type": "stream",
     "text": [
      "1/1 [==============================] - 0s 16ms/step\n",
      "1/1 [==============================] - 0s 17ms/step\n",
      "1/1 [==============================] - 0s 18ms/step\n"
     ]
    },
    {
     "name": "stderr",
     "output_type": "stream",
     "text": [
      " 29%|██▉       | 329/1120 [00:14<00:36, 21.73it/s]"
     ]
    },
    {
     "name": "stdout",
     "output_type": "stream",
     "text": [
      "1/1 [==============================] - 0s 20ms/step\n",
      "1/1 [==============================] - 0s 17ms/step\n",
      "1/1 [==============================] - 0s 19ms/step\n"
     ]
    },
    {
     "name": "stderr",
     "output_type": "stream",
     "text": [
      " 30%|██▉       | 332/1120 [00:14<00:36, 21.34it/s]"
     ]
    },
    {
     "name": "stdout",
     "output_type": "stream",
     "text": [
      "1/1 [==============================] - 0s 19ms/step\n",
      "1/1 [==============================] - 0s 17ms/step\n",
      "1/1 [==============================] - 0s 18ms/step\n"
     ]
    },
    {
     "name": "stderr",
     "output_type": "stream",
     "text": [
      " 30%|██▉       | 335/1120 [00:14<00:36, 21.63it/s]"
     ]
    },
    {
     "name": "stdout",
     "output_type": "stream",
     "text": [
      "1/1 [==============================] - 0s 16ms/step\n",
      "1/1 [==============================] - 0s 22ms/step\n",
      "1/1 [==============================] - 0s 25ms/step\n"
     ]
    },
    {
     "name": "stderr",
     "output_type": "stream",
     "text": [
      " 30%|███       | 338/1120 [00:14<00:38, 20.32it/s]"
     ]
    },
    {
     "name": "stdout",
     "output_type": "stream",
     "text": [
      "1/1 [==============================] - 0s 17ms/step\n",
      "1/1 [==============================] - 0s 16ms/step\n",
      "1/1 [==============================] - 0s 17ms/step\n"
     ]
    },
    {
     "name": "stderr",
     "output_type": "stream",
     "text": [
      " 30%|███       | 341/1120 [00:14<00:36, 21.06it/s]"
     ]
    },
    {
     "name": "stdout",
     "output_type": "stream",
     "text": [
      "1/1 [==============================] - 0s 17ms/step\n",
      "1/1 [==============================] - 0s 20ms/step\n",
      "1/1 [==============================] - 0s 17ms/step\n"
     ]
    },
    {
     "name": "stderr",
     "output_type": "stream",
     "text": [
      " 31%|███       | 344/1120 [00:15<00:36, 21.24it/s]"
     ]
    },
    {
     "name": "stdout",
     "output_type": "stream",
     "text": [
      "1/1 [==============================] - 0s 17ms/step\n",
      "1/1 [==============================] - 0s 18ms/step\n",
      "1/1 [==============================] - 0s 17ms/step\n"
     ]
    },
    {
     "name": "stderr",
     "output_type": "stream",
     "text": [
      " 31%|███       | 347/1120 [00:15<00:35, 21.58it/s]"
     ]
    },
    {
     "name": "stdout",
     "output_type": "stream",
     "text": [
      "1/1 [==============================] - 0s 16ms/step\n",
      "1/1 [==============================] - 0s 16ms/step\n",
      "1/1 [==============================] - 0s 16ms/step\n"
     ]
    },
    {
     "name": "stderr",
     "output_type": "stream",
     "text": [
      " 31%|███▏      | 350/1120 [00:15<00:34, 22.26it/s]"
     ]
    },
    {
     "name": "stdout",
     "output_type": "stream",
     "text": [
      "1/1 [==============================] - 0s 17ms/step\n",
      "1/1 [==============================] - 0s 19ms/step\n",
      "1/1 [==============================] - 0s 16ms/step\n"
     ]
    },
    {
     "name": "stderr",
     "output_type": "stream",
     "text": [
      " 32%|███▏      | 353/1120 [00:15<00:34, 22.53it/s]"
     ]
    },
    {
     "name": "stdout",
     "output_type": "stream",
     "text": [
      "1/1 [==============================] - 0s 16ms/step\n",
      "1/1 [==============================] - 0s 21ms/step\n",
      "1/1 [==============================] - 0s 18ms/step\n"
     ]
    },
    {
     "name": "stderr",
     "output_type": "stream",
     "text": [
      " 32%|███▏      | 356/1120 [00:15<00:34, 22.03it/s]"
     ]
    },
    {
     "name": "stdout",
     "output_type": "stream",
     "text": [
      "1/1 [==============================] - 0s 16ms/step\n",
      "1/1 [==============================] - 0s 16ms/step\n",
      "1/1 [==============================] - 0s 19ms/step\n"
     ]
    },
    {
     "name": "stderr",
     "output_type": "stream",
     "text": [
      " 32%|███▏      | 359/1120 [00:15<00:34, 22.14it/s]"
     ]
    },
    {
     "name": "stdout",
     "output_type": "stream",
     "text": [
      "1/1 [==============================] - 0s 19ms/step\n",
      "1/1 [==============================] - 0s 20ms/step\n",
      "1/1 [==============================] - 0s 16ms/step\n"
     ]
    },
    {
     "name": "stderr",
     "output_type": "stream",
     "text": [
      " 32%|███▏      | 362/1120 [00:15<00:34, 21.76it/s]"
     ]
    },
    {
     "name": "stdout",
     "output_type": "stream",
     "text": [
      "1/1 [==============================] - 0s 18ms/step\n",
      "1/1 [==============================] - 0s 18ms/step\n",
      "1/1 [==============================] - 0s 17ms/step\n"
     ]
    },
    {
     "name": "stderr",
     "output_type": "stream",
     "text": [
      " 33%|███▎      | 365/1120 [00:15<00:35, 21.53it/s]"
     ]
    },
    {
     "name": "stdout",
     "output_type": "stream",
     "text": [
      "1/1 [==============================] - 0s 17ms/step\n",
      "1/1 [==============================] - 0s 19ms/step\n",
      "1/1 [==============================] - 0s 18ms/step\n"
     ]
    },
    {
     "name": "stderr",
     "output_type": "stream",
     "text": [
      " 33%|███▎      | 368/1120 [00:16<00:34, 21.73it/s]"
     ]
    },
    {
     "name": "stdout",
     "output_type": "stream",
     "text": [
      "1/1 [==============================] - 0s 28ms/step\n",
      "1/1 [==============================] - 0s 20ms/step\n",
      "1/1 [==============================] - 0s 19ms/step\n"
     ]
    },
    {
     "name": "stderr",
     "output_type": "stream",
     "text": [
      " 33%|███▎      | 371/1120 [00:16<00:36, 20.79it/s]"
     ]
    },
    {
     "name": "stdout",
     "output_type": "stream",
     "text": [
      "1/1 [==============================] - 0s 18ms/step\n",
      "1/1 [==============================] - 0s 18ms/step\n",
      "1/1 [==============================] - 0s 17ms/step\n"
     ]
    },
    {
     "name": "stderr",
     "output_type": "stream",
     "text": [
      " 33%|███▎      | 374/1120 [00:16<00:35, 21.01it/s]"
     ]
    },
    {
     "name": "stdout",
     "output_type": "stream",
     "text": [
      "1/1 [==============================] - 0s 19ms/step\n",
      "1/1 [==============================] - 0s 23ms/step\n",
      "1/1 [==============================] - 0s 17ms/step\n"
     ]
    },
    {
     "name": "stderr",
     "output_type": "stream",
     "text": [
      " 34%|███▎      | 377/1120 [00:16<00:35, 20.73it/s]"
     ]
    },
    {
     "name": "stdout",
     "output_type": "stream",
     "text": [
      "1/1 [==============================] - 0s 21ms/step\n",
      "1/1 [==============================] - 0s 19ms/step\n",
      "1/1 [==============================] - 0s 17ms/step\n"
     ]
    },
    {
     "name": "stderr",
     "output_type": "stream",
     "text": [
      " 34%|███▍      | 380/1120 [00:16<00:35, 20.85it/s]"
     ]
    },
    {
     "name": "stdout",
     "output_type": "stream",
     "text": [
      "1/1 [==============================] - 0s 16ms/step\n",
      "1/1 [==============================] - 0s 19ms/step\n",
      "1/1 [==============================] - 0s 19ms/step\n"
     ]
    },
    {
     "name": "stderr",
     "output_type": "stream",
     "text": [
      " 34%|███▍      | 383/1120 [00:16<00:35, 20.92it/s]"
     ]
    },
    {
     "name": "stdout",
     "output_type": "stream",
     "text": [
      "1/1 [==============================] - 0s 19ms/step\n",
      "1/1 [==============================] - 0s 17ms/step\n",
      "1/1 [==============================] - 0s 17ms/step\n"
     ]
    },
    {
     "name": "stderr",
     "output_type": "stream",
     "text": [
      " 34%|███▍      | 386/1120 [00:16<00:34, 21.34it/s]"
     ]
    },
    {
     "name": "stdout",
     "output_type": "stream",
     "text": [
      "1/1 [==============================] - 0s 17ms/step\n",
      "1/1 [==============================] - 0s 17ms/step\n",
      "1/1 [==============================] - 0s 17ms/step\n"
     ]
    },
    {
     "name": "stderr",
     "output_type": "stream",
     "text": [
      " 35%|███▍      | 389/1120 [00:17<00:34, 21.43it/s]"
     ]
    },
    {
     "name": "stdout",
     "output_type": "stream",
     "text": [
      "1/1 [==============================] - 0s 17ms/step\n",
      "1/1 [==============================] - 0s 17ms/step\n",
      "1/1 [==============================] - 0s 17ms/step\n"
     ]
    },
    {
     "name": "stderr",
     "output_type": "stream",
     "text": [
      " 35%|███▌      | 392/1120 [00:17<00:33, 21.54it/s]"
     ]
    },
    {
     "name": "stdout",
     "output_type": "stream",
     "text": [
      "1/1 [==============================] - 0s 19ms/step\n",
      "1/1 [==============================] - 0s 17ms/step\n",
      "1/1 [==============================] - 0s 17ms/step\n"
     ]
    },
    {
     "name": "stderr",
     "output_type": "stream",
     "text": [
      " 35%|███▌      | 395/1120 [00:17<00:33, 21.67it/s]"
     ]
    },
    {
     "name": "stdout",
     "output_type": "stream",
     "text": [
      "1/1 [==============================] - 0s 16ms/step\n",
      "1/1 [==============================] - 0s 16ms/step\n",
      "1/1 [==============================] - 0s 18ms/step\n"
     ]
    },
    {
     "name": "stderr",
     "output_type": "stream",
     "text": [
      " 36%|███▌      | 398/1120 [00:17<00:33, 21.57it/s]"
     ]
    },
    {
     "name": "stdout",
     "output_type": "stream",
     "text": [
      "1/1 [==============================] - 0s 29ms/step\n",
      "1/1 [==============================] - 0s 23ms/step\n",
      "1/1 [==============================] - 0s 17ms/step\n"
     ]
    },
    {
     "name": "stderr",
     "output_type": "stream",
     "text": [
      " 36%|███▌      | 401/1120 [00:17<00:35, 20.39it/s]"
     ]
    },
    {
     "name": "stdout",
     "output_type": "stream",
     "text": [
      "1/1 [==============================] - 0s 17ms/step\n",
      "1/1 [==============================] - 0s 18ms/step\n",
      "1/1 [==============================] - 0s 17ms/step\n"
     ]
    },
    {
     "name": "stderr",
     "output_type": "stream",
     "text": [
      " 36%|███▌      | 404/1120 [00:17<00:34, 20.99it/s]"
     ]
    },
    {
     "name": "stdout",
     "output_type": "stream",
     "text": [
      "1/1 [==============================] - 0s 20ms/step\n",
      "1/1 [==============================] - 0s 16ms/step\n",
      "1/1 [==============================] - 0s 17ms/step\n"
     ]
    },
    {
     "name": "stderr",
     "output_type": "stream",
     "text": [
      " 36%|███▋      | 407/1120 [00:17<00:33, 21.25it/s]"
     ]
    },
    {
     "name": "stdout",
     "output_type": "stream",
     "text": [
      "1/1 [==============================] - 0s 18ms/step\n",
      "1/1 [==============================] - 0s 18ms/step\n",
      "1/1 [==============================] - 0s 19ms/step\n"
     ]
    },
    {
     "name": "stderr",
     "output_type": "stream",
     "text": [
      " 37%|███▋      | 410/1120 [00:18<00:33, 20.97it/s]"
     ]
    },
    {
     "name": "stdout",
     "output_type": "stream",
     "text": [
      "1/1 [==============================] - 0s 23ms/step\n",
      "1/1 [==============================] - 0s 17ms/step\n",
      "1/1 [==============================] - 0s 16ms/step\n"
     ]
    },
    {
     "name": "stderr",
     "output_type": "stream",
     "text": [
      " 37%|███▋      | 413/1120 [00:18<00:34, 20.71it/s]"
     ]
    },
    {
     "name": "stdout",
     "output_type": "stream",
     "text": [
      "1/1 [==============================] - 0s 18ms/step\n",
      "1/1 [==============================] - 0s 26ms/step\n",
      "1/1 [==============================] - 0s 16ms/step\n"
     ]
    },
    {
     "name": "stderr",
     "output_type": "stream",
     "text": [
      " 37%|███▋      | 416/1120 [00:18<00:34, 20.61it/s]"
     ]
    },
    {
     "name": "stdout",
     "output_type": "stream",
     "text": [
      "1/1 [==============================] - 0s 18ms/step\n",
      "1/1 [==============================] - 0s 20ms/step\n",
      "1/1 [==============================] - 0s 18ms/step\n"
     ]
    },
    {
     "name": "stderr",
     "output_type": "stream",
     "text": [
      " 37%|███▋      | 419/1120 [00:18<00:34, 20.36it/s]"
     ]
    },
    {
     "name": "stdout",
     "output_type": "stream",
     "text": [
      "1/1 [==============================] - 0s 18ms/step\n",
      "1/1 [==============================] - 0s 17ms/step\n",
      "1/1 [==============================] - 0s 19ms/step\n"
     ]
    },
    {
     "name": "stderr",
     "output_type": "stream",
     "text": [
      " 38%|███▊      | 422/1120 [00:18<00:34, 20.37it/s]"
     ]
    },
    {
     "name": "stdout",
     "output_type": "stream",
     "text": [
      "1/1 [==============================] - 0s 20ms/step\n",
      "1/1 [==============================] - 0s 31ms/step\n",
      "1/1 [==============================] - 0s 17ms/step\n"
     ]
    },
    {
     "name": "stderr",
     "output_type": "stream",
     "text": [
      " 38%|███▊      | 425/1120 [00:18<00:35, 19.71it/s]"
     ]
    },
    {
     "name": "stdout",
     "output_type": "stream",
     "text": [
      "1/1 [==============================] - 0s 22ms/step\n",
      "1/1 [==============================] - 0s 18ms/step\n",
      "1/1 [==============================] - 0s 19ms/step\n"
     ]
    },
    {
     "name": "stderr",
     "output_type": "stream",
     "text": [
      " 38%|███▊      | 428/1120 [00:19<00:34, 20.14it/s]"
     ]
    },
    {
     "name": "stdout",
     "output_type": "stream",
     "text": [
      "1/1 [==============================] - 0s 18ms/step\n",
      "1/1 [==============================] - 0s 17ms/step\n",
      "1/1 [==============================] - 0s 20ms/step\n"
     ]
    },
    {
     "name": "stderr",
     "output_type": "stream",
     "text": [
      " 38%|███▊      | 431/1120 [00:19<00:33, 20.28it/s]"
     ]
    },
    {
     "name": "stdout",
     "output_type": "stream",
     "text": [
      "1/1 [==============================] - 0s 17ms/step\n",
      "1/1 [==============================] - 0s 16ms/step\n",
      "1/1 [==============================] - 0s 16ms/step\n"
     ]
    },
    {
     "name": "stderr",
     "output_type": "stream",
     "text": [
      " 39%|███▉      | 434/1120 [00:19<00:32, 21.03it/s]"
     ]
    },
    {
     "name": "stdout",
     "output_type": "stream",
     "text": [
      "1/1 [==============================] - 0s 18ms/step\n",
      "1/1 [==============================] - 0s 22ms/step\n",
      "1/1 [==============================] - 0s 21ms/step\n"
     ]
    },
    {
     "name": "stderr",
     "output_type": "stream",
     "text": [
      " 39%|███▉      | 437/1120 [00:19<00:32, 21.03it/s]"
     ]
    },
    {
     "name": "stdout",
     "output_type": "stream",
     "text": [
      "1/1 [==============================] - 0s 15ms/step\n",
      "1/1 [==============================] - 0s 16ms/step\n",
      "1/1 [==============================] - 0s 16ms/step\n"
     ]
    },
    {
     "name": "stderr",
     "output_type": "stream",
     "text": [
      " 39%|███▉      | 440/1120 [00:19<00:31, 21.80it/s]"
     ]
    },
    {
     "name": "stdout",
     "output_type": "stream",
     "text": [
      "1/1 [==============================] - 0s 16ms/step\n",
      "1/1 [==============================] - 0s 17ms/step\n",
      "1/1 [==============================] - 0s 19ms/step\n"
     ]
    },
    {
     "name": "stderr",
     "output_type": "stream",
     "text": [
      " 40%|███▉      | 443/1120 [00:19<00:31, 21.81it/s]"
     ]
    },
    {
     "name": "stdout",
     "output_type": "stream",
     "text": [
      "1/1 [==============================] - 0s 17ms/step\n",
      "1/1 [==============================] - 0s 18ms/step\n",
      "1/1 [==============================] - 0s 18ms/step\n"
     ]
    },
    {
     "name": "stderr",
     "output_type": "stream",
     "text": [
      " 40%|███▉      | 446/1120 [00:19<00:30, 21.93it/s]"
     ]
    },
    {
     "name": "stdout",
     "output_type": "stream",
     "text": [
      "1/1 [==============================] - 0s 16ms/step\n",
      "1/1 [==============================] - 0s 16ms/step\n",
      "1/1 [==============================] - 0s 16ms/step\n"
     ]
    },
    {
     "name": "stderr",
     "output_type": "stream",
     "text": [
      " 40%|████      | 449/1120 [00:19<00:30, 22.08it/s]"
     ]
    },
    {
     "name": "stdout",
     "output_type": "stream",
     "text": [
      "1/1 [==============================] - 0s 17ms/step\n",
      "1/1 [==============================] - 0s 17ms/step\n",
      "1/1 [==============================] - 0s 16ms/step\n"
     ]
    },
    {
     "name": "stderr",
     "output_type": "stream",
     "text": [
      " 40%|████      | 452/1120 [00:20<00:30, 22.04it/s]"
     ]
    },
    {
     "name": "stdout",
     "output_type": "stream",
     "text": [
      "1/1 [==============================] - 0s 28ms/step\n",
      "1/1 [==============================] - 0s 18ms/step\n",
      "1/1 [==============================] - 0s 16ms/step\n"
     ]
    },
    {
     "name": "stderr",
     "output_type": "stream",
     "text": [
      " 41%|████      | 455/1120 [00:20<00:32, 20.33it/s]"
     ]
    },
    {
     "name": "stdout",
     "output_type": "stream",
     "text": [
      "1/1 [==============================] - 0s 17ms/step\n",
      "1/1 [==============================] - 0s 19ms/step\n",
      "1/1 [==============================] - 0s 17ms/step\n"
     ]
    },
    {
     "name": "stderr",
     "output_type": "stream",
     "text": [
      " 41%|████      | 458/1120 [00:20<00:32, 20.66it/s]"
     ]
    },
    {
     "name": "stdout",
     "output_type": "stream",
     "text": [
      "1/1 [==============================] - 0s 18ms/step\n",
      "1/1 [==============================] - 0s 18ms/step\n",
      "1/1 [==============================] - 0s 17ms/step\n"
     ]
    },
    {
     "name": "stderr",
     "output_type": "stream",
     "text": [
      " 41%|████      | 461/1120 [00:20<00:31, 20.95it/s]"
     ]
    },
    {
     "name": "stdout",
     "output_type": "stream",
     "text": [
      "1/1 [==============================] - 0s 16ms/step\n",
      "1/1 [==============================] - 0s 20ms/step\n",
      "1/1 [==============================] - 0s 19ms/step\n"
     ]
    },
    {
     "name": "stderr",
     "output_type": "stream",
     "text": [
      " 41%|████▏     | 464/1120 [00:20<00:31, 21.04it/s]"
     ]
    },
    {
     "name": "stdout",
     "output_type": "stream",
     "text": [
      "1/1 [==============================] - 0s 19ms/step\n",
      "1/1 [==============================] - 0s 17ms/step\n",
      "1/1 [==============================] - 0s 17ms/step\n"
     ]
    },
    {
     "name": "stderr",
     "output_type": "stream",
     "text": [
      " 42%|████▏     | 467/1120 [00:20<00:30, 21.23it/s]"
     ]
    },
    {
     "name": "stdout",
     "output_type": "stream",
     "text": [
      "1/1 [==============================] - 0s 18ms/step\n",
      "1/1 [==============================] - 0s 16ms/step\n",
      "1/1 [==============================] - 0s 17ms/step\n"
     ]
    },
    {
     "name": "stderr",
     "output_type": "stream",
     "text": [
      " 42%|████▏     | 470/1120 [00:20<00:29, 21.75it/s]"
     ]
    },
    {
     "name": "stdout",
     "output_type": "stream",
     "text": [
      "1/1 [==============================] - 0s 18ms/step\n",
      "1/1 [==============================] - 0s 17ms/step\n",
      "1/1 [==============================] - 0s 16ms/step\n"
     ]
    },
    {
     "name": "stderr",
     "output_type": "stream",
     "text": [
      " 42%|████▏     | 473/1120 [00:21<00:29, 21.70it/s]"
     ]
    },
    {
     "name": "stdout",
     "output_type": "stream",
     "text": [
      "1/1 [==============================] - 0s 17ms/step\n",
      "1/1 [==============================] - 0s 20ms/step\n",
      "1/1 [==============================] - 0s 17ms/step\n"
     ]
    },
    {
     "name": "stderr",
     "output_type": "stream",
     "text": [
      " 42%|████▎     | 476/1120 [00:21<00:30, 21.40it/s]"
     ]
    },
    {
     "name": "stdout",
     "output_type": "stream",
     "text": [
      "1/1 [==============================] - 0s 24ms/step\n",
      "1/1 [==============================] - 0s 24ms/step\n",
      "1/1 [==============================] - 0s 23ms/step\n"
     ]
    },
    {
     "name": "stderr",
     "output_type": "stream",
     "text": [
      " 43%|████▎     | 479/1120 [00:21<00:32, 19.82it/s]"
     ]
    },
    {
     "name": "stdout",
     "output_type": "stream",
     "text": [
      "1/1 [==============================] - 0s 17ms/step\n",
      "1/1 [==============================] - 0s 21ms/step\n",
      "1/1 [==============================] - 0s 16ms/step\n"
     ]
    },
    {
     "name": "stderr",
     "output_type": "stream",
     "text": [
      " 43%|████▎     | 482/1120 [00:21<00:31, 20.57it/s]"
     ]
    },
    {
     "name": "stdout",
     "output_type": "stream",
     "text": [
      "1/1 [==============================] - 0s 17ms/step\n",
      "1/1 [==============================] - 0s 19ms/step\n",
      "1/1 [==============================] - 0s 19ms/step\n"
     ]
    },
    {
     "name": "stderr",
     "output_type": "stream",
     "text": [
      " 43%|████▎     | 485/1120 [00:21<00:30, 20.66it/s]"
     ]
    },
    {
     "name": "stdout",
     "output_type": "stream",
     "text": [
      "1/1 [==============================] - 0s 34ms/step\n",
      "1/1 [==============================] - 0s 22ms/step\n",
      "1/1 [==============================] - 0s 19ms/step\n"
     ]
    },
    {
     "name": "stderr",
     "output_type": "stream",
     "text": [
      " 44%|████▎     | 488/1120 [00:21<00:33, 18.79it/s]"
     ]
    },
    {
     "name": "stdout",
     "output_type": "stream",
     "text": [
      "1/1 [==============================] - 0s 20ms/step\n",
      "1/1 [==============================] - 0s 18ms/step\n",
      "1/1 [==============================] - 0s 22ms/step\n"
     ]
    },
    {
     "name": "stderr",
     "output_type": "stream",
     "text": [
      " 44%|████▍     | 491/1120 [00:22<00:32, 19.19it/s]"
     ]
    },
    {
     "name": "stdout",
     "output_type": "stream",
     "text": [
      "1/1 [==============================] - 0s 18ms/step\n",
      "1/1 [==============================] - 0s 19ms/step\n",
      "1/1 [==============================] - 0s 24ms/step\n"
     ]
    },
    {
     "name": "stderr",
     "output_type": "stream",
     "text": [
      " 44%|████▍     | 494/1120 [00:22<00:32, 19.03it/s]"
     ]
    },
    {
     "name": "stdout",
     "output_type": "stream",
     "text": [
      "1/1 [==============================] - 0s 22ms/step\n",
      "1/1 [==============================] - 0s 20ms/step\n"
     ]
    },
    {
     "name": "stderr",
     "output_type": "stream",
     "text": [
      " 44%|████▍     | 496/1120 [00:22<00:33, 18.69it/s]"
     ]
    },
    {
     "name": "stdout",
     "output_type": "stream",
     "text": [
      "1/1 [==============================] - 0s 17ms/step\n",
      "1/1 [==============================] - 0s 19ms/step\n"
     ]
    },
    {
     "name": "stderr",
     "output_type": "stream",
     "text": [
      " 44%|████▍     | 498/1120 [00:22<00:33, 18.77it/s]"
     ]
    },
    {
     "name": "stdout",
     "output_type": "stream",
     "text": [
      "1/1 [==============================] - 0s 21ms/step\n",
      "1/1 [==============================] - 0s 18ms/step\n"
     ]
    },
    {
     "name": "stderr",
     "output_type": "stream",
     "text": [
      " 45%|████▍     | 500/1120 [00:22<00:32, 18.81it/s]"
     ]
    },
    {
     "name": "stdout",
     "output_type": "stream",
     "text": [
      "1/1 [==============================] - 0s 17ms/step\n",
      "1/1 [==============================] - 0s 17ms/step\n",
      "1/1 [==============================] - 0s 17ms/step\n"
     ]
    },
    {
     "name": "stderr",
     "output_type": "stream",
     "text": [
      " 45%|████▍     | 503/1120 [00:22<00:31, 19.86it/s]"
     ]
    },
    {
     "name": "stdout",
     "output_type": "stream",
     "text": [
      "1/1 [==============================] - 0s 20ms/step\n",
      "1/1 [==============================] - 0s 19ms/step\n",
      "1/1 [==============================] - 0s 16ms/step\n"
     ]
    },
    {
     "name": "stderr",
     "output_type": "stream",
     "text": [
      " 45%|████▌     | 506/1120 [00:22<00:30, 20.20it/s]"
     ]
    },
    {
     "name": "stdout",
     "output_type": "stream",
     "text": [
      "1/1 [==============================] - 0s 20ms/step\n",
      "1/1 [==============================] - 0s 19ms/step\n",
      "1/1 [==============================] - 0s 18ms/step\n"
     ]
    },
    {
     "name": "stderr",
     "output_type": "stream",
     "text": [
      " 45%|████▌     | 509/1120 [00:22<00:30, 20.18it/s]"
     ]
    },
    {
     "name": "stdout",
     "output_type": "stream",
     "text": [
      "1/1 [==============================] - 0s 28ms/step\n",
      "1/1 [==============================] - 0s 25ms/step\n",
      "1/1 [==============================] - 0s 16ms/step\n"
     ]
    },
    {
     "name": "stderr",
     "output_type": "stream",
     "text": [
      " 46%|████▌     | 512/1120 [00:23<00:31, 19.23it/s]"
     ]
    },
    {
     "name": "stdout",
     "output_type": "stream",
     "text": [
      "1/1 [==============================] - 0s 16ms/step\n",
      "1/1 [==============================] - 0s 21ms/step\n",
      "1/1 [==============================] - 0s 27ms/step\n"
     ]
    },
    {
     "name": "stderr",
     "output_type": "stream",
     "text": [
      " 46%|████▌     | 515/1120 [00:23<00:31, 19.07it/s]"
     ]
    },
    {
     "name": "stdout",
     "output_type": "stream",
     "text": [
      "1/1 [==============================] - 0s 17ms/step\n",
      "1/1 [==============================] - 0s 17ms/step\n",
      "1/1 [==============================] - 0s 16ms/step\n"
     ]
    },
    {
     "name": "stderr",
     "output_type": "stream",
     "text": [
      " 46%|████▋     | 518/1120 [00:23<00:29, 20.13it/s]"
     ]
    },
    {
     "name": "stdout",
     "output_type": "stream",
     "text": [
      "1/1 [==============================] - 0s 19ms/step\n",
      "1/1 [==============================] - 0s 17ms/step\n",
      "1/1 [==============================] - 0s 17ms/step\n"
     ]
    },
    {
     "name": "stderr",
     "output_type": "stream",
     "text": [
      " 47%|████▋     | 521/1120 [00:23<00:29, 20.25it/s]"
     ]
    },
    {
     "name": "stdout",
     "output_type": "stream",
     "text": [
      "1/1 [==============================] - 0s 17ms/step\n",
      "1/1 [==============================] - 0s 21ms/step\n",
      "1/1 [==============================] - 0s 19ms/step\n"
     ]
    },
    {
     "name": "stderr",
     "output_type": "stream",
     "text": [
      " 47%|████▋     | 524/1120 [00:23<00:28, 20.79it/s]"
     ]
    },
    {
     "name": "stdout",
     "output_type": "stream",
     "text": [
      "1/1 [==============================] - 0s 16ms/step\n",
      "1/1 [==============================] - 0s 17ms/step\n",
      "1/1 [==============================] - 0s 16ms/step\n"
     ]
    },
    {
     "name": "stderr",
     "output_type": "stream",
     "text": [
      " 47%|████▋     | 527/1120 [00:23<00:27, 21.49it/s]"
     ]
    },
    {
     "name": "stdout",
     "output_type": "stream",
     "text": [
      "1/1 [==============================] - 0s 17ms/step\n",
      "1/1 [==============================] - 0s 17ms/step\n",
      "1/1 [==============================] - 0s 17ms/step\n"
     ]
    },
    {
     "name": "stderr",
     "output_type": "stream",
     "text": [
      " 47%|████▋     | 530/1120 [00:23<00:27, 21.54it/s]"
     ]
    },
    {
     "name": "stdout",
     "output_type": "stream",
     "text": [
      "1/1 [==============================] - 0s 17ms/step\n",
      "1/1 [==============================] - 0s 17ms/step\n",
      "1/1 [==============================] - 0s 16ms/step\n"
     ]
    },
    {
     "name": "stderr",
     "output_type": "stream",
     "text": [
      " 48%|████▊     | 533/1120 [00:24<00:26, 21.99it/s]"
     ]
    },
    {
     "name": "stdout",
     "output_type": "stream",
     "text": [
      "1/1 [==============================] - 0s 17ms/step\n",
      "1/1 [==============================] - 0s 17ms/step\n",
      "1/1 [==============================] - 0s 17ms/step\n"
     ]
    },
    {
     "name": "stderr",
     "output_type": "stream",
     "text": [
      " 48%|████▊     | 536/1120 [00:24<00:25, 22.51it/s]"
     ]
    },
    {
     "name": "stdout",
     "output_type": "stream",
     "text": [
      "1/1 [==============================] - 0s 17ms/step\n",
      "1/1 [==============================] - 0s 19ms/step\n",
      "1/1 [==============================] - 0s 17ms/step\n"
     ]
    },
    {
     "name": "stderr",
     "output_type": "stream",
     "text": [
      " 48%|████▊     | 539/1120 [00:24<00:25, 22.61it/s]"
     ]
    },
    {
     "name": "stdout",
     "output_type": "stream",
     "text": [
      "1/1 [==============================] - 0s 16ms/step\n",
      "1/1 [==============================] - 0s 18ms/step\n",
      "1/1 [==============================] - 0s 17ms/step\n"
     ]
    },
    {
     "name": "stderr",
     "output_type": "stream",
     "text": [
      " 48%|████▊     | 542/1120 [00:24<00:25, 22.71it/s]"
     ]
    },
    {
     "name": "stdout",
     "output_type": "stream",
     "text": [
      "1/1 [==============================] - 0s 16ms/step\n",
      "1/1 [==============================] - 0s 20ms/step\n",
      "1/1 [==============================] - 0s 26ms/step\n"
     ]
    },
    {
     "name": "stderr",
     "output_type": "stream",
     "text": [
      " 49%|████▊     | 545/1120 [00:24<00:27, 21.02it/s]"
     ]
    },
    {
     "name": "stdout",
     "output_type": "stream",
     "text": [
      "1/1 [==============================] - 0s 20ms/step\n",
      "1/1 [==============================] - 0s 19ms/step\n",
      "1/1 [==============================] - 0s 21ms/step\n"
     ]
    },
    {
     "name": "stderr",
     "output_type": "stream",
     "text": [
      " 49%|████▉     | 548/1120 [00:24<00:26, 21.20it/s]"
     ]
    },
    {
     "name": "stdout",
     "output_type": "stream",
     "text": [
      "1/1 [==============================] - 0s 18ms/step\n",
      "1/1 [==============================] - 0s 20ms/step\n",
      "1/1 [==============================] - 0s 19ms/step\n"
     ]
    },
    {
     "name": "stderr",
     "output_type": "stream",
     "text": [
      " 49%|████▉     | 551/1120 [00:24<00:26, 21.12it/s]"
     ]
    },
    {
     "name": "stdout",
     "output_type": "stream",
     "text": [
      "1/1 [==============================] - 0s 20ms/step\n",
      "1/1 [==============================] - 0s 20ms/step\n",
      "1/1 [==============================] - 0s 19ms/step\n"
     ]
    },
    {
     "name": "stderr",
     "output_type": "stream",
     "text": [
      " 49%|████▉     | 554/1120 [00:25<00:27, 20.91it/s]"
     ]
    },
    {
     "name": "stdout",
     "output_type": "stream",
     "text": [
      "1/1 [==============================] - 0s 16ms/step\n",
      "1/1 [==============================] - 0s 18ms/step\n",
      "1/1 [==============================] - 0s 16ms/step\n"
     ]
    },
    {
     "name": "stderr",
     "output_type": "stream",
     "text": [
      " 50%|████▉     | 557/1120 [00:25<00:26, 21.30it/s]"
     ]
    },
    {
     "name": "stdout",
     "output_type": "stream",
     "text": [
      "1/1 [==============================] - 0s 16ms/step\n",
      "1/1 [==============================] - 0s 17ms/step\n",
      "1/1 [==============================] - 0s 19ms/step\n"
     ]
    },
    {
     "name": "stderr",
     "output_type": "stream",
     "text": [
      " 50%|█████     | 560/1120 [00:25<00:25, 21.72it/s]"
     ]
    },
    {
     "name": "stdout",
     "output_type": "stream",
     "text": [
      "1/1 [==============================] - 0s 16ms/step\n",
      "1/1 [==============================] - 0s 17ms/step\n",
      "1/1 [==============================] - 0s 23ms/step\n"
     ]
    },
    {
     "name": "stderr",
     "output_type": "stream",
     "text": [
      " 50%|█████     | 563/1120 [00:25<00:25, 21.57it/s]"
     ]
    },
    {
     "name": "stdout",
     "output_type": "stream",
     "text": [
      "1/1 [==============================] - 0s 17ms/step\n",
      "1/1 [==============================] - 0s 20ms/step\n",
      "1/1 [==============================] - 0s 16ms/step\n"
     ]
    },
    {
     "name": "stderr",
     "output_type": "stream",
     "text": [
      " 51%|█████     | 566/1120 [00:25<00:25, 21.72it/s]"
     ]
    },
    {
     "name": "stdout",
     "output_type": "stream",
     "text": [
      "1/1 [==============================] - 0s 16ms/step\n",
      "1/1 [==============================] - 0s 18ms/step\n",
      "1/1 [==============================] - 0s 18ms/step\n"
     ]
    },
    {
     "name": "stderr",
     "output_type": "stream",
     "text": [
      " 51%|█████     | 569/1120 [00:25<00:24, 22.07it/s]"
     ]
    },
    {
     "name": "stdout",
     "output_type": "stream",
     "text": [
      "1/1 [==============================] - 0s 18ms/step\n",
      "1/1 [==============================] - 0s 19ms/step\n",
      "1/1 [==============================] - 0s 20ms/step\n"
     ]
    },
    {
     "name": "stderr",
     "output_type": "stream",
     "text": [
      " 51%|█████     | 572/1120 [00:25<00:25, 21.26it/s]"
     ]
    },
    {
     "name": "stdout",
     "output_type": "stream",
     "text": [
      "1/1 [==============================] - 0s 21ms/step\n",
      "1/1 [==============================] - 0s 31ms/step\n",
      "1/1 [==============================] - 0s 24ms/step\n"
     ]
    },
    {
     "name": "stderr",
     "output_type": "stream",
     "text": [
      " 51%|█████▏    | 575/1120 [00:26<00:28, 19.22it/s]"
     ]
    },
    {
     "name": "stdout",
     "output_type": "stream",
     "text": [
      "1/1 [==============================] - 0s 26ms/step\n",
      "1/1 [==============================] - 0s 24ms/step\n"
     ]
    },
    {
     "name": "stderr",
     "output_type": "stream",
     "text": [
      " 52%|█████▏    | 577/1120 [00:26<00:29, 18.23it/s]"
     ]
    },
    {
     "name": "stdout",
     "output_type": "stream",
     "text": [
      "1/1 [==============================] - 0s 29ms/step\n",
      "1/1 [==============================] - 0s 19ms/step\n"
     ]
    },
    {
     "name": "stderr",
     "output_type": "stream",
     "text": [
      " 52%|█████▏    | 579/1120 [00:26<00:29, 18.05it/s]"
     ]
    },
    {
     "name": "stdout",
     "output_type": "stream",
     "text": [
      "1/1 [==============================] - 0s 17ms/step\n",
      "1/1 [==============================] - 0s 18ms/step\n",
      "1/1 [==============================] - 0s 22ms/step\n"
     ]
    },
    {
     "name": "stderr",
     "output_type": "stream",
     "text": [
      " 52%|█████▏    | 582/1120 [00:26<00:28, 19.12it/s]"
     ]
    },
    {
     "name": "stdout",
     "output_type": "stream",
     "text": [
      "1/1 [==============================] - 0s 17ms/step\n",
      "1/1 [==============================] - 0s 19ms/step\n",
      "1/1 [==============================] - 0s 19ms/step\n"
     ]
    },
    {
     "name": "stderr",
     "output_type": "stream",
     "text": [
      " 52%|█████▏    | 585/1120 [00:26<00:27, 19.60it/s]"
     ]
    },
    {
     "name": "stdout",
     "output_type": "stream",
     "text": [
      "1/1 [==============================] - 0s 21ms/step\n",
      "1/1 [==============================] - 0s 16ms/step\n",
      "1/1 [==============================] - 0s 18ms/step\n"
     ]
    },
    {
     "name": "stderr",
     "output_type": "stream",
     "text": [
      " 52%|█████▎    | 588/1120 [00:26<00:26, 20.04it/s]"
     ]
    },
    {
     "name": "stdout",
     "output_type": "stream",
     "text": [
      "1/1 [==============================] - 0s 18ms/step\n",
      "1/1 [==============================] - 0s 22ms/step\n",
      "1/1 [==============================] - 0s 24ms/step\n"
     ]
    },
    {
     "name": "stderr",
     "output_type": "stream",
     "text": [
      " 53%|█████▎    | 591/1120 [00:26<00:26, 20.20it/s]"
     ]
    },
    {
     "name": "stdout",
     "output_type": "stream",
     "text": [
      "1/1 [==============================] - 0s 18ms/step\n",
      "1/1 [==============================] - 0s 21ms/step\n",
      "1/1 [==============================] - 0s 19ms/step\n"
     ]
    },
    {
     "name": "stderr",
     "output_type": "stream",
     "text": [
      " 53%|█████▎    | 594/1120 [00:27<00:25, 20.32it/s]"
     ]
    },
    {
     "name": "stdout",
     "output_type": "stream",
     "text": [
      "1/1 [==============================] - 0s 21ms/step\n",
      "1/1 [==============================] - 0s 16ms/step\n",
      "1/1 [==============================] - 0s 18ms/step\n"
     ]
    },
    {
     "name": "stderr",
     "output_type": "stream",
     "text": [
      " 53%|█████▎    | 597/1120 [00:27<00:25, 20.49it/s]"
     ]
    },
    {
     "name": "stdout",
     "output_type": "stream",
     "text": [
      "1/1 [==============================] - 0s 17ms/step\n",
      "1/1 [==============================] - 0s 17ms/step\n",
      "1/1 [==============================] - 0s 19ms/step\n"
     ]
    },
    {
     "name": "stderr",
     "output_type": "stream",
     "text": [
      " 54%|█████▎    | 600/1120 [00:27<00:24, 21.16it/s]"
     ]
    },
    {
     "name": "stdout",
     "output_type": "stream",
     "text": [
      "1/1 [==============================] - 0s 18ms/step\n",
      "1/1 [==============================] - 0s 17ms/step\n",
      "1/1 [==============================] - 0s 17ms/step\n"
     ]
    },
    {
     "name": "stderr",
     "output_type": "stream",
     "text": [
      " 54%|█████▍    | 603/1120 [00:27<00:23, 21.89it/s]"
     ]
    },
    {
     "name": "stdout",
     "output_type": "stream",
     "text": [
      "1/1 [==============================] - 0s 16ms/step\n",
      "1/1 [==============================] - 0s 18ms/step\n",
      "1/1 [==============================] - 0s 17ms/step\n"
     ]
    },
    {
     "name": "stderr",
     "output_type": "stream",
     "text": [
      " 54%|█████▍    | 606/1120 [00:27<00:22, 22.43it/s]"
     ]
    },
    {
     "name": "stdout",
     "output_type": "stream",
     "text": [
      "1/1 [==============================] - 0s 18ms/step\n",
      "1/1 [==============================] - 0s 28ms/step\n",
      "1/1 [==============================] - 0s 28ms/step\n"
     ]
    },
    {
     "name": "stderr",
     "output_type": "stream",
     "text": [
      " 54%|█████▍    | 609/1120 [00:27<00:24, 20.87it/s]"
     ]
    },
    {
     "name": "stdout",
     "output_type": "stream",
     "text": [
      "1/1 [==============================] - 0s 21ms/step\n",
      "1/1 [==============================] - 0s 16ms/step\n",
      "1/1 [==============================] - 0s 17ms/step\n"
     ]
    },
    {
     "name": "stderr",
     "output_type": "stream",
     "text": [
      " 55%|█████▍    | 612/1120 [00:27<00:23, 21.34it/s]"
     ]
    },
    {
     "name": "stdout",
     "output_type": "stream",
     "text": [
      "1/1 [==============================] - 0s 19ms/step\n",
      "1/1 [==============================] - 0s 18ms/step\n",
      "1/1 [==============================] - 0s 17ms/step\n"
     ]
    },
    {
     "name": "stderr",
     "output_type": "stream",
     "text": [
      " 55%|█████▍    | 615/1120 [00:28<00:23, 21.85it/s]"
     ]
    },
    {
     "name": "stdout",
     "output_type": "stream",
     "text": [
      "1/1 [==============================] - 0s 18ms/step\n",
      "1/1 [==============================] - 0s 21ms/step\n",
      "1/1 [==============================] - 0s 16ms/step\n"
     ]
    },
    {
     "name": "stderr",
     "output_type": "stream",
     "text": [
      " 55%|█████▌    | 618/1120 [00:28<00:23, 21.74it/s]"
     ]
    },
    {
     "name": "stdout",
     "output_type": "stream",
     "text": [
      "1/1 [==============================] - 0s 21ms/step\n",
      "1/1 [==============================] - 0s 17ms/step\n",
      "1/1 [==============================] - 0s 17ms/step\n"
     ]
    },
    {
     "name": "stderr",
     "output_type": "stream",
     "text": [
      " 55%|█████▌    | 621/1120 [00:28<00:23, 21.58it/s]"
     ]
    },
    {
     "name": "stdout",
     "output_type": "stream",
     "text": [
      "1/1 [==============================] - 0s 17ms/step\n",
      "1/1 [==============================] - 0s 17ms/step\n",
      "1/1 [==============================] - 0s 16ms/step\n"
     ]
    },
    {
     "name": "stderr",
     "output_type": "stream",
     "text": [
      " 56%|█████▌    | 624/1120 [00:28<00:22, 22.04it/s]"
     ]
    },
    {
     "name": "stdout",
     "output_type": "stream",
     "text": [
      "1/1 [==============================] - 0s 17ms/step\n",
      "1/1 [==============================] - 0s 17ms/step\n",
      "1/1 [==============================] - 0s 16ms/step\n"
     ]
    },
    {
     "name": "stderr",
     "output_type": "stream",
     "text": [
      " 56%|█████▌    | 627/1120 [00:28<00:22, 22.08it/s]"
     ]
    },
    {
     "name": "stdout",
     "output_type": "stream",
     "text": [
      "1/1 [==============================] - 0s 18ms/step\n",
      "1/1 [==============================] - 0s 18ms/step\n",
      "1/1 [==============================] - 0s 18ms/step\n"
     ]
    },
    {
     "name": "stderr",
     "output_type": "stream",
     "text": [
      " 56%|█████▋    | 630/1120 [00:28<00:22, 21.98it/s]"
     ]
    },
    {
     "name": "stdout",
     "output_type": "stream",
     "text": [
      "1/1 [==============================] - 0s 18ms/step\n",
      "1/1 [==============================] - 0s 17ms/step\n",
      "1/1 [==============================] - 0s 21ms/step\n"
     ]
    },
    {
     "name": "stderr",
     "output_type": "stream",
     "text": [
      " 57%|█████▋    | 633/1120 [00:28<00:22, 21.64it/s]"
     ]
    },
    {
     "name": "stdout",
     "output_type": "stream",
     "text": [
      "1/1 [==============================] - 0s 17ms/step\n",
      "1/1 [==============================] - 0s 17ms/step\n",
      "1/1 [==============================] - 0s 17ms/step\n"
     ]
    },
    {
     "name": "stderr",
     "output_type": "stream",
     "text": [
      " 57%|█████▋    | 636/1120 [00:28<00:22, 21.95it/s]"
     ]
    },
    {
     "name": "stdout",
     "output_type": "stream",
     "text": [
      "1/1 [==============================] - 0s 20ms/step\n",
      "1/1 [==============================] - 0s 17ms/step\n",
      "1/1 [==============================] - 0s 18ms/step\n"
     ]
    },
    {
     "name": "stderr",
     "output_type": "stream",
     "text": [
      " 57%|█████▋    | 639/1120 [00:29<00:21, 22.00it/s]"
     ]
    },
    {
     "name": "stdout",
     "output_type": "stream",
     "text": [
      "1/1 [==============================] - 0s 17ms/step\n",
      "1/1 [==============================] - 0s 18ms/step\n",
      "1/1 [==============================] - 0s 16ms/step\n"
     ]
    },
    {
     "name": "stderr",
     "output_type": "stream",
     "text": [
      " 57%|█████▋    | 642/1120 [00:29<00:21, 21.92it/s]"
     ]
    },
    {
     "name": "stdout",
     "output_type": "stream",
     "text": [
      "1/1 [==============================] - 0s 17ms/step\n",
      "1/1 [==============================] - 0s 19ms/step\n",
      "1/1 [==============================] - 0s 17ms/step\n"
     ]
    },
    {
     "name": "stderr",
     "output_type": "stream",
     "text": [
      " 58%|█████▊    | 645/1120 [00:29<00:21, 22.06it/s]"
     ]
    },
    {
     "name": "stdout",
     "output_type": "stream",
     "text": [
      "1/1 [==============================] - 0s 18ms/step\n",
      "1/1 [==============================] - 0s 25ms/step\n",
      "1/1 [==============================] - 0s 27ms/step\n"
     ]
    },
    {
     "name": "stderr",
     "output_type": "stream",
     "text": [
      " 58%|█████▊    | 648/1120 [00:29<00:23, 20.42it/s]"
     ]
    },
    {
     "name": "stdout",
     "output_type": "stream",
     "text": [
      "1/1 [==============================] - 0s 19ms/step\n",
      "1/1 [==============================] - 0s 19ms/step\n",
      "1/1 [==============================] - 0s 22ms/step\n"
     ]
    },
    {
     "name": "stderr",
     "output_type": "stream",
     "text": [
      " 58%|█████▊    | 651/1120 [00:29<00:23, 20.30it/s]"
     ]
    },
    {
     "name": "stdout",
     "output_type": "stream",
     "text": [
      "1/1 [==============================] - 0s 18ms/step\n",
      "1/1 [==============================] - 0s 22ms/step\n",
      "1/1 [==============================] - 0s 23ms/step\n"
     ]
    },
    {
     "name": "stderr",
     "output_type": "stream",
     "text": [
      " 58%|█████▊    | 654/1120 [00:29<00:22, 20.49it/s]"
     ]
    },
    {
     "name": "stdout",
     "output_type": "stream",
     "text": [
      "1/1 [==============================] - 0s 19ms/step\n",
      "1/1 [==============================] - 0s 20ms/step\n",
      "1/1 [==============================] - 0s 19ms/step\n"
     ]
    },
    {
     "name": "stderr",
     "output_type": "stream",
     "text": [
      " 59%|█████▊    | 657/1120 [00:29<00:22, 20.41it/s]"
     ]
    },
    {
     "name": "stdout",
     "output_type": "stream",
     "text": [
      "1/1 [==============================] - 0s 20ms/step\n",
      "1/1 [==============================] - 0s 19ms/step\n",
      "1/1 [==============================] - 0s 17ms/step\n"
     ]
    },
    {
     "name": "stderr",
     "output_type": "stream",
     "text": [
      " 59%|█████▉    | 660/1120 [00:30<00:22, 20.64it/s]"
     ]
    },
    {
     "name": "stdout",
     "output_type": "stream",
     "text": [
      "1/1 [==============================] - 0s 19ms/step\n",
      "1/1 [==============================] - 0s 17ms/step\n",
      "1/1 [==============================] - 0s 19ms/step\n"
     ]
    },
    {
     "name": "stderr",
     "output_type": "stream",
     "text": [
      " 59%|█████▉    | 663/1120 [00:30<00:22, 20.67it/s]"
     ]
    },
    {
     "name": "stdout",
     "output_type": "stream",
     "text": [
      "1/1 [==============================] - 0s 22ms/step\n",
      "1/1 [==============================] - 0s 18ms/step\n",
      "1/1 [==============================] - 0s 19ms/step\n"
     ]
    },
    {
     "name": "stderr",
     "output_type": "stream",
     "text": [
      " 59%|█████▉    | 666/1120 [00:30<00:22, 20.58it/s]"
     ]
    },
    {
     "name": "stdout",
     "output_type": "stream",
     "text": [
      "1/1 [==============================] - 0s 17ms/step\n",
      "1/1 [==============================] - 0s 16ms/step\n",
      "1/1 [==============================] - 0s 16ms/step\n"
     ]
    },
    {
     "name": "stderr",
     "output_type": "stream",
     "text": [
      " 60%|█████▉    | 669/1120 [00:30<00:21, 21.41it/s]"
     ]
    },
    {
     "name": "stdout",
     "output_type": "stream",
     "text": [
      "1/1 [==============================] - 0s 19ms/step\n",
      "1/1 [==============================] - 0s 18ms/step\n",
      "1/1 [==============================] - 0s 17ms/step\n"
     ]
    },
    {
     "name": "stderr",
     "output_type": "stream",
     "text": [
      " 60%|██████    | 672/1120 [00:30<00:20, 21.77it/s]"
     ]
    },
    {
     "name": "stdout",
     "output_type": "stream",
     "text": [
      "1/1 [==============================] - 0s 18ms/step\n",
      "1/1 [==============================] - 0s 19ms/step\n",
      "1/1 [==============================] - 0s 21ms/step\n"
     ]
    },
    {
     "name": "stderr",
     "output_type": "stream",
     "text": [
      " 60%|██████    | 675/1120 [00:30<00:20, 21.20it/s]"
     ]
    },
    {
     "name": "stdout",
     "output_type": "stream",
     "text": [
      "1/1 [==============================] - 0s 19ms/step\n",
      "1/1 [==============================] - 0s 18ms/step\n",
      "1/1 [==============================] - 0s 20ms/step\n"
     ]
    },
    {
     "name": "stderr",
     "output_type": "stream",
     "text": [
      " 61%|██████    | 678/1120 [00:30<00:20, 21.30it/s]"
     ]
    },
    {
     "name": "stdout",
     "output_type": "stream",
     "text": [
      "1/1 [==============================] - 0s 22ms/step\n",
      "1/1 [==============================] - 0s 21ms/step\n",
      "1/1 [==============================] - 0s 19ms/step\n"
     ]
    },
    {
     "name": "stderr",
     "output_type": "stream",
     "text": [
      " 61%|██████    | 681/1120 [00:31<00:21, 20.69it/s]"
     ]
    },
    {
     "name": "stdout",
     "output_type": "stream",
     "text": [
      "1/1 [==============================] - 0s 18ms/step\n",
      "1/1 [==============================] - 0s 17ms/step\n",
      "1/1 [==============================] - 0s 27ms/step\n"
     ]
    },
    {
     "name": "stderr",
     "output_type": "stream",
     "text": [
      " 61%|██████    | 684/1120 [00:31<00:21, 20.17it/s]"
     ]
    },
    {
     "name": "stdout",
     "output_type": "stream",
     "text": [
      "1/1 [==============================] - 0s 18ms/step\n",
      "1/1 [==============================] - 0s 28ms/step\n",
      "1/1 [==============================] - 0s 23ms/step\n"
     ]
    },
    {
     "name": "stderr",
     "output_type": "stream",
     "text": [
      " 61%|██████▏   | 687/1120 [00:31<00:22, 19.30it/s]"
     ]
    },
    {
     "name": "stdout",
     "output_type": "stream",
     "text": [
      "1/1 [==============================] - 0s 21ms/step\n",
      "1/1 [==============================] - 0s 22ms/step\n"
     ]
    },
    {
     "name": "stderr",
     "output_type": "stream",
     "text": [
      " 62%|██████▏   | 689/1120 [00:31<00:22, 19.03it/s]"
     ]
    },
    {
     "name": "stdout",
     "output_type": "stream",
     "text": [
      "1/1 [==============================] - 0s 18ms/step\n",
      "1/1 [==============================] - 0s 17ms/step\n"
     ]
    },
    {
     "name": "stderr",
     "output_type": "stream",
     "text": [
      " 62%|██████▏   | 691/1120 [00:31<00:22, 19.24it/s]"
     ]
    },
    {
     "name": "stdout",
     "output_type": "stream",
     "text": [
      "1/1 [==============================] - 0s 18ms/step\n",
      "1/1 [==============================] - 0s 16ms/step\n",
      "1/1 [==============================] - 0s 22ms/step\n"
     ]
    },
    {
     "name": "stderr",
     "output_type": "stream",
     "text": [
      " 62%|██████▏   | 694/1120 [00:31<00:21, 20.16it/s]"
     ]
    },
    {
     "name": "stdout",
     "output_type": "stream",
     "text": [
      "1/1 [==============================] - 0s 18ms/step\n",
      "1/1 [==============================] - 0s 18ms/step\n",
      "1/1 [==============================] - 0s 17ms/step\n"
     ]
    },
    {
     "name": "stderr",
     "output_type": "stream",
     "text": [
      " 62%|██████▏   | 697/1120 [00:31<00:20, 20.43it/s]"
     ]
    },
    {
     "name": "stdout",
     "output_type": "stream",
     "text": [
      "1/1 [==============================] - 0s 18ms/step\n",
      "1/1 [==============================] - 0s 17ms/step\n",
      "1/1 [==============================] - 0s 18ms/step\n"
     ]
    },
    {
     "name": "stderr",
     "output_type": "stream",
     "text": [
      " 62%|██████▎   | 700/1120 [00:32<00:19, 21.19it/s]"
     ]
    },
    {
     "name": "stdout",
     "output_type": "stream",
     "text": [
      "1/1 [==============================] - 0s 18ms/step\n",
      "1/1 [==============================] - 0s 16ms/step\n",
      "1/1 [==============================] - 0s 22ms/step\n"
     ]
    },
    {
     "name": "stderr",
     "output_type": "stream",
     "text": [
      " 63%|██████▎   | 703/1120 [00:32<00:19, 21.03it/s]"
     ]
    },
    {
     "name": "stdout",
     "output_type": "stream",
     "text": [
      "1/1 [==============================] - 0s 18ms/step\n",
      "1/1 [==============================] - 0s 20ms/step\n",
      "1/1 [==============================] - 0s 23ms/step\n"
     ]
    },
    {
     "name": "stderr",
     "output_type": "stream",
     "text": [
      " 63%|██████▎   | 706/1120 [00:32<00:20, 20.27it/s]"
     ]
    },
    {
     "name": "stdout",
     "output_type": "stream",
     "text": [
      "1/1 [==============================] - 0s 23ms/step\n",
      "1/1 [==============================] - 0s 17ms/step\n",
      "1/1 [==============================] - 0s 17ms/step\n"
     ]
    },
    {
     "name": "stderr",
     "output_type": "stream",
     "text": [
      " 63%|██████▎   | 709/1120 [00:32<00:20, 20.37it/s]"
     ]
    },
    {
     "name": "stdout",
     "output_type": "stream",
     "text": [
      "1/1 [==============================] - 0s 18ms/step\n",
      "1/1 [==============================] - 0s 17ms/step\n",
      "1/1 [==============================] - 0s 17ms/step\n"
     ]
    },
    {
     "name": "stderr",
     "output_type": "stream",
     "text": [
      " 64%|██████▎   | 712/1120 [00:32<00:19, 21.05it/s]"
     ]
    },
    {
     "name": "stdout",
     "output_type": "stream",
     "text": [
      "1/1 [==============================] - 0s 17ms/step\n",
      "1/1 [==============================] - 0s 17ms/step\n",
      "1/1 [==============================] - 0s 24ms/step\n"
     ]
    },
    {
     "name": "stderr",
     "output_type": "stream",
     "text": [
      " 64%|██████▍   | 715/1120 [00:32<00:19, 21.13it/s]"
     ]
    },
    {
     "name": "stdout",
     "output_type": "stream",
     "text": [
      "1/1 [==============================] - 0s 17ms/step\n",
      "1/1 [==============================] - 0s 19ms/step\n",
      "1/1 [==============================] - 0s 17ms/step\n"
     ]
    },
    {
     "name": "stderr",
     "output_type": "stream",
     "text": [
      " 64%|██████▍   | 718/1120 [00:32<00:19, 20.80it/s]"
     ]
    },
    {
     "name": "stdout",
     "output_type": "stream",
     "text": [
      "1/1 [==============================] - 0s 18ms/step\n",
      "1/1 [==============================] - 0s 20ms/step\n",
      "1/1 [==============================] - 0s 20ms/step\n"
     ]
    },
    {
     "name": "stderr",
     "output_type": "stream",
     "text": [
      " 64%|██████▍   | 721/1120 [00:33<00:19, 20.80it/s]"
     ]
    },
    {
     "name": "stdout",
     "output_type": "stream",
     "text": [
      "1/1 [==============================] - 0s 18ms/step\n",
      "1/1 [==============================] - 0s 17ms/step\n",
      "1/1 [==============================] - 0s 17ms/step\n"
     ]
    },
    {
     "name": "stderr",
     "output_type": "stream",
     "text": [
      " 65%|██████▍   | 724/1120 [00:33<00:18, 21.29it/s]"
     ]
    },
    {
     "name": "stdout",
     "output_type": "stream",
     "text": [
      "1/1 [==============================] - 0s 25ms/step\n",
      "1/1 [==============================] - 0s 18ms/step\n",
      "1/1 [==============================] - 0s 18ms/step\n"
     ]
    },
    {
     "name": "stderr",
     "output_type": "stream",
     "text": [
      " 65%|██████▍   | 727/1120 [00:33<00:19, 20.27it/s]"
     ]
    },
    {
     "name": "stdout",
     "output_type": "stream",
     "text": [
      "1/1 [==============================] - 0s 21ms/step\n",
      "1/1 [==============================] - 0s 20ms/step\n",
      "1/1 [==============================] - 0s 18ms/step\n"
     ]
    },
    {
     "name": "stderr",
     "output_type": "stream",
     "text": [
      " 65%|██████▌   | 730/1120 [00:33<00:19, 19.80it/s]"
     ]
    },
    {
     "name": "stdout",
     "output_type": "stream",
     "text": [
      "1/1 [==============================] - 0s 19ms/step\n",
      "1/1 [==============================] - 0s 20ms/step\n"
     ]
    },
    {
     "name": "stderr",
     "output_type": "stream",
     "text": [
      " 65%|██████▌   | 732/1120 [00:33<00:19, 19.68it/s]"
     ]
    },
    {
     "name": "stdout",
     "output_type": "stream",
     "text": [
      "1/1 [==============================] - 0s 19ms/step\n",
      "1/1 [==============================] - 0s 20ms/step\n"
     ]
    },
    {
     "name": "stderr",
     "output_type": "stream",
     "text": [
      " 66%|██████▌   | 734/1120 [00:33<00:19, 19.58it/s]"
     ]
    },
    {
     "name": "stdout",
     "output_type": "stream",
     "text": [
      "1/1 [==============================] - 0s 20ms/step\n",
      "1/1 [==============================] - 0s 22ms/step\n"
     ]
    },
    {
     "name": "stderr",
     "output_type": "stream",
     "text": [
      " 66%|██████▌   | 736/1120 [00:33<00:19, 19.48it/s]"
     ]
    },
    {
     "name": "stdout",
     "output_type": "stream",
     "text": [
      "1/1 [==============================] - 0s 20ms/step\n",
      "1/1 [==============================] - 0s 20ms/step\n"
     ]
    },
    {
     "name": "stderr",
     "output_type": "stream",
     "text": [
      " 66%|██████▌   | 738/1120 [00:33<00:19, 19.49it/s]"
     ]
    },
    {
     "name": "stdout",
     "output_type": "stream",
     "text": [
      "1/1 [==============================] - 0s 23ms/step\n",
      "1/1 [==============================] - 0s 19ms/step\n"
     ]
    },
    {
     "name": "stderr",
     "output_type": "stream",
     "text": [
      " 66%|██████▌   | 740/1120 [00:34<00:21, 17.90it/s]"
     ]
    },
    {
     "name": "stdout",
     "output_type": "stream",
     "text": [
      "1/1 [==============================] - 0s 18ms/step\n",
      "1/1 [==============================] - 0s 19ms/step\n",
      "1/1 [==============================] - 0s 18ms/step\n"
     ]
    },
    {
     "name": "stderr",
     "output_type": "stream",
     "text": [
      " 66%|██████▋   | 743/1120 [00:34<00:20, 18.85it/s]"
     ]
    },
    {
     "name": "stdout",
     "output_type": "stream",
     "text": [
      "1/1 [==============================] - 0s 19ms/step\n",
      "1/1 [==============================] - 0s 21ms/step\n"
     ]
    },
    {
     "name": "stderr",
     "output_type": "stream",
     "text": [
      " 67%|██████▋   | 745/1120 [00:34<00:19, 19.11it/s]"
     ]
    },
    {
     "name": "stdout",
     "output_type": "stream",
     "text": [
      "1/1 [==============================] - 0s 20ms/step\n",
      "1/1 [==============================] - 0s 17ms/step\n",
      "1/1 [==============================] - 0s 17ms/step\n"
     ]
    },
    {
     "name": "stderr",
     "output_type": "stream",
     "text": [
      " 67%|██████▋   | 748/1120 [00:34<00:18, 20.11it/s]"
     ]
    },
    {
     "name": "stdout",
     "output_type": "stream",
     "text": [
      "1/1 [==============================] - 0s 17ms/step\n",
      "1/1 [==============================] - 0s 20ms/step\n",
      "1/1 [==============================] - 0s 16ms/step\n"
     ]
    },
    {
     "name": "stderr",
     "output_type": "stream",
     "text": [
      " 67%|██████▋   | 751/1120 [00:34<00:18, 20.47it/s]"
     ]
    },
    {
     "name": "stdout",
     "output_type": "stream",
     "text": [
      "1/1 [==============================] - 0s 16ms/step\n",
      "1/1 [==============================] - 0s 16ms/step\n",
      "1/1 [==============================] - 0s 19ms/step\n"
     ]
    },
    {
     "name": "stderr",
     "output_type": "stream",
     "text": [
      " 67%|██████▋   | 754/1120 [00:34<00:17, 21.17it/s]"
     ]
    },
    {
     "name": "stdout",
     "output_type": "stream",
     "text": [
      "1/1 [==============================] - 0s 17ms/step\n",
      "1/1 [==============================] - 0s 16ms/step\n",
      "1/1 [==============================] - 0s 17ms/step\n"
     ]
    },
    {
     "name": "stderr",
     "output_type": "stream",
     "text": [
      " 68%|██████▊   | 757/1120 [00:34<00:16, 22.04it/s]"
     ]
    },
    {
     "name": "stdout",
     "output_type": "stream",
     "text": [
      "1/1 [==============================] - 0s 16ms/step\n",
      "1/1 [==============================] - 0s 18ms/step\n",
      "1/1 [==============================] - 0s 18ms/step\n"
     ]
    },
    {
     "name": "stderr",
     "output_type": "stream",
     "text": [
      " 68%|██████▊   | 760/1120 [00:35<00:16, 22.11it/s]"
     ]
    },
    {
     "name": "stdout",
     "output_type": "stream",
     "text": [
      "1/1 [==============================] - 0s 20ms/step\n",
      "1/1 [==============================] - 0s 18ms/step\n",
      "1/1 [==============================] - 0s 17ms/step\n"
     ]
    },
    {
     "name": "stderr",
     "output_type": "stream",
     "text": [
      " 68%|██████▊   | 763/1120 [00:35<00:16, 21.69it/s]"
     ]
    },
    {
     "name": "stdout",
     "output_type": "stream",
     "text": [
      "1/1 [==============================] - 0s 17ms/step\n",
      "1/1 [==============================] - 0s 17ms/step\n",
      "1/1 [==============================] - 0s 17ms/step\n"
     ]
    },
    {
     "name": "stderr",
     "output_type": "stream",
     "text": [
      " 68%|██████▊   | 766/1120 [00:35<00:16, 22.02it/s]"
     ]
    },
    {
     "name": "stdout",
     "output_type": "stream",
     "text": [
      "1/1 [==============================] - 0s 18ms/step\n",
      "1/1 [==============================] - 0s 17ms/step\n",
      "1/1 [==============================] - 0s 18ms/step\n"
     ]
    },
    {
     "name": "stderr",
     "output_type": "stream",
     "text": [
      " 69%|██████▊   | 769/1120 [00:35<00:15, 22.08it/s]"
     ]
    },
    {
     "name": "stdout",
     "output_type": "stream",
     "text": [
      "1/1 [==============================] - 0s 19ms/step\n",
      "1/1 [==============================] - 0s 17ms/step\n",
      "1/1 [==============================] - 0s 18ms/step\n"
     ]
    },
    {
     "name": "stderr",
     "output_type": "stream",
     "text": [
      " 69%|██████▉   | 772/1120 [00:35<00:16, 21.55it/s]"
     ]
    },
    {
     "name": "stdout",
     "output_type": "stream",
     "text": [
      "1/1 [==============================] - 0s 20ms/step\n",
      "1/1 [==============================] - 0s 17ms/step\n",
      "1/1 [==============================] - 0s 17ms/step\n"
     ]
    },
    {
     "name": "stderr",
     "output_type": "stream",
     "text": [
      " 69%|██████▉   | 775/1120 [00:35<00:15, 21.63it/s]"
     ]
    },
    {
     "name": "stdout",
     "output_type": "stream",
     "text": [
      "1/1 [==============================] - 0s 18ms/step\n",
      "1/1 [==============================] - 0s 28ms/step\n",
      "1/1 [==============================] - 0s 20ms/step\n"
     ]
    },
    {
     "name": "stderr",
     "output_type": "stream",
     "text": [
      " 69%|██████▉   | 778/1120 [00:35<00:16, 20.46it/s]"
     ]
    },
    {
     "name": "stdout",
     "output_type": "stream",
     "text": [
      "1/1 [==============================] - 0s 18ms/step\n",
      "1/1 [==============================] - 0s 33ms/step\n",
      "1/1 [==============================] - 0s 19ms/step\n"
     ]
    },
    {
     "name": "stderr",
     "output_type": "stream",
     "text": [
      " 70%|██████▉   | 781/1120 [00:36<00:17, 19.65it/s]"
     ]
    },
    {
     "name": "stdout",
     "output_type": "stream",
     "text": [
      "1/1 [==============================] - 0s 18ms/step\n",
      "1/1 [==============================] - 0s 20ms/step\n",
      "1/1 [==============================] - 0s 22ms/step\n"
     ]
    },
    {
     "name": "stderr",
     "output_type": "stream",
     "text": [
      " 70%|███████   | 784/1120 [00:36<00:17, 19.74it/s]"
     ]
    },
    {
     "name": "stdout",
     "output_type": "stream",
     "text": [
      "1/1 [==============================] - 0s 19ms/step\n",
      "1/1 [==============================] - 0s 19ms/step\n"
     ]
    },
    {
     "name": "stderr",
     "output_type": "stream",
     "text": [
      " 70%|███████   | 786/1120 [00:36<00:16, 19.70it/s]"
     ]
    },
    {
     "name": "stdout",
     "output_type": "stream",
     "text": [
      "1/1 [==============================] - 0s 18ms/step\n",
      "1/1 [==============================] - 0s 19ms/step\n",
      "1/1 [==============================] - 0s 17ms/step\n"
     ]
    },
    {
     "name": "stderr",
     "output_type": "stream",
     "text": [
      " 70%|███████   | 789/1120 [00:36<00:16, 20.35it/s]"
     ]
    },
    {
     "name": "stdout",
     "output_type": "stream",
     "text": [
      "1/1 [==============================] - 0s 17ms/step\n",
      "1/1 [==============================] - 0s 17ms/step\n",
      "1/1 [==============================] - 0s 16ms/step\n"
     ]
    },
    {
     "name": "stderr",
     "output_type": "stream",
     "text": [
      " 71%|███████   | 792/1120 [00:36<00:15, 21.34it/s]"
     ]
    },
    {
     "name": "stdout",
     "output_type": "stream",
     "text": [
      "1/1 [==============================] - 0s 16ms/step\n",
      "1/1 [==============================] - 0s 17ms/step\n",
      "1/1 [==============================] - 0s 16ms/step\n"
     ]
    },
    {
     "name": "stderr",
     "output_type": "stream",
     "text": [
      " 71%|███████   | 795/1120 [00:36<00:14, 22.08it/s]"
     ]
    },
    {
     "name": "stdout",
     "output_type": "stream",
     "text": [
      "1/1 [==============================] - 0s 16ms/step\n",
      "1/1 [==============================] - 0s 16ms/step\n",
      "1/1 [==============================] - 0s 17ms/step\n"
     ]
    },
    {
     "name": "stderr",
     "output_type": "stream",
     "text": [
      " 71%|███████▏  | 798/1120 [00:36<00:14, 22.75it/s]"
     ]
    },
    {
     "name": "stdout",
     "output_type": "stream",
     "text": [
      "1/1 [==============================] - 0s 16ms/step\n",
      "1/1 [==============================] - 0s 19ms/step\n",
      "1/1 [==============================] - 0s 16ms/step\n"
     ]
    },
    {
     "name": "stderr",
     "output_type": "stream",
     "text": [
      " 72%|███████▏  | 801/1120 [00:36<00:13, 23.00it/s]"
     ]
    },
    {
     "name": "stdout",
     "output_type": "stream",
     "text": [
      "1/1 [==============================] - 0s 17ms/step\n",
      "1/1 [==============================] - 0s 16ms/step\n",
      "1/1 [==============================] - 0s 18ms/step\n"
     ]
    },
    {
     "name": "stderr",
     "output_type": "stream",
     "text": [
      " 72%|███████▏  | 804/1120 [00:37<00:13, 22.66it/s]"
     ]
    },
    {
     "name": "stdout",
     "output_type": "stream",
     "text": [
      "1/1 [==============================] - 0s 17ms/step\n",
      "1/1 [==============================] - 0s 18ms/step\n",
      "1/1 [==============================] - 0s 17ms/step\n"
     ]
    },
    {
     "name": "stderr",
     "output_type": "stream",
     "text": [
      " 72%|███████▏  | 807/1120 [00:37<00:13, 22.45it/s]"
     ]
    },
    {
     "name": "stdout",
     "output_type": "stream",
     "text": [
      "1/1 [==============================] - 0s 16ms/step\n",
      "1/1 [==============================] - 0s 16ms/step\n",
      "1/1 [==============================] - 0s 16ms/step\n"
     ]
    },
    {
     "name": "stderr",
     "output_type": "stream",
     "text": [
      " 72%|███████▏  | 810/1120 [00:37<00:13, 23.28it/s]"
     ]
    },
    {
     "name": "stdout",
     "output_type": "stream",
     "text": [
      "1/1 [==============================] - 0s 16ms/step\n",
      "1/1 [==============================] - 0s 16ms/step\n",
      "1/1 [==============================] - 0s 16ms/step\n"
     ]
    },
    {
     "name": "stderr",
     "output_type": "stream",
     "text": [
      " 73%|███████▎  | 813/1120 [00:37<00:12, 23.78it/s]"
     ]
    },
    {
     "name": "stdout",
     "output_type": "stream",
     "text": [
      "1/1 [==============================] - 0s 18ms/step\n",
      "1/1 [==============================] - 0s 18ms/step\n",
      "1/1 [==============================] - 0s 16ms/step\n"
     ]
    },
    {
     "name": "stderr",
     "output_type": "stream",
     "text": [
      " 73%|███████▎  | 816/1120 [00:37<00:12, 23.47it/s]"
     ]
    },
    {
     "name": "stdout",
     "output_type": "stream",
     "text": [
      "1/1 [==============================] - 0s 16ms/step\n",
      "1/1 [==============================] - 0s 15ms/step\n",
      "1/1 [==============================] - 0s 16ms/step\n"
     ]
    },
    {
     "name": "stderr",
     "output_type": "stream",
     "text": [
      " 73%|███████▎  | 819/1120 [00:37<00:12, 24.02it/s]"
     ]
    },
    {
     "name": "stdout",
     "output_type": "stream",
     "text": [
      "1/1 [==============================] - 0s 17ms/step\n",
      "1/1 [==============================] - 0s 16ms/step\n",
      "1/1 [==============================] - 0s 16ms/step\n"
     ]
    },
    {
     "name": "stderr",
     "output_type": "stream",
     "text": [
      " 73%|███████▎  | 822/1120 [00:37<00:12, 24.30it/s]"
     ]
    },
    {
     "name": "stdout",
     "output_type": "stream",
     "text": [
      "1/1 [==============================] - 0s 15ms/step\n",
      "1/1 [==============================] - 0s 16ms/step\n",
      "1/1 [==============================] - 0s 15ms/step\n"
     ]
    },
    {
     "name": "stderr",
     "output_type": "stream",
     "text": [
      " 74%|███████▎  | 825/1120 [00:37<00:12, 24.42it/s]"
     ]
    },
    {
     "name": "stdout",
     "output_type": "stream",
     "text": [
      "1/1 [==============================] - 0s 15ms/step\n",
      "1/1 [==============================] - 0s 26ms/step\n",
      "1/1 [==============================] - 0s 17ms/step\n"
     ]
    },
    {
     "name": "stderr",
     "output_type": "stream",
     "text": [
      " 74%|███████▍  | 828/1120 [00:38<00:12, 22.66it/s]"
     ]
    },
    {
     "name": "stdout",
     "output_type": "stream",
     "text": [
      "1/1 [==============================] - 0s 17ms/step\n",
      "1/1 [==============================] - 0s 16ms/step\n",
      "1/1 [==============================] - 0s 20ms/step\n"
     ]
    },
    {
     "name": "stderr",
     "output_type": "stream",
     "text": [
      " 74%|███████▍  | 831/1120 [00:38<00:12, 22.82it/s]"
     ]
    },
    {
     "name": "stdout",
     "output_type": "stream",
     "text": [
      "1/1 [==============================] - 0s 16ms/step\n",
      "1/1 [==============================] - 0s 16ms/step\n",
      "1/1 [==============================] - 0s 15ms/step\n"
     ]
    },
    {
     "name": "stderr",
     "output_type": "stream",
     "text": [
      " 74%|███████▍  | 834/1120 [00:38<00:12, 23.45it/s]"
     ]
    },
    {
     "name": "stdout",
     "output_type": "stream",
     "text": [
      "1/1 [==============================] - 0s 16ms/step\n",
      "1/1 [==============================] - 0s 16ms/step\n",
      "1/1 [==============================] - 0s 16ms/step\n"
     ]
    },
    {
     "name": "stderr",
     "output_type": "stream",
     "text": [
      " 75%|███████▍  | 837/1120 [00:38<00:11, 24.06it/s]"
     ]
    },
    {
     "name": "stdout",
     "output_type": "stream",
     "text": [
      "1/1 [==============================] - 0s 17ms/step\n",
      "1/1 [==============================] - 0s 17ms/step\n",
      "1/1 [==============================] - 0s 16ms/step\n"
     ]
    },
    {
     "name": "stderr",
     "output_type": "stream",
     "text": [
      " 75%|███████▌  | 840/1120 [00:38<00:12, 23.30it/s]"
     ]
    },
    {
     "name": "stdout",
     "output_type": "stream",
     "text": [
      "1/1 [==============================] - 0s 16ms/step\n",
      "1/1 [==============================] - 0s 18ms/step\n",
      "1/1 [==============================] - 0s 17ms/step\n"
     ]
    },
    {
     "name": "stderr",
     "output_type": "stream",
     "text": [
      " 75%|███████▌  | 843/1120 [00:38<00:11, 23.34it/s]"
     ]
    },
    {
     "name": "stdout",
     "output_type": "stream",
     "text": [
      "1/1 [==============================] - 0s 17ms/step\n",
      "1/1 [==============================] - 0s 18ms/step\n",
      "1/1 [==============================] - 0s 17ms/step\n"
     ]
    },
    {
     "name": "stderr",
     "output_type": "stream",
     "text": [
      " 76%|███████▌  | 846/1120 [00:38<00:11, 23.22it/s]"
     ]
    },
    {
     "name": "stdout",
     "output_type": "stream",
     "text": [
      "1/1 [==============================] - 0s 17ms/step\n",
      "1/1 [==============================] - 0s 17ms/step\n",
      "1/1 [==============================] - 0s 19ms/step\n"
     ]
    },
    {
     "name": "stderr",
     "output_type": "stream",
     "text": [
      " 76%|███████▌  | 849/1120 [00:38<00:11, 22.89it/s]"
     ]
    },
    {
     "name": "stdout",
     "output_type": "stream",
     "text": [
      "1/1 [==============================] - 0s 17ms/step\n",
      "1/1 [==============================] - 0s 16ms/step\n",
      "1/1 [==============================] - 0s 16ms/step\n"
     ]
    },
    {
     "name": "stderr",
     "output_type": "stream",
     "text": [
      " 76%|███████▌  | 852/1120 [00:39<00:11, 23.28it/s]"
     ]
    },
    {
     "name": "stdout",
     "output_type": "stream",
     "text": [
      "1/1 [==============================] - 0s 15ms/step\n",
      "1/1 [==============================] - 0s 27ms/step\n",
      "1/1 [==============================] - 0s 17ms/step\n"
     ]
    },
    {
     "name": "stderr",
     "output_type": "stream",
     "text": [
      " 76%|███████▋  | 855/1120 [00:39<00:11, 22.55it/s]"
     ]
    },
    {
     "name": "stdout",
     "output_type": "stream",
     "text": [
      "1/1 [==============================] - 0s 17ms/step\n",
      "1/1 [==============================] - 0s 17ms/step\n",
      "1/1 [==============================] - 0s 17ms/step\n"
     ]
    },
    {
     "name": "stderr",
     "output_type": "stream",
     "text": [
      " 77%|███████▋  | 858/1120 [00:39<00:11, 22.68it/s]"
     ]
    },
    {
     "name": "stdout",
     "output_type": "stream",
     "text": [
      "1/1 [==============================] - 0s 16ms/step\n",
      "1/1 [==============================] - 0s 17ms/step\n",
      "1/1 [==============================] - 0s 17ms/step\n"
     ]
    },
    {
     "name": "stderr",
     "output_type": "stream",
     "text": [
      " 77%|███████▋  | 861/1120 [00:39<00:11, 22.82it/s]"
     ]
    },
    {
     "name": "stdout",
     "output_type": "stream",
     "text": [
      "1/1 [==============================] - 0s 16ms/step\n",
      "1/1 [==============================] - 0s 16ms/step\n",
      "1/1 [==============================] - 0s 15ms/step\n"
     ]
    },
    {
     "name": "stderr",
     "output_type": "stream",
     "text": [
      " 77%|███████▋  | 864/1120 [00:39<00:11, 23.23it/s]"
     ]
    },
    {
     "name": "stdout",
     "output_type": "stream",
     "text": [
      "1/1 [==============================] - 0s 16ms/step\n",
      "1/1 [==============================] - 0s 16ms/step\n",
      "1/1 [==============================] - 0s 16ms/step\n"
     ]
    },
    {
     "name": "stderr",
     "output_type": "stream",
     "text": [
      " 77%|███████▋  | 867/1120 [00:39<00:10, 23.76it/s]"
     ]
    },
    {
     "name": "stdout",
     "output_type": "stream",
     "text": [
      "1/1 [==============================] - 0s 16ms/step\n",
      "1/1 [==============================] - 0s 15ms/step\n",
      "1/1 [==============================] - 0s 16ms/step\n"
     ]
    },
    {
     "name": "stderr",
     "output_type": "stream",
     "text": [
      " 78%|███████▊  | 870/1120 [00:39<00:10, 24.28it/s]"
     ]
    },
    {
     "name": "stdout",
     "output_type": "stream",
     "text": [
      "1/1 [==============================] - 0s 16ms/step\n",
      "1/1 [==============================] - 0s 16ms/step\n",
      "1/1 [==============================] - 0s 16ms/step\n"
     ]
    },
    {
     "name": "stderr",
     "output_type": "stream",
     "text": [
      " 78%|███████▊  | 873/1120 [00:40<00:10, 24.21it/s]"
     ]
    },
    {
     "name": "stdout",
     "output_type": "stream",
     "text": [
      "1/1 [==============================] - 0s 19ms/step\n",
      "1/1 [==============================] - 0s 17ms/step\n",
      "1/1 [==============================] - 0s 18ms/step\n"
     ]
    },
    {
     "name": "stderr",
     "output_type": "stream",
     "text": [
      " 78%|███████▊  | 876/1120 [00:40<00:10, 23.75it/s]"
     ]
    },
    {
     "name": "stdout",
     "output_type": "stream",
     "text": [
      "1/1 [==============================] - 0s 17ms/step\n",
      "1/1 [==============================] - 0s 16ms/step\n",
      "1/1 [==============================] - 0s 15ms/step\n"
     ]
    },
    {
     "name": "stderr",
     "output_type": "stream",
     "text": [
      " 78%|███████▊  | 879/1120 [00:40<00:10, 24.01it/s]"
     ]
    },
    {
     "name": "stdout",
     "output_type": "stream",
     "text": [
      "1/1 [==============================] - 0s 15ms/step\n",
      "1/1 [==============================] - 0s 25ms/step\n",
      "1/1 [==============================] - 0s 17ms/step\n"
     ]
    },
    {
     "name": "stderr",
     "output_type": "stream",
     "text": [
      " 79%|███████▉  | 882/1120 [00:40<00:10, 22.63it/s]"
     ]
    },
    {
     "name": "stdout",
     "output_type": "stream",
     "text": [
      "1/1 [==============================] - 0s 18ms/step\n",
      "1/1 [==============================] - 0s 16ms/step\n",
      "1/1 [==============================] - 0s 17ms/step\n"
     ]
    },
    {
     "name": "stderr",
     "output_type": "stream",
     "text": [
      " 79%|███████▉  | 885/1120 [00:40<00:10, 22.76it/s]"
     ]
    },
    {
     "name": "stdout",
     "output_type": "stream",
     "text": [
      "1/1 [==============================] - 0s 16ms/step\n",
      "1/1 [==============================] - 0s 16ms/step\n",
      "1/1 [==============================] - 0s 16ms/step\n"
     ]
    },
    {
     "name": "stderr",
     "output_type": "stream",
     "text": [
      " 79%|███████▉  | 888/1120 [00:40<00:09, 23.47it/s]"
     ]
    },
    {
     "name": "stdout",
     "output_type": "stream",
     "text": [
      "1/1 [==============================] - 0s 16ms/step\n",
      "1/1 [==============================] - 0s 16ms/step\n",
      "1/1 [==============================] - 0s 16ms/step\n"
     ]
    },
    {
     "name": "stderr",
     "output_type": "stream",
     "text": [
      " 80%|███████▉  | 891/1120 [00:40<00:09, 23.97it/s]"
     ]
    },
    {
     "name": "stdout",
     "output_type": "stream",
     "text": [
      "1/1 [==============================] - 0s 15ms/step\n",
      "1/1 [==============================] - 0s 16ms/step\n",
      "1/1 [==============================] - 0s 16ms/step\n"
     ]
    },
    {
     "name": "stderr",
     "output_type": "stream",
     "text": [
      " 80%|███████▉  | 894/1120 [00:40<00:09, 24.14it/s]"
     ]
    },
    {
     "name": "stdout",
     "output_type": "stream",
     "text": [
      "1/1 [==============================] - 0s 15ms/step\n",
      "1/1 [==============================] - 0s 15ms/step\n",
      "1/1 [==============================] - 0s 16ms/step\n"
     ]
    },
    {
     "name": "stderr",
     "output_type": "stream",
     "text": [
      " 80%|████████  | 897/1120 [00:41<00:09, 24.61it/s]"
     ]
    },
    {
     "name": "stdout",
     "output_type": "stream",
     "text": [
      "1/1 [==============================] - 0s 15ms/step\n",
      "1/1 [==============================] - 0s 15ms/step\n",
      "1/1 [==============================] - 0s 18ms/step\n"
     ]
    },
    {
     "name": "stderr",
     "output_type": "stream",
     "text": [
      " 80%|████████  | 900/1120 [00:41<00:08, 24.71it/s]"
     ]
    },
    {
     "name": "stdout",
     "output_type": "stream",
     "text": [
      "1/1 [==============================] - 0s 18ms/step\n",
      "1/1 [==============================] - 0s 18ms/step\n",
      "1/1 [==============================] - 0s 17ms/step\n"
     ]
    },
    {
     "name": "stderr",
     "output_type": "stream",
     "text": [
      " 81%|████████  | 903/1120 [00:41<00:09, 24.07it/s]"
     ]
    },
    {
     "name": "stdout",
     "output_type": "stream",
     "text": [
      "1/1 [==============================] - 0s 18ms/step\n",
      "1/1 [==============================] - 0s 18ms/step\n",
      "1/1 [==============================] - 0s 17ms/step\n"
     ]
    },
    {
     "name": "stderr",
     "output_type": "stream",
     "text": [
      " 81%|████████  | 906/1120 [00:41<00:09, 23.18it/s]"
     ]
    },
    {
     "name": "stdout",
     "output_type": "stream",
     "text": [
      "1/1 [==============================] - 0s 18ms/step\n",
      "1/1 [==============================] - 0s 17ms/step\n",
      "1/1 [==============================] - 0s 17ms/step\n"
     ]
    },
    {
     "name": "stderr",
     "output_type": "stream",
     "text": [
      " 81%|████████  | 909/1120 [00:41<00:09, 23.02it/s]"
     ]
    },
    {
     "name": "stdout",
     "output_type": "stream",
     "text": [
      "1/1 [==============================] - 0s 29ms/step\n",
      "1/1 [==============================] - 0s 21ms/step\n",
      "1/1 [==============================] - 0s 19ms/step\n"
     ]
    },
    {
     "name": "stderr",
     "output_type": "stream",
     "text": [
      " 81%|████████▏ | 912/1120 [00:41<00:09, 21.65it/s]"
     ]
    },
    {
     "name": "stdout",
     "output_type": "stream",
     "text": [
      "1/1 [==============================] - 0s 16ms/step\n",
      "1/1 [==============================] - 0s 17ms/step\n",
      "1/1 [==============================] - 0s 18ms/step\n"
     ]
    },
    {
     "name": "stderr",
     "output_type": "stream",
     "text": [
      " 82%|████████▏ | 915/1120 [00:41<00:09, 21.96it/s]"
     ]
    },
    {
     "name": "stdout",
     "output_type": "stream",
     "text": [
      "1/1 [==============================] - 0s 17ms/step\n",
      "1/1 [==============================] - 0s 16ms/step\n",
      "1/1 [==============================] - 0s 15ms/step\n"
     ]
    },
    {
     "name": "stderr",
     "output_type": "stream",
     "text": [
      " 82%|████████▏ | 918/1120 [00:41<00:08, 22.52it/s]"
     ]
    },
    {
     "name": "stdout",
     "output_type": "stream",
     "text": [
      "1/1 [==============================] - 0s 16ms/step\n",
      "1/1 [==============================] - 0s 16ms/step\n",
      "1/1 [==============================] - 0s 16ms/step\n"
     ]
    },
    {
     "name": "stderr",
     "output_type": "stream",
     "text": [
      " 82%|████████▏ | 921/1120 [00:42<00:08, 23.25it/s]"
     ]
    },
    {
     "name": "stdout",
     "output_type": "stream",
     "text": [
      "1/1 [==============================] - 0s 15ms/step\n",
      "1/1 [==============================] - 0s 16ms/step\n",
      "1/1 [==============================] - 0s 16ms/step\n"
     ]
    },
    {
     "name": "stderr",
     "output_type": "stream",
     "text": [
      " 82%|████████▎ | 924/1120 [00:42<00:08, 23.70it/s]"
     ]
    },
    {
     "name": "stdout",
     "output_type": "stream",
     "text": [
      "1/1 [==============================] - 0s 16ms/step\n",
      "1/1 [==============================] - 0s 16ms/step\n",
      "1/1 [==============================] - 0s 16ms/step\n"
     ]
    },
    {
     "name": "stderr",
     "output_type": "stream",
     "text": [
      " 83%|████████▎ | 927/1120 [00:42<00:08, 23.89it/s]"
     ]
    },
    {
     "name": "stdout",
     "output_type": "stream",
     "text": [
      "1/1 [==============================] - 0s 16ms/step\n",
      "1/1 [==============================] - 0s 17ms/step\n",
      "1/1 [==============================] - 0s 15ms/step\n"
     ]
    },
    {
     "name": "stderr",
     "output_type": "stream",
     "text": [
      " 83%|████████▎ | 930/1120 [00:42<00:07, 24.15it/s]"
     ]
    },
    {
     "name": "stdout",
     "output_type": "stream",
     "text": [
      "1/1 [==============================] - 0s 15ms/step\n",
      "1/1 [==============================] - 0s 15ms/step\n",
      "1/1 [==============================] - 0s 16ms/step\n"
     ]
    },
    {
     "name": "stderr",
     "output_type": "stream",
     "text": [
      " 83%|████████▎ | 933/1120 [00:42<00:07, 24.35it/s]"
     ]
    },
    {
     "name": "stdout",
     "output_type": "stream",
     "text": [
      "1/1 [==============================] - 0s 16ms/step\n",
      "1/1 [==============================] - 0s 16ms/step\n",
      "1/1 [==============================] - 0s 15ms/step\n"
     ]
    },
    {
     "name": "stderr",
     "output_type": "stream",
     "text": [
      " 84%|████████▎ | 936/1120 [00:42<00:07, 24.56it/s]"
     ]
    },
    {
     "name": "stdout",
     "output_type": "stream",
     "text": [
      "1/1 [==============================] - 0s 16ms/step\n",
      "1/1 [==============================] - 0s 18ms/step\n",
      "1/1 [==============================] - 0s 17ms/step\n"
     ]
    },
    {
     "name": "stderr",
     "output_type": "stream",
     "text": [
      " 84%|████████▍ | 939/1120 [00:42<00:07, 23.97it/s]"
     ]
    },
    {
     "name": "stdout",
     "output_type": "stream",
     "text": [
      "1/1 [==============================] - 0s 22ms/step\n",
      "1/1 [==============================] - 0s 20ms/step\n",
      "1/1 [==============================] - 0s 16ms/step\n"
     ]
    },
    {
     "name": "stderr",
     "output_type": "stream",
     "text": [
      " 84%|████████▍ | 942/1120 [00:42<00:07, 22.81it/s]"
     ]
    },
    {
     "name": "stdout",
     "output_type": "stream",
     "text": [
      "1/1 [==============================] - 0s 17ms/step\n",
      "1/1 [==============================] - 0s 16ms/step\n",
      "1/1 [==============================] - 0s 16ms/step\n"
     ]
    },
    {
     "name": "stderr",
     "output_type": "stream",
     "text": [
      " 84%|████████▍ | 945/1120 [00:43<00:07, 23.16it/s]"
     ]
    },
    {
     "name": "stdout",
     "output_type": "stream",
     "text": [
      "1/1 [==============================] - 0s 16ms/step\n",
      "1/1 [==============================] - 0s 16ms/step\n",
      "1/1 [==============================] - 0s 17ms/step\n"
     ]
    },
    {
     "name": "stderr",
     "output_type": "stream",
     "text": [
      " 85%|████████▍ | 948/1120 [00:43<00:07, 23.37it/s]"
     ]
    },
    {
     "name": "stdout",
     "output_type": "stream",
     "text": [
      "1/1 [==============================] - 0s 16ms/step\n",
      "1/1 [==============================] - 0s 15ms/step\n",
      "1/1 [==============================] - 0s 15ms/step\n"
     ]
    },
    {
     "name": "stderr",
     "output_type": "stream",
     "text": [
      " 85%|████████▍ | 951/1120 [00:43<00:07, 23.98it/s]"
     ]
    },
    {
     "name": "stdout",
     "output_type": "stream",
     "text": [
      "1/1 [==============================] - 0s 16ms/step\n",
      "1/1 [==============================] - 0s 15ms/step\n",
      "1/1 [==============================] - 0s 16ms/step\n"
     ]
    },
    {
     "name": "stderr",
     "output_type": "stream",
     "text": [
      " 85%|████████▌ | 954/1120 [00:43<00:06, 24.13it/s]"
     ]
    },
    {
     "name": "stdout",
     "output_type": "stream",
     "text": [
      "1/1 [==============================] - 0s 16ms/step\n",
      "1/1 [==============================] - 0s 16ms/step\n",
      "1/1 [==============================] - 0s 15ms/step\n"
     ]
    },
    {
     "name": "stderr",
     "output_type": "stream",
     "text": [
      " 85%|████████▌ | 957/1120 [00:43<00:06, 24.37it/s]"
     ]
    },
    {
     "name": "stdout",
     "output_type": "stream",
     "text": [
      "1/1 [==============================] - 0s 15ms/step\n",
      "1/1 [==============================] - 0s 16ms/step\n",
      "1/1 [==============================] - 0s 16ms/step\n"
     ]
    },
    {
     "name": "stderr",
     "output_type": "stream",
     "text": [
      " 86%|████████▌ | 960/1120 [00:43<00:06, 24.28it/s]"
     ]
    },
    {
     "name": "stdout",
     "output_type": "stream",
     "text": [
      "1/1 [==============================] - 0s 16ms/step\n",
      "1/1 [==============================] - 0s 15ms/step\n",
      "1/1 [==============================] - 0s 18ms/step\n"
     ]
    },
    {
     "name": "stderr",
     "output_type": "stream",
     "text": [
      " 86%|████████▌ | 963/1120 [00:43<00:06, 24.47it/s]"
     ]
    },
    {
     "name": "stdout",
     "output_type": "stream",
     "text": [
      "1/1 [==============================] - 0s 17ms/step\n",
      "1/1 [==============================] - 0s 29ms/step\n",
      "1/1 [==============================] - 0s 17ms/step\n"
     ]
    },
    {
     "name": "stderr",
     "output_type": "stream",
     "text": [
      " 86%|████████▋ | 966/1120 [00:43<00:06, 23.31it/s]"
     ]
    },
    {
     "name": "stdout",
     "output_type": "stream",
     "text": [
      "1/1 [==============================] - 0s 17ms/step\n",
      "1/1 [==============================] - 0s 17ms/step\n",
      "1/1 [==============================] - 0s 16ms/step\n"
     ]
    },
    {
     "name": "stderr",
     "output_type": "stream",
     "text": [
      " 87%|████████▋ | 969/1120 [00:44<00:06, 23.42it/s]"
     ]
    },
    {
     "name": "stdout",
     "output_type": "stream",
     "text": [
      "1/1 [==============================] - 0s 17ms/step\n",
      "1/1 [==============================] - 0s 16ms/step\n",
      "1/1 [==============================] - 0s 16ms/step\n"
     ]
    },
    {
     "name": "stderr",
     "output_type": "stream",
     "text": [
      " 87%|████████▋ | 972/1120 [00:44<00:06, 23.44it/s]"
     ]
    },
    {
     "name": "stdout",
     "output_type": "stream",
     "text": [
      "1/1 [==============================] - 0s 16ms/step\n",
      "1/1 [==============================] - 0s 16ms/step\n",
      "1/1 [==============================] - 0s 17ms/step\n"
     ]
    },
    {
     "name": "stderr",
     "output_type": "stream",
     "text": [
      " 87%|████████▋ | 975/1120 [00:44<00:06, 23.76it/s]"
     ]
    },
    {
     "name": "stdout",
     "output_type": "stream",
     "text": [
      "1/1 [==============================] - 0s 15ms/step\n",
      "1/1 [==============================] - 0s 16ms/step\n",
      "1/1 [==============================] - 0s 16ms/step\n"
     ]
    },
    {
     "name": "stderr",
     "output_type": "stream",
     "text": [
      " 87%|████████▋ | 978/1120 [00:44<00:05, 24.28it/s]"
     ]
    },
    {
     "name": "stdout",
     "output_type": "stream",
     "text": [
      "1/1 [==============================] - 0s 16ms/step\n",
      "1/1 [==============================] - 0s 16ms/step\n",
      "1/1 [==============================] - 0s 16ms/step\n"
     ]
    },
    {
     "name": "stderr",
     "output_type": "stream",
     "text": [
      " 88%|████████▊ | 981/1120 [00:44<00:05, 24.37it/s]"
     ]
    },
    {
     "name": "stdout",
     "output_type": "stream",
     "text": [
      "1/1 [==============================] - 0s 15ms/step\n",
      "1/1 [==============================] - 0s 17ms/step\n",
      "1/1 [==============================] - 0s 15ms/step\n"
     ]
    },
    {
     "name": "stderr",
     "output_type": "stream",
     "text": [
      " 88%|████████▊ | 984/1120 [00:44<00:05, 24.74it/s]"
     ]
    },
    {
     "name": "stdout",
     "output_type": "stream",
     "text": [
      "1/1 [==============================] - 0s 15ms/step\n",
      "1/1 [==============================] - 0s 16ms/step\n",
      "1/1 [==============================] - 0s 15ms/step\n"
     ]
    },
    {
     "name": "stderr",
     "output_type": "stream",
     "text": [
      " 88%|████████▊ | 987/1120 [00:44<00:05, 25.09it/s]"
     ]
    },
    {
     "name": "stdout",
     "output_type": "stream",
     "text": [
      "1/1 [==============================] - 0s 15ms/step\n",
      "1/1 [==============================] - 0s 25ms/step\n",
      "1/1 [==============================] - 0s 20ms/step\n"
     ]
    },
    {
     "name": "stderr",
     "output_type": "stream",
     "text": [
      " 88%|████████▊ | 990/1120 [00:44<00:05, 23.58it/s]"
     ]
    },
    {
     "name": "stdout",
     "output_type": "stream",
     "text": [
      "1/1 [==============================] - 0s 19ms/step\n",
      "1/1 [==============================] - 0s 24ms/step\n",
      "1/1 [==============================] - 0s 19ms/step\n"
     ]
    },
    {
     "name": "stderr",
     "output_type": "stream",
     "text": [
      " 89%|████████▊ | 993/1120 [00:45<00:05, 22.30it/s]"
     ]
    },
    {
     "name": "stdout",
     "output_type": "stream",
     "text": [
      "1/1 [==============================] - 0s 18ms/step\n",
      "1/1 [==============================] - 0s 17ms/step\n",
      "1/1 [==============================] - 0s 17ms/step\n"
     ]
    },
    {
     "name": "stderr",
     "output_type": "stream",
     "text": [
      " 89%|████████▉ | 996/1120 [00:45<00:05, 22.17it/s]"
     ]
    },
    {
     "name": "stdout",
     "output_type": "stream",
     "text": [
      "1/1 [==============================] - 0s 17ms/step\n",
      "1/1 [==============================] - 0s 16ms/step\n",
      "1/1 [==============================] - 0s 16ms/step\n"
     ]
    },
    {
     "name": "stderr",
     "output_type": "stream",
     "text": [
      " 89%|████████▉ | 999/1120 [00:45<00:05, 22.75it/s]"
     ]
    },
    {
     "name": "stdout",
     "output_type": "stream",
     "text": [
      "1/1 [==============================] - 0s 16ms/step\n",
      "1/1 [==============================] - 0s 19ms/step\n",
      "1/1 [==============================] - 0s 16ms/step\n"
     ]
    },
    {
     "name": "stderr",
     "output_type": "stream",
     "text": [
      " 89%|████████▉ | 1002/1120 [00:45<00:05, 23.00it/s]"
     ]
    },
    {
     "name": "stdout",
     "output_type": "stream",
     "text": [
      "1/1 [==============================] - 0s 17ms/step\n",
      "1/1 [==============================] - 0s 16ms/step\n",
      "1/1 [==============================] - 0s 15ms/step\n"
     ]
    },
    {
     "name": "stderr",
     "output_type": "stream",
     "text": [
      " 90%|████████▉ | 1005/1120 [00:45<00:04, 23.26it/s]"
     ]
    },
    {
     "name": "stdout",
     "output_type": "stream",
     "text": [
      "1/1 [==============================] - 0s 15ms/step\n",
      "1/1 [==============================] - 0s 16ms/step\n",
      "1/1 [==============================] - 0s 16ms/step\n"
     ]
    },
    {
     "name": "stderr",
     "output_type": "stream",
     "text": [
      " 90%|█████████ | 1008/1120 [00:45<00:04, 23.89it/s]"
     ]
    },
    {
     "name": "stdout",
     "output_type": "stream",
     "text": [
      "1/1 [==============================] - 0s 17ms/step\n",
      "1/1 [==============================] - 0s 21ms/step\n",
      "1/1 [==============================] - 0s 17ms/step\n"
     ]
    },
    {
     "name": "stderr",
     "output_type": "stream",
     "text": [
      " 90%|█████████ | 1011/1120 [00:45<00:04, 23.29it/s]"
     ]
    },
    {
     "name": "stdout",
     "output_type": "stream",
     "text": [
      "1/1 [==============================] - 0s 17ms/step\n",
      "1/1 [==============================] - 0s 17ms/step\n",
      "1/1 [==============================] - 0s 17ms/step\n"
     ]
    },
    {
     "name": "stderr",
     "output_type": "stream",
     "text": [
      " 91%|█████████ | 1014/1120 [00:46<00:04, 22.91it/s]"
     ]
    },
    {
     "name": "stdout",
     "output_type": "stream",
     "text": [
      "1/1 [==============================] - 0s 27ms/step\n",
      "1/1 [==============================] - 0s 19ms/step\n",
      "1/1 [==============================] - 0s 17ms/step\n"
     ]
    },
    {
     "name": "stderr",
     "output_type": "stream",
     "text": [
      " 91%|█████████ | 1017/1120 [00:46<00:04, 21.64it/s]"
     ]
    },
    {
     "name": "stdout",
     "output_type": "stream",
     "text": [
      "1/1 [==============================] - 0s 16ms/step\n",
      "1/1 [==============================] - 0s 17ms/step\n",
      "1/1 [==============================] - 0s 16ms/step\n"
     ]
    },
    {
     "name": "stderr",
     "output_type": "stream",
     "text": [
      " 91%|█████████ | 1020/1120 [00:46<00:04, 22.05it/s]"
     ]
    },
    {
     "name": "stdout",
     "output_type": "stream",
     "text": [
      "1/1 [==============================] - 0s 19ms/step\n",
      "1/1 [==============================] - 0s 17ms/step\n",
      "1/1 [==============================] - 0s 18ms/step\n"
     ]
    },
    {
     "name": "stderr",
     "output_type": "stream",
     "text": [
      " 91%|█████████▏| 1023/1120 [00:46<00:04, 22.44it/s]"
     ]
    },
    {
     "name": "stdout",
     "output_type": "stream",
     "text": [
      "1/1 [==============================] - 0s 21ms/step\n",
      "1/1 [==============================] - 0s 19ms/step\n",
      "1/1 [==============================] - 0s 19ms/step\n"
     ]
    },
    {
     "name": "stderr",
     "output_type": "stream",
     "text": [
      " 92%|█████████▏| 1026/1120 [00:46<00:04, 21.76it/s]"
     ]
    },
    {
     "name": "stdout",
     "output_type": "stream",
     "text": [
      "1/1 [==============================] - 0s 18ms/step\n",
      "1/1 [==============================] - 0s 17ms/step\n",
      "1/1 [==============================] - 0s 16ms/step\n"
     ]
    },
    {
     "name": "stderr",
     "output_type": "stream",
     "text": [
      " 92%|█████████▏| 1029/1120 [00:46<00:04, 21.98it/s]"
     ]
    },
    {
     "name": "stdout",
     "output_type": "stream",
     "text": [
      "1/1 [==============================] - 0s 17ms/step\n",
      "1/1 [==============================] - 0s 16ms/step\n",
      "1/1 [==============================] - 0s 18ms/step\n"
     ]
    },
    {
     "name": "stderr",
     "output_type": "stream",
     "text": [
      " 92%|█████████▏| 1032/1120 [00:46<00:03, 22.40it/s]"
     ]
    },
    {
     "name": "stdout",
     "output_type": "stream",
     "text": [
      "1/1 [==============================] - 0s 15ms/step\n",
      "1/1 [==============================] - 0s 16ms/step\n",
      "1/1 [==============================] - 0s 15ms/step\n"
     ]
    },
    {
     "name": "stderr",
     "output_type": "stream",
     "text": [
      " 92%|█████████▏| 1035/1120 [00:46<00:03, 22.91it/s]"
     ]
    },
    {
     "name": "stdout",
     "output_type": "stream",
     "text": [
      "1/1 [==============================] - 0s 18ms/step\n",
      "1/1 [==============================] - 0s 16ms/step\n",
      "1/1 [==============================] - 0s 16ms/step\n"
     ]
    },
    {
     "name": "stderr",
     "output_type": "stream",
     "text": [
      " 93%|█████████▎| 1038/1120 [00:47<00:03, 22.94it/s]"
     ]
    },
    {
     "name": "stdout",
     "output_type": "stream",
     "text": [
      "1/1 [==============================] - 0s 15ms/step\n",
      "1/1 [==============================] - 0s 15ms/step\n",
      "1/1 [==============================] - 0s 15ms/step\n"
     ]
    },
    {
     "name": "stderr",
     "output_type": "stream",
     "text": [
      " 93%|█████████▎| 1041/1120 [00:47<00:03, 23.65it/s]"
     ]
    },
    {
     "name": "stdout",
     "output_type": "stream",
     "text": [
      "1/1 [==============================] - 0s 25ms/step\n",
      "1/1 [==============================] - 0s 17ms/step\n",
      "1/1 [==============================] - 0s 16ms/step\n"
     ]
    },
    {
     "name": "stderr",
     "output_type": "stream",
     "text": [
      " 93%|█████████▎| 1044/1120 [00:47<00:03, 22.69it/s]"
     ]
    },
    {
     "name": "stdout",
     "output_type": "stream",
     "text": [
      "1/1 [==============================] - 0s 18ms/step\n",
      "1/1 [==============================] - 0s 16ms/step\n",
      "1/1 [==============================] - 0s 16ms/step\n"
     ]
    },
    {
     "name": "stderr",
     "output_type": "stream",
     "text": [
      " 93%|█████████▎| 1047/1120 [00:47<00:03, 22.71it/s]"
     ]
    },
    {
     "name": "stdout",
     "output_type": "stream",
     "text": [
      "1/1 [==============================] - 0s 16ms/step\n",
      "1/1 [==============================] - 0s 16ms/step\n",
      "1/1 [==============================] - 0s 15ms/step\n"
     ]
    },
    {
     "name": "stderr",
     "output_type": "stream",
     "text": [
      " 94%|█████████▍| 1050/1120 [00:47<00:02, 23.37it/s]"
     ]
    },
    {
     "name": "stdout",
     "output_type": "stream",
     "text": [
      "1/1 [==============================] - 0s 15ms/step\n",
      "1/1 [==============================] - 0s 16ms/step\n",
      "1/1 [==============================] - 0s 15ms/step\n"
     ]
    },
    {
     "name": "stderr",
     "output_type": "stream",
     "text": [
      " 94%|█████████▍| 1053/1120 [00:47<00:02, 23.72it/s]"
     ]
    },
    {
     "name": "stdout",
     "output_type": "stream",
     "text": [
      "1/1 [==============================] - 0s 17ms/step\n",
      "1/1 [==============================] - 0s 15ms/step\n",
      "1/1 [==============================] - 0s 16ms/step\n"
     ]
    },
    {
     "name": "stderr",
     "output_type": "stream",
     "text": [
      " 94%|█████████▍| 1056/1120 [00:47<00:02, 23.71it/s]"
     ]
    },
    {
     "name": "stdout",
     "output_type": "stream",
     "text": [
      "1/1 [==============================] - 0s 17ms/step\n",
      "1/1 [==============================] - 0s 15ms/step\n",
      "1/1 [==============================] - 0s 16ms/step\n"
     ]
    },
    {
     "name": "stderr",
     "output_type": "stream",
     "text": [
      " 95%|█████████▍| 1059/1120 [00:47<00:02, 23.56it/s]"
     ]
    },
    {
     "name": "stdout",
     "output_type": "stream",
     "text": [
      "1/1 [==============================] - 0s 16ms/step\n",
      "1/1 [==============================] - 0s 16ms/step\n",
      "1/1 [==============================] - 0s 15ms/step\n"
     ]
    },
    {
     "name": "stderr",
     "output_type": "stream",
     "text": [
      " 95%|█████████▍| 1062/1120 [00:48<00:02, 23.83it/s]"
     ]
    },
    {
     "name": "stdout",
     "output_type": "stream",
     "text": [
      "1/1 [==============================] - 0s 15ms/step\n",
      "1/1 [==============================] - 0s 16ms/step\n",
      "1/1 [==============================] - 0s 17ms/step\n"
     ]
    },
    {
     "name": "stderr",
     "output_type": "stream",
     "text": [
      " 95%|█████████▌| 1065/1120 [00:48<00:02, 23.70it/s]"
     ]
    },
    {
     "name": "stdout",
     "output_type": "stream",
     "text": [
      "1/1 [==============================] - 0s 15ms/step\n",
      "1/1 [==============================] - 0s 15ms/step\n",
      "1/1 [==============================] - 0s 16ms/step\n"
     ]
    },
    {
     "name": "stderr",
     "output_type": "stream",
     "text": [
      " 95%|█████████▌| 1068/1120 [00:48<00:02, 24.07it/s]"
     ]
    },
    {
     "name": "stdout",
     "output_type": "stream",
     "text": [
      "1/1 [==============================] - 0s 26ms/step\n",
      "1/1 [==============================] - 0s 18ms/step\n",
      "1/1 [==============================] - 0s 18ms/step\n"
     ]
    },
    {
     "name": "stderr",
     "output_type": "stream",
     "text": [
      " 96%|█████████▌| 1071/1120 [00:48<00:03, 13.96it/s]"
     ]
    },
    {
     "name": "stdout",
     "output_type": "stream",
     "text": [
      "1/1 [==============================] - 0s 17ms/step\n",
      "1/1 [==============================] - 0s 18ms/step\n",
      "1/1 [==============================] - 0s 18ms/step\n"
     ]
    },
    {
     "name": "stderr",
     "output_type": "stream",
     "text": [
      " 96%|█████████▌| 1074/1120 [00:48<00:02, 15.83it/s]"
     ]
    },
    {
     "name": "stdout",
     "output_type": "stream",
     "text": [
      "1/1 [==============================] - 0s 20ms/step\n",
      "1/1 [==============================] - 0s 18ms/step\n",
      "1/1 [==============================] - 0s 18ms/step\n"
     ]
    },
    {
     "name": "stderr",
     "output_type": "stream",
     "text": [
      " 96%|█████████▌| 1077/1120 [00:49<00:02, 17.39it/s]"
     ]
    },
    {
     "name": "stdout",
     "output_type": "stream",
     "text": [
      "1/1 [==============================] - 0s 18ms/step\n",
      "1/1 [==============================] - 0s 18ms/step\n",
      "1/1 [==============================] - 0s 18ms/step\n"
     ]
    },
    {
     "name": "stderr",
     "output_type": "stream",
     "text": [
      " 96%|█████████▋| 1080/1120 [00:49<00:02, 18.50it/s]"
     ]
    },
    {
     "name": "stdout",
     "output_type": "stream",
     "text": [
      "1/1 [==============================] - 0s 19ms/step\n",
      "1/1 [==============================] - 0s 19ms/step\n",
      "1/1 [==============================] - 0s 18ms/step\n"
     ]
    },
    {
     "name": "stderr",
     "output_type": "stream",
     "text": [
      " 97%|█████████▋| 1083/1120 [00:49<00:01, 19.64it/s]"
     ]
    },
    {
     "name": "stdout",
     "output_type": "stream",
     "text": [
      "1/1 [==============================] - 0s 26ms/step\n",
      "1/1 [==============================] - 0s 18ms/step\n",
      "1/1 [==============================] - 0s 18ms/step\n"
     ]
    },
    {
     "name": "stderr",
     "output_type": "stream",
     "text": [
      " 97%|█████████▋| 1086/1120 [00:49<00:01, 20.19it/s]"
     ]
    },
    {
     "name": "stdout",
     "output_type": "stream",
     "text": [
      "1/1 [==============================] - 0s 19ms/step\n",
      "1/1 [==============================] - 0s 18ms/step\n",
      "1/1 [==============================] - 0s 18ms/step\n"
     ]
    },
    {
     "name": "stderr",
     "output_type": "stream",
     "text": [
      " 97%|█████████▋| 1089/1120 [00:49<00:01, 21.04it/s]"
     ]
    },
    {
     "name": "stdout",
     "output_type": "stream",
     "text": [
      "1/1 [==============================] - 0s 18ms/step\n",
      "1/1 [==============================] - 0s 27ms/step\n",
      "1/1 [==============================] - 0s 20ms/step\n"
     ]
    },
    {
     "name": "stderr",
     "output_type": "stream",
     "text": [
      " 98%|█████████▊| 1092/1120 [00:49<00:01, 20.10it/s]"
     ]
    },
    {
     "name": "stdout",
     "output_type": "stream",
     "text": [
      "1/1 [==============================] - 0s 19ms/step\n",
      "1/1 [==============================] - 0s 19ms/step\n",
      "1/1 [==============================] - 0s 19ms/step\n"
     ]
    },
    {
     "name": "stderr",
     "output_type": "stream",
     "text": [
      " 98%|█████████▊| 1095/1120 [00:49<00:01, 20.52it/s]"
     ]
    },
    {
     "name": "stdout",
     "output_type": "stream",
     "text": [
      "1/1 [==============================] - 0s 19ms/step\n",
      "1/1 [==============================] - 0s 19ms/step\n",
      "1/1 [==============================] - 0s 19ms/step\n"
     ]
    },
    {
     "name": "stderr",
     "output_type": "stream",
     "text": [
      " 98%|█████████▊| 1098/1120 [00:50<00:01, 21.04it/s]"
     ]
    },
    {
     "name": "stdout",
     "output_type": "stream",
     "text": [
      "1/1 [==============================] - 0s 18ms/step\n",
      "1/1 [==============================] - 0s 19ms/step\n",
      "1/1 [==============================] - 0s 18ms/step\n"
     ]
    },
    {
     "name": "stderr",
     "output_type": "stream",
     "text": [
      " 98%|█████████▊| 1101/1120 [00:50<00:00, 21.21it/s]"
     ]
    },
    {
     "name": "stdout",
     "output_type": "stream",
     "text": [
      "1/1 [==============================] - 0s 19ms/step\n",
      "1/1 [==============================] - 0s 19ms/step\n",
      "1/1 [==============================] - 0s 19ms/step\n"
     ]
    },
    {
     "name": "stderr",
     "output_type": "stream",
     "text": [
      " 99%|█████████▊| 1104/1120 [00:50<00:00, 21.60it/s]"
     ]
    },
    {
     "name": "stdout",
     "output_type": "stream",
     "text": [
      "1/1 [==============================] - 0s 19ms/step\n",
      "1/1 [==============================] - 0s 19ms/step\n",
      "1/1 [==============================] - 0s 18ms/step\n"
     ]
    },
    {
     "name": "stderr",
     "output_type": "stream",
     "text": [
      " 99%|█████████▉| 1107/1120 [00:50<00:00, 22.00it/s]"
     ]
    },
    {
     "name": "stdout",
     "output_type": "stream",
     "text": [
      "1/1 [==============================] - 0s 19ms/step\n",
      "1/1 [==============================] - 0s 19ms/step\n",
      "1/1 [==============================] - 0s 21ms/step\n"
     ]
    },
    {
     "name": "stderr",
     "output_type": "stream",
     "text": [
      " 99%|█████████▉| 1110/1120 [00:50<00:00, 22.15it/s]"
     ]
    },
    {
     "name": "stdout",
     "output_type": "stream",
     "text": [
      "1/1 [==============================] - 0s 20ms/step\n",
      "1/1 [==============================] - 0s 21ms/step\n",
      "1/1 [==============================] - 0s 20ms/step\n"
     ]
    },
    {
     "name": "stderr",
     "output_type": "stream",
     "text": [
      " 99%|█████████▉| 1113/1120 [00:50<00:00, 21.30it/s]"
     ]
    },
    {
     "name": "stdout",
     "output_type": "stream",
     "text": [
      "1/1 [==============================] - 0s 27ms/step\n",
      "1/1 [==============================] - 0s 19ms/step\n",
      "1/1 [==============================] - 0s 20ms/step\n"
     ]
    },
    {
     "name": "stderr",
     "output_type": "stream",
     "text": [
      "100%|█████████▉| 1116/1120 [00:50<00:00, 20.37it/s]"
     ]
    },
    {
     "name": "stdout",
     "output_type": "stream",
     "text": [
      "1/1 [==============================] - 0s 19ms/step\n",
      "1/1 [==============================] - 0s 20ms/step\n",
      "1/1 [==============================] - 0s 19ms/step\n"
     ]
    },
    {
     "name": "stderr",
     "output_type": "stream",
     "text": [
      "100%|█████████▉| 1119/1120 [00:51<00:00, 20.46it/s]"
     ]
    },
    {
     "name": "stdout",
     "output_type": "stream",
     "text": [
      "1/1 [==============================] - 0s 19ms/step\n"
     ]
    },
    {
     "name": "stderr",
     "output_type": "stream",
     "text": [
      "100%|██████████| 1120/1120 [00:51<00:00, 21.94it/s]\n"
     ]
    }
   ],
   "source": [
    "from sklearn.metrics import mean_absolute_error\n",
    " \n",
    "Error_dataframe = {\n",
    "    'Actual': [],\n",
    "    'Predicted':[],\n",
    "    'Pro_ratio' : []\n",
    "}\n",
    "\n",
    "prop_ratio_list = []\n",
    "actual = []\n",
    "predicted = []\n",
    "for i in tqdm(range(x_test.shape[0])):\n",
    "    test_x_i = np.reshape(x_test[i], (x_test[i].shape[0], 1, x_test[i].shape[1]))\n",
    "    actual = min_max_scaler.inverse_transform(y_test[i].reshape(-1,1))\n",
    "    actual =  actual.flatten().tolist()[0]\n",
    "    predicted = model.predict(test_x_i)\n",
    "    predicted =  min_max_scaler.inverse_transform(predicted.reshape(-1,1))\n",
    "    predicted =  predicted.flatten().tolist()[0]\n",
    "    prop_ratio  = predicted/actual\n",
    "    \n",
    "    Error_dataframe['Actual'].append(actual)\n",
    "    Error_dataframe['Predicted'].append(predicted)\n",
    "    Error_dataframe['Pro_ratio'].append(prop_ratio)\n",
    "    \n",
    "    \n",
    "    "
   ]
  },
  {
   "cell_type": "code",
   "execution_count": 93,
   "metadata": {},
   "outputs": [
    {
     "name": "stdout",
     "output_type": "stream",
     "text": [
      "Mean Absolute Percentage Error :  0.330126616703543\n",
      "Mean Absolute Error :  32.006764168020446\n"
     ]
    }
   ],
   "source": [
    "from sklearn.metrics import mean_absolute_percentage_error , mean_absolute_error\n",
    "Error_df = pd.DataFrame.from_dict(Error_dataframe)\n",
    "print('Mean Absolute Percentage Error : ',mean_absolute_percentage_error(Error_df['Actual'] , Error_df['Predicted'] ))\n",
    "print('Mean Absolute Error : ',mean_absolute_error(Error_df['Actual'] , Error_df['Predicted'] ))"
   ]
  },
  {
   "cell_type": "code",
   "execution_count": 94,
   "metadata": {},
   "outputs": [
    {
     "data": {
      "text/html": [
       "<div>\n",
       "<style scoped>\n",
       "    .dataframe tbody tr th:only-of-type {\n",
       "        vertical-align: middle;\n",
       "    }\n",
       "\n",
       "    .dataframe tbody tr th {\n",
       "        vertical-align: top;\n",
       "    }\n",
       "\n",
       "    .dataframe thead th {\n",
       "        text-align: right;\n",
       "    }\n",
       "</style>\n",
       "<table border=\"1\" class=\"dataframe\">\n",
       "  <thead>\n",
       "    <tr style=\"text-align: right;\">\n",
       "      <th></th>\n",
       "      <th>Actual</th>\n",
       "      <th>Predicted</th>\n",
       "      <th>Pro_ratio</th>\n",
       "    </tr>\n",
       "  </thead>\n",
       "  <tbody>\n",
       "    <tr>\n",
       "      <th>0</th>\n",
       "      <td>30.400977</td>\n",
       "      <td>28.643713</td>\n",
       "      <td>0.942197</td>\n",
       "    </tr>\n",
       "    <tr>\n",
       "      <th>1</th>\n",
       "      <td>37.112743</td>\n",
       "      <td>28.319099</td>\n",
       "      <td>0.763056</td>\n",
       "    </tr>\n",
       "    <tr>\n",
       "      <th>2</th>\n",
       "      <td>144.535865</td>\n",
       "      <td>29.701042</td>\n",
       "      <td>0.205493</td>\n",
       "    </tr>\n",
       "    <tr>\n",
       "      <th>3</th>\n",
       "      <td>296.136337</td>\n",
       "      <td>64.864197</td>\n",
       "      <td>0.219035</td>\n",
       "    </tr>\n",
       "    <tr>\n",
       "      <th>4</th>\n",
       "      <td>251.992852</td>\n",
       "      <td>170.327866</td>\n",
       "      <td>0.675923</td>\n",
       "    </tr>\n",
       "    <tr>\n",
       "      <th>...</th>\n",
       "      <td>...</td>\n",
       "      <td>...</td>\n",
       "      <td>...</td>\n",
       "    </tr>\n",
       "    <tr>\n",
       "      <th>1115</th>\n",
       "      <td>80.591582</td>\n",
       "      <td>29.490396</td>\n",
       "      <td>0.365924</td>\n",
       "    </tr>\n",
       "    <tr>\n",
       "      <th>1116</th>\n",
       "      <td>52.420814</td>\n",
       "      <td>34.453331</td>\n",
       "      <td>0.657245</td>\n",
       "    </tr>\n",
       "    <tr>\n",
       "      <th>1117</th>\n",
       "      <td>46.189453</td>\n",
       "      <td>37.650257</td>\n",
       "      <td>0.815127</td>\n",
       "    </tr>\n",
       "    <tr>\n",
       "      <th>1118</th>\n",
       "      <td>58.697892</td>\n",
       "      <td>38.182827</td>\n",
       "      <td>0.650497</td>\n",
       "    </tr>\n",
       "    <tr>\n",
       "      <th>1119</th>\n",
       "      <td>68.694625</td>\n",
       "      <td>39.492191</td>\n",
       "      <td>0.574895</td>\n",
       "    </tr>\n",
       "  </tbody>\n",
       "</table>\n",
       "<p>1120 rows × 3 columns</p>\n",
       "</div>"
      ],
      "text/plain": [
       "          Actual   Predicted  Pro_ratio\n",
       "0      30.400977   28.643713   0.942197\n",
       "1      37.112743   28.319099   0.763056\n",
       "2     144.535865   29.701042   0.205493\n",
       "3     296.136337   64.864197   0.219035\n",
       "4     251.992852  170.327866   0.675923\n",
       "...          ...         ...        ...\n",
       "1115   80.591582   29.490396   0.365924\n",
       "1116   52.420814   34.453331   0.657245\n",
       "1117   46.189453   37.650257   0.815127\n",
       "1118   58.697892   38.182827   0.650497\n",
       "1119   68.694625   39.492191   0.574895\n",
       "\n",
       "[1120 rows x 3 columns]"
      ]
     },
     "execution_count": 94,
     "metadata": {},
     "output_type": "execute_result"
    }
   ],
   "source": [
    "Error_df"
   ]
  },
  {
   "cell_type": "code",
   "execution_count": 95,
   "metadata": {},
   "outputs": [],
   "source": [
    "Error_df.to_csv('Error.csv',index=False)"
   ]
  },
  {
   "cell_type": "code",
   "execution_count": 97,
   "metadata": {},
   "outputs": [
    {
     "data": {
      "application/vnd.plotly.v1+json": {
       "config": {
        "plotlyServerURL": "https://plot.ly"
       },
       "data": [
        {
         "mode": "lines+markers",
         "name": "Predicted",
         "type": "scatter",
         "x": [
          0,
          1,
          2,
          3,
          4,
          5,
          6,
          7,
          8,
          9,
          10,
          11,
          12,
          13,
          14,
          15,
          16,
          17,
          18,
          19,
          20,
          21,
          22,
          23,
          24,
          25,
          26,
          27,
          28,
          29,
          30,
          31,
          32,
          33,
          34,
          35,
          36,
          37,
          38,
          39,
          40,
          41,
          42,
          43,
          44,
          45,
          46,
          47,
          48,
          49,
          50,
          51,
          52,
          53,
          54,
          55,
          56,
          57,
          58,
          59,
          60,
          61,
          62,
          63,
          64,
          65,
          66,
          67,
          68,
          69,
          70,
          71,
          72,
          73,
          74,
          75,
          76,
          77,
          78,
          79,
          80,
          81,
          82,
          83,
          84,
          85,
          86,
          87,
          88,
          89,
          90,
          91,
          92,
          93,
          94,
          95,
          96,
          97,
          98,
          99,
          100,
          101,
          102,
          103,
          104,
          105,
          106,
          107,
          108,
          109,
          110,
          111,
          112,
          113,
          114,
          115,
          116,
          117,
          118,
          119,
          120,
          121,
          122,
          123,
          124,
          125,
          126,
          127,
          128,
          129,
          130,
          131,
          132,
          133,
          134,
          135,
          136,
          137,
          138,
          139,
          140,
          141,
          142,
          143,
          144,
          145,
          146,
          147,
          148,
          149,
          150,
          151,
          152,
          153,
          154,
          155,
          156,
          157,
          158,
          159,
          160,
          161,
          162,
          163,
          164,
          165,
          166,
          167,
          168,
          169,
          170,
          171,
          172,
          173,
          174,
          175,
          176,
          177,
          178,
          179,
          180,
          181,
          182,
          183,
          184,
          185,
          186,
          187,
          188,
          189,
          190,
          191,
          192,
          193,
          194,
          195,
          196,
          197,
          198,
          199,
          200,
          201,
          202,
          203,
          204,
          205,
          206,
          207,
          208,
          209,
          210,
          211,
          212,
          213,
          214,
          215,
          216,
          217,
          218,
          219,
          220,
          221,
          222,
          223,
          224,
          225,
          226,
          227,
          228,
          229,
          230,
          231,
          232,
          233,
          234,
          235,
          236,
          237,
          238,
          239,
          240,
          241,
          242,
          243,
          244,
          245,
          246,
          247,
          248,
          249,
          250,
          251,
          252,
          253,
          254,
          255,
          256,
          257,
          258,
          259,
          260,
          261,
          262,
          263,
          264,
          265,
          266,
          267,
          268,
          269,
          270,
          271,
          272,
          273,
          274,
          275,
          276,
          277,
          278,
          279,
          280,
          281,
          282,
          283,
          284,
          285,
          286,
          287,
          288,
          289,
          290,
          291,
          292,
          293,
          294,
          295,
          296,
          297,
          298,
          299,
          300,
          301,
          302,
          303,
          304,
          305,
          306,
          307,
          308,
          309,
          310,
          311,
          312,
          313,
          314,
          315,
          316,
          317,
          318,
          319,
          320,
          321,
          322,
          323,
          324,
          325,
          326,
          327,
          328,
          329,
          330,
          331,
          332,
          333,
          334,
          335,
          336,
          337,
          338,
          339,
          340,
          341,
          342,
          343,
          344,
          345,
          346,
          347,
          348,
          349,
          350,
          351,
          352,
          353,
          354,
          355,
          356,
          357,
          358,
          359,
          360,
          361,
          362,
          363,
          364,
          365,
          366,
          367,
          368,
          369,
          370,
          371,
          372,
          373,
          374,
          375,
          376,
          377,
          378,
          379,
          380,
          381,
          382,
          383,
          384,
          385,
          386,
          387,
          388,
          389,
          390,
          391,
          392,
          393,
          394,
          395,
          396,
          397,
          398,
          399,
          400,
          401,
          402,
          403,
          404,
          405,
          406,
          407,
          408,
          409,
          410,
          411,
          412,
          413,
          414,
          415,
          416,
          417,
          418,
          419,
          420,
          421,
          422,
          423,
          424,
          425,
          426,
          427,
          428,
          429,
          430,
          431,
          432,
          433,
          434,
          435,
          436,
          437,
          438,
          439,
          440,
          441,
          442,
          443,
          444,
          445,
          446,
          447,
          448,
          449,
          450,
          451,
          452,
          453,
          454,
          455,
          456,
          457,
          458,
          459,
          460,
          461,
          462,
          463,
          464,
          465,
          466,
          467,
          468,
          469,
          470,
          471,
          472,
          473,
          474,
          475,
          476,
          477,
          478,
          479,
          480,
          481,
          482,
          483,
          484,
          485,
          486,
          487,
          488,
          489,
          490,
          491,
          492,
          493,
          494,
          495,
          496,
          497,
          498,
          499,
          500,
          501,
          502,
          503,
          504,
          505,
          506,
          507,
          508,
          509,
          510,
          511,
          512,
          513,
          514,
          515,
          516,
          517,
          518,
          519,
          520,
          521,
          522,
          523,
          524,
          525,
          526,
          527,
          528,
          529,
          530,
          531,
          532,
          533,
          534,
          535,
          536,
          537,
          538,
          539,
          540,
          541,
          542,
          543,
          544,
          545,
          546,
          547,
          548,
          549,
          550,
          551,
          552,
          553,
          554,
          555,
          556,
          557,
          558,
          559,
          560,
          561,
          562,
          563,
          564,
          565,
          566,
          567,
          568,
          569,
          570,
          571,
          572,
          573,
          574,
          575,
          576,
          577,
          578,
          579,
          580,
          581,
          582,
          583,
          584,
          585,
          586,
          587,
          588,
          589,
          590,
          591,
          592,
          593,
          594,
          595,
          596,
          597,
          598,
          599,
          600,
          601,
          602,
          603,
          604,
          605,
          606,
          607,
          608,
          609,
          610,
          611,
          612,
          613,
          614,
          615,
          616,
          617,
          618,
          619,
          620,
          621,
          622,
          623,
          624,
          625,
          626,
          627,
          628,
          629,
          630,
          631,
          632,
          633,
          634,
          635,
          636,
          637,
          638,
          639,
          640,
          641,
          642,
          643,
          644,
          645,
          646,
          647,
          648,
          649,
          650,
          651,
          652,
          653,
          654,
          655,
          656,
          657,
          658,
          659,
          660,
          661,
          662,
          663,
          664,
          665,
          666,
          667,
          668,
          669,
          670,
          671,
          672,
          673,
          674,
          675,
          676,
          677,
          678,
          679,
          680,
          681,
          682,
          683,
          684,
          685,
          686,
          687,
          688,
          689,
          690,
          691,
          692,
          693,
          694,
          695,
          696,
          697,
          698,
          699,
          700,
          701,
          702,
          703,
          704,
          705,
          706,
          707,
          708,
          709,
          710,
          711,
          712,
          713,
          714,
          715,
          716,
          717,
          718,
          719,
          720,
          721,
          722,
          723,
          724,
          725,
          726,
          727,
          728,
          729,
          730,
          731,
          732,
          733,
          734,
          735,
          736,
          737,
          738,
          739,
          740,
          741,
          742,
          743,
          744,
          745,
          746,
          747,
          748,
          749,
          750,
          751,
          752,
          753,
          754,
          755,
          756,
          757,
          758,
          759,
          760,
          761,
          762,
          763,
          764,
          765,
          766,
          767,
          768,
          769,
          770,
          771,
          772,
          773,
          774,
          775,
          776,
          777,
          778,
          779,
          780,
          781,
          782,
          783,
          784,
          785,
          786,
          787,
          788,
          789,
          790,
          791,
          792,
          793,
          794,
          795,
          796,
          797,
          798,
          799,
          800,
          801,
          802,
          803,
          804,
          805,
          806,
          807,
          808,
          809,
          810,
          811,
          812,
          813,
          814,
          815,
          816,
          817,
          818,
          819,
          820,
          821,
          822,
          823,
          824,
          825,
          826,
          827,
          828,
          829,
          830,
          831,
          832,
          833,
          834,
          835,
          836,
          837,
          838,
          839,
          840,
          841,
          842,
          843,
          844,
          845,
          846,
          847,
          848,
          849,
          850,
          851,
          852,
          853,
          854,
          855,
          856,
          857,
          858,
          859,
          860,
          861,
          862,
          863,
          864,
          865,
          866,
          867,
          868,
          869,
          870,
          871,
          872,
          873,
          874,
          875,
          876,
          877,
          878,
          879,
          880,
          881,
          882,
          883,
          884,
          885,
          886,
          887,
          888,
          889,
          890,
          891,
          892,
          893,
          894,
          895,
          896,
          897,
          898,
          899,
          900,
          901,
          902,
          903,
          904,
          905,
          906,
          907,
          908,
          909,
          910,
          911,
          912,
          913,
          914,
          915,
          916,
          917,
          918,
          919,
          920,
          921,
          922,
          923,
          924,
          925,
          926,
          927,
          928,
          929,
          930,
          931,
          932,
          933,
          934,
          935,
          936,
          937,
          938,
          939,
          940,
          941,
          942,
          943,
          944,
          945,
          946,
          947,
          948,
          949,
          950,
          951,
          952,
          953,
          954,
          955,
          956,
          957,
          958,
          959,
          960,
          961,
          962,
          963,
          964,
          965,
          966,
          967,
          968,
          969,
          970,
          971,
          972,
          973,
          974,
          975,
          976,
          977,
          978,
          979,
          980,
          981,
          982,
          983,
          984,
          985,
          986,
          987,
          988,
          989,
          990,
          991,
          992,
          993,
          994,
          995,
          996,
          997,
          998,
          999,
          1000,
          1001,
          1002,
          1003,
          1004,
          1005,
          1006,
          1007,
          1008,
          1009,
          1010,
          1011,
          1012,
          1013,
          1014,
          1015,
          1016,
          1017,
          1018,
          1019,
          1020,
          1021,
          1022,
          1023,
          1024,
          1025,
          1026,
          1027,
          1028,
          1029,
          1030,
          1031,
          1032,
          1033,
          1034,
          1035,
          1036,
          1037,
          1038,
          1039,
          1040,
          1041,
          1042,
          1043,
          1044,
          1045,
          1046,
          1047,
          1048,
          1049,
          1050,
          1051,
          1052,
          1053,
          1054,
          1055,
          1056,
          1057,
          1058,
          1059,
          1060,
          1061,
          1062,
          1063,
          1064,
          1065,
          1066,
          1067,
          1068,
          1069,
          1070,
          1071,
          1072,
          1073,
          1074,
          1075,
          1076,
          1077,
          1078,
          1079,
          1080,
          1081,
          1082,
          1083,
          1084,
          1085,
          1086,
          1087,
          1088,
          1089,
          1090,
          1091,
          1092,
          1093,
          1094,
          1095,
          1096,
          1097,
          1098,
          1099,
          1100,
          1101,
          1102,
          1103,
          1104,
          1105,
          1106,
          1107,
          1108,
          1109,
          1110,
          1111,
          1112,
          1113,
          1114,
          1115,
          1116,
          1117,
          1118,
          1119
         ],
         "y": [
          28.643712997436523,
          28.31909942626953,
          29.70104217529297,
          64.86419677734375,
          170.32786560058594,
          43.925872802734375,
          49.82820510864258,
          27.637365341186523,
          39.95073318481445,
          37.5700569152832,
          32.18290710449219,
          27.768951416015625,
          27.862932205200195,
          29.01436424255371,
          30.4278621673584,
          29.321657180786133,
          27.33213996887207,
          25.46637725830078,
          26.86410903930664,
          24.764822006225586,
          29.722576141357422,
          25.99237060546875,
          28.72955894470215,
          26.556888580322266,
          27.824708938598633,
          26.001834869384766,
          24.944671630859375,
          24.617929458618164,
          24.903121948242188,
          23.367446899414062,
          24.871431350708008,
          24.172971725463867,
          24.36583709716797,
          24.56863784790039,
          23.970706939697266,
          25.017410278320312,
          24.518503189086914,
          24.75006103515625,
          24.965150833129883,
          24.959699630737305,
          24.507631301879883,
          24.248811721801758,
          24.437164306640625,
          24.077505111694336,
          24.18492317199707,
          24.327789306640625,
          24.11997413635254,
          24.653291702270508,
          25.117733001708984,
          24.087095260620117,
          24.103038787841797,
          23.616947174072266,
          24.254379272460938,
          24.63741111755371,
          24.20284652709961,
          25.038936614990234,
          24.799646377563477,
          24.959251403808594,
          24.35235595703125,
          24.026290893554688,
          24.182451248168945,
          24.178544998168945,
          24.33428192138672,
          24.08716583251953,
          25.117511749267578,
          24.191757202148438,
          24.186613082885742,
          24.48133087158203,
          23.874046325683594,
          24.457380294799805,
          25.12563133239746,
          25.50135040283203,
          24.864864349365234,
          23.805940628051758,
          24.363265991210938,
          24.304508209228516,
          23.867942810058594,
          24.230039596557617,
          24.474889755249023,
          24.17707633972168,
          24.53543472290039,
          24.451757431030273,
          23.437801361083984,
          25.300251007080078,
          24.894025802612305,
          25.049091339111328,
          23.21769905090332,
          35.014190673828125,
          38.65941619873047,
          32.911094665527344,
          167.54196166992188,
          44.81707763671875,
          92.76997375488281,
          27.071800231933594,
          30.075056076049805,
          25.494333267211914,
          56.04898452758789,
          34.70845413208008,
          27.81877899169922,
          27.51274871826172,
          28.03154945373535,
          28.232168197631836,
          29.909074783325195,
          26.16775894165039,
          26.779356002807617,
          24.3825740814209,
          28.950288772583008,
          33.91584014892578,
          41.77497863769531,
          30.312419891357422,
          33.74150466918945,
          32.08601379394531,
          25.376333236694336,
          31.700260162353516,
          27.805423736572266,
          25.403583526611328,
          26.26714515686035,
          28.235103607177734,
          28.802356719970703,
          28.051965713500977,
          26.906482696533203,
          30.66225814819336,
          30.28424835205078,
          30.486860275268555,
          27.69280242919922,
          25.3906307220459,
          27.107868194580078,
          27.158641815185547,
          27.948339462280273,
          27.7923526763916,
          28.263507843017578,
          27.276063919067383,
          27.32813262939453,
          28.22523307800293,
          32.82926940917969,
          26.426029205322266,
          29.324054718017578,
          27.707651138305664,
          26.37928009033203,
          27.342836380004883,
          26.599699020385742,
          27.212295532226562,
          27.330286026000977,
          27.882177352905273,
          35.32933807373047,
          35.257057189941406,
          26.244991302490234,
          26.91863441467285,
          28.072547912597656,
          282.7269287109375,
          30.489255905151367,
          24.48891258239746,
          29.398773193359375,
          33.18044662475586,
          27.2970027923584,
          25.579378128051758,
          121.69987487792969,
          72.75650787353516,
          38.31968688964844,
          37.47883605957031,
          35.46986389160156,
          26.214113235473633,
          29.24955177307129,
          32.31983947753906,
          27.14011573791504,
          26.50542640686035,
          31.998563766479492,
          51.69488525390625,
          76.02128601074219,
          26.375682830810547,
          27.533695220947266,
          35.83318328857422,
          31.548067092895508,
          28.595813751220703,
          27.832063674926758,
          27.7608699798584,
          25.43080711364746,
          26.720693588256836,
          28.78854751586914,
          28.99947738647461,
          85.97669219970703,
          29.496639251708984,
          28.41516876220703,
          37.77117156982422,
          44.49266052246094,
          30.7291259765625,
          28.59242820739746,
          27.71270751953125,
          26.64080047607422,
          26.188926696777344,
          27.793731689453125,
          28.300617218017578,
          84.99607849121094,
          31.806936264038086,
          30.248620986938477,
          32.43382263183594,
          352.6291809082031,
          30.57063102722168,
          22.793987274169922,
          29.15770149230957,
          32.37520980834961,
          26.591503143310547,
          27.18500328063965,
          32.39525604248047,
          29.198688507080078,
          23.858890533447266,
          28.68673324584961,
          30.14984703063965,
          25.346683502197266,
          24.529041290283203,
          21.91859245300293,
          26.536767959594727,
          26.912633895874023,
          27.01668930053711,
          27.268993377685547,
          26.644527435302734,
          24.681753158569336,
          23.71373176574707,
          24.72178077697754,
          24.15866470336914,
          24.12220001220703,
          24.554048538208008,
          24.87134552001953,
          23.696815490722656,
          23.959911346435547,
          23.37374496459961,
          24.45113754272461,
          23.975635528564453,
          24.5059757232666,
          25.38711166381836,
          23.896150588989258,
          23.817411422729492,
          24.28596305847168,
          23.874174118041992,
          23.814716339111328,
          23.915443420410156,
          24.351436614990234,
          24.075878143310547,
          24.221405029296875,
          24.17073631286621,
          23.937501907348633,
          23.541601181030273,
          23.489120483398438,
          24.087158203125,
          24.250328063964844,
          24.527523040771484,
          24.323387145996094,
          24.412872314453125,
          23.357925415039062,
          23.727388381958008,
          24.006107330322266,
          23.779605865478516,
          24.2404842376709,
          23.845064163208008,
          24.09824562072754,
          23.57204246520996,
          24.3861083984375,
          24.555749893188477,
          25.286109924316406,
          24.196561813354492,
          23.796546936035156,
          24.223236083984375,
          23.96466636657715,
          23.786558151245117,
          24.49305534362793,
          23.718215942382812,
          23.981664657592773,
          23.921875,
          23.920074462890625,
          24.409807205200195,
          24.268680572509766,
          24.404016494750977,
          24.821014404296875,
          23.965539932250977,
          23.93047332763672,
          24.21854019165039,
          23.949398040771484,
          24.082061767578125,
          35.886932373046875,
          40.93259811401367,
          31.57529640197754,
          23.17049217224121,
          24.925222396850586,
          24.414196014404297,
          23.100902557373047,
          24.16649055480957,
          25.207088470458984,
          24.89565086364746,
          162.78810119628906,
          28.44261932373047,
          24.68430519104004,
          30.494617462158203,
          28.85179328918457,
          22.60125732421875,
          25.136838912963867,
          23.971973419189453,
          24.712852478027344,
          24.753889083862305,
          26.538490295410156,
          27.888904571533203,
          26.96107292175293,
          286.38458251953125,
          19.933866500854492,
          38.79988479614258,
          44.268741607666016,
          33.53181457519531,
          24.977331161499023,
          29.005638122558594,
          26.23621940612793,
          25.5458927154541,
          25.591224670410156,
          233.9651641845703,
          26.99981117248535,
          25.970094680786133,
          26.59149169921875,
          418.9839782714844,
          34.0747184753418,
          22.71879768371582,
          36.101375579833984,
          32.127479553222656,
          30.763240814208984,
          27.186765670776367,
          28.94305419921875,
          28.01481819152832,
          23.22899055480957,
          29.7758731842041,
          32.46091842651367,
          24.239646911621094,
          27.596851348876953,
          25.289766311645508,
          25.969024658203125,
          26.10287094116211,
          26.676372528076172,
          27.047697067260742,
          26.230300903320312,
          56.07615661621094,
          43.44261932373047,
          33.04018783569336,
          26.43844223022461,
          28.831689834594727,
          26.153684616088867,
          25.389467239379883,
          24.659212112426758,
          23.674243927001953,
          24.778104782104492,
          25.658580780029297,
          296.7209777832031,
          21.039865493774414,
          27.851430892944336,
          173.500732421875,
          48.48719024658203,
          31.642595291137695,
          28.347883224487305,
          27.82362937927246,
          24.624984741210938,
          24.40959358215332,
          25.913179397583008,
          27.32297134399414,
          26.738473892211914,
          24.77048110961914,
          67.49803161621094,
          33.7723388671875,
          24.63046646118164,
          36.22159194946289,
          110.15357971191406,
          133.40953063964844,
          26.69941520690918,
          23.488615036010742,
          32.29990005493164,
          29.857446670532227,
          28.04361915588379,
          25.723358154296875,
          29.287248611450195,
          28.075876235961914,
          31.023862838745117,
          33.555259704589844,
          28.9852294921875,
          26.603757858276367,
          29.358684539794922,
          27.627147674560547,
          26.971223831176758,
          25.416770935058594,
          26.769420623779297,
          26.278949737548828,
          26.326522827148438,
          25.060102462768555,
          25.27337646484375,
          45.346168518066406,
          55.19981384277344,
          188.04856872558594,
          48.74348068237305,
          81.46210479736328,
          71.91981506347656,
          30.159025192260742,
          22.66461181640625,
          36.63399124145508,
          36.93870162963867,
          36.0454216003418,
          35.879947662353516,
          25.334272384643555,
          24.470661163330078,
          25.396503448486328,
          21.71578025817871,
          20.902132034301758,
          24.583885192871094,
          58.384403228759766,
          26.075439453125,
          35.611976623535156,
          22.71247100830078,
          29.52870750427246,
          37.557125091552734,
          34.74618148803711,
          28.46181869506836,
          28.838003158569336,
          30.498260498046875,
          26.810434341430664,
          29.10721778869629,
          27.05398941040039,
          31.28277587890625,
          27.444570541381836,
          31.229915618896484,
          35.09352111816406,
          31.87177848815918,
          26.867456436157227,
          32.34406661987305,
          350.6445617675781,
          24.970937728881836,
          25.29389762878418,
          32.80523681640625,
          36.65790557861328,
          30.289060592651367,
          26.117399215698242,
          30.612327575683594,
          32.999267578125,
          28.917112350463867,
          27.827661514282227,
          27.816600799560547,
          25.011375427246094,
          24.26213264465332,
          22.834453582763672,
          24.65358543395996,
          25.5609130859375,
          25.435016632080078,
          27.109128952026367,
          27.23307991027832,
          225.2950897216797,
          19.176803588867188,
          29.176944732666016,
          25.43715476989746,
          28.159276962280273,
          22.5947265625,
          25.842798233032227,
          23.614482879638672,
          23.07049560546875,
          22.926258087158203,
          26.627534866333008,
          27.619144439697266,
          27.59153175354004,
          24.356191635131836,
          267.8111877441406,
          26.84273910522461,
          29.680702209472656,
          29.06455421447754,
          38.96806716918945,
          28.2489070892334,
          28.116737365722656,
          27.28297233581543,
          28.65608024597168,
          29.209535598754883,
          38.30607223510742,
          52.8119010925293,
          31.65091323852539,
          26.701875686645508,
          28.185453414916992,
          30.389633178710938,
          30.893932342529297,
          26.714975357055664,
          26.139366149902344,
          25.40204620361328,
          26.456296920776367,
          50.667903900146484,
          34.57426452636719,
          26.6560001373291,
          32.42692947387695,
          28.412750244140625,
          283.89300537109375,
          38.2753791809082,
          24.044633865356445,
          28.544919967651367,
          29.091989517211914,
          24.24367904663086,
          26.363405227661133,
          28.82817268371582,
          30.313907623291016,
          30.629173278808594,
          29.42833137512207,
          29.572654724121094,
          25.804691314697266,
          26.953563690185547,
          23.56541633605957,
          31.684001922607422,
          28.21087074279785,
          30.156341552734375,
          29.608186721801758,
          28.18108367919922,
          26.075279235839844,
          25.30449676513672,
          29.37947654724121,
          25.11968994140625,
          27.926660537719727,
          33.596046447753906,
          26.59690284729004,
          29.156930923461914,
          26.127443313598633,
          24.421432495117188,
          24.98455810546875,
          26.25704574584961,
          26.832883834838867,
          24.544158935546875,
          36.62311553955078,
          36.54531478881836,
          31.026601791381836,
          26.673105239868164,
          28.317501068115234,
          25.656265258789062,
          24.35972023010254,
          25.53775978088379,
          23.52532386779785,
          25.79148292541504,
          27.55338478088379,
          27.309627532958984,
          26.0170841217041,
          25.415802001953125,
          23.95673942565918,
          25.444849014282227,
          26.5187931060791,
          24.949338912963867,
          24.950576782226562,
          25.44171714782715,
          24.954315185546875,
          24.032291412353516,
          24.153963088989258,
          25.67938804626465,
          26.49677848815918,
          24.851621627807617,
          24.622173309326172,
          24.547651290893555,
          24.3024845123291,
          23.623455047607422,
          25.754661560058594,
          25.935344696044922,
          24.485719680786133,
          25.26868438720703,
          24.64669418334961,
          23.954151153564453,
          23.644268035888672,
          25.627899169921875,
          26.08390235900879,
          24.38872528076172,
          24.72572898864746,
          24.873119354248047,
          24.061819076538086,
          23.64240074157715,
          25.241945266723633,
          25.757160186767578,
          26.05849266052246,
          24.946678161621094,
          24.791898727416992,
          24.894716262817383,
          23.182743072509766,
          24.339550018310547,
          26.257104873657227,
          26.14433479309082,
          24.528139114379883,
          25.06675148010254,
          24.861146926879883,
          23.63409996032715,
          24.41109848022461,
          25.724822998046875,
          25.687549591064453,
          24.552738189697266,
          24.806501388549805,
          25.277341842651367,
          24.341310501098633,
          22.84788703918457,
          25.618091583251953,
          26.53662872314453,
          25.51052474975586,
          24.99491310119629,
          25.00232696533203,
          24.722610473632812,
          22.539703369140625,
          28.570453643798828,
          26.274526596069336,
          25.918764114379883,
          25.130342483520508,
          25.006723403930664,
          25.093568801879883,
          23.90702247619629,
          23.870845794677734,
          27.73392677307129,
          35.25533676147461,
          30.572063446044922,
          24.849849700927734,
          24.383447647094727,
          288.1509094238281,
          27.15754508972168,
          22.883052825927734,
          28.367210388183594,
          27.99992561340332,
          28.422651290893555,
          25.937631607055664,
          26.882091522216797,
          30.62001609802246,
          29.31494903564453,
          29.347476959228516,
          31.610017776489258,
          26.154272079467773,
          24.769285202026367,
          23.260732650756836,
          28.150148391723633,
          27.907634735107422,
          26.18474578857422,
          27.056612014770508,
          92.79815673828125,
          30.552997589111328,
          30.912979125976562,
          27.03729248046875,
          28.626848220825195,
          24.37734031677246,
          25.979982376098633,
          25.051767349243164,
          24.76152801513672,
          23.678043365478516,
          27.441957473754883,
          28.836427688598633,
          28.53701400756836,
          24.85804557800293,
          32.00874328613281,
          24.157115936279297,
          27.844770431518555,
          26.324007034301758,
          25.24494171142578,
          25.488603591918945,
          25.80121421813965,
          25.951946258544922,
          25.986892700195312,
          25.743328094482422,
          86.33695983886719,
          35.25181198120117,
          28.721830368041992,
          24.74043083190918,
          338.500244140625,
          35.26874542236328,
          23.621036529541016,
          28.343809127807617,
          30.135419845581055,
          27.379802703857422,
          25.804615020751953,
          29.694684982299805,
          131.78245544433594,
          31.557504653930664,
          52.654571533203125,
          39.91065216064453,
          27.426088333129883,
          32.3728141784668,
          35.46226119995117,
          27.87135124206543,
          25.26955795288086,
          26.252086639404297,
          29.427776336669922,
          30.973560333251953,
          45.986080169677734,
          29.785036087036133,
          27.648401260375977,
          26.04583168029785,
          42.110870361328125,
          36.5729866027832,
          47.35839080810547,
          36.339290618896484,
          29.640233993530273,
          26.140819549560547,
          29.272260665893555,
          27.331924438476562,
          27.67140769958496,
          26.423202514648438,
          37.00241470336914,
          30.13247299194336,
          31.212936401367188,
          30.17157745361328,
          27.96881675720215,
          25.804712295532227,
          27.94036102294922,
          26.623044967651367,
          25.33470344543457,
          25.75555992126465,
          64.3833236694336,
          35.51023483276367,
          27.30447006225586,
          340.6981201171875,
          22.884681701660156,
          40.778385162353516,
          31.56072998046875,
          31.629064559936523,
          22.039382934570312,
          30.360694885253906,
          29.654582977294922,
          29.72014045715332,
          46.328304290771484,
          40.466190338134766,
          27.99483871459961,
          34.39146041870117,
          32.31816101074219,
          29.416933059692383,
          26.689090728759766,
          30.153287887573242,
          27.139333724975586,
          28.844308853149414,
          27.688039779663086,
          29.93313980102539,
          26.676794052124023,
          25.475324630737305,
          51.122867584228516,
          38.85734558105469,
          29.631166458129883,
          26.978271484375,
          32.64857864379883,
          80.5865707397461,
          170.5938720703125,
          27.385875701904297,
          29.156421661376953,
          33.61864471435547,
          226.77313232421875,
          35.85201644897461,
          27.996395111083984,
          40.01327133178711,
          59.44339370727539,
          39.79732131958008,
          31.572376251220703,
          28.911041259765625,
          26.78994369506836,
          26.984861373901367,
          29.790111541748047,
          37.28883743286133,
          32.03547286987305,
          31.570781707763672,
          35.00538635253906,
          30.282390594482422,
          27.641908645629883,
          27.301109313964844,
          31.77989959716797,
          26.806812286376953,
          28.899555206298828,
          27.95777702331543,
          37.69959259033203,
          37.79331588745117,
          84.04033660888672,
          36.49011993408203,
          30.95124626159668,
          29.45557403564453,
          30.09186363220215,
          26.127410888671875,
          27.305233001708984,
          26.756696701049805,
          27.173946380615234,
          27.87124252319336,
          86.69451141357422,
          33.010189056396484,
          28.297822952270508,
          27.23300552368164,
          31.841434478759766,
          26.771724700927734,
          27.3096923828125,
          28.9068660736084,
          30.571762084960938,
          28.393259048461914,
          28.47832489013672,
          28.747303009033203,
          28.32549476623535,
          26.092376708984375,
          427.4661560058594,
          27.11957359313965,
          27.53605842590332,
          38.16844940185547,
          30.89788055419922,
          23.652896881103516,
          27.474369049072266,
          27.61581802368164,
          26.52020263671875,
          25.970298767089844,
          33.51013946533203,
          28.57522201538086,
          27.097929000854492,
          23.28411293029785,
          29.809450149536133,
          27.73264503479004,
          27.050962448120117,
          28.78720474243164,
          31.29530143737793,
          25.280561447143555,
          28.645925521850586,
          28.70028305053711,
          27.032543182373047,
          27.25636863708496,
          87.31672668457031,
          35.18033218383789,
          28.630496978759766,
          29.577030181884766,
          32.74608612060547,
          29.83634376525879,
          27.84003448486328,
          26.703258514404297,
          27.008403778076172,
          26.292163848876953,
          28.157629013061523,
          28.560508728027344,
          107.60711669921875,
          29.406885147094727,
          29.23116683959961,
          29.34207534790039,
          30.074678421020508,
          26.009445190429688,
          29.086017608642578,
          26.457134246826172,
          26.337501525878906,
          26.7559871673584,
          28.804443359375,
          29.77678680419922,
          260.5137939453125,
          61.5584602355957,
          30.65297508239746,
          45.00693130493164,
          35.46604919433594,
          143.0364532470703,
          47.13440704345703,
          45.795352935791016,
          36.16111373901367,
          39.93885803222656,
          32.012813568115234,
          25.50257110595703,
          24.040273666381836,
          31.859251022338867,
          21.664133071899414,
          33.3786506652832,
          35.30887985229492,
          32.4000129699707,
          28.830724716186523,
          25.79016876220703,
          24.308622360229492,
          32.3698844909668,
          29.84111213684082,
          33.557289123535156,
          28.871673583984375,
          190.20989990234375,
          25.184635162353516,
          39.79930877685547,
          38.9327392578125,
          32.81767272949219,
          26.84980010986328,
          26.98287010192871,
          26.706071853637695,
          29.158889770507812,
          28.56983757019043,
          30.64996910095215,
          166.35841369628906,
          26.505836486816406,
          27.562862396240234,
          33.7789306640625,
          34.54026794433594,
          28.072572708129883,
          30.232540130615234,
          26.599491119384766,
          26.361186981201172,
          29.09425926208496,
          320.39434814453125,
          25.145273208618164,
          28.28740119934082,
          33.047706604003906,
          37.2369499206543,
          27.400123596191406,
          27.329103469848633,
          29.158283233642578,
          28.418649673461914,
          22.751047134399414,
          27.767858505249023,
          29.037738800048828,
          26.862655639648438,
          25.408472061157227,
          26.413738250732422,
          22.282968521118164,
          26.619884490966797,
          27.692922592163086,
          29.08346939086914,
          27.419462203979492,
          26.70939064025879,
          22.177949905395508,
          25.231407165527344,
          25.70511817932129,
          25.501535415649414,
          26.290727615356445,
          26.097265243530273,
          22.600967407226562,
          24.527725219726562,
          26.032798767089844,
          25.718454360961914,
          25.370330810546875,
          27.408498764038086,
          25.09566879272461,
          21.891374588012695,
          26.07992172241211,
          25.517120361328125,
          25.567642211914062,
          26.6915225982666,
          26.18259048461914,
          21.445241928100586,
          25.742198944091797,
          25.735862731933594,
          25.57445526123047,
          24.746658325195312,
          26.271535873413086,
          23.293825149536133,
          23.915189743041992,
          26.287139892578125,
          25.862272262573242,
          24.272716522216797,
          27.209604263305664,
          25.296669006347656,
          24.272790908813477,
          39.30533218383789,
          31.546581268310547,
          24.93096160888672,
          25.662227630615234,
          28.21497344970703,
          23.2802791595459,
          22.85445213317871,
          25.6948184967041,
          117.05318450927734,
          30.890533447265625,
          27.16366958618164,
          31.83615493774414,
          27.60427474975586,
          24.555591583251953,
          27.490978240966797,
          23.634475708007812,
          26.943986892700195,
          24.209110260009766,
          23.26797866821289,
          28.082422256469727,
          28.03164291381836,
          24.450557708740234,
          32.512516021728516,
          31.787227630615234,
          35.67318344116211,
          28.021316528320312,
          26.424015045166016,
          27.986793518066406,
          24.393190383911133,
          23.010883331298828,
          23.90277099609375,
          25.550527572631836,
          32.1223258972168,
          44.23533630371094,
          32.94475555419922,
          24.49071502685547,
          26.674482345581055,
          28.128873825073242,
          26.77569580078125,
          27.28862953186035,
          25.783613204956055,
          22.882034301757812,
          28.194438934326172,
          28.745424270629883,
          28.831159591674805,
          27.793529510498047,
          22.52774429321289,
          27.3756160736084,
          28.782466888427734,
          31.275409698486328,
          28.82151985168457,
          24.864778518676758,
          24.690160751342773,
          27.143495559692383,
          27.34231185913086,
          27.3501033782959,
          81.95616149902344,
          34.69255065917969,
          25.858089447021484,
          25.864459991455078,
          349.8625183105469,
          28.030803680419922,
          23.947338104248047,
          26.482999801635742,
          28.359338760375977,
          27.82320213317871,
          26.372013092041016,
          29.662782669067383,
          170.5479278564453,
          65.093994140625,
          36.37445831298828,
          38.01795959472656,
          28.756736755371094,
          26.50104522705078,
          42.076072692871094,
          23.286741256713867,
          24.435474395751953,
          22.359825134277344,
          45.61258316040039,
          24.841543197631836,
          22.949481964111328,
          25.45619010925293,
          26.394338607788086,
          36.44049835205078,
          30.053001403808594,
          424.4423828125,
          64.64299011230469,
          29.10282325744629,
          30.678239822387695,
          34.05060958862305,
          27.40531349182129,
          27.004470825195312,
          29.275299072265625,
          247.15411376953125,
          31.45178985595703,
          44.2518424987793,
          39.67428970336914,
          28.099567413330078,
          27.28639030456543,
          35.520084381103516,
          27.29099464416504,
          28.144968032836914,
          28.150671005249023,
          34.4765625,
          56.24127960205078,
          27.39169692993164,
          23.8250789642334,
          32.6537971496582,
          31.1331729888916,
          27.7789249420166,
          26.954708099365234,
          26.414445877075195,
          25.455089569091797,
          27.223716735839844,
          39.89735794067383,
          43.42561340332031,
          33.809017181396484,
          31.770065307617188,
          36.70515441894531,
          28.872663497924805,
          34.673954010009766,
          35.387481689453125,
          34.546688079833984,
          33.93495559692383,
          38.61202621459961,
          36.08654022216797,
          32.66853713989258,
          32.75870132446289,
          32.74458694458008,
          34.50614547729492,
          73.63565063476562,
          85.22198486328125,
          128.00018310546875,
          45.18604278564453,
          32.344757080078125,
          34.30208969116211,
          36.513145446777344,
          32.45127868652344,
          29.358890533447266,
          30.831689834594727,
          38.0734748840332,
          42.10788345336914,
          37.630104064941406,
          227.94607543945312,
          42.6068229675293,
          32.70919418334961,
          32.084022521972656,
          66.52117156982422,
          32.00166702270508,
          28.825626373291016,
          27.03605842590332,
          32.60915756225586,
          29.222827911376953,
          98.57420349121094,
          36.20579528808594,
          27.19498634338379,
          101.79597473144531,
          29.73674964904785,
          21.557554244995117,
          38.31535339355469,
          46.37516784667969,
          27.29172706604004,
          31.606094360351562,
          35.85658264160156,
          34.424190521240234,
          34.58985900878906,
          40.85134506225586,
          37.106319427490234,
          28.57386589050293,
          25.29001235961914,
          30.82134437561035,
          33.59432601928711,
          19.64398193359375,
          33.95100784301758,
          34.25737380981445,
          18.366437911987305,
          91.66007232666016,
          39.4576530456543,
          30.662527084350586,
          27.2081356048584,
          343.54193115234375,
          37.2529296875,
          24.6385555267334,
          34.00129318237305,
          31.39866828918457,
          21.754751205444336,
          29.162811279296875,
          29.49039649963379,
          34.453330993652344,
          37.6502571105957,
          38.18282699584961,
          39.492191314697266
         ]
        },
        {
         "mode": "lines+markers",
         "name": "Actual Values",
         "type": "scatter",
         "x": [
          0,
          1,
          2,
          3,
          4,
          5,
          6,
          7,
          8,
          9,
          10,
          11,
          12,
          13,
          14,
          15,
          16,
          17,
          18,
          19,
          20,
          21,
          22,
          23,
          24,
          25,
          26,
          27,
          28,
          29,
          30,
          31,
          32,
          33,
          34,
          35,
          36,
          37,
          38,
          39,
          40,
          41,
          42,
          43,
          44,
          45,
          46,
          47,
          48,
          49,
          50,
          51,
          52,
          53,
          54,
          55,
          56,
          57,
          58,
          59,
          60,
          61,
          62,
          63,
          64,
          65,
          66,
          67,
          68,
          69,
          70,
          71,
          72,
          73,
          74,
          75,
          76,
          77,
          78,
          79,
          80,
          81,
          82,
          83,
          84,
          85,
          86,
          87,
          88,
          89,
          90,
          91,
          92,
          93,
          94,
          95,
          96,
          97,
          98,
          99,
          100,
          101,
          102,
          103,
          104,
          105,
          106,
          107,
          108,
          109,
          110,
          111,
          112,
          113,
          114,
          115,
          116,
          117,
          118,
          119,
          120,
          121,
          122,
          123,
          124,
          125,
          126,
          127,
          128,
          129,
          130,
          131,
          132,
          133,
          134,
          135,
          136,
          137,
          138,
          139,
          140,
          141,
          142,
          143,
          144,
          145,
          146,
          147,
          148,
          149,
          150,
          151,
          152,
          153,
          154,
          155,
          156,
          157,
          158,
          159,
          160,
          161,
          162,
          163,
          164,
          165,
          166,
          167,
          168,
          169,
          170,
          171,
          172,
          173,
          174,
          175,
          176,
          177,
          178,
          179,
          180,
          181,
          182,
          183,
          184,
          185,
          186,
          187,
          188,
          189,
          190,
          191,
          192,
          193,
          194,
          195,
          196,
          197,
          198,
          199,
          200,
          201,
          202,
          203,
          204,
          205,
          206,
          207,
          208,
          209,
          210,
          211,
          212,
          213,
          214,
          215,
          216,
          217,
          218,
          219,
          220,
          221,
          222,
          223,
          224,
          225,
          226,
          227,
          228,
          229,
          230,
          231,
          232,
          233,
          234,
          235,
          236,
          237,
          238,
          239,
          240,
          241,
          242,
          243,
          244,
          245,
          246,
          247,
          248,
          249,
          250,
          251,
          252,
          253,
          254,
          255,
          256,
          257,
          258,
          259,
          260,
          261,
          262,
          263,
          264,
          265,
          266,
          267,
          268,
          269,
          270,
          271,
          272,
          273,
          274,
          275,
          276,
          277,
          278,
          279,
          280,
          281,
          282,
          283,
          284,
          285,
          286,
          287,
          288,
          289,
          290,
          291,
          292,
          293,
          294,
          295,
          296,
          297,
          298,
          299,
          300,
          301,
          302,
          303,
          304,
          305,
          306,
          307,
          308,
          309,
          310,
          311,
          312,
          313,
          314,
          315,
          316,
          317,
          318,
          319,
          320,
          321,
          322,
          323,
          324,
          325,
          326,
          327,
          328,
          329,
          330,
          331,
          332,
          333,
          334,
          335,
          336,
          337,
          338,
          339,
          340,
          341,
          342,
          343,
          344,
          345,
          346,
          347,
          348,
          349,
          350,
          351,
          352,
          353,
          354,
          355,
          356,
          357,
          358,
          359,
          360,
          361,
          362,
          363,
          364,
          365,
          366,
          367,
          368,
          369,
          370,
          371,
          372,
          373,
          374,
          375,
          376,
          377,
          378,
          379,
          380,
          381,
          382,
          383,
          384,
          385,
          386,
          387,
          388,
          389,
          390,
          391,
          392,
          393,
          394,
          395,
          396,
          397,
          398,
          399,
          400,
          401,
          402,
          403,
          404,
          405,
          406,
          407,
          408,
          409,
          410,
          411,
          412,
          413,
          414,
          415,
          416,
          417,
          418,
          419,
          420,
          421,
          422,
          423,
          424,
          425,
          426,
          427,
          428,
          429,
          430,
          431,
          432,
          433,
          434,
          435,
          436,
          437,
          438,
          439,
          440,
          441,
          442,
          443,
          444,
          445,
          446,
          447,
          448,
          449,
          450,
          451,
          452,
          453,
          454,
          455,
          456,
          457,
          458,
          459,
          460,
          461,
          462,
          463,
          464,
          465,
          466,
          467,
          468,
          469,
          470,
          471,
          472,
          473,
          474,
          475,
          476,
          477,
          478,
          479,
          480,
          481,
          482,
          483,
          484,
          485,
          486,
          487,
          488,
          489,
          490,
          491,
          492,
          493,
          494,
          495,
          496,
          497,
          498,
          499,
          500,
          501,
          502,
          503,
          504,
          505,
          506,
          507,
          508,
          509,
          510,
          511,
          512,
          513,
          514,
          515,
          516,
          517,
          518,
          519,
          520,
          521,
          522,
          523,
          524,
          525,
          526,
          527,
          528,
          529,
          530,
          531,
          532,
          533,
          534,
          535,
          536,
          537,
          538,
          539,
          540,
          541,
          542,
          543,
          544,
          545,
          546,
          547,
          548,
          549,
          550,
          551,
          552,
          553,
          554,
          555,
          556,
          557,
          558,
          559,
          560,
          561,
          562,
          563,
          564,
          565,
          566,
          567,
          568,
          569,
          570,
          571,
          572,
          573,
          574,
          575,
          576,
          577,
          578,
          579,
          580,
          581,
          582,
          583,
          584,
          585,
          586,
          587,
          588,
          589,
          590,
          591,
          592,
          593,
          594,
          595,
          596,
          597,
          598,
          599,
          600,
          601,
          602,
          603,
          604,
          605,
          606,
          607,
          608,
          609,
          610,
          611,
          612,
          613,
          614,
          615,
          616,
          617,
          618,
          619,
          620,
          621,
          622,
          623,
          624,
          625,
          626,
          627,
          628,
          629,
          630,
          631,
          632,
          633,
          634,
          635,
          636,
          637,
          638,
          639,
          640,
          641,
          642,
          643,
          644,
          645,
          646,
          647,
          648,
          649,
          650,
          651,
          652,
          653,
          654,
          655,
          656,
          657,
          658,
          659,
          660,
          661,
          662,
          663,
          664,
          665,
          666,
          667,
          668,
          669,
          670,
          671,
          672,
          673,
          674,
          675,
          676,
          677,
          678,
          679,
          680,
          681,
          682,
          683,
          684,
          685,
          686,
          687,
          688,
          689,
          690,
          691,
          692,
          693,
          694,
          695,
          696,
          697,
          698,
          699,
          700,
          701,
          702,
          703,
          704,
          705,
          706,
          707,
          708,
          709,
          710,
          711,
          712,
          713,
          714,
          715,
          716,
          717,
          718,
          719,
          720,
          721,
          722,
          723,
          724,
          725,
          726,
          727,
          728,
          729,
          730,
          731,
          732,
          733,
          734,
          735,
          736,
          737,
          738,
          739,
          740,
          741,
          742,
          743,
          744,
          745,
          746,
          747,
          748,
          749,
          750,
          751,
          752,
          753,
          754,
          755,
          756,
          757,
          758,
          759,
          760,
          761,
          762,
          763,
          764,
          765,
          766,
          767,
          768,
          769,
          770,
          771,
          772,
          773,
          774,
          775,
          776,
          777,
          778,
          779,
          780,
          781,
          782,
          783,
          784,
          785,
          786,
          787,
          788,
          789,
          790,
          791,
          792,
          793,
          794,
          795,
          796,
          797,
          798,
          799,
          800,
          801,
          802,
          803,
          804,
          805,
          806,
          807,
          808,
          809,
          810,
          811,
          812,
          813,
          814,
          815,
          816,
          817,
          818,
          819,
          820,
          821,
          822,
          823,
          824,
          825,
          826,
          827,
          828,
          829,
          830,
          831,
          832,
          833,
          834,
          835,
          836,
          837,
          838,
          839,
          840,
          841,
          842,
          843,
          844,
          845,
          846,
          847,
          848,
          849,
          850,
          851,
          852,
          853,
          854,
          855,
          856,
          857,
          858,
          859,
          860,
          861,
          862,
          863,
          864,
          865,
          866,
          867,
          868,
          869,
          870,
          871,
          872,
          873,
          874,
          875,
          876,
          877,
          878,
          879,
          880,
          881,
          882,
          883,
          884,
          885,
          886,
          887,
          888,
          889,
          890,
          891,
          892,
          893,
          894,
          895,
          896,
          897,
          898,
          899,
          900,
          901,
          902,
          903,
          904,
          905,
          906,
          907,
          908,
          909,
          910,
          911,
          912,
          913,
          914,
          915,
          916,
          917,
          918,
          919,
          920,
          921,
          922,
          923,
          924,
          925,
          926,
          927,
          928,
          929,
          930,
          931,
          932,
          933,
          934,
          935,
          936,
          937,
          938,
          939,
          940,
          941,
          942,
          943,
          944,
          945,
          946,
          947,
          948,
          949,
          950,
          951,
          952,
          953,
          954,
          955,
          956,
          957,
          958,
          959,
          960,
          961,
          962,
          963,
          964,
          965,
          966,
          967,
          968,
          969,
          970,
          971,
          972,
          973,
          974,
          975,
          976,
          977,
          978,
          979,
          980,
          981,
          982,
          983,
          984,
          985,
          986,
          987,
          988,
          989,
          990,
          991,
          992,
          993,
          994,
          995,
          996,
          997,
          998,
          999,
          1000,
          1001,
          1002,
          1003,
          1004,
          1005,
          1006,
          1007,
          1008,
          1009,
          1010,
          1011,
          1012,
          1013,
          1014,
          1015,
          1016,
          1017,
          1018,
          1019,
          1020,
          1021,
          1022,
          1023,
          1024,
          1025,
          1026,
          1027,
          1028,
          1029,
          1030,
          1031,
          1032,
          1033,
          1034,
          1035,
          1036,
          1037,
          1038,
          1039,
          1040,
          1041,
          1042,
          1043,
          1044,
          1045,
          1046,
          1047,
          1048,
          1049,
          1050,
          1051,
          1052,
          1053,
          1054,
          1055,
          1056,
          1057,
          1058,
          1059,
          1060,
          1061,
          1062,
          1063,
          1064,
          1065,
          1066,
          1067,
          1068,
          1069,
          1070,
          1071,
          1072,
          1073,
          1074,
          1075,
          1076,
          1077,
          1078,
          1079,
          1080,
          1081,
          1082,
          1083,
          1084,
          1085,
          1086,
          1087,
          1088,
          1089,
          1090,
          1091,
          1092,
          1093,
          1094,
          1095,
          1096,
          1097,
          1098,
          1099,
          1100,
          1101,
          1102,
          1103,
          1104,
          1105,
          1106,
          1107,
          1108,
          1109,
          1110,
          1111,
          1112,
          1113,
          1114,
          1115,
          1116,
          1117,
          1118,
          1119
         ],
         "y": [
          30.400976953835634,
          37.11274340223034,
          144.5358650343995,
          296.1363368313067,
          251.99285204855735,
          400.3218694656876,
          43.98348369406646,
          52.74697588692848,
          48.12925316190954,
          32.65693403884897,
          25.749363485286622,
          26.94769115092825,
          33.85074127742723,
          31.54035401913679,
          21.35774306205772,
          21.623162638893646,
          23.197089877661355,
          23.32521350283795,
          22.715589259884116,
          22.54686136239393,
          28.654759901172493,
          28.47679209506727,
          28.00588905606313,
          26.322843203099346,
          22.984674021213902,
          22.593891388049496,
          22.27476237160686,
          20.180839611675562,
          24.350247157038773,
          21.484028487904233,
          22.589707080174552,
          22.80656778841434,
          23.524906640149243,
          27.043770527122632,
          26.181241515283965,
          27.59082573700713,
          27.213339517094703,
          25.73134902671634,
          22.9819937140862,
          22.162292585337017,
          22.456576304364024,
          21.436408567633414,
          21.97062633797424,
          22.12264493207233,
          22.150249230659703,
          23.72898104983777,
          23.11455313843749,
          20.18943803605471,
          21.321771473328575,
          21.945260949402265,
          25.36856803551507,
          26.438811988373843,
          26.124410503749864,
          28.13626316969203,
          26.421577883420884,
          25.408701178345723,
          22.56305699951251,
          22.418485038419423,
          22.911428453795427,
          22.78243892317583,
          22.79595250037386,
          22.50052170607456,
          24.19833328292129,
          21.071824487793542,
          22.449816345296306,
          23.760540617624603,
          24.00708398237539,
          27.184258880357273,
          28.98253538448796,
          27.78150983947378,
          23.024550885442615,
          20.403186414639716,
          22.305631210181144,
          22.010558985571592,
          21.700252123862224,
          22.703366555042457,
          22.730923380699082,
          21.864827813132337,
          22.842119168056534,
          23.099349035579287,
          23.874112527797394,
          30.49875411852957,
          28.414298588154818,
          28.072895790507463,
          25.616062167916116,
          54.21121499827955,
          73.03219909972023,
          74.78403508615841,
          30.1087029268293,
          271.42639823652695,
          192.98440445947261,
          396.1761806002968,
          23.694439484147015,
          24.67934307464798,
          24.491645981046222,
          145.08200137646696,
          21.670545776846414,
          21.310130635118966,
          20.46464642671316,
          23.966462371253865,
          27.53490754376017,
          29.194313213160427,
          27.66880035150184,
          26.36966065822025,
          22.928760168604597,
          23.316350353026376,
          84.09213291172544,
          51.7732442102801,
          37.12954136503243,
          56.84625268442991,
          30.75595186333375,
          53.53400273547441,
          31.013818930639516,
          30.84898217760594,
          32.14765223077314,
          40.23399940336848,
          38.34030911143665,
          34.781021517747476,
          31.546278441924706,
          45.074518223510694,
          41.38313089132554,
          50.796578019014916,
          30.265340278187153,
          25.717877770621296,
          30.839718595364033,
          33.887659551665756,
          36.95188068518322,
          37.03391532643076,
          37.396590285300896,
          32.86336578384463,
          32.254648625179364,
          30.676552437194132,
          63.39616028063512,
          31.731389353348124,
          43.91367072464854,
          32.687711212058915,
          31.858619488695922,
          31.87769545720469,
          31.84845353202378,
          35.02078854928267,
          36.29850924698603,
          36.54791157561599,
          35.81340698853687,
          85.58023055854619,
          27.916373984875257,
          31.67482241118241,
          32.733260644878605,
          31.439861822865314,
          389.72302813064107,
          453.20381900522415,
          35.75408156473814,
          33.50588311165095,
          33.14989760054622,
          37.4214359943398,
          43.728263627770644,
          233.3455374997891,
          559.1201713498228,
          200.51926407825312,
          64.35109918174147,
          30.39736671724137,
          30.186029773283945,
          28.150672644948408,
          30.525153151058174,
          28.462421766034076,
          33.122403132238034,
          34.04199983788214,
          62.67936828310509,
          214.63355448699662,
          91.20514539624212,
          55.807447094385836,
          30.06869612965512,
          31.29527871722134,
          28.64894303706916,
          30.851805942246035,
          30.050912866655487,
          30.12721508650779,
          30.745020048417242,
          30.67747263002072,
          34.859869443524715,
          201.2229697516876,
          35.06112537907057,
          28.745876680636044,
          80.2690698699598,
          51.61568958267437,
          29.735875839063052,
          30.293396271388694,
          30.66002613976417,
          29.867113667468644,
          29.892195880057308,
          28.863732582303726,
          28.901697605987888,
          196.98190821400053,
          35.90680037330849,
          48.714110466818056,
          30.022726280453927,
          409.98767293884316,
          450.0243165654179,
          31.109624270423687,
          32.15937546192363,
          33.488926493926435,
          38.78960305633477,
          52.81004018621837,
          29.75249762606596,
          20.74258669162575,
          20.87108161803357,
          23.017727403066754,
          19.384172247123786,
          20.680280935593007,
          21.286864958095027,
          28.105939763392975,
          26.581541924969144,
          23.40582777296112,
          22.49417023474012,
          22.903663450686807,
          20.379885667833204,
          20.5608439070597,
          23.046379272909693,
          20.623093601177388,
          20.671777769986647,
          21.317460158012548,
          20.8971629462717,
          18.628042956244848,
          20.7978180487489,
          21.33794552788193,
          25.40237159787574,
          24.146174693287538,
          25.752564899051766,
          24.95057024986628,
          19.891421586376055,
          20.284766492960227,
          21.041987885801547,
          20.07782566524991,
          19.997134390386734,
          20.137673082142957,
          20.427536163605392,
          19.27847282934958,
          19.808129208460524,
          19.61366154768666,
          19.764148726560784,
          20.051137075307324,
          21.610992884384178,
          24.161865537946934,
          24.595890463469324,
          24.234229219145842,
          22.30721151413727,
          21.031856209014414,
          18.823959325945456,
          21.03995418036266,
          21.69004861667544,
          21.44828647627556,
          21.87210222774049,
          20.723874552383087,
          21.912970115231182,
          22.428649245095265,
          26.320087547291738,
          26.758110388304456,
          26.312559444668295,
          20.535278218314378,
          19.62870243858278,
          20.364020861750355,
          19.981098468671554,
          20.24741300928337,
          21.140113822192372,
          18.757058613011345,
          20.023950439697515,
          20.689962985746888,
          22.941535877779295,
          25.349999421575614,
          25.45207636697994,
          25.39591430038623,
          24.553780998294297,
          21.41106539245159,
          21.793498671380753,
          22.49249115406998,
          21.90475394348137,
          21.791699525688028,
          21.247468182111074,
          113.74247196546919,
          64.9575411886276,
          19.94082857634651,
          19.66068957404135,
          19.960266343026653,
          20.19447211815958,
          26.409341925184147,
          29.655568892100955,
          25.93155200671944,
          22.334990105159097,
          250.83161262682856,
          19.177833657149858,
          54.191761201961015,
          20.541252115243946,
          21.17612975201003,
          20.70233242623642,
          22.10490746969064,
          22.480170691218156,
          24.59958051526307,
          25.415657446849174,
          25.38759285898933,
          26.00314594436042,
          37.30713896390327,
          506.6685577650908,
          84.09825299474976,
          96.32760282280529,
          48.95197430093879,
          36.99884365960685,
          31.591765180133365,
          27.386065388074964,
          28.256642850762326,
          28.740456467449683,
          29.529171600050375,
          269.11648572785555,
          37.61393004902339,
          34.53224427826022,
          25.41135214468354,
          428.71251260249096,
          436.1742803808142,
          29.397023402762674,
          22.39241505971683,
          24.26600261082093,
          22.38932006599575,
          21.865843160816183,
          23.505474286022483,
          24.65368169454377,
          23.977351178914095,
          34.6797940559921,
          34.41193065141361,
          52.777786449056904,
          34.178640741470296,
          28.9740400038645,
          30.549803913845608,
          28.301849445307976,
          27.23190850362502,
          28.92770035729384,
          30.15846810033681,
          177.809712719738,
          95.39569605424244,
          31.309909466882402,
          28.50738030865647,
          23.796078965814328,
          20.66503021312893,
          20.266416442139032,
          20.328723073830982,
          22.382376290994227,
          20.64359188506499,
          21.687813362877094,
          400.8229648168844,
          142.14950113511838,
          23.62604428381839,
          299.24540898850665,
          111.04248704916307,
          33.28867646892347,
          20.262753651137963,
          19.766595329345158,
          19.752831238958837,
          20.604858518676455,
          19.630616722410004,
          20.326095963337238,
          19.837235113572625,
          21.399259456727467,
          151.63691933255487,
          33.01172775242736,
          31.48379710082378,
          30.141006273777805,
          146.96926204281664,
          353.14429271226794,
          433.0357054256916,
          31.01345033950434,
          31.394922725325763,
          32.15894827243741,
          32.27102300793843,
          34.1709685521194,
          32.18024667780304,
          35.764705937898725,
          37.875812054663314,
          38.30533208615308,
          33.45993951214747,
          59.61328164709501,
          52.43805906502312,
          22.26964457855554,
          21.479284494200098,
          21.406581474415372,
          21.855158066724506,
          20.530755197698607,
          21.356871586524466,
          22.322188263751382,
          21.73325830840756,
          125.05946272867209,
          113.23631167404142,
          911.1429643540897,
          93.58453502309216,
          778.7187472816131,
          122.93643290109925,
          34.524099497585986,
          46.92472999662385,
          30.141381123162265,
          63.78552209742011,
          29.36261946290326,
          29.226497268127133,
          62.95317363752026,
          58.265952947173275,
          35.96727701682953,
          30.76200845221286,
          28.97996110969379,
          30.07578542048667,
          29.580604169956572,
          29.553050565341476,
          29.158934556879135,
          30.42607648457962,
          28.82941953924961,
          172.89920506286987,
          42.744504715100604,
          38.2655564743417,
          33.15854133239951,
          37.821503887503546,
          40.042383621447584,
          31.165953127498526,
          50.48047308553814,
          35.29655644073666,
          40.204359270926666,
          50.2587304749493,
          62.233883892777136,
          32.878219522848745,
          44.07095087080117,
          41.02890495565424,
          438.00564387342496,
          463.86942216124856,
          30.041781089623807,
          35.17031237571463,
          43.184159603674736,
          31.79119288150796,
          31.235422181451998,
          46.88487273726781,
          36.50868798081584,
          20.68137377211393,
          19.666976825458132,
          26.96865627028036,
          27.02178226560109,
          26.12508231963809,
          19.07759002080835,
          19.018436901803835,
          18.829780144420212,
          23.20466450483335,
          22.99841658877258,
          22.01403187868118,
          455.9619181296495,
          98.08682967941915,
          26.94273542511411,
          22.405974460764373,
          22.196692371016557,
          22.513874923653834,
          21.3121875145795,
          21.72418369130724,
          20.572513439243156,
          24.215558018622694,
          26.763879512789174,
          46.341718609098685,
          37.17974493181613,
          31.463695551292755,
          378.2785053069057,
          245.46544127732898,
          271.2765206166457,
          32.19987154868039,
          32.74498237055174,
          32.39270380131936,
          34.03527709376421,
          32.61490479187491,
          32.47583744121286,
          43.455759153144456,
          63.47896123015688,
          117.40637125374201,
          45.78422805887408,
          22.314768247550802,
          31.204665537122953,
          32.01677051469194,
          22.05385650024335,
          19.276010685062896,
          21.608096233636385,
          22.15696391735288,
          24.273002827620413,
          141.5484871584697,
          25.06344055312358,
          62.95528952255553,
          23.077603053869783,
          23.777368898556777,
          365.079387798403,
          462.56878097651685,
          25.273373276517077,
          24.312638295007453,
          24.68860265078105,
          38.7640575527494,
          30.549520282598188,
          41.98010318508594,
          39.79079545767366,
          30.827850395484365,
          30.34652046230697,
          30.390216480975724,
          46.78524948192978,
          34.51186787912222,
          37.247511322701065,
          38.59910572261481,
          38.23573410608302,
          30.64607120234874,
          29.940012645761648,
          31.437974069509828,
          29.592975899942342,
          42.23848080597487,
          24.115838875378838,
          29.71096774842923,
          65.84210484229813,
          31.693823247064472,
          41.38109156405183,
          23.077976259873417,
          22.921313518333985,
          24.694212599867573,
          32.158536988685974,
          31.662639761597703,
          26.355653490603103,
          48.86836999824152,
          76.38192635820646,
          54.939147015550105,
          31.79262742793176,
          33.25355009737689,
          24.286653081809195,
          22.155413765438674,
          23.582915546500413,
          21.090214735074902,
          30.11348044829614,
          31.87412701017938,
          25.470773642671407,
          20.3772553983863,
          21.468513900191983,
          21.33974774988298,
          29.661399688827967,
          32.39866326810366,
          24.886267552458907,
          24.1365392204877,
          24.55146724338841,
          23.04132682299345,
          23.329742919574205,
          27.59585714452007,
          33.26581764924077,
          32.297173829097105,
          23.40263446122047,
          21.795227392038413,
          22.40960117334764,
          23.802281229282983,
          25.029042499086707,
          32.46620260454219,
          29.144962530326058,
          22.659670650491385,
          22.86074347613732,
          21.01238933742456,
          22.173348471610364,
          25.227927890511474,
          32.065061424938314,
          29.586522494014012,
          22.313899681692323,
          22.460120714109554,
          22.704882265419116,
          22.955031839940755,
          25.32521204382891,
          31.74755927104726,
          32.71644099264302,
          29.98107235374058,
          23.643755289851196,
          23.36725502292274,
          23.678625067346985,
          22.275799668380046,
          28.734412083917903,
          34.33713427868562,
          29.345891100016217,
          21.946736296650847,
          22.979032649567838,
          22.503713884000494,
          22.511282232360053,
          27.676879367873013,
          31.467698788372857,
          28.074757359157935,
          22.653877974387736,
          22.982539527948415,
          24.06123440133842,
          22.45808220274638,
          23.053840306809295,
          33.437841742503146,
          34.73514678830762,
          27.931537958062968,
          24.4451570392156,
          24.638298100625523,
          24.450776513431936,
          24.024809456034347,
          45.34274640327037,
          33.930858046071634,
          30.045688128787436,
          22.89045853736811,
          23.103603573790764,
          22.925606825351338,
          22.213296635685936,
          25.244726431307065,
          31.207945610262453,
          73.20165081481898,
          50.27245623877743,
          22.805316191009425,
          24.48507208448715,
          40.344998609831926,
          391.48688822153855,
          399.65560599077855,
          34.64673319303068,
          26.280539539732313,
          25.831117022663776,
          23.90706732103976,
          23.459557184634654,
          43.58616935025761,
          41.62444287816018,
          24.342189504585228,
          46.67876260167702,
          34.54562759232146,
          23.73005571987072,
          23.854499652223904,
          32.138390997236336,
          35.62555094793003,
          24.613996628304328,
          23.395227264905156,
          23.646303597856765,
          199.71993462998378,
          67.88777552724032,
          34.11406766762832,
          28.118547032848454,
          23.76050567896319,
          24.32426873258083,
          24.103165912051725,
          24.706285293623388,
          23.4203896501289,
          30.764704489697326,
          32.41451760860063,
          32.48636418055114,
          25.935791667573156,
          53.13124297711703,
          23.8125015965175,
          40.72183341071651,
          25.492729851509136,
          24.88246000136834,
          26.86136892385647,
          31.2074659497429,
          30.564451884061512,
          30.172062364330685,
          26.8961301504669,
          24.515681131888947,
          183.79470045063343,
          45.179012385369084,
          26.340180199914144,
          25.135497477336177,
          377.8074059625011,
          434.4394569650962,
          26.850328491231203,
          26.73013567300653,
          31.260301012501213,
          31.917920337946885,
          32.26195387175231,
          31.769419669088403,
          309.0957528000071,
          148.65930516397546,
          138.6592928135334,
          30.206260613882645,
          56.12638631021214,
          37.161857262750885,
          29.73773526015016,
          24.73734800076779,
          24.987849332159023,
          24.658675820266037,
          25.528034431504093,
          34.44265651721567,
          158.2230297684632,
          30.124232718184263,
          22.836677644552456,
          26.13800302046177,
          85.41124741050729,
          27.8523358303362,
          99.3148423302977,
          33.54632927825926,
          33.49512283944523,
          29.43425328579417,
          26.669788356216838,
          27.178123058221292,
          26.325779173612453,
          71.4563917595036,
          40.08818383456571,
          50.212027788337814,
          35.787273348437026,
          25.195269572757528,
          28.01569148273206,
          36.321824593561765,
          29.533128064911576,
          25.19830696415121,
          23.53740016845111,
          23.20848990373423,
          147.32206209157908,
          34.84551437440684,
          33.144662979137294,
          501.53948036769305,
          213.35067696931387,
          263.04533484947007,
          24.37492986619545,
          23.79853385337435,
          46.26274332704415,
          36.81590969267687,
          31.9319135961252,
          26.122610853597372,
          111.89539860065183,
          23.688057423984464,
          37.46522534049119,
          93.11516662721115,
          63.510681857558694,
          24.54105342877641,
          24.558908541635112,
          25.776342835222405,
          29.42672044740641,
          34.041299171682866,
          32.21164264246069,
          23.874161817724445,
          24.256752620352856,
          24.121138076391833,
          120.64484776838782,
          56.654844115631604,
          30.459977640082723,
          34.587098379466,
          56.0151430747508,
          168.739900869784,
          415.72004086550237,
          440.22370740308986,
          37.79733699590443,
          38.0427291565253,
          266.4555303704193,
          61.2436347245762,
          47.16996346474427,
          51.43083579149985,
          94.54170971831816,
          33.996005764615106,
          34.0510943257814,
          35.22706968631839,
          41.62871719081821,
          44.34872342580578,
          41.42754951199741,
          32.85592103582888,
          34.12347997604302,
          31.667912647812656,
          32.979170504091464,
          33.24714876236542,
          28.2417896945671,
          38.57690417795058,
          31.656536267478536,
          40.10873741904422,
          33.26072264694719,
          34.870440928277915,
          91.56266661036418,
          50.13374568622797,
          178.80522910665172,
          44.024806333556675,
          41.344232079927835,
          33.49542571916356,
          31.40560936042158,
          31.16670634928645,
          31.62929807723304,
          31.404430823494085,
          31.583255602588473,
          39.49010151911392,
          168.60789236415525,
          33.732299486453634,
          31.273963056470304,
          31.337651743605083,
          32.04316831869255,
          30.693509298523885,
          37.69714037214115,
          40.03814319798804,
          39.567031960736635,
          31.9754234348802,
          32.052932581706706,
          32.62843178210552,
          32.232978907295696,
          31.879468448768893,
          636.687599715327,
          116.74685316233355,
          41.36945898395856,
          34.288428840628384,
          31.49537720336242,
          31.079300940898236,
          32.4476210577321,
          30.070025075178318,
          29.57813612146484,
          37.42451866206787,
          38.928641569480085,
          60.131344425549315,
          33.75664436114357,
          32.83943346811064,
          31.049152603366093,
          32.39886467734201,
          32.15737853741621,
          32.85031915409796,
          37.617077584058094,
          40.57621456043587,
          38.82465232951248,
          31.192127515037235,
          32.084267960008134,
          30.365867163732787,
          182.37197783112052,
          41.30908702046757,
          40.94739894525472,
          39.293879452396084,
          48.60079394594436,
          31.7159932896133,
          31.418727277926493,
          31.633520600499477,
          30.875782538196773,
          31.443698694369186,
          31.010123249442046,
          34.32100395009717,
          222.51882847984476,
          37.7658208074239,
          36.71154237247913,
          30.734613124742875,
          31.83355933588548,
          31.884569583886716,
          31.892831456482703,
          30.990031154315695,
          32.35053785323845,
          32.028787845194245,
          37.04584354225341,
          39.34390003335313,
          982.0315747635012,
          217.42581047779635,
          95.08920342096297,
          33.81380417081272,
          32.85555563317705,
          290.7383851526635,
          206.330994931189,
          419.73352732300225,
          33.41912937266003,
          33.91623188793605,
          32.46858175660679,
          30.685900708937773,
          45.90956729476647,
          75.9384650154316,
          32.69913900174488,
          30.727090186939968,
          30.679569116568143,
          31.056548892469536,
          31.197496754357335,
          32.37660646656673,
          34.43076556720565,
          39.50695105318693,
          38.91426734610287,
          32.15963206143432,
          33.16032012498123,
          270.81199442625154,
          112.6817085021629,
          96.81507123230799,
          39.77292473747692,
          32.32253279117558,
          25.08679362534921,
          30.00446639313007,
          39.079720798142844,
          39.20661435745865,
          37.20333480063022,
          33.51810204227887,
          270.2971071541985,
          44.096374688479884,
          35.72418579049655,
          37.24680593489893,
          38.454444397026826,
          37.55298786229408,
          23.19556852538844,
          27.409230419452946,
          38.766294368129344,
          43.513131326400206,
          398.7986171171686,
          275.26900395830114,
          171.84849913886393,
          21.648095858903247,
          32.35393504215275,
          31.478528724195368,
          34.02642033583004,
          27.355591334099206,
          14.700921980547454,
          25.250063013691676,
          31.254156207173295,
          30.937080594891366,
          31.662449986195863,
          26.636068909943198,
          15.274941081632038,
          26.106135947458817,
          31.3187323475065,
          31.083638672663444,
          31.055011844713402,
          21.78093428520407,
          15.44215160959211,
          28.556639399576145,
          30.64142654604625,
          31.57142586339207,
          32.66870660393017,
          26.016425040337552,
          17.124330043210794,
          26.55151041659374,
          32.40551901392676,
          32.596951775873876,
          31.954680757596744,
          32.901367145957074,
          18.575040388145272,
          17.091769714709866,
          31.317994227812356,
          31.27692907756642,
          32.861121304051544,
          31.069080804489,
          20.981200449177596,
          14.071233224447557,
          29.775440239170138,
          30.253698035424428,
          30.97025125066332,
          26.813396514006328,
          25.911188082685673,
          17.00054404508595,
          24.639826387902023,
          32.73348749273533,
          32.09481151327995,
          28.197719174151878,
          31.992169053362527,
          18.68799146982126,
          16.88099474551034,
          82.55137108018445,
          65.24662063752808,
          29.591376312058237,
          27.18835596237671,
          25.861423008879896,
          11.437071538393862,
          19.04084165117811,
          28.90221303134071,
          26.01491653164826,
          225.05726155549345,
          26.52747751888103,
          55.63454311740344,
          17.76358858736341,
          28.698198335684694,
          28.754781680196107,
          27.592729654591682,
          30.66307130660538,
          15.146997017210657,
          15.001075853395461,
          27.725862620392707,
          30.43055270390754,
          28.710300003061107,
          55.8153076653085,
          29.497585600398335,
          87.64895944042654,
          30.280970957981587,
          28.815549332403837,
          28.52222170213946,
          20.608267133680638,
          17.36755737954776,
          23.746066649920788,
          29.394560511211054,
          29.252986978226613,
          88.18681668630624,
          79.67672004654935,
          19.667791655081036,
          30.217018244389575,
          34.5692271709288,
          36.35910317951617,
          35.77500134574764,
          26.230629008850542,
          20.745926003409174,
          37.73929844590886,
          37.42723476608364,
          39.770222356237596,
          31.349388241876934,
          18.36912020415646,
          33.2056263765238,
          39.460117105376,
          56.00897316401796,
          36.08808473114498,
          23.344256423342024,
          24.904578375737536,
          35.07499784257606,
          36.54647179022179,
          35.83493322026977,
          29.175680530271496,
          175.85546238349016,
          19.93701269497987,
          27.196609032028363,
          43.374031020237815,
          423.760888269878,
          418.12823287924937,
          11.426544187516473,
          26.278917488903627,
          31.360166358233062,
          31.590786899003703,
          32.37483838253229,
          21.872136343567295,
          980.8463336985654,
          179.15662629114536,
          42.94306472479965,
          39.711261626376675,
          36.73249963648817,
          31.03359477066387,
          35.563568593290846,
          22.266788298518378,
          22.713841620884203,
          34.193730533510774,
          36.535769170979606,
          34.77552935842864,
          88.64356437534587,
          34.972199377686266,
          57.476724449224356,
          28.020774531172776,
          42.97639841577585,
          410.83455060292454,
          413.3388940637737,
          37.43998176474533,
          38.164061945593794,
          36.53068986461154,
          38.32495826071665,
          33.88020101986402,
          26.63951190667186,
          584.6253821964252,
          81.25249742860552,
          69.7052115819594,
          48.30124881238708,
          31.52128989939981,
          36.34710138296794,
          34.27979885993632,
          32.00399545728381,
          35.251547301045264,
          29.84007305263604,
          18.761113523100253,
          151.729245451939,
          33.40103722528167,
          35.253310979712005,
          33.98465159298601,
          33.11375634583715,
          21.833988793971056,
          22.358409778970337,
          34.64561467479008,
          35.05467559803993,
          45.43679910508038,
          83.61112417556417,
          80.94163337911405,
          41.749169524177965,
          66.94480066106492,
          30.867200627861045,
          62.04141537933926,
          55.096874347091216,
          55.65218456800028,
          45.84500609084871,
          65.25588973089367,
          63.651958414281786,
          51.658674835419696,
          48.88095712172622,
          47.19723389649972,
          47.25524178521135,
          56.193107799603176,
          148.24177215943982,
          198.3686653446763,
          552.6206654587128,
          440.39750627496767,
          21.81504835737663,
          49.939139887523105,
          57.80683004271849,
          32.61050015885626,
          19.20382900611642,
          43.89649067686458,
          48.25827738580194,
          72.62053352177344,
          49.478738743380056,
          501.0401953549129,
          415.38742988376083,
          57.95357420253107,
          41.776120721835056,
          47.91468883773673,
          34.24078578174381,
          17.23015639244276,
          45.0210494154478,
          40.70533791964442,
          15.264568595292744,
          164.25033850139158,
          59.03562383845654,
          70.6152851343834,
          461.78562107917327,
          386.796514989085,
          58.63981577538554,
          62.79297043970228,
          35.775550208124585,
          47.98697162434958,
          60.146966689683914,
          49.438540666256216,
          31.78847781959267,
          60.246663816945656,
          56.90798012059869,
          76.87050888451694,
          25.797379406865364,
          40.51321826773623,
          31.693448302328157,
          7.62639682816209,
          37.348275394094735,
          36.03748490259265,
          2.202961924146257,
          36.26782334299226,
          210.82079875465087,
          99.65570278086848,
          24.201862531423156,
          39.05318804619671,
          379.96686689348877,
          431.1046764126614,
          72.24542419333874,
          26.860043945137736,
          18.72656284368584,
          41.25571216933681,
          27.044779357760532,
          24.43538968390144,
          80.59158159295409,
          52.42081449829389,
          46.18945317092992,
          58.69789198774297,
          68.69462469294002
         ]
        }
       ],
       "layout": {
        "height": 500,
        "template": {
         "data": {
          "bar": [
           {
            "error_x": {
             "color": "#2a3f5f"
            },
            "error_y": {
             "color": "#2a3f5f"
            },
            "marker": {
             "line": {
              "color": "#E5ECF6",
              "width": 0.5
             },
             "pattern": {
              "fillmode": "overlay",
              "size": 10,
              "solidity": 0.2
             }
            },
            "type": "bar"
           }
          ],
          "barpolar": [
           {
            "marker": {
             "line": {
              "color": "#E5ECF6",
              "width": 0.5
             },
             "pattern": {
              "fillmode": "overlay",
              "size": 10,
              "solidity": 0.2
             }
            },
            "type": "barpolar"
           }
          ],
          "carpet": [
           {
            "aaxis": {
             "endlinecolor": "#2a3f5f",
             "gridcolor": "white",
             "linecolor": "white",
             "minorgridcolor": "white",
             "startlinecolor": "#2a3f5f"
            },
            "baxis": {
             "endlinecolor": "#2a3f5f",
             "gridcolor": "white",
             "linecolor": "white",
             "minorgridcolor": "white",
             "startlinecolor": "#2a3f5f"
            },
            "type": "carpet"
           }
          ],
          "choropleth": [
           {
            "colorbar": {
             "outlinewidth": 0,
             "ticks": ""
            },
            "type": "choropleth"
           }
          ],
          "contour": [
           {
            "colorbar": {
             "outlinewidth": 0,
             "ticks": ""
            },
            "colorscale": [
             [
              0,
              "#0d0887"
             ],
             [
              0.1111111111111111,
              "#46039f"
             ],
             [
              0.2222222222222222,
              "#7201a8"
             ],
             [
              0.3333333333333333,
              "#9c179e"
             ],
             [
              0.4444444444444444,
              "#bd3786"
             ],
             [
              0.5555555555555556,
              "#d8576b"
             ],
             [
              0.6666666666666666,
              "#ed7953"
             ],
             [
              0.7777777777777778,
              "#fb9f3a"
             ],
             [
              0.8888888888888888,
              "#fdca26"
             ],
             [
              1,
              "#f0f921"
             ]
            ],
            "type": "contour"
           }
          ],
          "contourcarpet": [
           {
            "colorbar": {
             "outlinewidth": 0,
             "ticks": ""
            },
            "type": "contourcarpet"
           }
          ],
          "heatmap": [
           {
            "colorbar": {
             "outlinewidth": 0,
             "ticks": ""
            },
            "colorscale": [
             [
              0,
              "#0d0887"
             ],
             [
              0.1111111111111111,
              "#46039f"
             ],
             [
              0.2222222222222222,
              "#7201a8"
             ],
             [
              0.3333333333333333,
              "#9c179e"
             ],
             [
              0.4444444444444444,
              "#bd3786"
             ],
             [
              0.5555555555555556,
              "#d8576b"
             ],
             [
              0.6666666666666666,
              "#ed7953"
             ],
             [
              0.7777777777777778,
              "#fb9f3a"
             ],
             [
              0.8888888888888888,
              "#fdca26"
             ],
             [
              1,
              "#f0f921"
             ]
            ],
            "type": "heatmap"
           }
          ],
          "heatmapgl": [
           {
            "colorbar": {
             "outlinewidth": 0,
             "ticks": ""
            },
            "colorscale": [
             [
              0,
              "#0d0887"
             ],
             [
              0.1111111111111111,
              "#46039f"
             ],
             [
              0.2222222222222222,
              "#7201a8"
             ],
             [
              0.3333333333333333,
              "#9c179e"
             ],
             [
              0.4444444444444444,
              "#bd3786"
             ],
             [
              0.5555555555555556,
              "#d8576b"
             ],
             [
              0.6666666666666666,
              "#ed7953"
             ],
             [
              0.7777777777777778,
              "#fb9f3a"
             ],
             [
              0.8888888888888888,
              "#fdca26"
             ],
             [
              1,
              "#f0f921"
             ]
            ],
            "type": "heatmapgl"
           }
          ],
          "histogram": [
           {
            "marker": {
             "pattern": {
              "fillmode": "overlay",
              "size": 10,
              "solidity": 0.2
             }
            },
            "type": "histogram"
           }
          ],
          "histogram2d": [
           {
            "colorbar": {
             "outlinewidth": 0,
             "ticks": ""
            },
            "colorscale": [
             [
              0,
              "#0d0887"
             ],
             [
              0.1111111111111111,
              "#46039f"
             ],
             [
              0.2222222222222222,
              "#7201a8"
             ],
             [
              0.3333333333333333,
              "#9c179e"
             ],
             [
              0.4444444444444444,
              "#bd3786"
             ],
             [
              0.5555555555555556,
              "#d8576b"
             ],
             [
              0.6666666666666666,
              "#ed7953"
             ],
             [
              0.7777777777777778,
              "#fb9f3a"
             ],
             [
              0.8888888888888888,
              "#fdca26"
             ],
             [
              1,
              "#f0f921"
             ]
            ],
            "type": "histogram2d"
           }
          ],
          "histogram2dcontour": [
           {
            "colorbar": {
             "outlinewidth": 0,
             "ticks": ""
            },
            "colorscale": [
             [
              0,
              "#0d0887"
             ],
             [
              0.1111111111111111,
              "#46039f"
             ],
             [
              0.2222222222222222,
              "#7201a8"
             ],
             [
              0.3333333333333333,
              "#9c179e"
             ],
             [
              0.4444444444444444,
              "#bd3786"
             ],
             [
              0.5555555555555556,
              "#d8576b"
             ],
             [
              0.6666666666666666,
              "#ed7953"
             ],
             [
              0.7777777777777778,
              "#fb9f3a"
             ],
             [
              0.8888888888888888,
              "#fdca26"
             ],
             [
              1,
              "#f0f921"
             ]
            ],
            "type": "histogram2dcontour"
           }
          ],
          "mesh3d": [
           {
            "colorbar": {
             "outlinewidth": 0,
             "ticks": ""
            },
            "type": "mesh3d"
           }
          ],
          "parcoords": [
           {
            "line": {
             "colorbar": {
              "outlinewidth": 0,
              "ticks": ""
             }
            },
            "type": "parcoords"
           }
          ],
          "pie": [
           {
            "automargin": true,
            "type": "pie"
           }
          ],
          "scatter": [
           {
            "fillpattern": {
             "fillmode": "overlay",
             "size": 10,
             "solidity": 0.2
            },
            "type": "scatter"
           }
          ],
          "scatter3d": [
           {
            "line": {
             "colorbar": {
              "outlinewidth": 0,
              "ticks": ""
             }
            },
            "marker": {
             "colorbar": {
              "outlinewidth": 0,
              "ticks": ""
             }
            },
            "type": "scatter3d"
           }
          ],
          "scattercarpet": [
           {
            "marker": {
             "colorbar": {
              "outlinewidth": 0,
              "ticks": ""
             }
            },
            "type": "scattercarpet"
           }
          ],
          "scattergeo": [
           {
            "marker": {
             "colorbar": {
              "outlinewidth": 0,
              "ticks": ""
             }
            },
            "type": "scattergeo"
           }
          ],
          "scattergl": [
           {
            "marker": {
             "colorbar": {
              "outlinewidth": 0,
              "ticks": ""
             }
            },
            "type": "scattergl"
           }
          ],
          "scattermapbox": [
           {
            "marker": {
             "colorbar": {
              "outlinewidth": 0,
              "ticks": ""
             }
            },
            "type": "scattermapbox"
           }
          ],
          "scatterpolar": [
           {
            "marker": {
             "colorbar": {
              "outlinewidth": 0,
              "ticks": ""
             }
            },
            "type": "scatterpolar"
           }
          ],
          "scatterpolargl": [
           {
            "marker": {
             "colorbar": {
              "outlinewidth": 0,
              "ticks": ""
             }
            },
            "type": "scatterpolargl"
           }
          ],
          "scatterternary": [
           {
            "marker": {
             "colorbar": {
              "outlinewidth": 0,
              "ticks": ""
             }
            },
            "type": "scatterternary"
           }
          ],
          "surface": [
           {
            "colorbar": {
             "outlinewidth": 0,
             "ticks": ""
            },
            "colorscale": [
             [
              0,
              "#0d0887"
             ],
             [
              0.1111111111111111,
              "#46039f"
             ],
             [
              0.2222222222222222,
              "#7201a8"
             ],
             [
              0.3333333333333333,
              "#9c179e"
             ],
             [
              0.4444444444444444,
              "#bd3786"
             ],
             [
              0.5555555555555556,
              "#d8576b"
             ],
             [
              0.6666666666666666,
              "#ed7953"
             ],
             [
              0.7777777777777778,
              "#fb9f3a"
             ],
             [
              0.8888888888888888,
              "#fdca26"
             ],
             [
              1,
              "#f0f921"
             ]
            ],
            "type": "surface"
           }
          ],
          "table": [
           {
            "cells": {
             "fill": {
              "color": "#EBF0F8"
             },
             "line": {
              "color": "white"
             }
            },
            "header": {
             "fill": {
              "color": "#C8D4E3"
             },
             "line": {
              "color": "white"
             }
            },
            "type": "table"
           }
          ]
         },
         "layout": {
          "annotationdefaults": {
           "arrowcolor": "#2a3f5f",
           "arrowhead": 0,
           "arrowwidth": 1
          },
          "autotypenumbers": "strict",
          "coloraxis": {
           "colorbar": {
            "outlinewidth": 0,
            "ticks": ""
           }
          },
          "colorscale": {
           "diverging": [
            [
             0,
             "#8e0152"
            ],
            [
             0.1,
             "#c51b7d"
            ],
            [
             0.2,
             "#de77ae"
            ],
            [
             0.3,
             "#f1b6da"
            ],
            [
             0.4,
             "#fde0ef"
            ],
            [
             0.5,
             "#f7f7f7"
            ],
            [
             0.6,
             "#e6f5d0"
            ],
            [
             0.7,
             "#b8e186"
            ],
            [
             0.8,
             "#7fbc41"
            ],
            [
             0.9,
             "#4d9221"
            ],
            [
             1,
             "#276419"
            ]
           ],
           "sequential": [
            [
             0,
             "#0d0887"
            ],
            [
             0.1111111111111111,
             "#46039f"
            ],
            [
             0.2222222222222222,
             "#7201a8"
            ],
            [
             0.3333333333333333,
             "#9c179e"
            ],
            [
             0.4444444444444444,
             "#bd3786"
            ],
            [
             0.5555555555555556,
             "#d8576b"
            ],
            [
             0.6666666666666666,
             "#ed7953"
            ],
            [
             0.7777777777777778,
             "#fb9f3a"
            ],
            [
             0.8888888888888888,
             "#fdca26"
            ],
            [
             1,
             "#f0f921"
            ]
           ],
           "sequentialminus": [
            [
             0,
             "#0d0887"
            ],
            [
             0.1111111111111111,
             "#46039f"
            ],
            [
             0.2222222222222222,
             "#7201a8"
            ],
            [
             0.3333333333333333,
             "#9c179e"
            ],
            [
             0.4444444444444444,
             "#bd3786"
            ],
            [
             0.5555555555555556,
             "#d8576b"
            ],
            [
             0.6666666666666666,
             "#ed7953"
            ],
            [
             0.7777777777777778,
             "#fb9f3a"
            ],
            [
             0.8888888888888888,
             "#fdca26"
            ],
            [
             1,
             "#f0f921"
            ]
           ]
          },
          "colorway": [
           "#636efa",
           "#EF553B",
           "#00cc96",
           "#ab63fa",
           "#FFA15A",
           "#19d3f3",
           "#FF6692",
           "#B6E880",
           "#FF97FF",
           "#FECB52"
          ],
          "font": {
           "color": "#2a3f5f"
          },
          "geo": {
           "bgcolor": "white",
           "lakecolor": "white",
           "landcolor": "#E5ECF6",
           "showlakes": true,
           "showland": true,
           "subunitcolor": "white"
          },
          "hoverlabel": {
           "align": "left"
          },
          "hovermode": "closest",
          "mapbox": {
           "style": "light"
          },
          "paper_bgcolor": "white",
          "plot_bgcolor": "#E5ECF6",
          "polar": {
           "angularaxis": {
            "gridcolor": "white",
            "linecolor": "white",
            "ticks": ""
           },
           "bgcolor": "#E5ECF6",
           "radialaxis": {
            "gridcolor": "white",
            "linecolor": "white",
            "ticks": ""
           }
          },
          "scene": {
           "xaxis": {
            "backgroundcolor": "#E5ECF6",
            "gridcolor": "white",
            "gridwidth": 2,
            "linecolor": "white",
            "showbackground": true,
            "ticks": "",
            "zerolinecolor": "white"
           },
           "yaxis": {
            "backgroundcolor": "#E5ECF6",
            "gridcolor": "white",
            "gridwidth": 2,
            "linecolor": "white",
            "showbackground": true,
            "ticks": "",
            "zerolinecolor": "white"
           },
           "zaxis": {
            "backgroundcolor": "#E5ECF6",
            "gridcolor": "white",
            "gridwidth": 2,
            "linecolor": "white",
            "showbackground": true,
            "ticks": "",
            "zerolinecolor": "white"
           }
          },
          "shapedefaults": {
           "line": {
            "color": "#2a3f5f"
           }
          },
          "ternary": {
           "aaxis": {
            "gridcolor": "white",
            "linecolor": "white",
            "ticks": ""
           },
           "baxis": {
            "gridcolor": "white",
            "linecolor": "white",
            "ticks": ""
           },
           "bgcolor": "#E5ECF6",
           "caxis": {
            "gridcolor": "white",
            "linecolor": "white",
            "ticks": ""
           }
          },
          "title": {
           "x": 0.05
          },
          "xaxis": {
           "automargin": true,
           "gridcolor": "white",
           "linecolor": "white",
           "ticks": "",
           "title": {
            "standoff": 15
           },
           "zerolinecolor": "white",
           "zerolinewidth": 2
          },
          "yaxis": {
           "automargin": true,
           "gridcolor": "white",
           "linecolor": "white",
           "ticks": "",
           "title": {
            "standoff": 15
           },
           "zerolinecolor": "white",
           "zerolinewidth": 2
          }
         }
        },
        "title": {
         "text": "Forecasting using "
        },
        "width": 1000,
        "xaxis": {
         "title": {
          "text": "Time"
         }
        },
        "yaxis": {
         "title": {
          "text": "Summe"
         }
        }
       }
      }
     },
     "metadata": {},
     "output_type": "display_data"
    },
    {
     "name": "stdout",
     "output_type": "stream",
     "text": [
      "mkdir: cannot create directory ‘Visualization_models_results’: File exists\n"
     ]
    }
   ],
   "source": [
    "model_name = 'RNN'\n",
    "# Create a subplot with two rows and one column\n",
    "fig = go.Figure()\n",
    "\n",
    "fig.add_trace(\n",
    "go.Scatter(\n",
    "    x=Error_df.index,\n",
    "    y=Error_df['Predicted'],\n",
    "    name='Predicted',\n",
    "    mode='lines+markers'\n",
    "))\n",
    "\n",
    "# Add a trace for actual values\n",
    "fig.add_trace(\n",
    "    go.Scatter(\n",
    "        x=Error_df.index,\n",
    "        y=Error_df['Actual'],\n",
    "        name='Actual Values',\n",
    "        mode='lines+markers'\n",
    "    )\n",
    ")\n",
    "\n",
    "\n",
    "# Update xaxis properties\n",
    "fig.update_xaxes(title_text='Time')\n",
    "\n",
    "# Update yaxis properties\n",
    "fig.update_yaxes(title_text='Summe')\n",
    "\n",
    "# Update title and height\n",
    "fig.update_layout(\n",
    "    title=f'Forecasting using ',\n",
    "    height=500,\n",
    "    width=1000\n",
    ")\n",
    "\n",
    "# Save the plot as an HTML file\n",
    "fig.show()\n",
    "!mkdir 'Visualization_models_results'\n",
    "fig.write_html(f'Visualization_models_results/forecasting_using_{model_name}'+'.html')\n"
   ]
  },
  {
   "cell_type": "code",
   "execution_count": null,
   "metadata": {},
   "outputs": [],
   "source": []
  }
 ],
 "metadata": {
  "kernelspec": {
   "display_name": "tensorflow",
   "language": "python",
   "name": "python3"
  },
  "language_info": {
   "codemirror_mode": {
    "name": "ipython",
    "version": 3
   },
   "file_extension": ".py",
   "mimetype": "text/x-python",
   "name": "python",
   "nbconvert_exporter": "python",
   "pygments_lexer": "ipython3",
   "version": "3.11.3"
  },
  "orig_nbformat": 4
 },
 "nbformat": 4,
 "nbformat_minor": 2
}
